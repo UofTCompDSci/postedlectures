{
 "cells": [
  {
   "cell_type": "markdown",
   "id": "857f3cdb",
   "metadata": {},
   "source": [
    "# Data Wrangling\n",
    "\n",
    "Here are some fun facts about your Python skills after 1.5 weeks:\n",
    "\n",
    "+ You can create and manipulate a Jupyter notebook.\n",
    "+ You can download a CSV file to your computer and upload it to JupyterHub.\n",
    "+ You can read a CSV file to create a `DataFrame`.\n",
    "+ You can call `head` to get a new shorter `DataFrame` with just the top few rows.\n",
    "+ You can extract a column from a `DataFrame`, and you're aware that the column type is `Series`.\n",
    "+ You can, given an example, figure out how use a Python dictionary to create a `DataFrame`.\n",
    "+ You can create a list of values in Python and name it using an assignment statement.\n",
    "+ You can calculate the average of a `Series` or a list, and can find the maximum and minimum values using built-in functions.\n",
    "+ You can name any data you want using variables.\n",
    "+ You can print any data you have."
   ]
  },
  {
   "cell_type": "markdown",
   "id": "2426fc1b",
   "metadata": {},
   "source": [
    "# What's next?\n",
    "\n",
    "__Subsetting__:\n",
    "\n",
    "+ Create a new `DataFrame` containing a subset of the columns.\n",
    "+ Create a new `DataFrame` containing a subset of the rows\n",
    "  - by index, using slicing\n",
    "  - by looking for rows that match our criteria\n",
    "+ Renaming columns"
   ]
  },
  {
   "cell_type": "markdown",
   "id": "50b83155",
   "metadata": {},
   "source": [
    "# GGR: Time Use dataset\n",
    "\n",
    "Dataset: Statistics Canada General Social Survey's (GSS) Time Use (TU) Survey\n",
    "\n",
    "+ Tracks how people spend their time\n",
    "+ two parts\n",
    "  - an 'episode' file where each row describes an event for one person. Each person has one row per event (like \"make coffee\") that they experienced.\n",
    "  - a 'main' file that includes meta-information about the individuals and also includes summary information from the 'episode' file. There is 1 row of information per person.\n",
    "+ we will stick to the 'main' file for now\n",
    "The data are stored in file `gss_tu2016_main_file.csv`. The name uses abbreviations:\n",
    "- GSS: general social survey\n",
    "- tu2016: time use from the year 2016\n",
    "- csv: comma-separated values"
   ]
  },
  {
   "cell_type": "markdown",
   "id": "47dfd0d8",
   "metadata": {},
   "source": [
    "## 'main' file\n",
    "\n",
    "- Summarizes time use information\n",
    "- Includes summary information from the 'episode' file\n",
    "- Includes information from other survey questions about the participant's socioeconomic status (demographics, economic situation, self-reported health status, etc.).\n",
    "- Each row describes a single participant using information taken from the survey or summarized from the 'episode' file."
   ]
  },
  {
   "cell_type": "markdown",
   "id": "153f51ce",
   "metadata": {},
   "source": [
    "| ID  | Home Province | Self-rated Health | Time Spent Sleeping | Time Spent Commuting | Time Spent Eating | ... | Count of Sleeping Activities | Count of Commuting Activities | Count of Eating Activities |\n",
    "|-----|---------------|-------------------|---------------------|----------------------|-------------------|-----|------------------------------|-------------------------------|----------------------------|\n",
    "| 1   | ON            | Excellent         | 440 min             | 60 min               | 70 min            |     | 2                            | 2                             | 3                          |\n",
    "| 2   | AB            | Poor              | 600 min             | 80 min               | 130 min           |     | 3                            | 4                             | 2                          |\n",
    "| ... |               |                   |                     |                      |                   |     |                              |                               |                            |\n",
    "| 238 | BC            | Fair              | 380 min             | 20 min               | 40 min            |     | 2                            | 2                             | 4                          |"
   ]
  },
  {
   "cell_type": "markdown",
   "id": "8dcbc439",
   "metadata": {},
   "source": [
    "The 'main' data are stored in file `gss_tu2016_main_file.csv`. It is in the same folder as this notebook.\n",
    "\n",
    "The name uses abbreviations:\n",
    "- GSS: general social survey\n",
    "- tu2016: time use from the year 2016\n",
    "- csv: comma-separated values\n",
    "\n",
    "Let's start exploring!"
   ]
  },
  {
   "cell_type": "code",
   "execution_count": 47,
   "id": "b58889d2",
   "metadata": {},
   "outputs": [
    {
     "data": {
      "text/html": [
       "<div>\n",
       "<style scoped>\n",
       "    .dataframe tbody tr th:only-of-type {\n",
       "        vertical-align: middle;\n",
       "    }\n",
       "\n",
       "    .dataframe tbody tr th {\n",
       "        vertical-align: top;\n",
       "    }\n",
       "\n",
       "    .dataframe thead th {\n",
       "        text-align: right;\n",
       "    }\n",
       "</style>\n",
       "<table border=\"1\" class=\"dataframe\">\n",
       "  <thead>\n",
       "    <tr style=\"text-align: right;\">\n",
       "      <th></th>\n",
       "      <th>CASEID</th>\n",
       "      <th>pumfid</th>\n",
       "      <th>wght_per</th>\n",
       "      <th>survmnth</th>\n",
       "      <th>wtbs_001</th>\n",
       "      <th>agecxryg</th>\n",
       "      <th>agegr10</th>\n",
       "      <th>agehsdyc</th>\n",
       "      <th>ageprgrd</th>\n",
       "      <th>chh0014c</th>\n",
       "      <th>...</th>\n",
       "      <th>ree_02</th>\n",
       "      <th>ree_03</th>\n",
       "      <th>rlr_110</th>\n",
       "      <th>lan_01</th>\n",
       "      <th>lanhome</th>\n",
       "      <th>lanhmult</th>\n",
       "      <th>lanmt</th>\n",
       "      <th>lanmtmul</th>\n",
       "      <th>incg1</th>\n",
       "      <th>hhincg1</th>\n",
       "    </tr>\n",
       "  </thead>\n",
       "  <tbody>\n",
       "    <tr>\n",
       "      <th>0</th>\n",
       "      <td>10000</td>\n",
       "      <td>10000</td>\n",
       "      <td>616.6740</td>\n",
       "      <td>7</td>\n",
       "      <td>305.1159</td>\n",
       "      <td>96</td>\n",
       "      <td>5</td>\n",
       "      <td>62</td>\n",
       "      <td>96</td>\n",
       "      <td>0</td>\n",
       "      <td>...</td>\n",
       "      <td>1</td>\n",
       "      <td>1</td>\n",
       "      <td>1</td>\n",
       "      <td>1</td>\n",
       "      <td>1</td>\n",
       "      <td>1</td>\n",
       "      <td>1</td>\n",
       "      <td>1</td>\n",
       "      <td>1</td>\n",
       "      <td>1</td>\n",
       "    </tr>\n",
       "    <tr>\n",
       "      <th>1</th>\n",
       "      <td>10001</td>\n",
       "      <td>10001</td>\n",
       "      <td>8516.6140</td>\n",
       "      <td>7</td>\n",
       "      <td>0.0000</td>\n",
       "      <td>6</td>\n",
       "      <td>5</td>\n",
       "      <td>32</td>\n",
       "      <td>5</td>\n",
       "      <td>0</td>\n",
       "      <td>...</td>\n",
       "      <td>5</td>\n",
       "      <td>6</td>\n",
       "      <td>3</td>\n",
       "      <td>1</td>\n",
       "      <td>5</td>\n",
       "      <td>2</td>\n",
       "      <td>5</td>\n",
       "      <td>2</td>\n",
       "      <td>5</td>\n",
       "      <td>8</td>\n",
       "    </tr>\n",
       "    <tr>\n",
       "      <th>2</th>\n",
       "      <td>10002</td>\n",
       "      <td>10002</td>\n",
       "      <td>371.7520</td>\n",
       "      <td>1</td>\n",
       "      <td>362.7057</td>\n",
       "      <td>2</td>\n",
       "      <td>4</td>\n",
       "      <td>9</td>\n",
       "      <td>10</td>\n",
       "      <td>3</td>\n",
       "      <td>...</td>\n",
       "      <td>5</td>\n",
       "      <td>1</td>\n",
       "      <td>1</td>\n",
       "      <td>1</td>\n",
       "      <td>1</td>\n",
       "      <td>1</td>\n",
       "      <td>1</td>\n",
       "      <td>1</td>\n",
       "      <td>3</td>\n",
       "      <td>8</td>\n",
       "    </tr>\n",
       "    <tr>\n",
       "      <th>3</th>\n",
       "      <td>10003</td>\n",
       "      <td>10003</td>\n",
       "      <td>1019.3135</td>\n",
       "      <td>3</td>\n",
       "      <td>0.0000</td>\n",
       "      <td>96</td>\n",
       "      <td>6</td>\n",
       "      <td>65</td>\n",
       "      <td>96</td>\n",
       "      <td>0</td>\n",
       "      <td>...</td>\n",
       "      <td>3</td>\n",
       "      <td>2</td>\n",
       "      <td>2</td>\n",
       "      <td>1</td>\n",
       "      <td>1</td>\n",
       "      <td>1</td>\n",
       "      <td>1</td>\n",
       "      <td>1</td>\n",
       "      <td>2</td>\n",
       "      <td>2</td>\n",
       "    </tr>\n",
       "    <tr>\n",
       "      <th>4</th>\n",
       "      <td>10004</td>\n",
       "      <td>10004</td>\n",
       "      <td>1916.0708</td>\n",
       "      <td>9</td>\n",
       "      <td>11388.9706</td>\n",
       "      <td>96</td>\n",
       "      <td>2</td>\n",
       "      <td>25</td>\n",
       "      <td>96</td>\n",
       "      <td>0</td>\n",
       "      <td>...</td>\n",
       "      <td>9</td>\n",
       "      <td>99</td>\n",
       "      <td>9</td>\n",
       "      <td>9</td>\n",
       "      <td>99</td>\n",
       "      <td>9</td>\n",
       "      <td>99</td>\n",
       "      <td>9</td>\n",
       "      <td>2</td>\n",
       "      <td>4</td>\n",
       "    </tr>\n",
       "  </tbody>\n",
       "</table>\n",
       "<p>5 rows × 350 columns</p>\n",
       "</div>"
      ],
      "text/plain": [
       "   CASEID  pumfid   wght_per  survmnth    wtbs_001  agecxryg  agegr10  \\\n",
       "0   10000   10000   616.6740         7    305.1159        96        5   \n",
       "1   10001   10001  8516.6140         7      0.0000         6        5   \n",
       "2   10002   10002   371.7520         1    362.7057         2        4   \n",
       "3   10003   10003  1019.3135         3      0.0000        96        6   \n",
       "4   10004   10004  1916.0708         9  11388.9706        96        2   \n",
       "\n",
       "   agehsdyc  ageprgrd  chh0014c  ...  ree_02  ree_03  rlr_110  lan_01  \\\n",
       "0        62        96         0  ...       1       1        1       1   \n",
       "1        32         5         0  ...       5       6        3       1   \n",
       "2         9        10         3  ...       5       1        1       1   \n",
       "3        65        96         0  ...       3       2        2       1   \n",
       "4        25        96         0  ...       9      99        9       9   \n",
       "\n",
       "   lanhome  lanhmult  lanmt  lanmtmul  incg1  hhincg1  \n",
       "0        1         1      1         1      1        1  \n",
       "1        5         2      5         2      5        8  \n",
       "2        1         1      1         1      3        8  \n",
       "3        1         1      1         1      2        2  \n",
       "4       99         9     99         9      2        4  \n",
       "\n",
       "[5 rows x 350 columns]"
      ]
     },
     "execution_count": 47,
     "metadata": {},
     "output_type": "execute_result"
    }
   ],
   "source": [
    "import pandas as pd\n",
    "time_use_data = pd.read_csv('gss_tu2016_main_file.csv')\n",
    "time_use_data.head()"
   ]
  },
  {
   "cell_type": "markdown",
   "id": "9f037b59",
   "metadata": {},
   "source": [
    "Where the heck did the nice names go?\n",
    "\n",
    "Let's try to look at all of the column names:"
   ]
  },
  {
   "cell_type": "code",
   "execution_count": 48,
   "id": "c7b809cd",
   "metadata": {
    "scrolled": true
   },
   "outputs": [
    {
     "data": {
      "text/plain": [
       "Index(['CASEID', 'pumfid', 'wght_per', 'survmnth', 'wtbs_001', 'agecxryg',\n",
       "       'agegr10', 'agehsdyc', 'ageprgrd', 'chh0014c',\n",
       "       ...\n",
       "       'ree_02', 'ree_03', 'rlr_110', 'lan_01', 'lanhome', 'lanhmult', 'lanmt',\n",
       "       'lanmtmul', 'incg1', 'hhincg1'],\n",
       "      dtype='object', length=350)"
      ]
     },
     "execution_count": 48,
     "metadata": {},
     "output_type": "execute_result"
    }
   ],
   "source": [
    "time_use_data.columns"
   ]
  },
  {
   "cell_type": "markdown",
   "id": "8db5699d",
   "metadata": {},
   "source": [
    "Yikes. 350?\n",
    "\n",
    "Let's make a smaller `DataFrame` with only the columns we care about. Here they are:"
   ]
  },
  {
   "cell_type": "markdown",
   "id": "2c772e77",
   "metadata": {},
   "source": [
    "In order to create an easy to use dataset we will only keep the following columns:\n",
    "\n",
    "- `CASEID` (participant ID), \n",
    "- `luc_rst` (large urban centre vs rural and small towns), \n",
    "- `agegr10` (age group), \n",
    "- `marstat` (marital status), \n",
    "- `sex` (sex), \n",
    "- `chh0014c` (number of kids 14 or under), \n",
    "- `gtu_110` (feeling rushed), and \n",
    "- `dur01` (duration spent sleeping). "
   ]
  },
  {
   "cell_type": "code",
   "execution_count": 49,
   "id": "30e1a682",
   "metadata": {},
   "outputs": [
    {
     "data": {
      "text/plain": [
       "0    10000\n",
       "1    10001\n",
       "2    10002\n",
       "3    10003\n",
       "4    10004\n",
       "Name: CASEID, dtype: int64"
      ]
     },
     "execution_count": 49,
     "metadata": {},
     "output_type": "execute_result"
    }
   ],
   "source": [
    "time_use_data['CASEID'].head()"
   ]
  },
  {
   "cell_type": "markdown",
   "id": "a25a17d0",
   "metadata": {},
   "source": [
    "Let's put all these column names in a list we'll name `important_columns`."
   ]
  },
  {
   "cell_type": "code",
   "execution_count": 50,
   "id": "3e02a572",
   "metadata": {
    "slideshow": {
     "slide_type": "-"
    }
   },
   "outputs": [],
   "source": [
    "important_columns = [\"CASEID\", \"luc_rst\", \"agegr10\", \"marstat\", \"sex\",\n",
    "                     \"chh0014c\", \"gtu_110\", \"dur01\"]"
   ]
  },
  {
   "cell_type": "markdown",
   "id": "58df98dc",
   "metadata": {},
   "source": [
    "Just like we can extract a single column to get a `Series` , we can extract a subset of the columns to get a new `DataFrame`:"
   ]
  },
  {
   "cell_type": "code",
   "execution_count": 51,
   "id": "72f119d2",
   "metadata": {},
   "outputs": [
    {
     "data": {
      "text/html": [
       "<div>\n",
       "<style scoped>\n",
       "    .dataframe tbody tr th:only-of-type {\n",
       "        vertical-align: middle;\n",
       "    }\n",
       "\n",
       "    .dataframe tbody tr th {\n",
       "        vertical-align: top;\n",
       "    }\n",
       "\n",
       "    .dataframe thead th {\n",
       "        text-align: right;\n",
       "    }\n",
       "</style>\n",
       "<table border=\"1\" class=\"dataframe\">\n",
       "  <thead>\n",
       "    <tr style=\"text-align: right;\">\n",
       "      <th></th>\n",
       "      <th>CASEID</th>\n",
       "      <th>luc_rst</th>\n",
       "      <th>agegr10</th>\n",
       "      <th>marstat</th>\n",
       "      <th>sex</th>\n",
       "      <th>chh0014c</th>\n",
       "      <th>gtu_110</th>\n",
       "      <th>dur01</th>\n",
       "    </tr>\n",
       "  </thead>\n",
       "  <tbody>\n",
       "    <tr>\n",
       "      <th>0</th>\n",
       "      <td>10000</td>\n",
       "      <td>1</td>\n",
       "      <td>5</td>\n",
       "      <td>5</td>\n",
       "      <td>1</td>\n",
       "      <td>0</td>\n",
       "      <td>1</td>\n",
       "      <td>510</td>\n",
       "    </tr>\n",
       "    <tr>\n",
       "      <th>1</th>\n",
       "      <td>10001</td>\n",
       "      <td>1</td>\n",
       "      <td>5</td>\n",
       "      <td>1</td>\n",
       "      <td>1</td>\n",
       "      <td>0</td>\n",
       "      <td>3</td>\n",
       "      <td>420</td>\n",
       "    </tr>\n",
       "    <tr>\n",
       "      <th>2</th>\n",
       "      <td>10002</td>\n",
       "      <td>1</td>\n",
       "      <td>4</td>\n",
       "      <td>1</td>\n",
       "      <td>2</td>\n",
       "      <td>3</td>\n",
       "      <td>1</td>\n",
       "      <td>570</td>\n",
       "    </tr>\n",
       "    <tr>\n",
       "      <th>3</th>\n",
       "      <td>10003</td>\n",
       "      <td>1</td>\n",
       "      <td>6</td>\n",
       "      <td>5</td>\n",
       "      <td>2</td>\n",
       "      <td>0</td>\n",
       "      <td>2</td>\n",
       "      <td>510</td>\n",
       "    </tr>\n",
       "    <tr>\n",
       "      <th>4</th>\n",
       "      <td>10004</td>\n",
       "      <td>1</td>\n",
       "      <td>2</td>\n",
       "      <td>6</td>\n",
       "      <td>1</td>\n",
       "      <td>0</td>\n",
       "      <td>1</td>\n",
       "      <td>525</td>\n",
       "    </tr>\n",
       "  </tbody>\n",
       "</table>\n",
       "</div>"
      ],
      "text/plain": [
       "   CASEID  luc_rst  agegr10  marstat  sex  chh0014c  gtu_110  dur01\n",
       "0   10000        1        5        5    1         0        1    510\n",
       "1   10001        1        5        1    1         0        3    420\n",
       "2   10002        1        4        1    2         3        1    570\n",
       "3   10003        1        6        5    2         0        2    510\n",
       "4   10004        1        2        6    1         0        1    525"
      ]
     },
     "execution_count": 51,
     "metadata": {},
     "output_type": "execute_result"
    }
   ],
   "source": [
    "subset_time_use_data = time_use_data[important_columns]\n",
    "subset_time_use_data.head()"
   ]
  },
  {
   "cell_type": "markdown",
   "id": "96a08e37",
   "metadata": {},
   "source": [
    "### Still yucky to read\n",
    "\n",
    "Here's a Python dictionary mapping icky names to better names:"
   ]
  },
  {
   "cell_type": "code",
   "execution_count": 52,
   "id": "9d0914d1",
   "metadata": {},
   "outputs": [],
   "source": [
    "column_names = {\n",
    "    'CASEID': 'Participant ID',\n",
    "    'luc_rst': 'Urban/Rural',\n",
    "    'agegr10': 'Age Group',\n",
    "    'marstat': 'Marital Status',\n",
    "    'sex': 'Sex',\n",
    "    'chh0014c': 'Kids under 14',\n",
    "    'gtu_110': 'Feeling Rushed',\n",
    "    'dur01': 'Sleep Duration'\n",
    "}"
   ]
  },
  {
   "cell_type": "code",
   "execution_count": 53,
   "id": "ddabea6a",
   "metadata": {},
   "outputs": [
    {
     "data": {
      "text/plain": [
       "'Marital Status'"
      ]
     },
     "execution_count": 53,
     "metadata": {},
     "output_type": "execute_result"
    }
   ],
   "source": [
    "column_names['marstat']"
   ]
  },
  {
   "cell_type": "markdown",
   "id": "dd66129a",
   "metadata": {},
   "source": [
    "### Renaming columns!\n",
    "\n",
    "This code makes a new `DataFrame` with the column names replaced (The `columns=` part is required magic):"
   ]
  },
  {
   "cell_type": "code",
   "execution_count": 54,
   "id": "511a7192",
   "metadata": {
    "scrolled": true
   },
   "outputs": [
    {
     "data": {
      "text/html": [
       "<div>\n",
       "<style scoped>\n",
       "    .dataframe tbody tr th:only-of-type {\n",
       "        vertical-align: middle;\n",
       "    }\n",
       "\n",
       "    .dataframe tbody tr th {\n",
       "        vertical-align: top;\n",
       "    }\n",
       "\n",
       "    .dataframe thead th {\n",
       "        text-align: right;\n",
       "    }\n",
       "</style>\n",
       "<table border=\"1\" class=\"dataframe\">\n",
       "  <thead>\n",
       "    <tr style=\"text-align: right;\">\n",
       "      <th></th>\n",
       "      <th>Participant ID</th>\n",
       "      <th>Urban/Rural</th>\n",
       "      <th>Age Group</th>\n",
       "      <th>Marital Status</th>\n",
       "      <th>Sex</th>\n",
       "      <th>Kids under 14</th>\n",
       "      <th>Feeling Rushed</th>\n",
       "      <th>Sleep Duration</th>\n",
       "    </tr>\n",
       "  </thead>\n",
       "  <tbody>\n",
       "    <tr>\n",
       "      <th>0</th>\n",
       "      <td>10000</td>\n",
       "      <td>1</td>\n",
       "      <td>5</td>\n",
       "      <td>5</td>\n",
       "      <td>1</td>\n",
       "      <td>0</td>\n",
       "      <td>1</td>\n",
       "      <td>510</td>\n",
       "    </tr>\n",
       "    <tr>\n",
       "      <th>1</th>\n",
       "      <td>10001</td>\n",
       "      <td>1</td>\n",
       "      <td>5</td>\n",
       "      <td>1</td>\n",
       "      <td>1</td>\n",
       "      <td>0</td>\n",
       "      <td>3</td>\n",
       "      <td>420</td>\n",
       "    </tr>\n",
       "    <tr>\n",
       "      <th>2</th>\n",
       "      <td>10002</td>\n",
       "      <td>1</td>\n",
       "      <td>4</td>\n",
       "      <td>1</td>\n",
       "      <td>2</td>\n",
       "      <td>3</td>\n",
       "      <td>1</td>\n",
       "      <td>570</td>\n",
       "    </tr>\n",
       "    <tr>\n",
       "      <th>3</th>\n",
       "      <td>10003</td>\n",
       "      <td>1</td>\n",
       "      <td>6</td>\n",
       "      <td>5</td>\n",
       "      <td>2</td>\n",
       "      <td>0</td>\n",
       "      <td>2</td>\n",
       "      <td>510</td>\n",
       "    </tr>\n",
       "    <tr>\n",
       "      <th>4</th>\n",
       "      <td>10004</td>\n",
       "      <td>1</td>\n",
       "      <td>2</td>\n",
       "      <td>6</td>\n",
       "      <td>1</td>\n",
       "      <td>0</td>\n",
       "      <td>1</td>\n",
       "      <td>525</td>\n",
       "    </tr>\n",
       "  </tbody>\n",
       "</table>\n",
       "</div>"
      ],
      "text/plain": [
       "   Participant ID  Urban/Rural  Age Group  Marital Status  Sex  Kids under 14  \\\n",
       "0           10000            1          5               5    1              0   \n",
       "1           10001            1          5               1    1              0   \n",
       "2           10002            1          4               1    2              3   \n",
       "3           10003            1          6               5    2              0   \n",
       "4           10004            1          2               6    1              0   \n",
       "\n",
       "   Feeling Rushed  Sleep Duration  \n",
       "0               1             510  \n",
       "1               3             420  \n",
       "2               1             570  \n",
       "3               2             510  \n",
       "4               1             525  "
      ]
     },
     "execution_count": 54,
     "metadata": {},
     "output_type": "execute_result"
    }
   ],
   "source": [
    "time_use_subset = subset_time_use_data.rename(columns=column_names)\n",
    "time_use_subset.head()"
   ]
  },
  {
   "cell_type": "markdown",
   "id": "cbb47c6f",
   "metadata": {},
   "source": [
    "# Subsetting rows\n",
    "\n",
    "Two ways to subset by row.\n",
    "+ By row index\n",
    "+ By describing the columns to look in and the values to select for"
   ]
  },
  {
   "cell_type": "markdown",
   "id": "acaed8fd",
   "metadata": {},
   "source": [
    "## By row index: slicing"
   ]
  },
  {
   "cell_type": "markdown",
   "id": "8cb8f401",
   "metadata": {},
   "source": [
    "`DataFrame`s contain a variable called `iloc` that takes the row range and column range:"
   ]
  },
  {
   "cell_type": "code",
   "execution_count": 55,
   "id": "f40b8614",
   "metadata": {},
   "outputs": [
    {
     "data": {
      "text/html": [
       "<div>\n",
       "<style scoped>\n",
       "    .dataframe tbody tr th:only-of-type {\n",
       "        vertical-align: middle;\n",
       "    }\n",
       "\n",
       "    .dataframe tbody tr th {\n",
       "        vertical-align: top;\n",
       "    }\n",
       "\n",
       "    .dataframe thead th {\n",
       "        text-align: right;\n",
       "    }\n",
       "</style>\n",
       "<table border=\"1\" class=\"dataframe\">\n",
       "  <thead>\n",
       "    <tr style=\"text-align: right;\">\n",
       "      <th></th>\n",
       "      <th>Urban/Rural</th>\n",
       "      <th>Age Group</th>\n",
       "      <th>Marital Status</th>\n",
       "    </tr>\n",
       "  </thead>\n",
       "  <tbody>\n",
       "    <tr>\n",
       "      <th>0</th>\n",
       "      <td>1</td>\n",
       "      <td>5</td>\n",
       "      <td>5</td>\n",
       "    </tr>\n",
       "    <tr>\n",
       "      <th>1</th>\n",
       "      <td>1</td>\n",
       "      <td>5</td>\n",
       "      <td>1</td>\n",
       "    </tr>\n",
       "    <tr>\n",
       "      <th>2</th>\n",
       "      <td>1</td>\n",
       "      <td>4</td>\n",
       "      <td>1</td>\n",
       "    </tr>\n",
       "  </tbody>\n",
       "</table>\n",
       "</div>"
      ],
      "text/plain": [
       "   Urban/Rural  Age Group  Marital Status\n",
       "0            1          5               5\n",
       "1            1          5               1\n",
       "2            1          4               1"
      ]
     },
     "execution_count": 55,
     "metadata": {},
     "output_type": "execute_result"
    }
   ],
   "source": [
    "time_use_subset.iloc[0:3, 1:4] # Rows 0, 1, and 2; columns 1, 2, and 3"
   ]
  },
  {
   "cell_type": "markdown",
   "id": "67b4c86f",
   "metadata": {},
   "source": [
    "As with list slicing, the second index is not included in the result."
   ]
  },
  {
   "cell_type": "markdown",
   "id": "dea0c812",
   "metadata": {},
   "source": [
    "## By using the `DataFrame` row labels\n",
    "\n",
    "`DataFrame`s contain a variable called `loc` that uses the labels, not the indexes. Watch that second index!\n",
    "\n",
    "(The row labels are integers in `time_use_subset`.)"
   ]
  },
  {
   "cell_type": "code",
   "execution_count": 56,
   "id": "93964f5e",
   "metadata": {
    "scrolled": true
   },
   "outputs": [
    {
     "data": {
      "text/html": [
       "<div>\n",
       "<style scoped>\n",
       "    .dataframe tbody tr th:only-of-type {\n",
       "        vertical-align: middle;\n",
       "    }\n",
       "\n",
       "    .dataframe tbody tr th {\n",
       "        vertical-align: top;\n",
       "    }\n",
       "\n",
       "    .dataframe thead th {\n",
       "        text-align: right;\n",
       "    }\n",
       "</style>\n",
       "<table border=\"1\" class=\"dataframe\">\n",
       "  <thead>\n",
       "    <tr style=\"text-align: right;\">\n",
       "      <th></th>\n",
       "      <th>Urban/Rural</th>\n",
       "      <th>Age Group</th>\n",
       "      <th>Marital Status</th>\n",
       "    </tr>\n",
       "  </thead>\n",
       "  <tbody>\n",
       "    <tr>\n",
       "      <th>0</th>\n",
       "      <td>1</td>\n",
       "      <td>5</td>\n",
       "      <td>5</td>\n",
       "    </tr>\n",
       "    <tr>\n",
       "      <th>1</th>\n",
       "      <td>1</td>\n",
       "      <td>5</td>\n",
       "      <td>1</td>\n",
       "    </tr>\n",
       "    <tr>\n",
       "      <th>2</th>\n",
       "      <td>1</td>\n",
       "      <td>4</td>\n",
       "      <td>1</td>\n",
       "    </tr>\n",
       "    <tr>\n",
       "      <th>3</th>\n",
       "      <td>1</td>\n",
       "      <td>6</td>\n",
       "      <td>5</td>\n",
       "    </tr>\n",
       "  </tbody>\n",
       "</table>\n",
       "</div>"
      ],
      "text/plain": [
       "   Urban/Rural  Age Group  Marital Status\n",
       "0            1          5               5\n",
       "1            1          5               1\n",
       "2            1          4               1\n",
       "3            1          6               5"
      ]
     },
     "execution_count": 56,
     "metadata": {},
     "output_type": "execute_result"
    }
   ],
   "source": [
    "time_use_subset.loc[0:3, 'Urban/Rural':'Marital Status']"
   ]
  },
  {
   "cell_type": "markdown",
   "id": "c5df1fc8",
   "metadata": {},
   "source": [
    "### `iloc` vs `loc`\n",
    "\n",
    "+ With `iloc`, the second part of a range is not included.\n",
    "+ With `loc`, the second part of a range __is__ included."
   ]
  },
  {
   "cell_type": "markdown",
   "id": "6501f3f0",
   "metadata": {},
   "source": [
    "# In which rows is the Marital Status 1?\n",
    "\n",
    "This gets a `Series` of Boolean values. Because `=` is used for assignment, Python uses `==` for equality."
   ]
  },
  {
   "cell_type": "code",
   "execution_count": 57,
   "id": "4c38f875",
   "metadata": {},
   "outputs": [
    {
     "data": {
      "text/plain": [
       "0        False\n",
       "1         True\n",
       "2         True\n",
       "3        False\n",
       "4        False\n",
       "         ...  \n",
       "17385    False\n",
       "17386    False\n",
       "17387    False\n",
       "17388    False\n",
       "17389     True\n",
       "Name: Marital Status, Length: 17390, dtype: bool"
      ]
     },
     "execution_count": 57,
     "metadata": {},
     "output_type": "execute_result"
    }
   ],
   "source": [
    "time_use_subset['Marital Status'] == 1"
   ]
  },
  {
   "cell_type": "markdown",
   "id": "0f8b47b2",
   "metadata": {},
   "source": [
    "Ooh! That's fun. We can give this to `loc` as the row specification."
   ]
  },
  {
   "cell_type": "markdown",
   "id": "55a7c2b2",
   "metadata": {},
   "source": [
    "# Practice\n",
    "\n",
    "A reminder of `time_use_subset` info:"
   ]
  },
  {
   "cell_type": "code",
   "execution_count": 58,
   "id": "32f2a6a9",
   "metadata": {},
   "outputs": [
    {
     "data": {
      "text/html": [
       "<div>\n",
       "<style scoped>\n",
       "    .dataframe tbody tr th:only-of-type {\n",
       "        vertical-align: middle;\n",
       "    }\n",
       "\n",
       "    .dataframe tbody tr th {\n",
       "        vertical-align: top;\n",
       "    }\n",
       "\n",
       "    .dataframe thead th {\n",
       "        text-align: right;\n",
       "    }\n",
       "</style>\n",
       "<table border=\"1\" class=\"dataframe\">\n",
       "  <thead>\n",
       "    <tr style=\"text-align: right;\">\n",
       "      <th></th>\n",
       "      <th>Participant ID</th>\n",
       "      <th>Urban/Rural</th>\n",
       "      <th>Age Group</th>\n",
       "      <th>Marital Status</th>\n",
       "      <th>Sex</th>\n",
       "      <th>Kids under 14</th>\n",
       "      <th>Feeling Rushed</th>\n",
       "      <th>Sleep Duration</th>\n",
       "    </tr>\n",
       "  </thead>\n",
       "  <tbody>\n",
       "    <tr>\n",
       "      <th>0</th>\n",
       "      <td>10000</td>\n",
       "      <td>1</td>\n",
       "      <td>5</td>\n",
       "      <td>5</td>\n",
       "      <td>1</td>\n",
       "      <td>0</td>\n",
       "      <td>1</td>\n",
       "      <td>510</td>\n",
       "    </tr>\n",
       "    <tr>\n",
       "      <th>1</th>\n",
       "      <td>10001</td>\n",
       "      <td>1</td>\n",
       "      <td>5</td>\n",
       "      <td>1</td>\n",
       "      <td>1</td>\n",
       "      <td>0</td>\n",
       "      <td>3</td>\n",
       "      <td>420</td>\n",
       "    </tr>\n",
       "    <tr>\n",
       "      <th>2</th>\n",
       "      <td>10002</td>\n",
       "      <td>1</td>\n",
       "      <td>4</td>\n",
       "      <td>1</td>\n",
       "      <td>2</td>\n",
       "      <td>3</td>\n",
       "      <td>1</td>\n",
       "      <td>570</td>\n",
       "    </tr>\n",
       "    <tr>\n",
       "      <th>3</th>\n",
       "      <td>10003</td>\n",
       "      <td>1</td>\n",
       "      <td>6</td>\n",
       "      <td>5</td>\n",
       "      <td>2</td>\n",
       "      <td>0</td>\n",
       "      <td>2</td>\n",
       "      <td>510</td>\n",
       "    </tr>\n",
       "    <tr>\n",
       "      <th>4</th>\n",
       "      <td>10004</td>\n",
       "      <td>1</td>\n",
       "      <td>2</td>\n",
       "      <td>6</td>\n",
       "      <td>1</td>\n",
       "      <td>0</td>\n",
       "      <td>1</td>\n",
       "      <td>525</td>\n",
       "    </tr>\n",
       "  </tbody>\n",
       "</table>\n",
       "</div>"
      ],
      "text/plain": [
       "   Participant ID  Urban/Rural  Age Group  Marital Status  Sex  Kids under 14  \\\n",
       "0           10000            1          5               5    1              0   \n",
       "1           10001            1          5               1    1              0   \n",
       "2           10002            1          4               1    2              3   \n",
       "3           10003            1          6               5    2              0   \n",
       "4           10004            1          2               6    1              0   \n",
       "\n",
       "   Feeling Rushed  Sleep Duration  \n",
       "0               1             510  \n",
       "1               3             420  \n",
       "2               1             570  \n",
       "3               2             510  \n",
       "4               1             525  "
      ]
     },
     "execution_count": 58,
     "metadata": {},
     "output_type": "execute_result"
    }
   ],
   "source": [
    "time_use_subset.head()"
   ]
  },
  {
   "cell_type": "markdown",
   "id": "6a2186f3",
   "metadata": {},
   "source": [
    "How do you get a `DataFrame` for rows where `Sex == 1`?"
   ]
  },
  {
   "cell_type": "code",
   "execution_count": 59,
   "id": "524243c9",
   "metadata": {},
   "outputs": [
    {
     "data": {
      "text/html": [
       "<div>\n",
       "<style scoped>\n",
       "    .dataframe tbody tr th:only-of-type {\n",
       "        vertical-align: middle;\n",
       "    }\n",
       "\n",
       "    .dataframe tbody tr th {\n",
       "        vertical-align: top;\n",
       "    }\n",
       "\n",
       "    .dataframe thead th {\n",
       "        text-align: right;\n",
       "    }\n",
       "</style>\n",
       "<table border=\"1\" class=\"dataframe\">\n",
       "  <thead>\n",
       "    <tr style=\"text-align: right;\">\n",
       "      <th></th>\n",
       "      <th>Participant ID</th>\n",
       "      <th>Urban/Rural</th>\n",
       "      <th>Age Group</th>\n",
       "      <th>Marital Status</th>\n",
       "      <th>Sex</th>\n",
       "      <th>Kids under 14</th>\n",
       "      <th>Feeling Rushed</th>\n",
       "      <th>Sleep Duration</th>\n",
       "    </tr>\n",
       "  </thead>\n",
       "  <tbody>\n",
       "    <tr>\n",
       "      <th>0</th>\n",
       "      <td>10000</td>\n",
       "      <td>1</td>\n",
       "      <td>5</td>\n",
       "      <td>5</td>\n",
       "      <td>1</td>\n",
       "      <td>0</td>\n",
       "      <td>1</td>\n",
       "      <td>510</td>\n",
       "    </tr>\n",
       "    <tr>\n",
       "      <th>1</th>\n",
       "      <td>10001</td>\n",
       "      <td>1</td>\n",
       "      <td>5</td>\n",
       "      <td>1</td>\n",
       "      <td>1</td>\n",
       "      <td>0</td>\n",
       "      <td>3</td>\n",
       "      <td>420</td>\n",
       "    </tr>\n",
       "    <tr>\n",
       "      <th>4</th>\n",
       "      <td>10004</td>\n",
       "      <td>1</td>\n",
       "      <td>2</td>\n",
       "      <td>6</td>\n",
       "      <td>1</td>\n",
       "      <td>0</td>\n",
       "      <td>1</td>\n",
       "      <td>525</td>\n",
       "    </tr>\n",
       "    <tr>\n",
       "      <th>5</th>\n",
       "      <td>10005</td>\n",
       "      <td>1</td>\n",
       "      <td>1</td>\n",
       "      <td>6</td>\n",
       "      <td>1</td>\n",
       "      <td>2</td>\n",
       "      <td>1</td>\n",
       "      <td>435</td>\n",
       "    </tr>\n",
       "    <tr>\n",
       "      <th>6</th>\n",
       "      <td>10006</td>\n",
       "      <td>1</td>\n",
       "      <td>1</td>\n",
       "      <td>6</td>\n",
       "      <td>1</td>\n",
       "      <td>1</td>\n",
       "      <td>4</td>\n",
       "      <td>635</td>\n",
       "    </tr>\n",
       "  </tbody>\n",
       "</table>\n",
       "</div>"
      ],
      "text/plain": [
       "   Participant ID  Urban/Rural  Age Group  Marital Status  Sex  Kids under 14  \\\n",
       "0           10000            1          5               5    1              0   \n",
       "1           10001            1          5               1    1              0   \n",
       "4           10004            1          2               6    1              0   \n",
       "5           10005            1          1               6    1              2   \n",
       "6           10006            1          1               6    1              1   \n",
       "\n",
       "   Feeling Rushed  Sleep Duration  \n",
       "0               1             510  \n",
       "1               3             420  \n",
       "4               1             525  \n",
       "5               1             435  \n",
       "6               4             635  "
      ]
     },
     "execution_count": 59,
     "metadata": {},
     "output_type": "execute_result"
    }
   ],
   "source": [
    "# Get the True/False Series from the column.\n",
    "sex_1_series = time_use_subset['Sex'] == 1\n",
    "sex_1_df = time_use_subset.loc[sex_1_series, :]\n",
    "sex_1_df.head()"
   ]
  },
  {
   "cell_type": "markdown",
   "id": "2c4abb79",
   "metadata": {},
   "source": [
    "How do you get a `DataFrame` for rows where `Sex == 1`, but with only the `Age Group`, `Marital Status`, and `Sex` columns?"
   ]
  },
  {
   "cell_type": "code",
   "execution_count": 60,
   "id": "c26fc96f",
   "metadata": {},
   "outputs": [
    {
     "data": {
      "text/html": [
       "<div>\n",
       "<style scoped>\n",
       "    .dataframe tbody tr th:only-of-type {\n",
       "        vertical-align: middle;\n",
       "    }\n",
       "\n",
       "    .dataframe tbody tr th {\n",
       "        vertical-align: top;\n",
       "    }\n",
       "\n",
       "    .dataframe thead th {\n",
       "        text-align: right;\n",
       "    }\n",
       "</style>\n",
       "<table border=\"1\" class=\"dataframe\">\n",
       "  <thead>\n",
       "    <tr style=\"text-align: right;\">\n",
       "      <th></th>\n",
       "      <th>Age Group</th>\n",
       "      <th>Marital Status</th>\n",
       "      <th>Sex</th>\n",
       "    </tr>\n",
       "  </thead>\n",
       "  <tbody>\n",
       "    <tr>\n",
       "      <th>0</th>\n",
       "      <td>5</td>\n",
       "      <td>5</td>\n",
       "      <td>1</td>\n",
       "    </tr>\n",
       "    <tr>\n",
       "      <th>1</th>\n",
       "      <td>5</td>\n",
       "      <td>1</td>\n",
       "      <td>1</td>\n",
       "    </tr>\n",
       "    <tr>\n",
       "      <th>4</th>\n",
       "      <td>2</td>\n",
       "      <td>6</td>\n",
       "      <td>1</td>\n",
       "    </tr>\n",
       "    <tr>\n",
       "      <th>5</th>\n",
       "      <td>1</td>\n",
       "      <td>6</td>\n",
       "      <td>1</td>\n",
       "    </tr>\n",
       "    <tr>\n",
       "      <th>6</th>\n",
       "      <td>1</td>\n",
       "      <td>6</td>\n",
       "      <td>1</td>\n",
       "    </tr>\n",
       "  </tbody>\n",
       "</table>\n",
       "</div>"
      ],
      "text/plain": [
       "   Age Group  Marital Status  Sex\n",
       "0          5               5    1\n",
       "1          5               1    1\n",
       "4          2               6    1\n",
       "5          1               6    1\n",
       "6          1               6    1"
      ]
     },
     "execution_count": 60,
     "metadata": {},
     "output_type": "execute_result"
    }
   ],
   "source": [
    "sex_1_df = time_use_subset.loc[sex_1_series, 'Age Group':'Sex']\n",
    "sex_1_df.head()"
   ]
  },
  {
   "cell_type": "markdown",
   "id": "6966bfc0",
   "metadata": {},
   "source": [
    "How do you get a `DataFrame` with only `Feeling Rushed` and `Sleep duration` columns for everyone except people who have a `Feeling Rushed` values of `1`. (Hint: `!=` means \"not equal to\", the opposite of `==`.)"
   ]
  },
  {
   "cell_type": "code",
   "execution_count": 64,
   "id": "59fa5c66",
   "metadata": {},
   "outputs": [
    {
     "data": {
      "text/html": [
       "<div>\n",
       "<style scoped>\n",
       "    .dataframe tbody tr th:only-of-type {\n",
       "        vertical-align: middle;\n",
       "    }\n",
       "\n",
       "    .dataframe tbody tr th {\n",
       "        vertical-align: top;\n",
       "    }\n",
       "\n",
       "    .dataframe thead th {\n",
       "        text-align: right;\n",
       "    }\n",
       "</style>\n",
       "<table border=\"1\" class=\"dataframe\">\n",
       "  <thead>\n",
       "    <tr style=\"text-align: right;\">\n",
       "      <th></th>\n",
       "      <th>Feeling Rushed</th>\n",
       "      <th>Sleep Duration</th>\n",
       "    </tr>\n",
       "  </thead>\n",
       "  <tbody>\n",
       "    <tr>\n",
       "      <th>1</th>\n",
       "      <td>3</td>\n",
       "      <td>420</td>\n",
       "    </tr>\n",
       "    <tr>\n",
       "      <th>3</th>\n",
       "      <td>2</td>\n",
       "      <td>510</td>\n",
       "    </tr>\n",
       "    <tr>\n",
       "      <th>6</th>\n",
       "      <td>4</td>\n",
       "      <td>635</td>\n",
       "    </tr>\n",
       "    <tr>\n",
       "      <th>7</th>\n",
       "      <td>5</td>\n",
       "      <td>440</td>\n",
       "    </tr>\n",
       "    <tr>\n",
       "      <th>8</th>\n",
       "      <td>2</td>\n",
       "      <td>525</td>\n",
       "    </tr>\n",
       "  </tbody>\n",
       "</table>\n",
       "</div>"
      ],
      "text/plain": [
       "   Feeling Rushed  Sleep Duration\n",
       "1               3             420\n",
       "3               2             510\n",
       "6               4             635\n",
       "7               5             440\n",
       "8               2             525"
      ]
     },
     "execution_count": 64,
     "metadata": {},
     "output_type": "execute_result"
    }
   ],
   "source": [
    "rushed_series = time_use_subset['Feeling Rushed'] != 1 # Get our column of True/False values\n",
    "rushed_df = time_use_subset.loc[rushed_series, 'Feeling Rushed':'Sleep Duration']\n",
    "rushed_df.head()"
   ]
  }
 ],
 "metadata": {
  "kernelspec": {
   "display_name": "Python 3 (ipykernel)",
   "language": "python",
   "name": "python3"
  },
  "language_info": {
   "codemirror_mode": {
    "name": "ipython",
    "version": 3
   },
   "file_extension": ".py",
   "mimetype": "text/x-python",
   "name": "python",
   "nbconvert_exporter": "python",
   "pygments_lexer": "ipython3",
   "version": "3.9.9"
  }
 },
 "nbformat": 4,
 "nbformat_minor": 5
}
