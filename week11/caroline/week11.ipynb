{
 "cells": [
  {
   "cell_type": "markdown",
   "id": "3bd162d0",
   "metadata": {
    "slideshow": {
     "slide_type": "slide"
    }
   },
   "source": [
    ">>>>\n",
    "\n",
    ">>>\n",
    "\n",
    ">>\n",
    "\n",
    ">\n",
    "\n",
    "# week 11: more heterogeneity. pca. clustering.\n",
    "\n",
    "## eeb125 | 2022.03.30\n",
    "\n",
    "## prof. caroline fukuchi\n",
    "\n",
    ">\n",
    "\n",
    ">>\n",
    "\n",
    ">>>\n",
    "\n",
    ">>>>"
   ]
  },
  {
   "cell_type": "code",
   "execution_count": 30,
   "id": "c85ef11c",
   "metadata": {
    "slideshow": {
     "slide_type": "slide"
    }
   },
   "outputs": [],
   "source": [
    "import pandas as pd\n",
    "from sklearn.preprocessing import StandardScaler\n",
    "from sklearn.decomposition import PCA\n",
    "import matplotlib.pyplot as plt\n",
    "import matplotlib\n",
    "from sklearn.cluster import KMeans\n",
    "import scipy.cluster.hierarchy as shc\n",
    "import numpy as np"
   ]
  },
  {
   "cell_type": "code",
   "execution_count": 31,
   "id": "c73e776c",
   "metadata": {
    "slideshow": {
     "slide_type": "skip"
    }
   },
   "outputs": [],
   "source": [
    "def plot_pca(plot_data,ax1,ax2):\n",
    "    # treat this code as magic.\n",
    "    ax1lab=\"pc\"+str(ax1)\n",
    "    ax2lab=\"pc\"+str(ax2)\n",
    "    for name, group in plot_data.groupby('species'):\n",
    "        plt.plot(group[ax1lab], group[ax2lab], marker='o', linestyle='', label=name)\n",
    "\n",
    "    coeff = np.transpose(pca.components_[0:3,:])\n",
    "    n = coeff.shape[0]\n",
    "    for i in range(n):\n",
    "        plt.arrow(0, 0, coeff[i,0]*8, coeff[i,1]*8,color = 'r',alpha = 0.9)\n",
    "        plt.text(coeff[i,0]* 8, coeff[i,1] * 8, list(dat.columns[2:-1])[i], color = 'g', ha = 'center', va = 'center')\n",
    "    plt.xlabel(\"PC\"+str(ax1)+ \"(\"+str(round(prop_var[ax1-1]))+\"%)\")\n",
    "    plt.ylabel(\"PC\"+str(ax2)+ \"(\"+str(round(prop_var[ax2-1]))+\"%)\")\n",
    "\n",
    "    plt.show()"
   ]
  },
  {
   "cell_type": "code",
   "execution_count": 3,
   "id": "957010ad",
   "metadata": {
    "slideshow": {
     "slide_type": "skip"
    }
   },
   "outputs": [],
   "source": [
    "plt.style.use('dark_background')"
   ]
  },
  {
   "cell_type": "markdown",
   "id": "032b3be2",
   "metadata": {
    "slideshow": {
     "slide_type": "slide"
    }
   },
   "source": [
    "## the data\n",
    "\n",
    "measurements of traits in penguins\n",
    "    - culmen (beak) length and width, flipper length, and body mass\n",
    "sampled across three penguin species living on several neighboring islands "
   ]
  },
  {
   "cell_type": "code",
   "execution_count": 32,
   "id": "55930049",
   "metadata": {
    "slideshow": {
     "slide_type": "-"
    }
   },
   "outputs": [],
   "source": [
    "dat=pd.read_csv(\"https://raw.githubusercontent.com/datavizpyr/data/master/palmer_penguin_species.tsv\",sep=\"\\t\")"
   ]
  },
  {
   "cell_type": "code",
   "execution_count": 33,
   "id": "60734d7e",
   "metadata": {
    "slideshow": {
     "slide_type": "-"
    }
   },
   "outputs": [
    {
     "data": {
      "text/html": [
       "<div>\n",
       "<style scoped>\n",
       "    .dataframe tbody tr th:only-of-type {\n",
       "        vertical-align: middle;\n",
       "    }\n",
       "\n",
       "    .dataframe tbody tr th {\n",
       "        vertical-align: top;\n",
       "    }\n",
       "\n",
       "    .dataframe thead th {\n",
       "        text-align: right;\n",
       "    }\n",
       "</style>\n",
       "<table border=\"1\" class=\"dataframe\">\n",
       "  <thead>\n",
       "    <tr style=\"text-align: right;\">\n",
       "      <th></th>\n",
       "      <th>species</th>\n",
       "      <th>island</th>\n",
       "      <th>culmen_length_mm</th>\n",
       "      <th>culmen_depth_mm</th>\n",
       "      <th>flipper_length_mm</th>\n",
       "      <th>body_mass_g</th>\n",
       "      <th>sex</th>\n",
       "    </tr>\n",
       "  </thead>\n",
       "  <tbody>\n",
       "    <tr>\n",
       "      <th>0</th>\n",
       "      <td>Adelie</td>\n",
       "      <td>Torgersen</td>\n",
       "      <td>39.1</td>\n",
       "      <td>18.7</td>\n",
       "      <td>181.0</td>\n",
       "      <td>3750.0</td>\n",
       "      <td>MALE</td>\n",
       "    </tr>\n",
       "    <tr>\n",
       "      <th>1</th>\n",
       "      <td>Adelie</td>\n",
       "      <td>Torgersen</td>\n",
       "      <td>39.5</td>\n",
       "      <td>17.4</td>\n",
       "      <td>186.0</td>\n",
       "      <td>3800.0</td>\n",
       "      <td>FEMALE</td>\n",
       "    </tr>\n",
       "    <tr>\n",
       "      <th>2</th>\n",
       "      <td>Adelie</td>\n",
       "      <td>Torgersen</td>\n",
       "      <td>40.3</td>\n",
       "      <td>18.0</td>\n",
       "      <td>195.0</td>\n",
       "      <td>3250.0</td>\n",
       "      <td>FEMALE</td>\n",
       "    </tr>\n",
       "    <tr>\n",
       "      <th>4</th>\n",
       "      <td>Adelie</td>\n",
       "      <td>Torgersen</td>\n",
       "      <td>36.7</td>\n",
       "      <td>19.3</td>\n",
       "      <td>193.0</td>\n",
       "      <td>3450.0</td>\n",
       "      <td>FEMALE</td>\n",
       "    </tr>\n",
       "    <tr>\n",
       "      <th>5</th>\n",
       "      <td>Adelie</td>\n",
       "      <td>Torgersen</td>\n",
       "      <td>39.3</td>\n",
       "      <td>20.6</td>\n",
       "      <td>190.0</td>\n",
       "      <td>3650.0</td>\n",
       "      <td>MALE</td>\n",
       "    </tr>\n",
       "    <tr>\n",
       "      <th>...</th>\n",
       "      <td>...</td>\n",
       "      <td>...</td>\n",
       "      <td>...</td>\n",
       "      <td>...</td>\n",
       "      <td>...</td>\n",
       "      <td>...</td>\n",
       "      <td>...</td>\n",
       "    </tr>\n",
       "    <tr>\n",
       "      <th>339</th>\n",
       "      <td>Chinstrap</td>\n",
       "      <td>Dream</td>\n",
       "      <td>55.8</td>\n",
       "      <td>19.8</td>\n",
       "      <td>207.0</td>\n",
       "      <td>4000.0</td>\n",
       "      <td>MALE</td>\n",
       "    </tr>\n",
       "    <tr>\n",
       "      <th>340</th>\n",
       "      <td>Chinstrap</td>\n",
       "      <td>Dream</td>\n",
       "      <td>43.5</td>\n",
       "      <td>18.1</td>\n",
       "      <td>202.0</td>\n",
       "      <td>3400.0</td>\n",
       "      <td>FEMALE</td>\n",
       "    </tr>\n",
       "    <tr>\n",
       "      <th>341</th>\n",
       "      <td>Chinstrap</td>\n",
       "      <td>Dream</td>\n",
       "      <td>49.6</td>\n",
       "      <td>18.2</td>\n",
       "      <td>193.0</td>\n",
       "      <td>3775.0</td>\n",
       "      <td>MALE</td>\n",
       "    </tr>\n",
       "    <tr>\n",
       "      <th>342</th>\n",
       "      <td>Chinstrap</td>\n",
       "      <td>Dream</td>\n",
       "      <td>50.8</td>\n",
       "      <td>19.0</td>\n",
       "      <td>210.0</td>\n",
       "      <td>4100.0</td>\n",
       "      <td>MALE</td>\n",
       "    </tr>\n",
       "    <tr>\n",
       "      <th>343</th>\n",
       "      <td>Chinstrap</td>\n",
       "      <td>Dream</td>\n",
       "      <td>50.2</td>\n",
       "      <td>18.7</td>\n",
       "      <td>198.0</td>\n",
       "      <td>3775.0</td>\n",
       "      <td>FEMALE</td>\n",
       "    </tr>\n",
       "  </tbody>\n",
       "</table>\n",
       "<p>333 rows × 7 columns</p>\n",
       "</div>"
      ],
      "text/plain": [
       "       species     island  culmen_length_mm  culmen_depth_mm  \\\n",
       "0       Adelie  Torgersen              39.1             18.7   \n",
       "1       Adelie  Torgersen              39.5             17.4   \n",
       "2       Adelie  Torgersen              40.3             18.0   \n",
       "4       Adelie  Torgersen              36.7             19.3   \n",
       "5       Adelie  Torgersen              39.3             20.6   \n",
       "..         ...        ...               ...              ...   \n",
       "339  Chinstrap      Dream              55.8             19.8   \n",
       "340  Chinstrap      Dream              43.5             18.1   \n",
       "341  Chinstrap      Dream              49.6             18.2   \n",
       "342  Chinstrap      Dream              50.8             19.0   \n",
       "343  Chinstrap      Dream              50.2             18.7   \n",
       "\n",
       "     flipper_length_mm  body_mass_g     sex  \n",
       "0                181.0       3750.0    MALE  \n",
       "1                186.0       3800.0  FEMALE  \n",
       "2                195.0       3250.0  FEMALE  \n",
       "4                193.0       3450.0  FEMALE  \n",
       "5                190.0       3650.0    MALE  \n",
       "..                 ...          ...     ...  \n",
       "339              207.0       4000.0    MALE  \n",
       "340              202.0       3400.0  FEMALE  \n",
       "341              193.0       3775.0    MALE  \n",
       "342              210.0       4100.0    MALE  \n",
       "343              198.0       3775.0  FEMALE  \n",
       "\n",
       "[333 rows x 7 columns]"
      ]
     },
     "execution_count": 33,
     "metadata": {},
     "output_type": "execute_result"
    }
   ],
   "source": [
    "dat=dat.dropna(axis=0)\n",
    "dat"
   ]
  },
  {
   "cell_type": "markdown",
   "id": "e026fa75",
   "metadata": {
    "slideshow": {
     "slide_type": "slide"
    }
   },
   "source": [
    "## how do the data look? \n",
    "  - can we can easily spot differences between species?\n",
    "  - this is **exploratory data analysis**"
   ]
  },
  {
   "cell_type": "code",
   "execution_count": 34,
   "id": "3fa75ce0",
   "metadata": {
    "slideshow": {
     "slide_type": "slide"
    }
   },
   "outputs": [
    {
     "data": {
      "text/plain": [
       "Text(0, 0.5, 'bill depth')"
      ]
     },
     "execution_count": 34,
     "metadata": {},
     "output_type": "execute_result"
    },
    {
     "data": {
      "image/png": "[encoded data removed]",
      "text/plain": [
       "<Figure size 432x288 with 1 Axes>"
      ]
     },
     "metadata": {},
     "output_type": "display_data"
    }
   ],
   "source": [
    "for name, group in dat.groupby('species'):\n",
    "    plt.plot(group.culmen_length_mm, group.culmen_depth_mm, marker='o', linestyle='', label=name)\n",
    "plt.legend()\n",
    "plt.xlabel(\"bill length\")\n",
    "plt.ylabel(\"bill depth\")"
   ]
  },
  {
   "cell_type": "code",
   "execution_count": 35,
   "id": "8e048091",
   "metadata": {
    "slideshow": {
     "slide_type": "slide"
    }
   },
   "outputs": [
    {
     "data": {
      "text/plain": [
       "Text(0, 0.5, 'flipper length (mm)')"
      ]
     },
     "execution_count": 35,
     "metadata": {},
     "output_type": "execute_result"
    },
    {
     "data": {
      "image/png": "[encoded data removed]",
      "text/plain": [
       "<Figure size 432x288 with 1 Axes>"
      ]
     },
     "metadata": {},
     "output_type": "display_data"
    }
   ],
   "source": [
    "for name, group in dat.groupby('species'):\n",
    "    plt.plot(group.body_mass_g, group.flipper_length_mm, marker='o', linestyle='', label=name)\n",
    "plt.legend()\n",
    "plt.xlabel(\"body mass (grams)\")\n",
    "plt.ylabel(\"flipper length (mm)\")"
   ]
  },
  {
   "cell_type": "markdown",
   "id": "9ddfb0f8",
   "metadata": {
    "slideshow": {
     "slide_type": "slide"
    }
   },
   "source": [
    "# dimension reduction\n",
    "\n",
    "- working through each pair of variables like this can quickly become overwhelming\n",
    "- many variables may be **redundant** because they are related to one another\n",
    "  + e.g., if we know a penguin's body mass, we can make a good guess about its flipper length"
   ]
  },
  {
   "cell_type": "markdown",
   "id": "7fc69f26",
   "metadata": {
    "slideshow": {
     "slide_type": "slide"
    }
   },
   "source": [
    "# principal components analysis (pca)\n",
    "\n",
    "- pca helps us by constructing a new set of variables that describe the differences bewteen pengins\n",
    "  + these new variables are constructed using the original ones"
   ]
  },
  {
   "cell_type": "markdown",
   "id": "464bc99e",
   "metadata": {
    "slideshow": {
     "slide_type": "slide"
    }
   },
   "source": [
    "# principal components analysis (pca)\n",
    "\n",
    "- pca finds new variables that:\n",
    "  + 1) differ the most across all penguins\n",
    "  + 2) capture the most information across the original measurements (flipper length, body mass, etc)"
   ]
  },
  {
   "cell_type": "markdown",
   "id": "118de586",
   "metadata": {
    "slideshow": {
     "slide_type": "slide"
    }
   },
   "source": [
    "# pca and regression\n",
    "\n",
    "- this does not differ too much from what we are doing in regression. in regression, we seek a single line that:\n",
    "  + 1) captures the greatest breadth of difference between two measurements\n",
    "  + 2) best allows us to predict the measurements (e.g., if resampled from the same population)\n",
    "\n"
   ]
  },
  {
   "cell_type": "markdown",
   "id": "47416dff",
   "metadata": {
    "slideshow": {
     "slide_type": "slide"
    }
   },
   "source": [
    "# principal components analysis (pca)\n",
    "\n",
    "- GAD and ASD are correlated\n",
    "- we can create a new measurement that captures information from both GAD and ASD by comparing the original points to the line\n",
    "\n",
    "\n",
    "![](images/correlation.png)"
   ]
  },
  {
   "cell_type": "markdown",
   "id": "ae03e788",
   "metadata": {
    "slideshow": {
     "slide_type": "slide"
    }
   },
   "source": [
    "# principal components analysis (pca)\n",
    "\n",
    "- GAD and ASD are correlated\n",
    "- find the closest path between each data point and the line and mark that point on the line\n",
    "\n",
    "![res](images/resid.svg)\n"
   ]
  },
  {
   "cell_type": "markdown",
   "id": "f1779e4b",
   "metadata": {
    "slideshow": {
     "slide_type": "slide"
    }
   },
   "source": [
    "# principal components analysis (pca)\n",
    "\n",
    "- the location of these points along the line form the basis of a new measurement\n",
    "  + this new measurement combines information from both original variables\n",
    "\n",
    "![res](images/resid1.svg)\n"
   ]
  },
  {
   "cell_type": "markdown",
   "id": "a6cbed15",
   "metadata": {
    "slideshow": {
     "slide_type": "slide"
    }
   },
   "source": [
    "# principal components analysis (pca)\n",
    "\n",
    "- pca draws lines like this between **all** of our measurements (not just two)\n",
    "- each line thus contains a different 'combination' of the original measurements\n",
    "  + we call each of these lines a \"principal component\"\n",
    "\n",
    "![res](images/resid1.svg)\n"
   ]
  },
  {
   "cell_type": "code",
   "execution_count": 9,
   "id": "441f5eea",
   "metadata": {},
   "outputs": [
    {
     "data": {
      "text/plain": [
       "array([[-0.89604189,  0.7807321 , -1.42675157, -0.56847478],\n",
       "       [-0.82278787,  0.11958397, -1.06947358, -0.50628618],\n",
       "       [-0.67627982,  0.42472926, -0.42637319, -1.1903608 ],\n",
       "       ...,\n",
       "       [ 1.02687621,  0.52644436, -0.56928439, -0.53738048],\n",
       "       [ 1.24663828,  0.93330475,  0.64546078, -0.13315457],\n",
       "       [ 1.13675725,  0.7807321 , -0.2120064 , -0.53738048]])"
      ]
     },
     "execution_count": 9,
     "metadata": {},
     "output_type": "execute_result"
    }
   ],
   "source": [
    "traits=dat.loc[:,dat.columns[2:-1]].values #\n",
    "traits_scaled=StandardScaler().fit_transform(traits)\n",
    "traits_scaled"
   ]
  },
  {
   "cell_type": "markdown",
   "id": "ede129e0",
   "metadata": {},
   "source": [
    "fit the PCA:"
   ]
  },
  {
   "cell_type": "markdown",
   "id": "1867958f",
   "metadata": {
    "slideshow": {
     "slide_type": "-"
    }
   },
   "source": [
    "# fit our pca\n",
    "\n",
    "- we had 4 original measurements and will get 4 new 'principal components', each in a column\n",
    "  + each column represents a different 'line' used to combine our original measurements"
   ]
  },
  {
   "cell_type": "code",
   "execution_count": 20,
   "id": "8eb2ea36",
   "metadata": {},
   "outputs": [
    {
     "data": {
      "text/html": [
       "<div>\n",
       "<style scoped>\n",
       "    .dataframe tbody tr th:only-of-type {\n",
       "        vertical-align: middle;\n",
       "    }\n",
       "\n",
       "    .dataframe tbody tr th {\n",
       "        vertical-align: top;\n",
       "    }\n",
       "\n",
       "    .dataframe thead th {\n",
       "        text-align: right;\n",
       "    }\n",
       "</style>\n",
       "<table border=\"1\" class=\"dataframe\">\n",
       "  <thead>\n",
       "    <tr style=\"text-align: right;\">\n",
       "      <th></th>\n",
       "      <th>pc1</th>\n",
       "      <th>pc2</th>\n",
       "      <th>pc3</th>\n",
       "      <th>pc4</th>\n",
       "    </tr>\n",
       "  </thead>\n",
       "  <tbody>\n",
       "    <tr>\n",
       "      <th>0</th>\n",
       "      <td>-1.853593</td>\n",
       "      <td>0.032069</td>\n",
       "      <td>-0.234902</td>\n",
       "      <td>0.528397</td>\n",
       "    </tr>\n",
       "    <tr>\n",
       "      <th>1</th>\n",
       "      <td>-1.316254</td>\n",
       "      <td>-0.443527</td>\n",
       "      <td>-0.027470</td>\n",
       "      <td>0.401727</td>\n",
       "    </tr>\n",
       "    <tr>\n",
       "      <th>2</th>\n",
       "      <td>-1.376605</td>\n",
       "      <td>-0.161230</td>\n",
       "      <td>0.189689</td>\n",
       "      <td>-0.528662</td>\n",
       "    </tr>\n",
       "    <tr>\n",
       "      <th>3</th>\n",
       "      <td>-1.885288</td>\n",
       "      <td>-0.012351</td>\n",
       "      <td>-0.628873</td>\n",
       "      <td>-0.472893</td>\n",
       "    </tr>\n",
       "    <tr>\n",
       "      <th>4</th>\n",
       "      <td>-1.919981</td>\n",
       "      <td>0.817598</td>\n",
       "      <td>-0.701051</td>\n",
       "      <td>-0.196416</td>\n",
       "    </tr>\n",
       "  </tbody>\n",
       "</table>\n",
       "</div>"
      ],
      "text/plain": [
       "        pc1       pc2       pc3       pc4\n",
       "0 -1.853593  0.032069 -0.234902  0.528397\n",
       "1 -1.316254 -0.443527 -0.027470  0.401727\n",
       "2 -1.376605 -0.161230  0.189689 -0.528662\n",
       "3 -1.885288 -0.012351 -0.628873 -0.472893\n",
       "4 -1.919981  0.817598 -0.701051 -0.196416"
      ]
     },
     "execution_count": 20,
     "metadata": {},
     "output_type": "execute_result"
    }
   ],
   "source": [
    "pca=PCA()\n",
    "fit=pca.fit_transform(traits_scaled)\n",
    "scores = pd.DataFrame(data = fit, columns = ['pc1', 'pc2', 'pc3', 'pc4'])\n",
    "scores.head() # these are our new measurements-- our 'principal components'"
   ]
  },
  {
   "cell_type": "markdown",
   "id": "a400a6b8",
   "metadata": {},
   "source": [
    "# organizing ourselves\n",
    "\n",
    "- like our original data, each row corresponds to a single individual\n",
    "- let's add back the information about which species each row belongs to"
   ]
  },
  {
   "cell_type": "code",
   "execution_count": 21,
   "id": "58d931b8",
   "metadata": {},
   "outputs": [
    {
     "data": {
      "text/html": [
       "<div>\n",
       "<style scoped>\n",
       "    .dataframe tbody tr th:only-of-type {\n",
       "        vertical-align: middle;\n",
       "    }\n",
       "\n",
       "    .dataframe tbody tr th {\n",
       "        vertical-align: top;\n",
       "    }\n",
       "\n",
       "    .dataframe thead th {\n",
       "        text-align: right;\n",
       "    }\n",
       "</style>\n",
       "<table border=\"1\" class=\"dataframe\">\n",
       "  <thead>\n",
       "    <tr style=\"text-align: right;\">\n",
       "      <th></th>\n",
       "      <th>pc1</th>\n",
       "      <th>pc2</th>\n",
       "      <th>pc3</th>\n",
       "      <th>pc4</th>\n",
       "      <th>species</th>\n",
       "    </tr>\n",
       "  </thead>\n",
       "  <tbody>\n",
       "    <tr>\n",
       "      <th>0</th>\n",
       "      <td>-1.853593</td>\n",
       "      <td>0.032069</td>\n",
       "      <td>-0.234902</td>\n",
       "      <td>0.528397</td>\n",
       "      <td>Adelie</td>\n",
       "    </tr>\n",
       "    <tr>\n",
       "      <th>1</th>\n",
       "      <td>-1.316254</td>\n",
       "      <td>-0.443527</td>\n",
       "      <td>-0.027470</td>\n",
       "      <td>0.401727</td>\n",
       "      <td>Adelie</td>\n",
       "    </tr>\n",
       "    <tr>\n",
       "      <th>2</th>\n",
       "      <td>-1.376605</td>\n",
       "      <td>-0.161230</td>\n",
       "      <td>0.189689</td>\n",
       "      <td>-0.528662</td>\n",
       "      <td>Adelie</td>\n",
       "    </tr>\n",
       "    <tr>\n",
       "      <th>3</th>\n",
       "      <td>-1.885288</td>\n",
       "      <td>-0.012351</td>\n",
       "      <td>-0.628873</td>\n",
       "      <td>-0.472893</td>\n",
       "      <td>Adelie</td>\n",
       "    </tr>\n",
       "    <tr>\n",
       "      <th>4</th>\n",
       "      <td>-1.919981</td>\n",
       "      <td>0.817598</td>\n",
       "      <td>-0.701051</td>\n",
       "      <td>-0.196416</td>\n",
       "      <td>Adelie</td>\n",
       "    </tr>\n",
       "    <tr>\n",
       "      <th>...</th>\n",
       "      <td>...</td>\n",
       "      <td>...</td>\n",
       "      <td>...</td>\n",
       "      <td>...</td>\n",
       "      <td>...</td>\n",
       "    </tr>\n",
       "    <tr>\n",
       "      <th>328</th>\n",
       "      <td>0.553475</td>\n",
       "      <td>2.347612</td>\n",
       "      <td>0.869245</td>\n",
       "      <td>-0.388080</td>\n",
       "      <td>Chinstrap</td>\n",
       "    </tr>\n",
       "    <tr>\n",
       "      <th>329</th>\n",
       "      <td>-0.739914</td>\n",
       "      <td>0.248155</td>\n",
       "      <td>0.316067</td>\n",
       "      <td>-0.733778</td>\n",
       "      <td>Chinstrap</td>\n",
       "    </tr>\n",
       "    <tr>\n",
       "      <th>330</th>\n",
       "      <td>-0.367890</td>\n",
       "      <td>0.991080</td>\n",
       "      <td>0.887996</td>\n",
       "      <td>0.195863</td>\n",
       "      <td>Chinstrap</td>\n",
       "    </tr>\n",
       "    <tr>\n",
       "      <th>331</th>\n",
       "      <td>0.492360</td>\n",
       "      <td>1.484849</td>\n",
       "      <td>0.329960</td>\n",
       "      <td>-0.550859</td>\n",
       "      <td>Chinstrap</td>\n",
       "    </tr>\n",
       "    <tr>\n",
       "      <th>332</th>\n",
       "      <td>-0.213417</td>\n",
       "      <td>1.261554</td>\n",
       "      <td>0.765967</td>\n",
       "      <td>-0.108233</td>\n",
       "      <td>Chinstrap</td>\n",
       "    </tr>\n",
       "  </tbody>\n",
       "</table>\n",
       "<p>333 rows × 5 columns</p>\n",
       "</div>"
      ],
      "text/plain": [
       "          pc1       pc2       pc3       pc4    species\n",
       "0   -1.853593  0.032069 -0.234902  0.528397     Adelie\n",
       "1   -1.316254 -0.443527 -0.027470  0.401727     Adelie\n",
       "2   -1.376605 -0.161230  0.189689 -0.528662     Adelie\n",
       "3   -1.885288 -0.012351 -0.628873 -0.472893     Adelie\n",
       "4   -1.919981  0.817598 -0.701051 -0.196416     Adelie\n",
       "..        ...       ...       ...       ...        ...\n",
       "328  0.553475  2.347612  0.869245 -0.388080  Chinstrap\n",
       "329 -0.739914  0.248155  0.316067 -0.733778  Chinstrap\n",
       "330 -0.367890  0.991080  0.887996  0.195863  Chinstrap\n",
       "331  0.492360  1.484849  0.329960 -0.550859  Chinstrap\n",
       "332 -0.213417  1.261554  0.765967 -0.108233  Chinstrap\n",
       "\n",
       "[333 rows x 5 columns]"
      ]
     },
     "execution_count": 21,
     "metadata": {},
     "output_type": "execute_result"
    }
   ],
   "source": [
    "plot_data=scores.copy()\n",
    "plot_data[\"species\"]=np.array(dat[\"species\"])\n",
    "plot_data"
   ]
  },
  {
   "cell_type": "markdown",
   "id": "d87bbecb",
   "metadata": {
    "slideshow": {
     "slide_type": "slide"
    }
   },
   "source": [
    "# variance\n",
    "\n",
    "- the \"spread\" of the data around this line reflects the variation in the dataset\n",
    "- each principal component explains a different proportion of the overall spread across all of the measurements\n",
    "\n",
    "![res](images/resid.svg)\n"
   ]
  },
  {
   "cell_type": "markdown",
   "id": "08b43925",
   "metadata": {},
   "source": [
    "# variance\n",
    "\n",
    "- we can find out exactly how much of this spread is captured by each principal component (PC)\n",
    "- PCs with higher values explain more information from the original dataset"
   ]
  },
  {
   "cell_type": "code",
   "execution_count": 17,
   "id": "c2a49e28",
   "metadata": {},
   "outputs": [
    {
     "data": {
      "text/plain": [
       "array([68.63389314, 19.45292928,  9.21606299,  2.69711459])"
      ]
     },
     "execution_count": 17,
     "metadata": {},
     "output_type": "execute_result"
    }
   ],
   "source": [
    "prop_var=pca.explained_variance_ratio_ * 100\n",
    "prop_var"
   ]
  },
  {
   "cell_type": "markdown",
   "id": "09d4304f",
   "metadata": {},
   "source": [
    "# visualizing differences between groups\n",
    "\n",
    "- one handy thing about PCA is that it allows us to visualize how simlar different groups are within our data"
   ]
  },
  {
   "cell_type": "code",
   "execution_count": 15,
   "id": "684a7b31",
   "metadata": {},
   "outputs": [
    {
     "data": {
      "text/plain": [
       "Text(0, 0.5, 'PC 2')"
      ]
     },
     "execution_count": 15,
     "metadata": {},
     "output_type": "execute_result"
    },
    {
     "data": {
      "image/png": "[encoded data removed]",
      "text/plain": [
       "<Figure size 432x288 with 1 Axes>"
      ]
     },
     "metadata": {},
     "output_type": "display_data"
    }
   ],
   "source": [
    "for name, group in plot_data.groupby('species'):\n",
    "    plt.plot(group.pc1, group.pc2, marker='o', linestyle='', label=name)\n",
    "plt.legend()\n",
    "plt.xlabel(\"PC 1\")\n",
    "plt.ylabel(\"PC 2\")"
   ]
  },
  {
   "cell_type": "markdown",
   "id": "b7f26ee3",
   "metadata": {},
   "source": [
    "# visualizing differences between groups\n",
    "\n",
    "- one handy thing about PCA is that it allows us to visualize how simlar different groups are within our data"
   ]
  },
  {
   "cell_type": "code",
   "execution_count": 16,
   "id": "5b847d08",
   "metadata": {},
   "outputs": [
    {
     "data": {
      "text/plain": [
       "Text(0, 0.5, 'PC 3')"
      ]
     },
     "execution_count": 16,
     "metadata": {},
     "output_type": "execute_result"
    },
    {
     "data": {
      "image/png": "[encoded data removed]",
      "text/plain": [
       "<Figure size 432x288 with 1 Axes>"
      ]
     },
     "metadata": {},
     "output_type": "display_data"
    }
   ],
   "source": [
    "for name, group in plot_data.groupby('species'):\n",
    "    plt.plot(group.pc2, group.pc3, marker='o', linestyle='', label=name)\n",
    "plt.legend()\n",
    "plt.xlabel(\"PC 2\")\n",
    "plt.ylabel(\"PC 3\")"
   ]
  },
  {
   "cell_type": "markdown",
   "id": "46f6650c",
   "metadata": {},
   "source": [
    "# relationships between variables\n",
    "\n",
    "- we can check how and which measurements are combined into each PC\n",
    "  - same direction: positively correlated (as x gets bigger, y gets bigger)\n",
    "  - opposite direction: negatively correlated (as x gets bigger, y gets smaller)\n",
    "  - perpendicular: uncorrelated (x and y have no relationship)"
   ]
  },
  {
   "cell_type": "code",
   "execution_count": 28,
   "id": "f90669b9",
   "metadata": {},
   "outputs": [
    {
     "data": {
      "image/png": "[encoded data removed]",
      "text/plain": [
       "<Figure size 432x288 with 1 Axes>"
      ]
     },
     "metadata": {},
     "output_type": "display_data"
    }
   ],
   "source": [
    "plot_pca(plot_data,1,2)"
   ]
  },
  {
   "cell_type": "markdown",
   "id": "d1890bf4",
   "metadata": {},
   "source": [
    "# relationships between variables\n",
    "\n",
    "- we can check how and which measurements are combined into each PC\n",
    "  - same direction: positively correlated (as x gets bigger, y gets bigger)\n",
    "  - opposite direction: negatively correlated (as x gets bigger, y gets smaller)\n",
    "  - perpendicular: uncorrelated (x and y have no relationship)"
   ]
  },
  {
   "cell_type": "code",
   "execution_count": 29,
   "id": "e71f044e",
   "metadata": {},
   "outputs": [
    {
     "data": {
      "image/png": "[encoded data removed]",
      "text/plain": [
       "<Figure size 432x288 with 1 Axes>"
      ]
     },
     "metadata": {},
     "output_type": "display_data"
    }
   ],
   "source": [
    "plot_pca(plot_data,2,3)"
   ]
  },
  {
   "cell_type": "markdown",
   "id": "805ded7d",
   "metadata": {
    "slideshow": {
     "slide_type": "slide"
    }
   },
   "source": [
    "# finding groups within our data\n",
    "\n",
    "- pca gives us one nice way to explore differences between groups of our data\n",
    "- there are other ways we can explore such differences too"
   ]
  },
  {
   "cell_type": "markdown",
   "id": "3f2b3648",
   "metadata": {
    "slideshow": {
     "slide_type": "slide"
    }
   },
   "source": [
    "# finding groups within our data\n",
    "\n",
    "this week, we are going to learn about a statistical technique called **clustering**. This is a very broad class of statistical approaches that is focused on finding natural groupings within datasets (which we call 'clusters')."
   ]
  },
  {
   "cell_type": "markdown",
   "id": "3919d4b8",
   "metadata": {
    "slideshow": {
     "slide_type": "slide"
    }
   },
   "source": [
    "## clustering\n",
    "\n",
    "- grouping observations that are similar to one another\n",
    "- **clusters**: subgroups of data points within a dataset that are similar to one another"
   ]
  },
  {
   "cell_type": "markdown",
   "id": "db32fffc",
   "metadata": {
    "slideshow": {
     "slide_type": "slide"
    }
   },
   "source": [
    "## hierarchical clustering\n",
    "\n",
    "finds clusters by constructing a **dendrogram**\n",
    "  + **dendrogram:** a network that maps the similarity of all of the data points in a type of network  \n",
    "  \n",
    "![Alt Text](images/pengin_clust.svg)"
   ]
  },
  {
   "cell_type": "markdown",
   "id": "435bffae",
   "metadata": {
    "slideshow": {
     "slide_type": "slide"
    }
   },
   "source": [
    "\n",
    "### how to build a dendrogram:\n",
    "   1. **treat each data point as its own cluster.**\n",
    "       + in this case, we have 333 individual penguins so we will start with 333 clusters\n",
    "       + what groups of pengiuns are most similar to one another?\n",
    "\n"
   ]
  },
  {
   "cell_type": "markdown",
   "id": "d5a43a90",
   "metadata": {
    "slideshow": {
     "slide_type": "slide"
    }
   },
   "source": [
    "\n",
    "### how to build a dendrogram:\n",
    "   1. treat each data point as its own cluster. \n",
    "       + in this case, we have 333 individual penguins so we will start with 333 clusters\n",
    "   2. **join the two closest data points to make a new cluster**\n",
    "       + we now have 332 clusters\n"
   ]
  },
  {
   "cell_type": "markdown",
   "id": "a8b84ee8",
   "metadata": {
    "slideshow": {
     "slide_type": "slide"
    }
   },
   "source": [
    "\n",
    "### how to build a dendrogram:\n",
    "   1. treat each data point as its own cluster. \n",
    "       + in this case, we have 333 individual penguins so we will start with 333 clusters\n",
    "   2. join the two closest data points to make a new cluster\n",
    "       + we now have 332 clusters\n",
    "   3. **repeat 1 and 2 until all the observations are joined together**\n",
    "       + distances between each pair constructs hierarchy of relatedness\n",
    "       + more similar data points are closer together on the dendrogram\n",
    "       \n"
   ]
  },
  {
   "cell_type": "markdown",
   "id": "71e389a7",
   "metadata": {
    "slideshow": {
     "slide_type": "slide"
    }
   },
   "source": [
    "### how to build a dendrogram:\n",
    "\n",
    "- more similar observations are more tightly connected in\n",
    "- branches connecting more similar observations are shorter\n",
    "\n",
    "    ![Alt Text](images/dendro.svg)\n"
   ]
  },
  {
   "cell_type": "markdown",
   "id": "81916bb6",
   "metadata": {
    "slideshow": {
     "slide_type": "slide"
    }
   },
   "source": [
    "![Alt Text](images/dendro2.svg)\n"
   ]
  },
  {
   "cell_type": "markdown",
   "id": "fa2be64b",
   "metadata": {
    "slideshow": {
     "slide_type": "slide"
    }
   },
   "source": [
    "# an alternative illustration\n",
    "\n",
    "![Alt Text](images/pengin_clust0.svg)"
   ]
  },
  {
   "cell_type": "markdown",
   "id": "f648147b",
   "metadata": {
    "slideshow": {
     "slide_type": "slide"
    }
   },
   "source": [
    "# an alternative illustration\n",
    "\n",
    "![Alt Text](images/pengin_clust1.svg)"
   ]
  },
  {
   "cell_type": "markdown",
   "id": "1ee2a6cd",
   "metadata": {
    "slideshow": {
     "slide_type": "slide"
    }
   },
   "source": [
    "# an alternative illustration\n",
    "\n",
    "![Alt Text](images/pengin_clust2.svg)"
   ]
  },
  {
   "cell_type": "markdown",
   "id": "d9018039",
   "metadata": {
    "slideshow": {
     "slide_type": "slide"
    }
   },
   "source": [
    "# an alternative illustration\n",
    "\n",
    "![Alt Text](images/pengin_clust.svg)"
   ]
  },
  {
   "cell_type": "code",
   "execution_count": 21,
   "id": "c8b9da48",
   "metadata": {
    "slideshow": {
     "slide_type": "slide"
    }
   },
   "outputs": [],
   "source": [
    "from scipy.cluster.hierarchy import dendrogram, linkage\n",
    "from sklearn.cluster import AgglomerativeClustering"
   ]
  },
  {
   "cell_type": "code",
   "execution_count": 22,
   "id": "9229d3a2",
   "metadata": {},
   "outputs": [
    {
     "data": {
      "text/plain": [
       "array([[1.52000000e+02, 2.36000000e+02, 1.09065116e-01, 2.00000000e+00],\n",
       "       [1.86000000e+02, 2.37000000e+02, 1.09065116e-01, 2.00000000e+00],\n",
       "       [3.10000000e+01, 1.01000000e+02, 1.26258718e-01, 2.00000000e+00],\n",
       "       ...,\n",
       "       [6.49000000e+02, 6.59000000e+02, 1.21267666e+01, 1.19000000e+02],\n",
       "       [6.60000000e+02, 6.61000000e+02, 1.83987026e+01, 2.14000000e+02],\n",
       "       [6.62000000e+02, 6.63000000e+02, 3.94798424e+01, 3.33000000e+02]])"
      ]
     },
     "execution_count": 22,
     "metadata": {},
     "output_type": "execute_result"
    }
   ],
   "source": [
    "linked = linkage(scores, 'ward')\n",
    "linked"
   ]
  },
  {
   "cell_type": "code",
   "execution_count": 23,
   "id": "51cde7a3",
   "metadata": {},
   "outputs": [
    {
     "data": {
      "image/png": "[encoded data removed]",
      "text/plain": [
       "<Figure size 720x504 with 1 Axes>"
      ]
     },
     "metadata": {
      "needs_background": "light"
     },
     "output_type": "display_data"
    }
   ],
   "source": [
    "plt.figure(figsize=(10, 7))\n",
    "dendrogram(linked,\n",
    "            orientation='top',\n",
    "            \n",
    "            distance_sort='descending',\n",
    "            show_leaf_counts=True)\n",
    "plt.show()"
   ]
  },
  {
   "cell_type": "markdown",
   "id": "16b4531e",
   "metadata": {
    "slideshow": {
     "slide_type": "slide"
    }
   },
   "source": [
    "## dendrogram -> clusters\n",
    "\n",
    "given a dendrogram, we can identify _K_ discrete clusters by \"cutting\" away the longest branches \n",
    "  + remember that the lines connecting datapoints represent distances\n",
    "  + we are identifying the clusters that are farthest apart from one another\n",
    "\n",
    "\n",
    "![Alt Text](images/hclust.svg)\n"
   ]
  },
  {
   "cell_type": "markdown",
   "id": "ba108cfd",
   "metadata": {
    "slideshow": {
     "slide_type": "slide"
    }
   },
   "source": [
    "# an alternative illustration\n",
    "\n",
    "![Alt Text](images/pengin_clust3.svg)"
   ]
  },
  {
   "cell_type": "markdown",
   "id": "a99cf717",
   "metadata": {
    "slideshow": {
     "slide_type": "slide"
    }
   },
   "source": [
    "## dendrogram -> clusters\n",
    "\n",
    "we can perform this using the AgglomerativeClustering function. \n",
    "  + this will construct a dendrogram using the criterion we choose and then trim the tree to yield a set of discrete clusters\n",
    "  + we will choose to cut the dendrogram into 3 clusters\n"
   ]
  },
  {
   "cell_type": "code",
   "execution_count": 30,
   "id": "f434051d",
   "metadata": {
    "slideshow": {
     "slide_type": "skip"
    }
   },
   "outputs": [
    {
     "data": {
      "text/plain": [
       "array([1, 1, 1, 1, 1, 1, 1, 1, 1, 1, 1, 1, 1, 1, 1, 1, 1, 1, 1, 1, 1, 1,\n",
       "       1, 1, 1, 1, 1, 1, 1, 1, 1, 1, 1, 1, 1, 1, 1, 1, 1, 1, 1, 1, 1, 1,\n",
       "       1, 1, 1, 1, 1, 1, 1, 1, 1, 1, 1, 1, 1, 1, 1, 1, 1, 1, 1, 1, 1, 1,\n",
       "       1, 1, 1, 1, 1, 1, 1, 1, 1, 1, 1, 1, 1, 1, 1, 1, 1, 1, 1, 1, 1, 1,\n",
       "       1, 1, 1, 1, 1, 1, 1, 1, 1, 1, 1, 1, 1, 1, 1, 1, 1, 1, 1, 1, 1, 1,\n",
       "       1, 1, 1, 1, 1, 1, 1, 1, 1, 1, 1, 1, 1, 1, 1, 1, 1, 1, 1, 1, 1, 1,\n",
       "       1, 1, 1, 1, 1, 1, 1, 1, 1, 1, 1, 1, 1, 1, 0, 0, 0, 0, 0, 0, 0, 0,\n",
       "       0, 0, 0, 0, 0, 0, 0, 0, 0, 0, 0, 0, 0, 0, 0, 0, 0, 0, 0, 0, 0, 0,\n",
       "       0, 0, 0, 0, 0, 0, 0, 0, 0, 0, 0, 0, 0, 0, 0, 0, 0, 0, 0, 0, 0, 0,\n",
       "       0, 0, 0, 0, 0, 0, 0, 0, 0, 0, 0, 0, 0, 0, 0, 0, 0, 0, 0, 0, 0, 0,\n",
       "       0, 0, 0, 0, 0, 0, 0, 0, 0, 0, 0, 0, 0, 0, 0, 0, 0, 0, 0, 0, 0, 0,\n",
       "       0, 0, 0, 0, 0, 0, 0, 0, 0, 0, 0, 0, 0, 0, 0, 0, 0, 0, 0, 0, 0, 0,\n",
       "       0, 2, 2, 2, 2, 2, 2, 1, 2, 1, 2, 2, 2, 2, 2, 2, 2, 2, 2, 2, 2, 1,\n",
       "       2, 1, 2, 2, 2, 2, 2, 2, 2, 1, 2, 1, 2, 2, 2, 2, 2, 1, 2, 2, 2, 2,\n",
       "       2, 2, 2, 2, 2, 2, 2, 2, 2, 2, 2, 1, 2, 1, 2, 2, 1, 2, 2, 2, 2, 1,\n",
       "       2, 2, 2])"
      ]
     },
     "execution_count": 30,
     "metadata": {},
     "output_type": "execute_result"
    }
   ],
   "source": [
    "cluster = AgglomerativeClustering(n_clusters=3, affinity='euclidean', linkage='ward')\n",
    "cluster.fit_predict(scores)"
   ]
  },
  {
   "cell_type": "code",
   "execution_count": 31,
   "id": "7b2650b0",
   "metadata": {},
   "outputs": [],
   "source": [
    "plot_data[\"HClust\"]=cluster.labels_"
   ]
  },
  {
   "cell_type": "markdown",
   "id": "0194d7a9",
   "metadata": {},
   "source": [
    "we will then save these cluster labels in our plot_data object to visualize\n",
    "  - we'll then compare how well hierarchical clustering does at predicting the species groupings"
   ]
  },
  {
   "cell_type": "code",
   "execution_count": 26,
   "id": "d6afe6f9",
   "metadata": {},
   "outputs": [
    {
     "data": {
      "text/plain": [
       "Text(0.5, 1.0, 'HClust groupings')"
      ]
     },
     "execution_count": 26,
     "metadata": {},
     "output_type": "execute_result"
    },
    {
     "data": {
      "image/png": "[encoded data removed]",
      "text/plain": [
       "<Figure size 432x288 with 1 Axes>"
      ]
     },
     "metadata": {
      "needs_background": "light"
     },
     "output_type": "display_data"
    }
   ],
   "source": [
    "for name, group in plot_data.groupby('HClust'):\n",
    "    plt.plot(group.pc1, group.pc2, marker='o', linestyle='', label=name)\n",
    "plt.legend()\n",
    "plt.xlabel(\"PC 1\")\n",
    "plt.ylabel(\"PC 2\")\n",
    "plt.title(\"HClust groupings\")"
   ]
  },
  {
   "cell_type": "code",
   "execution_count": 27,
   "id": "808e0fef",
   "metadata": {},
   "outputs": [
    {
     "data": {
      "text/plain": [
       "Text(0.5, 1.0, 'Species groupings')"
      ]
     },
     "execution_count": 27,
     "metadata": {},
     "output_type": "execute_result"
    },
    {
     "data": {
      "image/png": "[encoded data removed]",
      "text/plain": [
       "<Figure size 432x288 with 1 Axes>"
      ]
     },
     "metadata": {
      "needs_background": "light"
     },
     "output_type": "display_data"
    }
   ],
   "source": [
    "for name, group in plot_data.groupby('species'):\n",
    "    plt.plot(group.pc1, group.pc2, marker='o', linestyle='', label=name)\n",
    "plt.legend()\n",
    "plt.xlabel(\"PC 1\")\n",
    "plt.ylabel(\"PC 2\")\n",
    "plt.title(\"Species groupings\")"
   ]
  },
  {
   "cell_type": "code",
   "execution_count": 32,
   "id": "281e0f05",
   "metadata": {},
   "outputs": [],
   "source": [
    "sp_map={\"Adelie\":0,\"Chinstrap\":1,\"Gentoo\":2}\n",
    "species_clusters=np.array([sp_map[i] for i in plot_data[\"species\"]])\n"
   ]
  },
  {
   "cell_type": "markdown",
   "id": "8ac514ca",
   "metadata": {},
   "source": [
    "## compare clustering results to natural species groupings"
   ]
  },
  {
   "cell_type": "code",
   "execution_count": 33,
   "id": "e810688b",
   "metadata": {},
   "outputs": [
    {
     "name": "stdout",
     "output_type": "stream",
     "text": [
      "0.9132403731145367\n"
     ]
    }
   ],
   "source": [
    "from sklearn.metrics import adjusted_rand_score as ari\n",
    "\n",
    "hclust_ari=ari(species_clusters,plot_data[\"HClust\"])\n",
    "print(hclust_ari)"
   ]
  }
 ],
 "metadata": {
  "celltoolbar": "Slideshow",
  "kernelspec": {
   "display_name": "Python 3 (ipykernel)",
   "language": "python",
   "name": "python3"
  },
  "language_info": {
   "codemirror_mode": {
    "name": "ipython",
    "version": 3
   },
   "file_extension": ".py",
   "mimetype": "text/x-python",
   "name": "python",
   "nbconvert_exporter": "python",
   "pygments_lexer": "ipython3",
   "version": "3.9.5"
  }
 },
 "nbformat": 4,
 "nbformat_minor": 5
}
