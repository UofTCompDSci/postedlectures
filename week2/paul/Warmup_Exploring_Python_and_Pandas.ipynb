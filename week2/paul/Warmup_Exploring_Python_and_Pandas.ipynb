{
 "cells": [
  {
   "cell_type": "markdown",
   "id": "1108b879",
   "metadata": {},
   "source": [
    "# Stuff we want to do to `DataFrame`s\n",
    "\n",
    "+ Extract a column\n",
    "+ Extract a subset of the columns\n",
    "+ Extract particular rows by index\n",
    "+ Extract rows that match a criterion in a column\n",
    "  - \"I want all the rows where the `shoe_size` column has value > `7.5`.\"\n",
    "  \n",
    "This gets confusing if we're not careful. We'll explore a few concepts that will help us."
   ]
  },
  {
   "cell_type": "markdown",
   "id": "b9e5d865",
   "metadata": {},
   "source": [
    "# `print` oddities\n",
    "\n",
    "Two ways to display values in a notebook:\n",
    "+ Last expression in a Code cell, which is displayed by JupyterHub\n",
    "+ Using function `print`, which prints a string representation of the value"
   ]
  },
  {
   "cell_type": "markdown",
   "id": "cbc88e22",
   "metadata": {},
   "source": [
    "### Printing strings: there's a difference!"
   ]
  },
  {
   "cell_type": "code",
   "execution_count": null,
   "id": "1c3d168b",
   "metadata": {},
   "outputs": [],
   "source": [
    "habitat = 'forest'"
   ]
  },
  {
   "cell_type": "code",
   "execution_count": null,
   "id": "270a31f8",
   "metadata": {},
   "outputs": [],
   "source": [
    "habitat"
   ]
  },
  {
   "cell_type": "code",
   "execution_count": null,
   "id": "a9e1bc18",
   "metadata": {},
   "outputs": [],
   "source": [
    "print(habitat)"
   ]
  },
  {
   "cell_type": "markdown",
   "id": "b039c256",
   "metadata": {},
   "source": [
    "Built-in function `print` doesn't include the quotes."
   ]
  },
  {
   "cell_type": "markdown",
   "id": "a04d1a6e",
   "metadata": {},
   "source": [
    "### Printing lists: no difference in how it looks"
   ]
  },
  {
   "cell_type": "code",
   "execution_count": null,
   "id": "18b737fa",
   "metadata": {},
   "outputs": [],
   "source": [
    "habitats = ['forest', 'park', 'street']"
   ]
  },
  {
   "cell_type": "code",
   "execution_count": null,
   "id": "4acd7d5a",
   "metadata": {},
   "outputs": [],
   "source": [
    "habitats"
   ]
  },
  {
   "cell_type": "code",
   "execution_count": null,
   "id": "96caf401",
   "metadata": {},
   "outputs": [],
   "source": [
    "print(habitats)"
   ]
  },
  {
   "cell_type": "markdown",
   "id": "1feab76d",
   "metadata": {},
   "source": [
    "### Printing DataFrames: big difference!"
   ]
  },
  {
   "cell_type": "code",
   "execution_count": null,
   "id": "5101087d",
   "metadata": {},
   "outputs": [],
   "source": [
    "import pandas as df\n",
    "faithful_df = df.read_csv('faithful.csv')\n",
    "faithful_head_df = faithful_df.head() # Just keep the top few lines to save vertical space"
   ]
  },
  {
   "cell_type": "code",
   "execution_count": null,
   "id": "70752c71",
   "metadata": {},
   "outputs": [],
   "source": [
    "faithful_head_df"
   ]
  },
  {
   "cell_type": "code",
   "execution_count": null,
   "id": "dae166a4",
   "metadata": {},
   "outputs": [],
   "source": [
    "print(faithful_head_df)"
   ]
  },
  {
   "cell_type": "markdown",
   "id": "13bca2a9",
   "metadata": {},
   "source": [
    "So: to show the contents of a `DataFrame` or a `Series`, it's nicer to use an expression as the last thing in a cell rather than calling `print`."
   ]
  },
  {
   "cell_type": "markdown",
   "id": "09defdd1",
   "metadata": {},
   "source": [
    "# Python type `list`\n",
    "\n",
    "+ A list begins with `[` and ends with `]`.\n",
    "+ In between are a comma-separated list of values.\n",
    "+ Each value has an _index_, starting at `0`."
   ]
  },
  {
   "cell_type": "markdown",
   "id": "44b03a4e",
   "metadata": {},
   "source": [
    "### Indexing"
   ]
  },
  {
   "cell_type": "code",
   "execution_count": null,
   "id": "8c25348e",
   "metadata": {},
   "outputs": [],
   "source": [
    "habitats = ['forest', 'park', 'street']\n",
    "habitats[0]"
   ]
  },
  {
   "cell_type": "code",
   "execution_count": null,
   "id": "6c1a8fbe",
   "metadata": {},
   "outputs": [],
   "source": [
    "# Here is nicer output.\n",
    "print(f'There are {len(habitats)} items in the habitats list.')\n",
    "print(f'0: {habitats[0]}')\n",
    "print(f'1: {habitats[1]}')\n",
    "print(f'2: {habitats[2]}')"
   ]
  },
  {
   "cell_type": "code",
   "execution_count": null,
   "id": "9c3c8649",
   "metadata": {
    "scrolled": true
   },
   "outputs": [],
   "source": [
    "print(f'3: {habitats[3]}') # This will result in an error."
   ]
  },
  {
   "cell_type": "markdown",
   "id": "e87a98dc",
   "metadata": {},
   "source": [
    "You can also count from the end, which starts at index `-1`."
   ]
  },
  {
   "cell_type": "code",
   "execution_count": null,
   "id": "6b250c81",
   "metadata": {},
   "outputs": [],
   "source": [
    "print(habitats[-1])\n",
    "print(habitats[-2])\n",
    "print(habitats[-3])"
   ]
  },
  {
   "cell_type": "code",
   "execution_count": null,
   "id": "dacb7006",
   "metadata": {},
   "outputs": [],
   "source": [
    "print(habitats[-4]) # Another error"
   ]
  },
  {
   "cell_type": "markdown",
   "id": "8a21ea9e",
   "metadata": {},
   "source": [
    "### Adding lists\n",
    "\n",
    "You can add `list`s together. This makes a new `list`."
   ]
  },
  {
   "cell_type": "code",
   "execution_count": null,
   "id": "e0eb0a83",
   "metadata": {},
   "outputs": [],
   "source": [
    "habitats + habitats"
   ]
  },
  {
   "cell_type": "code",
   "execution_count": null,
   "id": "760ebf4c",
   "metadata": {},
   "outputs": [],
   "source": [
    "[1, 3, 5] + [2, 4, 6]"
   ]
  },
  {
   "cell_type": "markdown",
   "id": "3cfdfa5e",
   "metadata": {},
   "source": [
    "### I'll have a slice of that, please\n",
    "\n",
    "You can extract a sublist like this:"
   ]
  },
  {
   "cell_type": "code",
   "execution_count": null,
   "id": "7929ae5b",
   "metadata": {},
   "outputs": [],
   "source": [
    "coyote_counts = [59, 9, 10, 89, 19, 23, 54, 12, 0, 29, 8, 23, 30, 30]\n",
    "coyote_counts[0:3]"
   ]
  },
  {
   "cell_type": "markdown",
   "id": "da7d43fa",
   "metadata": {},
   "source": [
    "Slicing: start at the first index, and go up to but not including the second index."
   ]
  },
  {
   "cell_type": "markdown",
   "id": "ab9bab70",
   "metadata": {},
   "source": [
    "### Slicing tricks\n",
    "\n",
    "You can omit one or both of the indexes:"
   ]
  },
  {
   "cell_type": "code",
   "execution_count": null,
   "id": "a523a461",
   "metadata": {},
   "outputs": [],
   "source": [
    "coyote_counts[:3] # Up to but not including index 3"
   ]
  },
  {
   "cell_type": "code",
   "execution_count": null,
   "id": "7e00a3a1",
   "metadata": {},
   "outputs": [],
   "source": [
    "coyote_counts[3:] # Everything from index three to the end"
   ]
  },
  {
   "cell_type": "code",
   "execution_count": null,
   "id": "7367b6c1",
   "metadata": {},
   "outputs": [],
   "source": [
    "coyote_counts[:] # Creates a copy of the whole list"
   ]
  },
  {
   "cell_type": "markdown",
   "id": "e80abab9",
   "metadata": {},
   "source": [
    "This `[:]` syntax and concept will be important when we get to `DataFrame`s in a bit."
   ]
  },
  {
   "cell_type": "code",
   "execution_count": null,
   "id": "9372121c",
   "metadata": {},
   "outputs": [],
   "source": [
    "# Challenge: how to extract [9, 10, 89, 19]?\n",
    "coyote_counts[1:5]\n",
    "coyote_counts"
   ]
  },
  {
   "cell_type": "code",
   "execution_count": null,
   "id": "c5db35c4",
   "metadata": {
    "scrolled": true
   },
   "outputs": [],
   "source": [
    "# How do we extract the last 4 numbers, [8, 23, 30, 30]?\n",
    "coyote_counts[-4:]"
   ]
  },
  {
   "cell_type": "markdown",
   "id": "a7ff8e55",
   "metadata": {},
   "source": [
    "### Heterogeneous lists\n",
    "\n",
    "Lists can contain a mix of types."
   ]
  },
  {
   "cell_type": "code",
   "execution_count": null,
   "id": "2fc31275",
   "metadata": {
    "scrolled": true
   },
   "outputs": [],
   "source": [
    "list1 = ['A', 1, 'B', 2]\n",
    "list2 = ['C', 3.14159]\n",
    "list1 + list2"
   ]
  },
  {
   "cell_type": "markdown",
   "id": "98d2c22f",
   "metadata": {},
   "source": [
    "### Some functions that use `list`s"
   ]
  },
  {
   "cell_type": "code",
   "execution_count": null,
   "id": "74a41ac6",
   "metadata": {},
   "outputs": [],
   "source": [
    "print(len(coyote_counts))\n",
    "print(sum(coyote_counts))\n",
    "print(min(coyote_counts))\n",
    "print(max(coyote_counts))"
   ]
  },
  {
   "cell_type": "markdown",
   "id": "49b664d4",
   "metadata": {},
   "source": [
    "### Getting every other item"
   ]
  },
  {
   "cell_type": "code",
   "execution_count": null,
   "id": "c70dc72a",
   "metadata": {},
   "outputs": [],
   "source": [
    "coyote_counts"
   ]
  },
  {
   "cell_type": "code",
   "execution_count": null,
   "id": "d1c2ef82",
   "metadata": {},
   "outputs": [],
   "source": [
    "coyote_counts[::3]"
   ]
  },
  {
   "cell_type": "code",
   "execution_count": null,
   "id": "bffb8204",
   "metadata": {},
   "outputs": [],
   "source": [
    "coyote_counts[::-1]"
   ]
  },
  {
   "cell_type": "markdown",
   "id": "52d6adaa",
   "metadata": {},
   "source": [
    "# Dictionaries: type `dict`"
   ]
  },
  {
   "cell_type": "markdown",
   "id": "0b8c2e8b",
   "metadata": {},
   "source": [
    "Dictionaries map keys to values. In human dictionaries, the keys are words and the values are their definitions."
   ]
  },
  {
   "cell_type": "code",
   "execution_count": null,
   "id": "b2808bf5",
   "metadata": {},
   "outputs": [],
   "source": [
    "# Here's a dictionary!\n",
    "urbanwildlife = {\n",
    "  'habitat': ['forest', 'park', 'street', 'forest', 'street', 'park', 'forest', 'park', 'street', 'forest', 'street', 'park', 'street', 'park'],\n",
    "  'coyote': [59, 9, 10, 89, 19, 23, 54, 12, 0, 29, 8, 23, 30, 30],\n",
    "  'dog': [72, 197, 8811, 3, 555, 374, 1535, 101, 2216, 23, 1082, 35, 1635, 1469],\n",
    "  'fox': [3, 10, 63, 54, 251, 43, 69, 57, 4, 6, 0, 6, 10, 3],\n",
    "  'raccoon': [986, 64, 129, 213, 221, 73, 135, 24, 17, 528, 25, 106, 140, 114], \n",
    "  'site' : ['A', 'B', 'C', 'D', 'E', 'F', 'G', 'H', 'I', 'J', 'K', 'L', 'M', 'N'],\n",
    "}"
   ]
  },
  {
   "cell_type": "markdown",
   "id": "8bb0b149",
   "metadata": {},
   "source": [
    "* Each line inside a dictionary contains a _key_ then a `:` then a _value_.\n",
    "* In the example dictionary above, each value is a list.\n",
    "* The lines end with commas `,` (and it's okay if the last line has a comma, Python ignores it).\n",
    "* Indentation!"
   ]
  },
  {
   "cell_type": "markdown",
   "id": "d3a642d7",
   "metadata": {},
   "source": [
    "### Looking up keys to get values"
   ]
  },
  {
   "cell_type": "markdown",
   "id": "439ac896",
   "metadata": {},
   "source": [
    "Given a key, we can look up its value:"
   ]
  },
  {
   "cell_type": "code",
   "execution_count": null,
   "id": "80767393",
   "metadata": {},
   "outputs": [],
   "source": [
    " urbanwildlife['fox']"
   ]
  },
  {
   "cell_type": "markdown",
   "id": "159b910a",
   "metadata": {},
   "source": [
    "What is `urbanwildlife['fox'][-1]`?"
   ]
  },
  {
   "cell_type": "code",
   "execution_count": null,
   "id": "74de6e73",
   "metadata": {},
   "outputs": [],
   "source": [
    " urbanwildlife['fox'][-1]"
   ]
  },
  {
   "cell_type": "markdown",
   "id": "9b155006",
   "metadata": {},
   "source": [
    "What is `urbanwildlife['habitat'][:3]`?"
   ]
  },
  {
   "cell_type": "code",
   "execution_count": null,
   "id": "80da8126",
   "metadata": {},
   "outputs": [],
   "source": [
    " urbanwildlife['habitat'][:3]"
   ]
  },
  {
   "cell_type": "markdown",
   "id": "edfdade7",
   "metadata": {},
   "source": [
    "### Making your own `DataFrame`s\n",
    "\n",
    "You can use dictionaries to make `DataFrame`s!"
   ]
  },
  {
   "cell_type": "code",
   "execution_count": null,
   "id": "18e3dc50",
   "metadata": {
    "scrolled": true
   },
   "outputs": [],
   "source": [
    "import pandas as pd   # Hey, that's different!\n",
    "\n",
    "df = pd.DataFrame(urbanwildlife)\n",
    "df"
   ]
  }
 ],
 "metadata": {
  "kernelspec": {
   "display_name": "Python 3 (ipykernel)",
   "language": "python",
   "name": "python3"
  },
  "language_info": {
   "codemirror_mode": {
    "name": "ipython",
    "version": 3
   },
   "file_extension": ".py",
   "mimetype": "text/x-python",
   "name": "python",
   "nbconvert_exporter": "python",
   "pygments_lexer": "ipython3",
   "version": "3.8.12"
  }
 },
 "nbformat": 4,
 "nbformat_minor": 5
}
