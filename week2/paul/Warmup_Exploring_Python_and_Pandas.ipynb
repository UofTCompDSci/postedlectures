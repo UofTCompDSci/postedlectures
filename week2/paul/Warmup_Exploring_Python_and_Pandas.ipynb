{
 "cells": [
  {
   "cell_type": "markdown",
   "id": "3b4c4c1b",
   "metadata": {},
   "source": [
    "# Stuff we want to do to `DataFrame`s\n",
    "\n",
    "+ Extract a column\n",
    "+ Extract a subset of the columns\n",
    "+ Extract particular rows by index\n",
    "+ Extract rows that match a criterion in a column\n",
    "  - \"I want all the rows where the `shoe_size` column has value > `7.5`.\"\n",
    "  \n",
    "This gets confusing if we're not careful. We'll explore a few concepts that will help us."
   ]
  },
  {
   "cell_type": "markdown",
   "id": "bd9864ab",
   "metadata": {},
   "source": [
    "# `print` oddities\n",
    "\n",
    "Two ways to display values in a notebook:\n",
    "+ Last expression in a Code cell, which is displayed by JupyterHub\n",
    "+ Using function `print`, which prints a string representation of the value"
   ]
  },
  {
   "cell_type": "markdown",
   "id": "14f0a259",
   "metadata": {},
   "source": [
    "### Printing strings: there's a difference!"
   ]
  },
  {
   "cell_type": "code",
   "execution_count": null,
   "id": "51066e2a",
   "metadata": {},
   "outputs": [],
   "source": [
    "habitat = 'forest'"
   ]
  },
  {
   "cell_type": "code",
   "execution_count": null,
   "id": "b7654a0d",
   "metadata": {},
   "outputs": [],
   "source": [
    "habitat"
   ]
  },
  {
   "cell_type": "code",
   "execution_count": null,
   "id": "d077c8f1",
   "metadata": {},
   "outputs": [],
   "source": [
    "print(habitat)"
   ]
  },
  {
   "cell_type": "markdown",
   "id": "9116fce2",
   "metadata": {},
   "source": [
    "Built-in function `print` doesn't include the quotes."
   ]
  },
  {
   "cell_type": "markdown",
   "id": "c5c924c4",
   "metadata": {},
   "source": [
    "### Printing lists: no difference in how it looks"
   ]
  },
  {
   "cell_type": "code",
   "execution_count": null,
   "id": "cc483d87",
   "metadata": {},
   "outputs": [],
   "source": [
    "habitats = ['forest', 'park', 'street']"
   ]
  },
  {
   "cell_type": "code",
   "execution_count": null,
   "id": "481e2774",
   "metadata": {},
   "outputs": [],
   "source": [
    "habitats"
   ]
  },
  {
   "cell_type": "code",
   "execution_count": null,
   "id": "7f12c53c",
   "metadata": {},
   "outputs": [],
   "source": [
    "print(habitats)"
   ]
  },
  {
   "cell_type": "markdown",
   "id": "391413cb",
   "metadata": {},
   "source": [
    "### Printing DataFrames: big difference!"
   ]
  },
  {
   "cell_type": "code",
   "execution_count": null,
   "id": "e708b781",
   "metadata": {},
   "outputs": [],
   "source": [
    "import pandas as df\n",
    "faithful_df = df.read_csv('faithful.csv')\n",
    "faithful_head_df = faithful_df.head() # Just keep the top few lines to save vertical space"
   ]
  },
  {
   "cell_type": "code",
   "execution_count": null,
   "id": "90e7c08a",
   "metadata": {},
   "outputs": [],
   "source": [
    "faithful_head_df"
   ]
  },
  {
   "cell_type": "code",
   "execution_count": null,
   "id": "3afcdeec",
   "metadata": {},
   "outputs": [],
   "source": [
    "print(faithful_head_df)"
   ]
  },
  {
   "cell_type": "markdown",
   "id": "35a8c01e",
   "metadata": {},
   "source": [
    "So: to show the contents of a `DataFrame` or a `Series`, it's nicer to use an expression as the last thing in a cell rather than calling `print`."
   ]
  },
  {
   "cell_type": "markdown",
   "id": "3ae5d009",
   "metadata": {},
   "source": [
    "# Python type `list`\n",
    "\n",
    "+ A list begins with `[` and ends with `]`.\n",
    "+ In between are a comma-separated list of values.\n",
    "+ Each value has an _index_, starting at `0`."
   ]
  },
  {
   "cell_type": "markdown",
   "id": "4c31d178",
   "metadata": {},
   "source": [
    "### Indexing"
   ]
  },
  {
   "cell_type": "code",
   "execution_count": null,
   "id": "6bed8a8e",
   "metadata": {},
   "outputs": [],
   "source": [
    "habitats = ['forest', 'park', 'street']\n",
    "habitats[0]"
   ]
  },
  {
   "cell_type": "code",
   "execution_count": null,
   "id": "96e03eca",
   "metadata": {},
   "outputs": [],
   "source": [
    "# Here is nicer output.\n",
    "print(f'There are {len(habitats)} items in the habitats list.')\n",
    "print(f'0: {habitats[0]}')\n",
    "print(f'1: {habitats[1]}')\n",
    "print(f'2: {habitats[2]}')\n",
    "print(f'3: {habitats[3]}') # This will result in an error."
   ]
  },
  {
   "cell_type": "markdown",
   "id": "6fe0ceea",
   "metadata": {},
   "source": [
    "You can also count from the end, which starts at index `-1`."
   ]
  },
  {
   "cell_type": "code",
   "execution_count": null,
   "id": "c5e7bf9f",
   "metadata": {},
   "outputs": [],
   "source": [
    "print(habitats[-1])\n",
    "print(habitats[-2])\n",
    "print(habitats[-3])\n",
    "print(habitats[-4]) # Another error"
   ]
  },
  {
   "cell_type": "markdown",
   "id": "ccf8c791",
   "metadata": {},
   "source": [
    "### Adding lists\n",
    "\n",
    "You can add `list`s together. This makes a new `list`."
   ]
  },
  {
   "cell_type": "code",
   "execution_count": null,
   "id": "c270c874",
   "metadata": {},
   "outputs": [],
   "source": [
    "habitats + habitats"
   ]
  },
  {
   "cell_type": "code",
   "execution_count": null,
   "id": "b46b3b5d",
   "metadata": {},
   "outputs": [],
   "source": [
    "[1, 3, 5] + [2, 4, 6]"
   ]
  },
  {
   "cell_type": "markdown",
   "id": "950681e2",
   "metadata": {},
   "source": [
    "### I'll have a slice of that, please\n",
    "\n",
    "You can extract a sublist like this:"
   ]
  },
  {
   "cell_type": "code",
   "execution_count": 124,
   "id": "45ba0909",
   "metadata": {},
   "outputs": [
    {
     "data": {
      "text/plain": [
       "[59, 9, 10]"
      ]
     },
     "execution_count": 124,
     "metadata": {},
     "output_type": "execute_result"
    }
   ],
   "source": [
    "coyote_counts = [59, 9, 10, 89, 19, 23, 54, 12, 0, 29, 8, 23, 30, 30]\n",
    "coyote_counts[0:3]"
   ]
  },
  {
   "cell_type": "markdown",
   "id": "421024c3",
   "metadata": {},
   "source": [
    "Slicing: start at the first index, and go up to but not including the second index."
   ]
  },
  {
   "cell_type": "markdown",
   "id": "acb228e4",
   "metadata": {},
   "source": [
    "### Slicing tricks\n",
    "\n",
    "You can omit one or both of the indexes:"
   ]
  },
  {
   "cell_type": "code",
   "execution_count": null,
   "id": "29505750",
   "metadata": {},
   "outputs": [],
   "source": [
    "coyote_counts[:3] # Up to but not including index 3"
   ]
  },
  {
   "cell_type": "code",
   "execution_count": null,
   "id": "60dffdb5",
   "metadata": {},
   "outputs": [],
   "source": [
    "coyote_counts[3:] # Everything from index three to the end"
   ]
  },
  {
   "cell_type": "code",
   "execution_count": null,
   "id": "38dcc5f5",
   "metadata": {},
   "outputs": [],
   "source": [
    "coyote_counts[:] # Creates a copy of the whole list"
   ]
  },
  {
   "cell_type": "markdown",
   "id": "86a9d099",
   "metadata": {},
   "source": [
    "This `[:]` syntax and concept will be important when we get to `DataFrame`s in a bit."
   ]
  },
  {
   "cell_type": "code",
   "execution_count": null,
   "id": "c4bce6cd",
   "metadata": {},
   "outputs": [],
   "source": [
    "# Challenge: how to extract [9, 10, 89, 19]?\n",
    "coyote_counts[?:?]"
   ]
  },
  {
   "cell_type": "code",
   "execution_count": null,
   "id": "cae0f954",
   "metadata": {
    "scrolled": true
   },
   "outputs": [],
   "source": [
    "# How do we extract the last 4 numbers, [8, 23, 30, 30]?\n",
    "coyote_counts[?:?]"
   ]
  },
  {
   "cell_type": "code",
   "execution_count": null,
   "id": "e1c9a43f",
   "metadata": {},
   "outputs": [],
   "source": [
    "# How do we extract the \n",
    "coyote_counts[?:?]"
   ]
  },
  {
   "cell_type": "markdown",
   "id": "340f74ec",
   "metadata": {},
   "source": [
    "### Heterogeneous lists\n",
    "\n",
    "Lists can contain a mix of types."
   ]
  },
  {
   "cell_type": "code",
   "execution_count": null,
   "id": "5e27e30d",
   "metadata": {
    "scrolled": true
   },
   "outputs": [],
   "source": [
    "list1 = ['A', 1, 'B', 2]\n",
    "list2 = ['C', 3.14159]\n",
    "list1 + list2"
   ]
  },
  {
   "cell_type": "markdown",
   "id": "d34c7f8c",
   "metadata": {},
   "source": [
    "### Some functions that use `list`s"
   ]
  },
  {
   "cell_type": "code",
   "execution_count": null,
   "id": "a99f3d6f",
   "metadata": {},
   "outputs": [],
   "source": [
    "print(len(coyote_counts))\n",
    "print(sum(coyote_counts))\n",
    "print(min(coyote_counts))\n",
    "print(max(coyote_counts))"
   ]
  },
  {
   "cell_type": "markdown",
   "id": "2fc38a84",
   "metadata": {},
   "source": [
    "# Dictionaries: type `dict`"
   ]
  },
  {
   "cell_type": "markdown",
   "id": "d9ad2ac9",
   "metadata": {},
   "source": [
    "Dictionaries map keys to values. In human dictionaries, the keys are words and the values are their definitions."
   ]
  },
  {
   "cell_type": "code",
   "execution_count": null,
   "id": "9c90985a",
   "metadata": {},
   "outputs": [],
   "source": [
    "# Here's a dictionary!\n",
    "urbanwildlife = {\n",
    "  'habitat': ['forest', 'park', 'street', 'forest', 'street', 'park', 'forest', 'park', 'street', 'forest', 'street', 'park', 'street', 'park'],\n",
    "  'coyote': [59, 9, 10, 89, 19, 23, 54, 12, 0, 29, 8, 23, 30, 30],\n",
    "  'dog': [72, 197, 8811, 3, 555, 374, 1535, 101, 2216, 23, 1082, 35, 1635, 1469],\n",
    "  'fox': [3, 10, 63, 54, 251, 43, 69, 57, 4, 6, 0, 6, 10, 3],\n",
    "  'raccoon': [986, 64, 129, 213, 221, 73, 135, 24, 17, 528, 25, 106, 140, 114], \n",
    "  'site' : ['A', 'B', 'C', 'D', 'E', 'F', 'G', 'H', 'I', 'J', 'K', 'L', 'M', 'N'],\n",
    "}"
   ]
  },
  {
   "cell_type": "markdown",
   "id": "3e06b701",
   "metadata": {},
   "source": [
    "* Each line inside a dictionary contains a _key_ then a `:` then a _value_.\n",
    "* In the example dictionary above, each value is a list.\n",
    "* The lines end with commas `,` (and it's okay if the last line has a comma, Python ignores it).\n",
    "* Indentation!"
   ]
  },
  {
   "cell_type": "markdown",
   "id": "c0f92a60",
   "metadata": {},
   "source": [
    "### Looking up keys to get values"
   ]
  },
  {
   "cell_type": "markdown",
   "id": "00a419dc",
   "metadata": {},
   "source": [
    "Given a key, we can look up its value:"
   ]
  },
  {
   "cell_type": "code",
   "execution_count": 129,
   "id": "f4520147",
   "metadata": {},
   "outputs": [
    {
     "data": {
      "text/plain": [
       "[3, 10, 63, 54, 251, 43, 69, 57, 4, 6, 0, 6, 10, 3]"
      ]
     },
     "execution_count": 129,
     "metadata": {},
     "output_type": "execute_result"
    }
   ],
   "source": [
    " urbanwildlife['fox']"
   ]
  },
  {
   "cell_type": "markdown",
   "id": "d14eed35",
   "metadata": {},
   "source": [
    "What is `urbanwildlife['fox'][-1]`?"
   ]
  },
  {
   "cell_type": "markdown",
   "id": "1ac623f4",
   "metadata": {},
   "source": [
    "What is `urbanwildlife['habitat'][:3]`?"
   ]
  },
  {
   "cell_type": "markdown",
   "id": "e5bd1201",
   "metadata": {},
   "source": [
    "### Making your own `DataFrame`s\n",
    "\n",
    "You can use dictionaries to make `DataFrame`s!"
   ]
  },
  {
   "cell_type": "code",
   "execution_count": 128,
   "id": "0ff9a873",
   "metadata": {
    "scrolled": true
   },
   "outputs": [
    {
     "data": {
      "text/html": [
       "<div>\n",
       "<style scoped>\n",
       "    .dataframe tbody tr th:only-of-type {\n",
       "        vertical-align: middle;\n",
       "    }\n",
       "\n",
       "    .dataframe tbody tr th {\n",
       "        vertical-align: top;\n",
       "    }\n",
       "\n",
       "    .dataframe thead th {\n",
       "        text-align: right;\n",
       "    }\n",
       "</style>\n",
       "<table border=\"1\" class=\"dataframe\">\n",
       "  <thead>\n",
       "    <tr style=\"text-align: right;\">\n",
       "      <th></th>\n",
       "      <th>habitat</th>\n",
       "      <th>coyote</th>\n",
       "      <th>dog</th>\n",
       "      <th>fox</th>\n",
       "      <th>raccoon</th>\n",
       "      <th>site</th>\n",
       "    </tr>\n",
       "  </thead>\n",
       "  <tbody>\n",
       "    <tr>\n",
       "      <th>0</th>\n",
       "      <td>forest</td>\n",
       "      <td>59</td>\n",
       "      <td>72</td>\n",
       "      <td>3</td>\n",
       "      <td>986</td>\n",
       "      <td>A</td>\n",
       "    </tr>\n",
       "    <tr>\n",
       "      <th>1</th>\n",
       "      <td>park</td>\n",
       "      <td>9</td>\n",
       "      <td>197</td>\n",
       "      <td>10</td>\n",
       "      <td>64</td>\n",
       "      <td>B</td>\n",
       "    </tr>\n",
       "    <tr>\n",
       "      <th>2</th>\n",
       "      <td>street</td>\n",
       "      <td>10</td>\n",
       "      <td>8811</td>\n",
       "      <td>63</td>\n",
       "      <td>129</td>\n",
       "      <td>C</td>\n",
       "    </tr>\n",
       "  </tbody>\n",
       "</table>\n",
       "</div>"
      ],
      "text/plain": [
       "  habitat  coyote   dog  fox  raccoon site\n",
       "0  forest      59    72    3      986    A\n",
       "1    park       9   197   10       64    B\n",
       "2  street      10  8811   63      129    C"
      ]
     },
     "execution_count": 128,
     "metadata": {},
     "output_type": "execute_result"
    }
   ],
   "source": [
    "import pandas as pd   # Hey, that's different!\n",
    "\n",
    "df = pd.DataFrame(urbanwildlife)\n",
    "df.head(3)"
   ]
  }
 ],
 "metadata": {
  "kernelspec": {
   "display_name": "Python 3 (ipykernel)",
   "language": "python",
   "name": "python3"
  },
  "language_info": {
   "codemirror_mode": {
    "name": "ipython",
    "version": 3
   },
   "file_extension": ".py",
   "mimetype": "text/x-python",
   "name": "python",
   "nbconvert_exporter": "python",
   "pygments_lexer": "ipython3",
   "version": "3.9.9"
  }
 },
 "nbformat": 4,
 "nbformat_minor": 5
}
