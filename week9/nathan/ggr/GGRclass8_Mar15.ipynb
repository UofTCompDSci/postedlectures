{
 "cells": [
  {
   "cell_type": "markdown",
   "id": "acb6306f-044e-4760-8ad2-ed982e5f8b00",
   "metadata": {},
   "source": [
    "# Class 8\n",
    "\n",
    "- Review of hypothesis testing\n",
    "\n",
    "- Introduction to linear regression"
   ]
  },
  {
   "cell_type": "markdown",
   "id": "8313aa0a-6b55-42e1-8ad0-45aeb28b670a",
   "metadata": {},
   "source": [
    "# Bootstrap \n",
    "\n",
    "A data scientist is using the data in a random sample to estimate an unknown statistical parameter. She uses the sample to calculate the value of a statistic that she will use as her estimate.\n",
    "\n",
    "Once she has calculated the observed value of her statistic, she could just present it as her estimate and go on her merry way. But she’s a data scientist. She knows that her random sample is just one of numerous possible random samples, and thus her estimate is just one of numerous plausible estimates.\n",
    "\n",
    "By how much could those estimates vary? To answer this, it appears as though she needs to draw another sample from the population, and compute a new estimate based on the new sample. But she doesn’t have the resources to go back to the population and draw another sample.\n",
    "\n",
    "It looks as though the data scientist is stuck.\n",
    "\n",
    "Fortunately, a brilliant idea called the bootstrap can help her out. Since it is not feasible to generate new samples from the population, the bootstrap generates new random samples by a method called resampling: the new samples are drawn at random from the original sample."
   ]
  },
  {
   "cell_type": "markdown",
   "id": "d670c6a1-5ef6-4d57-80b9-0a2580f41d70",
   "metadata": {},
   "source": [
    "- We observed before that a large random sample from a population resembles the population from which it was drawn.\n",
    "\n",
    "- Consider gestation in days from the pantheria dataset."
   ]
  },
  {
   "cell_type": "code",
   "execution_count": null,
   "id": "05c36ed5-b89f-4fad-9dba-8464b9134cae",
   "metadata": {},
   "outputs": [],
   "source": [
    "import pandas as pd\n",
    "import matplotlib.pyplot as plt \n",
    "import numpy as np\n",
    "import seaborn as sns\n",
    "\n",
    "\n",
    "time_use_df = pd.read_csv('gss_tu2016_main_file.csv')"
   ]
  },
  {
   "cell_type": "markdown",
   "id": "379220ef-81ae-4b7c-91de-2513c1f68c82",
   "metadata": {},
   "source": [
    "```\n",
    "dur01              Duration - Sleeping, resting, relaxing, sick in bed\n",
    "\n",
    "           VALUE  LABEL\n",
    "               0  No time spent doing this activity\n",
    "            9996  Valid skip\n",
    "            9997  Don't know\n",
    "            9998  Refusal\n",
    "            9999  Not stated\n",
    "\n",
    "           Data type: numeric\n",
    "           Missing-data codes: 9996-9999\n",
    "           Record/columns: 1/65-68\n",
    "```\n",
    "\n",
    "```\n",
    "chh0014c           Child(ren) in household - 0 to 14 years\n",
    "\n",
    "           VALUE  LABEL\n",
    "               0  None\n",
    "               1  One\n",
    "               2  Two\n",
    "               3  Three or more\n",
    "               6  Valid skip\n",
    "               7  Don't know\n",
    "               8  Refusal\n",
    "               9  Not stated\n",
    "\n",
    "```"
   ]
  },
  {
   "cell_type": "code",
   "execution_count": null,
   "id": "405316c7-cda5-4e8a-aeee-4efa79370a25",
   "metadata": {},
   "outputs": [],
   "source": [
    "time_use_df['dur01'].plot.hist(color = 'grey', edgecolor = 'black');"
   ]
  },
  {
   "cell_type": "code",
   "execution_count": null,
   "id": "2b7fec49-8e5a-43f0-9f1f-8a4ef471cd5c",
   "metadata": {},
   "outputs": [],
   "source": [
    "time_use_df['dur01'].median()"
   ]
  },
  {
   "cell_type": "markdown",
   "id": "23dd250a-bb55-4459-b863-b38b136b08b5",
   "metadata": {},
   "source": [
    "- Draw a random sample with replacement of the same size (number of rows) as the original sample.\n",
    "\n",
    "- This opens the possibility for the new sample to be different from the original sample."
   ]
  },
  {
   "cell_type": "code",
   "execution_count": null,
   "id": "4dfe0955-e3ac-4d60-9ace-a802de0ffadd",
   "metadata": {},
   "outputs": [],
   "source": [
    "gest_bsample = time_use_df['dur01'].sample(frac = 1, replace=True)\n",
    "\n",
    "gest_bsample.plot.hist(color = 'grey', edgecolor = 'black');"
   ]
  },
  {
   "cell_type": "code",
   "execution_count": null,
   "id": "c05a099d-defa-443f-a6d2-8201e0061204",
   "metadata": {},
   "outputs": [],
   "source": [
    "gest_bsample.mean()"
   ]
  },
  {
   "cell_type": "markdown",
   "id": "c7a5eba8-1d54-422b-9f59-23e599549b16",
   "metadata": {},
   "source": [
    "## Why is this a good idea?\n",
    "\n",
    "- By the law of averages, the distribution of the original sample is likely to resemble the population.  \n",
    "\n",
    "- The distributions of all the “resamples” are likely to resemble the original sample. \n",
    "\n",
    "- So the distributions of all the resamples are likely to resemble the population as well."
   ]
  },
  {
   "cell_type": "markdown",
   "id": "5b903b10-f489-4d6e-a24f-72c39e77b65d",
   "metadata": {},
   "source": [
    "## Resampled mean\n",
    "\n",
    "- We generated one resampled or *bootstrapped* median above.\n",
    "\n",
    "- By resampling many times we can compute the empirical distribution of the median gestation time."
   ]
  },
  {
   "cell_type": "code",
   "execution_count": null,
   "id": "41a53037-8eef-4639-a488-485c97dcf17b",
   "metadata": {},
   "outputs": [],
   "source": [
    "def one_bs_mean():\n",
    "    gest_med_bsample = time_use_df['dur01'].sample(frac = 1, replace=True).mean()\n",
    "    return gest_med_bsample"
   ]
  },
  {
   "cell_type": "code",
   "execution_count": null,
   "id": "07323aca-17e6-4bd3-8445-372a07dfdcc2",
   "metadata": {},
   "outputs": [],
   "source": [
    "one_bs_mean()"
   ]
  },
  {
   "cell_type": "markdown",
   "id": "b83d2454-acee-424f-8682-c573278d3741",
   "metadata": {},
   "source": [
    "- Now let's compute many bootstrap medians by writing a `for` loop."
   ]
  },
  {
   "cell_type": "code",
   "execution_count": null,
   "id": "d8d793ce-be2d-49e0-85f2-276b34253cc5",
   "metadata": {},
   "outputs": [],
   "source": [
    "bootstrap_means = []  # empty list to collect medians\n",
    "\n",
    "for _ in range(5000):\n",
    "    bootstrap_means.append(one_bs_mean())"
   ]
  },
  {
   "cell_type": "code",
   "execution_count": null,
   "id": "e7be41a3-629a-4d94-8857-2a942a9a60ae",
   "metadata": {},
   "outputs": [],
   "source": [
    "plt.hist(bootstrap_means, color = 'grey', edgecolor = 'black');"
   ]
  },
  {
   "cell_type": "markdown",
   "id": "ca296bbc-b1c0-4260-b5c6-bf1b41954080",
   "metadata": {},
   "source": [
    "## Boostrap confidence intervals\n",
    "\n",
    "- We can use the bootstrap distribution to construct a range of values such that 95% of the random samples will contain the true median.\n",
    "\n",
    "- The range of values is called a confidence interval.\n",
    "\n",
    "- A 95% confidence interval for the median can be constructed finding the 2.5% percentile and the 97.5% percentile.  \n",
    "\n",
    "- The reason for choosing 2.5% and 97.5% is that 0.05/2 = 0.025, and 1 - 0.025 = 0.975.   \n",
    "\n",
    "- We can do this using the `percentile` function in `numpy`."
   ]
  },
  {
   "cell_type": "code",
   "execution_count": null,
   "id": "7dcb3edb-4372-4e40-9b70-5464ef90aa88",
   "metadata": {},
   "outputs": [],
   "source": [
    "np.percentile(bootstrap_means, 2.5)"
   ]
  },
  {
   "cell_type": "code",
   "execution_count": null,
   "id": "d3ee11c8-5984-43f8-9829-bddcf3a5b35f",
   "metadata": {},
   "outputs": [],
   "source": [
    "np.percentile(bootstrap_means, 97.5)"
   ]
  },
  {
   "cell_type": "markdown",
   "id": "feadb756-027f-4190-9911-8a5a186de065",
   "metadata": {},
   "source": [
    "A 95% bootstrap confidence interval for mean is 520.38 minutes to 524.42 minutes."
   ]
  },
  {
   "cell_type": "markdown",
   "id": "2701bbb8-867f-4ae4-ade0-8e18973c40e0",
   "metadata": {},
   "source": [
    "## Bootstrap confidence intervals for other statistics"
   ]
  },
  {
   "cell_type": "markdown",
   "id": "cd427010-66a9-4b43-8abb-02ae5ea66a6f",
   "metadata": {},
   "source": [
    "### Do people with no children under 14 spend more time resting? \n",
    "\n",
    "- Let's create a dataset (`DataFrame`) with children under 14 and time spent resting."
   ]
  },
  {
   "cell_type": "code",
   "execution_count": null,
   "id": "ace720ab-2da6-4987-a59c-ee3255ce88fb",
   "metadata": {},
   "outputs": [],
   "source": [
    "cols = ['dur01', 'chh0014c']\n",
    "\n",
    "colnames = {cols[0] : 'resttime',\n",
    "            cols[1] : 'children'}\n",
    "\n",
    "restchild_df = time_use_df[cols]\n",
    "\n",
    "restchild_df = restchild_df.copy()\n",
    "\n",
    "restchild_df.rename(columns = colnames, inplace=True)\n",
    "\n",
    "restchild_df.head()"
   ]
  },
  {
   "cell_type": "markdown",
   "id": "3f25392a-3982-4eca-a176-da1f859ac03b",
   "metadata": {},
   "source": [
    "Create a new column `'Child_in_house'` that indicates if a child is in the house."
   ]
  },
  {
   "cell_type": "code",
   "execution_count": null,
   "id": "f642a7de-cbb6-4023-ac0f-bc4be701502b",
   "metadata": {},
   "outputs": [],
   "source": [
    "restchild_df.loc[restchild_df['children'] > 0, 'Child_in_house'] = 'Yes'\n",
    "\n",
    "restchild_df.loc[restchild_df['children'] == 0, 'Child_in_house'] = 'No'\n",
    "\n",
    "restchild_df.head()"
   ]
  },
  {
   "cell_type": "code",
   "execution_count": null,
   "id": "fd1f6571-7392-4a59-ae14-6f36b846760e",
   "metadata": {},
   "outputs": [],
   "source": [
    "mean_rest_times = restchild_df.groupby('Child_in_house')['resttime'].mean()\n",
    "\n",
    "print(mean_rest_times)\n",
    "\n",
    "print('\\n Mean difference:', mean_rest_times[0] - mean_rest_times[1])"
   ]
  },
  {
   "cell_type": "code",
   "execution_count": null,
   "id": "7c5ae602-3a55-4f4e-bf8d-3905fb310d5e",
   "metadata": {},
   "outputs": [],
   "source": [
    "restchild_df[['Child_in_house', 'resttime']].hist(by = 'Child_in_house', bins = 10, edgecolor = 'black', color = 'grey');"
   ]
  },
  {
   "cell_type": "markdown",
   "id": "de888864-f4b5-45ce-a540-ab23150baf87",
   "metadata": {},
   "source": [
    "Create a function to create one bootstrap sample of the median difference."
   ]
  },
  {
   "cell_type": "code",
   "execution_count": null,
   "id": "dbd62ecb-b137-42b9-918f-e4d89e05aa8e",
   "metadata": {},
   "outputs": [],
   "source": [
    "child = restchild_df['Child_in_house'] == 'Yes'\n",
    "\n",
    "nochild = restchild_df['Child_in_house'] == 'No'\n",
    "\n",
    "def bs_one_mean_diff():\n",
    "    # sample body mass with replacement\n",
    "    bssample = restchild_df.sample(frac = 1, replace =  True)\n",
    "    \n",
    "    # compute difference in medians on bootstrap sample\n",
    "    bs_mean_diff = (bssample.loc[nochild, 'resttime'].mean() - \n",
    "                   bssample.loc[child, 'resttime'].mean())\n",
    "    return bs_mean_diff"
   ]
  },
  {
   "cell_type": "markdown",
   "id": "5431bf99-56eb-4837-977c-aaa46bbb890c",
   "metadata": {},
   "source": [
    "Run the function to compute one bootstrap mean difference."
   ]
  },
  {
   "cell_type": "code",
   "execution_count": null,
   "id": "71f54123-be0d-4764-aab6-6b1e1f878268",
   "metadata": {},
   "outputs": [],
   "source": [
    "bs_one_mean_diff()"
   ]
  },
  {
   "cell_type": "markdown",
   "id": "8dbaeefe-6697-4b13-b14d-1672fbbd977d",
   "metadata": {},
   "source": [
    "- Compute bootstrap distribution. "
   ]
  },
  {
   "cell_type": "code",
   "execution_count": null,
   "id": "52253fe5-71d4-46be-8afe-599b12d18fa3",
   "metadata": {},
   "outputs": [],
   "source": [
    "bootst_mean_diffs = []\n",
    "\n",
    "for _ in range(5000):\n",
    "    bootst_mean_diffs.append(bs_one_mean_diff())"
   ]
  },
  {
   "cell_type": "code",
   "execution_count": null,
   "id": "c1e01f8e-24f0-47f9-8dc5-72cace020074",
   "metadata": {},
   "outputs": [],
   "source": [
    "plt.hist(bootst_mean_diffs, color = 'grey', edgecolor = 'black');"
   ]
  },
  {
   "cell_type": "markdown",
   "id": "ea7ff042-269a-490b-85a7-3eebf7b07c41",
   "metadata": {},
   "source": [
    "A 95% confidence interval for the median difference is:"
   ]
  },
  {
   "cell_type": "code",
   "execution_count": null,
   "id": "584a39aa-8cff-428a-ac3e-728da6efa3f3",
   "metadata": {},
   "outputs": [],
   "source": [
    "np.percentile(bootst_mean_diffs, 2.5), np.percentile(bootst_mean_diffs, 97.5) "
   ]
  },
  {
   "cell_type": "markdown",
   "id": "a076632b-a50f-4251-a3af-915600d2dd2d",
   "metadata": {},
   "source": [
    "The confidence interval does not contain 0, therefore there is evidence that the means are different."
   ]
  },
  {
   "cell_type": "markdown",
   "id": "0b39808a-c6a5-43e6-8da8-e7f55302b093",
   "metadata": {},
   "source": [
    "## In-class exercise\n",
    "\n",
    "Modify the code above to compute a 95% bootstrap confidence interval for the difference in means between Carnivora and Primates.  Does the confidence interval contain 0?"
   ]
  },
  {
   "cell_type": "markdown",
   "id": "220300d3-0cab-4c66-bc66-dfae39fc1f5e",
   "metadata": {},
   "source": [
    "# Linear Regression\n",
    "\n",
    "## Basic idea\n",
    "\n",
    "- Linear regression is a useful technique for creating models to explain relationships between variables. \n",
    "\n",
    "- For use in multiple regression variables the dependent variable must be numeric, and have meaningful numeric values. \n",
    "\n",
    "- The independent variables can be interval or categorical variables."
   ]
  },
  {
   "cell_type": "markdown",
   "id": "152d67e0-34de-45d3-b948-103fc4339746",
   "metadata": {},
   "source": [
    "## Example 1: perfect linear relationship between dependent and independent variables\n",
    "\n",
    "### Data"
   ]
  },
  {
   "cell_type": "code",
   "execution_count": null,
   "id": "4219d97b-78d7-4c83-b5d2-cf92bb7692ee",
   "metadata": {},
   "outputs": [],
   "source": [
    "import pandas as pd\n",
    "import numpy as np\n",
    "\n",
    "data = {'depvar' : np.arange(start = 0, stop = 8, step =1),\n",
    "       'indvar' : np.arange(start = 0, stop = 8, step =1)}\n",
    "\n",
    "df = pd.DataFrame(data)\n",
    "\n",
    "df"
   ]
  },
  {
   "cell_type": "markdown",
   "id": "0656b45c-b961-416f-bbfd-fca0919bc52c",
   "metadata": {},
   "source": [
    "### Plot the data"
   ]
  },
  {
   "cell_type": "code",
   "execution_count": null,
   "id": "edc1f32b-e190-418e-90c7-b8a2f01f8a02",
   "metadata": {},
   "outputs": [],
   "source": [
    "import matplotlib.pyplot as plt\n",
    "\n",
    "plt.scatter(x = df['indvar'], y = df['depvar'])\n",
    "plt.xlabel('indvar')\n",
    "plt.ylabel('depvar');"
   ]
  },
  {
   "cell_type": "markdown",
   "id": "1cd74e7b-2c64-492b-baf4-a5510f1be516",
   "metadata": {},
   "source": [
    "- The scatter plot shows each pair of points (1, 1), (2, 2), etc. \n",
    "\n",
    "- `'indvar'` is sometimes called a predictor variable or covariate, and `'depvar'` is called the dependent variable.\n",
    "\n",
    "- The dependent variable is predicted exactly by the independent variable."
   ]
  },
  {
   "cell_type": "markdown",
   "id": "fd5318bf-1204-4b5d-a59c-7efe71fae001",
   "metadata": {},
   "source": [
    "### Compute the regression line"
   ]
  },
  {
   "cell_type": "code",
   "execution_count": null,
   "id": "67a4c767-de14-440c-aa0d-d4253f96a1a1",
   "metadata": {},
   "outputs": [],
   "source": [
    "from statsmodels.formula.api import ols\n",
    "\n",
    "regmod = ols('depvar ~ indvar', data = df) # setup the model"
   ]
  },
  {
   "cell_type": "markdown",
   "id": "ba52a7f4-4084-486a-9b53-aca3c9761627",
   "metadata": {},
   "source": [
    "- The code above uses the `ols` function from `statsmodels.formula.api` \n",
    "\n",
    "- The syntax in the function `ols` function `'depvar ~ indvar'` is a special syntax for describing statistical models.  \n",
    "\n",
    "- The column name to the **left** of `~` specifies the dependent variable.\n",
    "\n",
    "- The column name to the **right** of `~` specifies the independent variable(s)."
   ]
  },
  {
   "cell_type": "code",
   "execution_count": null,
   "id": "e317b998-1729-4816-a544-45f97e9a5db8",
   "metadata": {},
   "outputs": [],
   "source": [
    "regmod_fit = regmod.fit() # estimate/fit the model "
   ]
  },
  {
   "cell_type": "markdown",
   "id": "d733d036-d8ec-48e3-8ce4-02aeaac6f02f",
   "metadata": {},
   "source": [
    "After the model is setup then the `fit` function can be applied to the model.  This function computes the equation of the regression line."
   ]
  },
  {
   "cell_type": "code",
   "execution_count": null,
   "id": "f3a027a3-e2a9-4fec-a8b5-d1fde1312259",
   "metadata": {},
   "outputs": [],
   "source": [
    "regmod_fit.params # get parameter estimates"
   ]
  },
  {
   "cell_type": "markdown",
   "id": "577973f4-bea1-40c2-9fd6-886315af8b9c",
   "metadata": {},
   "source": [
    "- The estimates of the **y-intercept** and **slope** are labelled `Intercept` (1.11e-16 approx 0)  and `indvar` (1.00e+00 approx 1).\n",
    "\n",
    "- This means the regression equation is: $$\\texttt{depvar} = 0 + 1 \\times \\texttt{indvar}$$"
   ]
  },
  {
   "cell_type": "markdown",
   "id": "3f64f756-bd14-4083-a6ec-23a481cb1aff",
   "metadata": {},
   "source": [
    "## Example 2: another perfect linear relationship"
   ]
  },
  {
   "cell_type": "code",
   "execution_count": null,
   "id": "506058f5-cd7d-4428-b707-3618cb1a04e9",
   "metadata": {},
   "outputs": [],
   "source": [
    "data = {'depvar' : np.arange(start = 0, stop = 8, step =1) + 2,\n",
    "       'indvar' : np.arange(start = 0, stop = 8, step =1)}\n",
    "\n",
    "df = pd.DataFrame(data)\n",
    "\n",
    "df"
   ]
  },
  {
   "cell_type": "code",
   "execution_count": null,
   "id": "9f22aad3-1582-45c7-b756-8edc969ed8ff",
   "metadata": {},
   "outputs": [],
   "source": [
    "plt.scatter(x = df['indvar'], y = df['depvar'])\n",
    "plt.xlabel('indvar')\n",
    "plt.ylabel('depvar');"
   ]
  },
  {
   "cell_type": "code",
   "execution_count": null,
   "id": "ae1d07cd-1ec6-4512-a8b3-a998f4e6e910",
   "metadata": {},
   "outputs": [],
   "source": [
    "regmod = ols('depvar ~ indvar', data = df) # setup the model\n",
    "\n",
    "regmod_fit = regmod.fit() # estimate/fit the model \n",
    "\n",
    "regmod_fit.params # get parameter estimates"
   ]
  },
  {
   "cell_type": "markdown",
   "id": "8dc59280-a239-4dcd-87f8-d053439efd40",
   "metadata": {},
   "source": [
    "- The scatter plot is similar to Example 1 except that the values of the dependent variable has been increased by 2.\n",
    "\n",
    "- The equation of the regression line for this data is:  $$\\texttt{depvar} = 2 + 1 \\times \\texttt{indvar} $$\n",
    "\n",
    "### Interpretation of y-intercept\n",
    "\n",
    "- When the independent variable is 0 the dependent variable is 2.  This is the meaning of the **y-intercept** value of 2.\n",
    "\n",
    "### Interpretation of slope\n",
    "\n",
    "- For a one-unit change in the independent variable the dependent variable changes by 1 unit."
   ]
  },
  {
   "cell_type": "markdown",
   "id": "cb246ece-bd30-4a87-9dcb-cd906e03950d",
   "metadata": {},
   "source": [
    "## Example 3: close to linear\n",
    "\n",
    "- Examples 1 and 2 were perfect linear relationships.\n",
    "\n",
    "- In this example we examine what happens if the relationship between the dependent and independent variables is almost linear."
   ]
  },
  {
   "cell_type": "code",
   "execution_count": null,
   "id": "991c323d-b0d2-407d-aa7a-d6b1d16d3fdb",
   "metadata": {},
   "outputs": [],
   "source": [
    "np.random.seed(11) #set the seed so that it's reproducible\n",
    "\n",
    "data = {'depvar' : np.arange(start = 0, stop = 8, step =1) + 2,\n",
    "        'indvar' : np.arange(start = 0, stop = 8, step =1) + np.random.uniform(low = 0, high = 2, size = 8)}\n",
    "\n",
    "df = pd.DataFrame(data)\n",
    "\n",
    "df"
   ]
  },
  {
   "cell_type": "code",
   "execution_count": null,
   "id": "051aa2ec-f2cf-4721-a4d7-e35be1772575",
   "metadata": {},
   "outputs": [],
   "source": [
    "plt.scatter(x = df['indvar'], y = df['depvar'])\n",
    "plt.xlabel('indvar')\n",
    "plt.ylabel('depvar');"
   ]
  },
  {
   "cell_type": "code",
   "execution_count": null,
   "id": "e82978fe-86ff-464e-ad13-bc8fc6b164ee",
   "metadata": {},
   "outputs": [],
   "source": [
    "regmod = ols('depvar ~ indvar', data = df) # setup the model\n",
    "\n",
    "regmod_fit = regmod.fit() # estimate/fit the model \n",
    "\n",
    "regmod_fit.params # get parameter estimates"
   ]
  },
  {
   "cell_type": "markdown",
   "id": "65c2f434-b5ac-41e4-aaad-8ffa3ce8f3a9",
   "metadata": {},
   "source": [
    "So, now the relationship isn't perfectly linear, but close.  The equation of this regression line is:\n",
    "\n",
    "$$\\texttt{depvar} = 1.63 + 0.92 \\times \\texttt{indvar}$$"
   ]
  },
  {
   "cell_type": "code",
   "execution_count": null,
   "id": "699e57b4-651d-480a-80e2-5dd09a6c4a19",
   "metadata": {},
   "outputs": [],
   "source": [
    "import seaborn as sns\n",
    "\n",
    "sns.regplot(x = 'indvar', y = 'depvar', data = df, ci = None);"
   ]
  },
  {
   "cell_type": "markdown",
   "id": "dd580628-d97a-48af-81f4-e94dce9d64c2",
   "metadata": {},
   "source": [
    "The `regplot` function in the `seaborn` library will produce a scatter plot with the regression line.\n",
    "\n",
    "The parameters of `regplot`\n",
    "\n",
    "- `x` is the independent variable.\n",
    "- `y` is the dependent variable.\n",
    "- `ci = None` specifies no confidence interval for the regression line "
   ]
  },
  {
   "cell_type": "markdown",
   "id": "526f21e5-9706-4a8b-a86c-f3ab20ab1a04",
   "metadata": {},
   "source": [
    "### Statistical summary of linear regression"
   ]
  },
  {
   "cell_type": "code",
   "execution_count": null,
   "id": "c6cdec22-2569-49fd-8e44-aeecb18a8695",
   "metadata": {},
   "outputs": [],
   "source": [
    "import warnings\n",
    "warnings.filterwarnings('ignore') # turn off warnings\n",
    "\n",
    "regsum = regmod_fit.summary()\n",
    "regsum.tables[1]"
   ]
  },
  {
   "cell_type": "markdown",
   "id": "c594adc6-f532-4a8e-9783-3f8557a2d035",
   "metadata": {},
   "source": [
    "- A statistical summary of the regression model is given above using the `summary` function in `statsmodels`.\n",
    "\n",
    "- There are three summary tables, but we will only be interested in the second summary table---`regsum.tables[1]` (in this course).\n",
    "\n",
    "What does the statistical summary represent?\n",
    "\n",
    "- the column labelled `coef` are same values as `regmod_fit.params`.  In this case the average increase `depvar` for a one unit change in `indvar` is 0.9229.\n",
    "\n",
    "- the `std err` column represents the standard deviation of the intercept and slope (we won't discuss in this course).\n",
    "\n",
    "- the `t` column represents the value of the t-statistic (we won't discuss in this course).\n",
    "\n",
    "- the column `P>|t|` represents the p-value corresponding to the null hypothesis that the intercept or slope are equal to 0.  If the value is small then this is evidence against the null hypothesis.  But if the p-value is large then there is no evidence against the null hypothesis.  \n",
    "\n",
    "- Currently, how small a p-value should be to provide evidence against a null hypothesis is being debated.  Although, the traditional threshold is 0.05 (i.e., a p-value less than or equal to 0.05 is supposed to indicate evidence against the null hypothesis).\n",
    "\n",
    "- In the example above the p-value for the slope is 0.  This indicates strong evidence that the *true* value of the slope is non-zero.\n",
    "\n",
    "- The columns `[0.025   0.975]` form a plausible range of values for the y-intercept and slope (formally known as a 95% confidence interval). In this case the plausible values for the slope are 0.745 and 1.101.  If the plausible range includes 0 then this is usually interpreted as not providing evidence against the null hypothesis.  "
   ]
  },
  {
   "cell_type": "markdown",
   "id": "e28fdc4e-bcaa-40ed-ac92-2863d7a6569c",
   "metadata": {},
   "source": [
    "## Predicted values and residuals\n",
    "\n",
    "If the values of the independent variable are plugged into the regression equation then we obtain the fitted values.\n",
    "\n",
    "$$\\texttt{depvar} = 1.63 + 0.92 \\times \\texttt{indvar}$$"
   ]
  },
  {
   "cell_type": "code",
   "execution_count": null,
   "id": "66fc7319-4336-4dbf-95c9-7ba4cddf2876",
   "metadata": {},
   "outputs": [],
   "source": [
    "df"
   ]
  },
  {
   "cell_type": "markdown",
   "id": "8de88140-fa49-46a5-b777-70d0308229b3",
   "metadata": {},
   "source": [
    "The fitted value for the first row of `df` is:"
   ]
  },
  {
   "cell_type": "code",
   "execution_count": null,
   "id": "c5fc3cad-fe61-44c5-b161-17f09628d009",
   "metadata": {},
   "outputs": [],
   "source": [
    "1.6254 + 0.9229*0.360539"
   ]
  },
  {
   "cell_type": "markdown",
   "id": "38cedecc-86c2-4ba5-8719-0f250f33324c",
   "metadata": {},
   "source": [
    "- If the linear regression model is used on an independent variable that is not in the data set used to build the model then it's often referred to as a predicted value."
   ]
  },
  {
   "cell_type": "markdown",
   "id": "d18df29c-3e11-4760-b96e-523cedca003b",
   "metadata": {},
   "source": [
    "To extract the fitted values from a regression model use the `fittedvalues` function in `statsmodels`."
   ]
  },
  {
   "cell_type": "code",
   "execution_count": null,
   "id": "54c6977e-53f6-4e00-bf17-12cc0b7b8bb3",
   "metadata": {},
   "outputs": [],
   "source": [
    "regmod_fit.fittedvalues"
   ]
  },
  {
   "cell_type": "markdown",
   "id": "cc498828-9521-4237-9001-f2035dae6ed4",
   "metadata": {},
   "source": [
    "The residual is the dependent variable minus the fitted value.  So, for the first row the residual is:"
   ]
  },
  {
   "cell_type": "code",
   "execution_count": null,
   "id": "218a3aba-e0ed-4ecd-a1f4-afb8ffdb855a",
   "metadata": {},
   "outputs": [],
   "source": [
    "2 - 1.9581414431"
   ]
  },
  {
   "cell_type": "markdown",
   "id": "78330734-7069-4dfb-b0c6-baca2870126d",
   "metadata": {},
   "source": [
    "To extract the residuals from a regression model use the `resid` function in `statsmodels`."
   ]
  },
  {
   "cell_type": "code",
   "execution_count": null,
   "id": "37cfe949-6ce5-40e3-9162-918dc27cc02d",
   "metadata": {},
   "outputs": [],
   "source": [
    "regmod_fit.resid"
   ]
  },
  {
   "cell_type": "markdown",
   "id": "1bd1dd03-8f92-4b1f-b145-cfb941e52204",
   "metadata": {},
   "source": [
    "- If the linear regression model fits the data well then the residuals should be close to 0.\n",
    "\n",
    "- One indication that the linear regression model fits well is to examine the **diagnostic** scatter plot of residuals versus fitted values.\n",
    "\n",
    "- A plot that looks like a random scatter of points around 0 indicates that linear regression is an appropriate model.\n",
    "\n",
    "- Since there are only 8 points it's hard to spot a pattern."
   ]
  },
  {
   "cell_type": "code",
   "execution_count": null,
   "id": "a0e40793-2dad-479e-81c6-82eef86663c6",
   "metadata": {},
   "outputs": [],
   "source": [
    "plt.scatter(regmod_fit.fittedvalues, regmod_fit.resid)\n",
    "plt.axhline(y = 0)\n",
    "plt.xlabel('fitted values')\n",
    "plt.ylabel('residuals')"
   ]
  },
  {
   "cell_type": "markdown",
   "id": "67e9c545-9881-4a6b-86bb-53c8a8917389",
   "metadata": {},
   "source": [
    "## Accuracy of linear regression\n",
    "\n",
    "- There are several measures of accuracy for linear regression.\n",
    "\n",
    "- One popular measure is R-squared.\n",
    "\n",
    "- It can be calculated from a fitted model regression model using the `rsquared` function in `statsmodels`.\n",
    "\n",
    "- R-squared is always between 0 and 1.  \n",
    "     + R-squared of 0 indicates a poor fit\n",
    "     + R-squared of 1 indicates a perfect fit"
   ]
  },
  {
   "cell_type": "code",
   "execution_count": null,
   "id": "477426e6-74b4-43c7-9958-2cf9e159a8f7",
   "metadata": {},
   "outputs": [],
   "source": [
    "regmod_fit.rsquared"
   ]
  },
  {
   "cell_type": "markdown",
   "id": "14c42520-e8fd-40f7-8eb3-bbacc52b9280",
   "metadata": {},
   "source": [
    "## Example 4: regression with two or more independent variables\n",
    "\n",
    "It's possible to include more than one independent variable in a regression model.  "
   ]
  },
  {
   "cell_type": "code",
   "execution_count": null,
   "id": "ed511e4e-394c-4f5c-97d0-e0c0b56f9c7f",
   "metadata": {},
   "outputs": [],
   "source": [
    "np.random.seed(11) #set the seed so that it's reproducible\n",
    "\n",
    "data = {'depvar' : np.arange(start = 0, stop = 8, step =1) + 2,\n",
    "        'indvar1' : np.arange(start = 0, stop = 8, step =1) + np.random.uniform(low = 0, high = 2, size = 8),\n",
    "        'indvar2' : np.arange(start = 0, stop = 8, step =1) + np.random.normal(loc = 0, scale = 1, size = 8)}\n",
    "\n",
    "df = pd.DataFrame(data)\n",
    "\n",
    "df"
   ]
  },
  {
   "cell_type": "markdown",
   "id": "c2b6ae14-8ed3-4d88-b15c-1dd7e4e17345",
   "metadata": {},
   "source": [
    "To include more than one independent variable in a regression model add it to the right side of syntax for describing statistical models.\n",
    "\n",
    "`'depvar ~ indvar1 + indvar2'`"
   ]
  },
  {
   "cell_type": "code",
   "execution_count": null,
   "id": "6f3a1923-f061-4d60-997f-8970b8204dc1",
   "metadata": {},
   "outputs": [],
   "source": [
    "regmod = ols('depvar ~ indvar1 + indvar2', data = df) # setup the model"
   ]
  },
  {
   "cell_type": "markdown",
   "id": "500b8b42-1792-4e9a-9b68-c4ff412d09b6",
   "metadata": {},
   "source": [
    "Now `fit` `regmod`."
   ]
  },
  {
   "cell_type": "code",
   "execution_count": null,
   "id": "e3e15379-8d0e-4f3d-82c5-f6fc2dd2e0d7",
   "metadata": {},
   "outputs": [],
   "source": [
    "regmod_fit = regmod.fit() # estimate/fit the model "
   ]
  },
  {
   "cell_type": "markdown",
   "id": "fb7e9939-f15d-4359-9502-91397911f7f1",
   "metadata": {},
   "source": [
    "Extract the regression parameter estimates using `params`."
   ]
  },
  {
   "cell_type": "code",
   "execution_count": null,
   "id": "fa1c1eac-0d29-442f-baa7-a4c8e4d0ac95",
   "metadata": {},
   "outputs": [],
   "source": [
    "regmod_fit.params # get parameter estimates"
   ]
  },
  {
   "cell_type": "markdown",
   "id": "e82bd6e0-c278-4cbe-8002-2cf2199c9e4d",
   "metadata": {},
   "source": [
    "The estimated linear (multiple) linear regression model is:\n",
    "\n",
    "$$\\texttt{depvar} = 1.892482 + 0.549341 \\times \\texttt{indvar1} + 0.385197 \\times \\texttt{indvar2}$$\n",
    "\n",
    "- The y-intercept value (1.892482) is the value of the dependent variable when `indvar1` and `indvar2` are both 0.\n",
    "\n",
    "-  If `indvar1` changes by one-unit, `depvar` changes (on average) by 0.549341.\n",
    "\n",
    "-  If `indvar2` changes by one-unit, `depvar` changes (on average) by 0.385197. "
   ]
  },
  {
   "cell_type": "markdown",
   "id": "2dfbe7d1-c3ec-4a6a-9754-d820fecd2074",
   "metadata": {},
   "source": [
    "### Statistical summary of a multiple regression model"
   ]
  },
  {
   "cell_type": "code",
   "execution_count": null,
   "id": "28396441-c511-4ab3-9b83-d4542eb112d3",
   "metadata": {},
   "outputs": [],
   "source": [
    "multregsummary = regmod_fit.summary()\n",
    "\n",
    "multregsummary.tables[1]"
   ]
  },
  {
   "cell_type": "markdown",
   "id": "dea969f8-bf51-4bf5-81ab-510c2c5a5e7d",
   "metadata": {},
   "source": [
    "The statistical summary indicates:\n",
    "\n",
    "- the p-value for `indvar1` is 0.003 and the range of plausible values for the slope is 0.288 to 0.810.\n",
    "\n",
    "- the p-value for `indvar2` is 0.010 and the range of plausible values for the slope is 0.137 to 0.634.  \n",
    "\n",
    "- Since, both p-values are small there is evidence that slope is different from 0, and the range of plausible values does not include 0."
   ]
  },
  {
   "cell_type": "markdown",
   "id": "1d3fa76f-76d0-4202-9756-914c687961bb",
   "metadata": {},
   "source": [
    "### Accuracy of multiple regression model"
   ]
  },
  {
   "cell_type": "code",
   "execution_count": null,
   "id": "2b32863d-66f5-4252-a48a-cfc4fc148f69",
   "metadata": {},
   "outputs": [],
   "source": [
    "plt.scatter(regmod_fit.fittedvalues, regmod_fit.resid)\n",
    "plt.axhline(y = 0)\n",
    "plt.xlabel('fitted values')\n",
    "plt.ylabel('residuals')"
   ]
  },
  {
   "cell_type": "code",
   "execution_count": null,
   "id": "785ae14d-82d3-4f73-b77d-e4a3a9fac628",
   "metadata": {},
   "outputs": [],
   "source": [
    "regmod_fit.rsquared"
   ]
  },
  {
   "cell_type": "markdown",
   "id": "aa9fea67-328b-48da-b3b0-68c1d3cfefe2",
   "metadata": {},
   "source": [
    "## What is the effect of recent immigration on asthma rates in Toronto neighbourhoods?\n",
    "\n",
    "### Data\n",
    "\n",
    "- Data from <http://torontohealthprofiles.ca> contains data on asthma and immigration for each neighbourhood in Toronto.\n",
    "\n",
    "#### Sociodemographic data\n",
    "\n",
    "- Read sociodemographic data from the excel file `1_socdem_neighb_2006-2.xls` with sheet name `socdem_2006` into `pandas` using `read_excel`.\n"
   ]
  },
  {
   "cell_type": "code",
   "execution_count": null,
   "id": "26d12b0a-8674-4cb8-b626-b9a8571817e5",
   "metadata": {},
   "outputs": [],
   "source": [
    "fname = '1_socdem_neighb_2006-2.xls'\n",
    "\n",
    "sname = 'socdem_2006'\n",
    "\n",
    "socdem_neighb = pd.read_excel(fname, sheet_name = sname, header = 10)\n",
    "\n",
    "socdem_neighb.head()"
   ]
  },
  {
   "cell_type": "markdown",
   "id": "4b539540-8056-4e1a-a853-9c9515764dec",
   "metadata": {},
   "source": [
    "Which column should we select to measure immigration?  There are several choices."
   ]
  },
  {
   "cell_type": "code",
   "execution_count": null,
   "id": "ca2e691e-d951-492d-96ef-308f1c74837b",
   "metadata": {},
   "outputs": [],
   "source": [
    "socdem_neighb.columns"
   ]
  },
  {
   "cell_type": "markdown",
   "id": "52be3a7e-2df5-40ac-bf08-73b69890bacc",
   "metadata": {},
   "source": [
    "- Let's use `'% Recent immigrants-within 5 years'`.\n",
    "\n",
    "- Later on we will want a few more sociodemographic columns, so let's create a new `DataFrame` and rename the columns."
   ]
  },
  {
   "cell_type": "code",
   "execution_count": null,
   "id": "db48fc31-2069-42a2-93e8-66995437fbdc",
   "metadata": {},
   "outputs": [],
   "source": [
    "cols = ['Neighbourhood id', 'Neighbourhood Name', \n",
    "        'Median household income after-tax $ ‡', \n",
    "        '% Rented Dwellings', '% Unemployment rate *', \n",
    "        '% Recent immigrants-within 5 years', '% Visible minority']\n",
    "\n",
    "socdem_neighb = socdem_neighb[cols]\n",
    "\n",
    "colnames = {cols[0] : 'Neighbid',\n",
    "            cols[1] : 'name',\n",
    "            cols[2] : 'median_income',\n",
    "            cols[3] : 'rented_dwell',\n",
    "            cols[4] : 'unemployment',\n",
    "            cols[5] : 'immigration5',\n",
    "            cols[6] : 'vismin'}\n",
    "\n",
    "socdem_neighb = socdem_neighb.copy()\n",
    "\n",
    "socdem_neighb.rename(columns = colnames, inplace = True)"
   ]
  },
  {
   "cell_type": "code",
   "execution_count": null,
   "id": "745a7301-e587-447d-9660-85ded9f5a687",
   "metadata": {},
   "outputs": [],
   "source": [
    "socdem_neighb.head()"
   ]
  },
  {
   "cell_type": "markdown",
   "id": "2c178336-f458-4297-84c6-1b44be7a68bd",
   "metadata": {},
   "source": [
    "#### Asthma data\n",
    "\n",
    "- Read data from the excel file `1_ahd_neighb_db_ast_hbp_mhv_copd_2007.xls` with sheet name `1_ahd_neighb_asthma_2007` into `pandas` using `read_excel`."
   ]
  },
  {
   "cell_type": "code",
   "execution_count": null,
   "id": "4783abcf-e435-413d-87c9-dc6cc1924c9f",
   "metadata": {},
   "outputs": [],
   "source": [
    "fname = '1_ahd_neighb_db_ast_hbp_mhv_copd_2007.xls'\n",
    "sname = '1_ahd_neighb_asthma_2007'\n",
    "\n",
    "asthma_neighb = pd.read_excel(fname, sheet_name = sname, header = 11)\n",
    "asthma_neighb.head()"
   ]
  },
  {
   "cell_type": "markdown",
   "id": "cc43520d-f3b9-4d6b-ab9a-0d6e7f30e9cb",
   "metadata": {},
   "source": [
    "- The asthma rates are broken down by sex and age.  \n",
    "\n",
    "- Which rates should we choose?  \n",
    "\n",
    "- For this example, let's select asthma rates for both sexes age 20 - 64."
   ]
  },
  {
   "cell_type": "code",
   "execution_count": null,
   "id": "832a17a5-48e4-428f-8210-0f41b15513f7",
   "metadata": {},
   "outputs": [],
   "source": [
    "asthma_neighb.columns"
   ]
  },
  {
   "cell_type": "code",
   "execution_count": null,
   "id": "f4325284-4f52-4743-84ab-b3896c4c2b1b",
   "metadata": {},
   "outputs": [],
   "source": [
    "important_cols = asthma_neighb.columns[[0, 1, 11]]"
   ]
  },
  {
   "cell_type": "code",
   "execution_count": null,
   "id": "aac0a460-5cd0-43a4-a9db-244187a6ed5d",
   "metadata": {},
   "outputs": [],
   "source": [
    "colnames = {important_cols[0]: 'Neighbid',\n",
    "           important_cols[1] : 'name',\n",
    "           important_cols[2] : 'asthma_pct'}\n",
    "\n",
    "asthma_rates = asthma_neighb.copy()\n",
    "\n",
    "asthma_rates = asthma_rates[important_cols]\n",
    "\n",
    "asthma_rates.rename(columns = colnames, inplace=True)\n",
    "\n",
    "asthma_rates.head()"
   ]
  },
  {
   "cell_type": "markdown",
   "id": "ed781842-9ac0-4c18-9a08-1e5e1d20d684",
   "metadata": {},
   "source": [
    "### Merge Sociodemographic and asthma data\n",
    "\n",
    "- To examine the relationship between asthma and immigration we will need to merge `socdem_neighb` and `asthma_neighb`.\n",
    "\n",
    "- The `DataFrame`s can be merged on neighbourhood id."
   ]
  },
  {
   "cell_type": "code",
   "execution_count": null,
   "id": "6c8a9c83-c0be-43db-91e7-1fa5dcdad87d",
   "metadata": {},
   "outputs": [],
   "source": [
    "asthma_socdem = asthma_rates.merge(socdem_neighb, left_on='Neighbid', right_on='Neighbid')\n",
    "\n",
    "asthma_socdem.head()"
   ]
  },
  {
   "cell_type": "markdown",
   "id": "a8353899-596b-4600-8429-74596ad838c8",
   "metadata": {},
   "source": [
    "## A regression model of asthma on immigration\n",
    "\n",
    "### Plot the data\n",
    "\n",
    "- What are the dependent and independent variables?\n",
    "\n",
    "- Does the relationship look linear?"
   ]
  },
  {
   "cell_type": "code",
   "execution_count": null,
   "id": "da76e715-2f1d-43a6-b005-16484cb4ae1c",
   "metadata": {},
   "outputs": [],
   "source": [
    "sns.regplot(y = 'asthma_pct', x = 'immigration5', data = asthma_socdem, ci = None);"
   ]
  },
  {
   "cell_type": "markdown",
   "id": "01fec488-1c99-4d5f-80d6-4533afe8c530",
   "metadata": {},
   "source": [
    "### Fit the regression model"
   ]
  },
  {
   "cell_type": "code",
   "execution_count": null,
   "id": "bc712fed-ea95-4a44-8789-e95cb65f695b",
   "metadata": {},
   "outputs": [],
   "source": [
    "reg_asthmaimm = ols('asthma_pct ~ immigration5', data = asthma_socdem) # setup the model\n",
    "\n",
    "reg_asthmaimm_fit = regmod.fit() # estimate/fit the model "
   ]
  },
  {
   "cell_type": "markdown",
   "id": "7eef08ae-f71a-4523-944a-258e192e305f",
   "metadata": {},
   "source": [
    "### Statistical summary of the regression model"
   ]
  },
  {
   "cell_type": "code",
   "execution_count": null,
   "id": "5ce14cca-bf23-4185-bf48-aadd0e2e5909",
   "metadata": {},
   "outputs": [],
   "source": [
    "reg_asthmaimm_summ = reg_asthmaimm_fit.summary()\n",
    "\n",
    "reg_asthmaimm_summ.tables[1]"
   ]
  },
  {
   "cell_type": "markdown",
   "id": "065c9aed-d70c-4368-a41c-d20c594076cb",
   "metadata": {},
   "source": [
    "- The regression model is the equation:\n",
    "\n",
    "$$\\texttt{asthma_pct} = 11.8266  - 0.1597 \\times \\texttt{immigration5}$$\n",
    "\n",
    "- The **slope** indicates that for a 1% **decrease** in immigration in the past 5 years the percentage of asthma cases in a neighbourhood decrease by 0.1597 (approximately 16%).\n",
    "\n",
    "- The **y-intercept** indicates that when a neighbourhood has 0% immigration the past 5 years then asthma rates are 11%.  \n",
    "\n",
    "- Are there any neighbourhoods with 0% immigration in the past 5 years?"
   ]
  },
  {
   "cell_type": "code",
   "execution_count": null,
   "id": "4efcd6e5-c58c-4d5d-a75f-b099997a67cb",
   "metadata": {},
   "outputs": [],
   "source": [
    "asthma_socdem['asthma_pct'].describe()"
   ]
  },
  {
   "cell_type": "markdown",
   "id": "471059ea-079e-4ce7-9449-2378c465af8f",
   "metadata": {},
   "source": [
    "- The **y-intercept** in regression models often doesn't have a sensible interpretation, but is often mathematically important for regression to work well."
   ]
  },
  {
   "cell_type": "markdown",
   "id": "d54410e6-2539-46aa-a1a5-363e9ea16185",
   "metadata": {},
   "source": [
    "## Accuracy of the regression model "
   ]
  },
  {
   "cell_type": "code",
   "execution_count": null,
   "id": "92e0cd87-f0ab-4347-8f40-8f276c0c6048",
   "metadata": {},
   "outputs": [],
   "source": [
    "reg_asthmaimm_fit.rsquared"
   ]
  },
  {
   "cell_type": "code",
   "execution_count": null,
   "id": "31963fa1-fb91-4917-9142-6a0fc7c97e2f",
   "metadata": {},
   "outputs": [],
   "source": [
    "plt.scatter(x = reg_asthmaimm_fit.fittedvalues , y = reg_asthmaimm_fit.resid)\n",
    "plt.axhline(y = 0)\n",
    "plt.xlabel('fitted values')\n",
    "plt.ylabel('residuals')"
   ]
  },
  {
   "cell_type": "markdown",
   "id": "febf86a6-4c9c-4dd7-9ab9-7a3ad63db7b4",
   "metadata": {
    "tags": []
   },
   "source": [
    "## Training and testing a model\n",
    "\n",
    "- Ideally we could assess the accuracy of this linear regression model on a new set of data (i.e., immigration rates in Toronto neighbourhoods in future years. \n",
    "\n",
    "- But, we don't have this data.\n",
    "\n",
    "- One trick that data scientists use to fit the model on part of the data (training data) and use the remaining part (testing data) to test the accuracy.\n",
    "\n",
    "- If we only have one data set then the training data can be obtained by randomly selecting rows from the data to fit the regression model, then the remaining rows can be used to test the accuracy of the model."
   ]
  },
  {
   "cell_type": "markdown",
   "id": "f3053abf-1539-4987-b995-527f849a5f60",
   "metadata": {},
   "source": [
    "### Splitting a `pandas` `DataFrame` by `index`"
   ]
  },
  {
   "cell_type": "code",
   "execution_count": null,
   "id": "bf20f6cb-0617-4723-9f27-fa49b04d362c",
   "metadata": {},
   "outputs": [],
   "source": [
    "data = {'a' : [1, 2, 3, 4, 5]}\n",
    "\n",
    "df = pd.DataFrame(data)\n",
    "\n",
    "df.index"
   ]
  },
  {
   "cell_type": "markdown",
   "id": "43ae2793-7975-4131-8202-0e749ba2fdaa",
   "metadata": {},
   "source": [
    "A Boolean array that is `True` if the index is `0` or `1` and `False` otherwise. "
   ]
  },
  {
   "cell_type": "code",
   "execution_count": null,
   "id": "3e371a29-01a8-4a23-9e66-c2feebcc43f4",
   "metadata": {},
   "outputs": [],
   "source": [
    "df.index.isin([0,1])"
   ]
  },
  {
   "cell_type": "markdown",
   "id": "bf1f5310-28e8-48c1-a994-dec914ae031a",
   "metadata": {},
   "source": [
    "To create a Boolean series that is `False` if the index is `0` or `1` and `True` otherwise we can negate `df.index.isin([0,1])` this Boolean series using the `~` operator `~df.index.isin([0,1])`"
   ]
  },
  {
   "cell_type": "code",
   "execution_count": null,
   "id": "9c32e20a-f682-4b6d-bdd8-cdb943535ced",
   "metadata": {},
   "outputs": [],
   "source": [
    "~df.index.isin([0,1])"
   ]
  },
  {
   "cell_type": "code",
   "execution_count": null,
   "id": "d8619ec2-f59d-432b-967c-8f80515c2889",
   "metadata": {},
   "outputs": [],
   "source": [
    "df[~df.index.isin([0,1])]"
   ]
  },
  {
   "cell_type": "markdown",
   "id": "2a1c5620-b7e3-4f84-b914-955f1edf9ad1",
   "metadata": {
    "tags": []
   },
   "source": [
    "### Creating training and test data sets from a single dataset"
   ]
  },
  {
   "cell_type": "markdown",
   "id": "35e64299-3f9b-445b-b366-5e43b4e3d129",
   "metadata": {},
   "source": [
    "### Step 1: \n",
    "\n",
    "- split the data into a training set with 75% of the rows.\n",
    "\n",
    "- use the remaining 25% of the data for testing. "
   ]
  },
  {
   "cell_type": "code",
   "execution_count": null,
   "id": "e651f3a7-637c-4e83-985a-68ee170d2170",
   "metadata": {},
   "outputs": [],
   "source": [
    "np.random.seed(11) # for reproducibility\n",
    "\n",
    "# randomly select 75% of neighbourhoods\n",
    "reg_df_train = asthma_socdem.sample(frac = 0.75, replace = False) \n",
    "\n",
    "# get index of training data\n",
    "train_index = reg_df_train.index"
   ]
  },
  {
   "cell_type": "markdown",
   "id": "c7cccdbb-7931-4120-9817-5e1edefe646e",
   "metadata": {
    "tags": []
   },
   "source": [
    "- Exclude indicies from `reg_df_train` using `pandas` `isin` function. "
   ]
  },
  {
   "cell_type": "code",
   "execution_count": null,
   "id": "6df8c9c9-aa05-4aa6-8e2a-36f8d2d29d74",
   "metadata": {},
   "outputs": [],
   "source": [
    "# exclude rows in training to define test data\n",
    "reg_df_test = asthma_socdem[~asthma_socdem.index.isin(train_index)]\n",
    "\n",
    "print(asthma_socdem.shape)\n",
    "\n",
    "print(reg_df_train.shape)\n",
    "\n",
    "print(reg_df_test.shape)"
   ]
  },
  {
   "cell_type": "markdown",
   "id": "3eaf4b29-62c2-433d-9f5c-53c876065e0a",
   "metadata": {},
   "source": [
    "### Step 2: Fit the regression model on the training data"
   ]
  },
  {
   "cell_type": "code",
   "execution_count": null,
   "id": "69d34385-94bd-4400-9424-6c0c92b451f3",
   "metadata": {},
   "outputs": [],
   "source": [
    "reg_train = ols('asthma_pct ~ immigration5', data = reg_df_train) # setup the model\n",
    "\n",
    "reg_train_fit = reg_train.fit() # estimate/fit the model "
   ]
  },
  {
   "cell_type": "markdown",
   "id": "463b50dd-d6b8-4f17-97e9-50917d38909f",
   "metadata": {},
   "source": [
    "### Step 3: Compute predicted (fitted) values using training data "
   ]
  },
  {
   "cell_type": "code",
   "execution_count": null,
   "id": "14d9a8de-0ec5-47fb-9a0c-aace961d69e3",
   "metadata": {},
   "outputs": [],
   "source": [
    "# use the model fit on the training data to predict asthma rates\n",
    "# from the test set. \n",
    "\n",
    "predvalues_train = reg_train_fit.predict(reg_df_train['immigration5'])"
   ]
  },
  {
   "cell_type": "markdown",
   "id": "89189ed4-fa9a-4b4a-8350-0a2af1991ba7",
   "metadata": {},
   "source": [
    "### Step 4: Evaluate accuracy using root mean-squared error on training data\n",
    "\n",
    "- Another measure of accuracy of regression models.\n",
    "\n",
    "- Compares observed values of the dependent variable with the predicted values.\n",
    "\n",
    "- It can be computed using the `rmse` function from `statsmodels`."
   ]
  },
  {
   "cell_type": "markdown",
   "id": "0e310300-7dde-4a04-bc1c-063a3eebdf77",
   "metadata": {},
   "source": [
    " Compute root mean-squared error for the training data."
   ]
  },
  {
   "cell_type": "code",
   "execution_count": null,
   "id": "41b8f5d9-a9bd-4e66-a921-8397a7d154a3",
   "metadata": {},
   "outputs": [],
   "source": [
    "# compute the accuracy of these predictions\n",
    "\n",
    "from statsmodels.tools.eval_measures import rmse\n",
    "\n",
    "rmse(predvalues_train, reg_df_train['asthma_pct'])"
   ]
  },
  {
   "cell_type": "markdown",
   "id": "8ac15ebd-324d-4eda-b327-ef2d0f5820df",
   "metadata": {},
   "source": [
    "- The observed asthma rates deviate from the predicted asthma rates in each neighbourhood by 1.4% in the training set.\n",
    "\n",
    "- Is this an acceptable prediction error?\n",
    "\n",
    "- Let's examine the accuracy of the linear regression model on the test set\n",
    "\n",
    "- First compute the predicted values using the training data."
   ]
  },
  {
   "cell_type": "markdown",
   "id": "da085601-4d66-450a-bba2-c99f1f8fb6cf",
   "metadata": {},
   "source": [
    "### Step 5: Evaluate the accuracy of regression model on the test data using root mean-squared error\n",
    "\n",
    "- Compute predictions using test data"
   ]
  },
  {
   "cell_type": "code",
   "execution_count": null,
   "id": "56e41e16-f735-4f17-a935-ea67532f36b8",
   "metadata": {},
   "outputs": [],
   "source": [
    "predvalues_test = reg_train_fit.predict(reg_df_test['immigration5'])"
   ]
  },
  {
   "cell_type": "markdown",
   "id": "769ad805-3bca-4a8e-8067-503042112add",
   "metadata": {},
   "source": [
    "- Now compute the root mean-squared error for the test data using the model fit on the training data."
   ]
  },
  {
   "cell_type": "code",
   "execution_count": null,
   "id": "3a01ff07-c594-421c-b7ff-436d2895dc2c",
   "metadata": {},
   "outputs": [],
   "source": [
    "rmse(predvalues_test, reg_df_test['asthma_pct'])"
   ]
  },
  {
   "cell_type": "markdown",
   "id": "be475699-afc9-40cb-8ef0-bd27984450a6",
   "metadata": {},
   "source": [
    "## Conclusion of data analysis using linear regression model\n",
    "\n",
    "- The regression model appears to provide an accurate fit the data, although both the scatter plot and plot of residuals indicate that there is a lot of variation in asthma rates in neighbourhoods that have between 10% - 20% immigration.\n",
    "\n",
    "- As the percentage of immigrants to a neighbourhood within the last 5 years *decreases* so do the asthma rates. \n",
    "\n",
    "- Regression analyses on aggregated data such as neighbourhoods can be misleading when compared to non-aggregated data."
   ]
  },
  {
   "cell_type": "markdown",
   "id": "d6ffc6e5-0fad-4fa1-93c4-531c083f13d8",
   "metadata": {},
   "source": [
    "## Are there other sociaodemographic  factors in our data that might effect asthma rates?\n",
    "\n",
    "- Let's create a matrix scatter plot using `pairplot` in the `seaborn` library."
   ]
  },
  {
   "cell_type": "code",
   "execution_count": null,
   "id": "cb18fe13-b861-41af-9925-a8d4db5bc57f",
   "metadata": {},
   "outputs": [],
   "source": [
    "sns.pairplot(asthma_socdem)"
   ]
  },
  {
   "cell_type": "markdown",
   "id": "6ec32bfd-8e7f-40b1-82d5-3514c8f8a4f8",
   "metadata": {},
   "source": [
    "- Let's consider median income\n",
    "\n",
    "- Fit the regression model on all the data and produce a statistical summary."
   ]
  },
  {
   "cell_type": "code",
   "execution_count": null,
   "id": "38b1224a-c855-4a67-aaf3-6b6ab1e9e129",
   "metadata": {},
   "outputs": [],
   "source": [
    "reg_asthmaimmunem = ols('asthma_pct ~ immigration5 + median_income', data = asthma_socdem) # setup the model\n",
    "\n",
    "reg_asthmaimmunem_fit = reg_asthmaimmunem.fit() # estimate/fit the model \n",
    "\n",
    "reg_asthmaimmunem_summ = reg_asthmaimmunem_fit.summary()\n",
    "\n",
    "reg_asthmaimmunem_summ.tables[1]"
   ]
  },
  {
   "cell_type": "markdown",
   "id": "3c7eb40d-16a0-4ecb-a46a-e61da520af23",
   "metadata": {},
   "source": [
    "- Notice that the slope estimate for `median_income` is 0, but so is the p-value and range of plausible values.\n",
    "\n",
    "- That seems odd.  What's happening?\n",
    "\n",
    "- We can see from the scatter plot that `immigration5` and `median_income` have a linear relationship.  When two variables have a linear relationship multiple linear regression models produce strange results.\n",
    "\n",
    "- It's important that independent variables in a multiple regression model are unrelated."
   ]
  },
  {
   "cell_type": "markdown",
   "id": "079b2531-8e0e-41ff-b8c4-49a3112c085b",
   "metadata": {
    "slideshow": {
     "slide_type": "slide"
    },
    "tags": []
   },
   "source": [
    "# Review of Comparing two samples\n",
    "\n",
    "## Comparing plant fertilizers\n",
    "\n",
    "- A gardener wanted to discover whether a change in fertilizer mixture applied to her tomato plants would result in improved yield.\n",
    "\n",
    "- She had 11 plants set out in a single row:\n",
    "   + 5 were given standard fertilizer mixture A\n",
    "   + 6 were given a supposedly improved mixture B\n",
    "\n",
    "- The A's and B's were randomly applied to positions along the row to give the following data:\n",
    "\n",
    "|                |  |   |   |   |   |   |   |   |   |   |   |\n",
    "|----------------|---|---|---|---|---|---|---|---|---|---|---|\n",
    "|Position in row | 1 | 2 | 3 | 4 | 5 | 6 | 7 | 8 | 9 | 10| 11 |\n",
    "|Fertilizer      | A | A | B | B | A | B |B  |B  | A | A | B  |\n",
    "|Pounds of tomatoes | 29.2 | 11.4 | 26.6 | 23.7 | 25.3 | 28.5 | 14.2 | 17.9 | 16.5 | 21.1 | 24.3 |\n",
    "\n",
    "\n",
    "- The random arrangement was arrived at by taking 11 playing cards, 5 marked A, and 6 marked B.\n",
    "\n",
    "- Thoroughly shuffling the cards once the gardener arrived at the arrangement above. \n"
   ]
  },
  {
   "cell_type": "code",
   "execution_count": null,
   "id": "47700a3f-4d29-485e-a19c-e75475d475d9",
   "metadata": {
    "slideshow": {
     "slide_type": "slide"
    }
   },
   "outputs": [],
   "source": [
    "import pandas as pd\n",
    "\n",
    "fertilizer = ['A', 'A', 'B', 'B', 'A', 'B', 'B', 'B', 'A', 'A', 'B']\n",
    "\n",
    "tomatoes = [29.2, 11.4, 26.6, 23.7, 25.3, 28.5, 14.2, 17.9, 16.5, 21.1, 24.3]\n",
    "\n",
    "data = {'fert' : fertilizer,\n",
    "        'tomatoes' : tomatoes}\n",
    "\n",
    "plant_df = pd.DataFrame(data)"
   ]
  },
  {
   "cell_type": "markdown",
   "id": "055872e5-643f-402d-aa39-e02c6669dcdf",
   "metadata": {},
   "source": [
    "The (observed) mean difference is computed below."
   ]
  },
  {
   "cell_type": "code",
   "execution_count": null,
   "id": "a54203c0-5b25-47b3-879f-f24f9418dcf4",
   "metadata": {},
   "outputs": [],
   "source": [
    "# mean of plants assigned fert A\n",
    "mean_A_obs = plant_df.loc[plant_df['fert'] == 'A', 'tomatoes'].mean() \n",
    "\n",
    "# mean of plants assigned fert B\n",
    "mean_B_obs = plant_df.loc[plant_df['fert'] == 'B', 'tomatoes'].mean()\n",
    "\n",
    "# mean difference\n",
    "obs_diff =  mean_B_obs - mean_A_obs\n",
    "\n",
    "obs_diff"
   ]
  },
  {
   "cell_type": "markdown",
   "id": "eb296224-0485-425c-909b-7fc783ab978f",
   "metadata": {
    "slideshow": {
     "slide_type": "slide"
    }
   },
   "source": [
    "- Since the assignment of fertilizers to plants is random it could have happened another way.\n",
    "\n",
    "- We can use the `pandas` `sample` function with `frac` and `replace` parameters to simulate these other potential assignments of fertilizers to plants.\n",
    "\n",
    "    + `frac = 1` - specifies the fraction of rows to return (1 means return all the rows)\n",
    "    + `replace = False` - specifies to sample without replacement"
   ]
  },
  {
   "cell_type": "code",
   "execution_count": null,
   "id": "bc861b8d-ef0b-4902-a00f-e2b3ae86be64",
   "metadata": {},
   "outputs": [],
   "source": [
    "plant_df['fert'].sample(frac=1, replace = False)"
   ]
  },
  {
   "cell_type": "markdown",
   "id": "086b4b7b-2b5e-4474-813a-8fcceb8fb569",
   "metadata": {},
   "source": [
    "- Notice that the index is out of order.\n",
    "\n",
    "- We are going to want to have an ordered index later on.  \n",
    "\n",
    "- To do this we can use the `pandas` function `reset_index(drop = True)`. \n",
    "\n",
    "- `drop = True` indicates that we don't want to keep the previous index. "
   ]
  },
  {
   "cell_type": "code",
   "execution_count": null,
   "id": "7ad230a5-397d-491a-92d7-58c4868cba82",
   "metadata": {
    "slideshow": {
     "slide_type": "slide"
    }
   },
   "outputs": [],
   "source": [
    "plant_df['fert'].sample(frac=1, replace = False).reset_index(drop = True)"
   ]
  },
  {
   "cell_type": "markdown",
   "id": "70c75c3d-6c2b-4b9b-a524-89aab9c5ddeb",
   "metadata": {
    "slideshow": {
     "slide_type": "slide"
    }
   },
   "source": [
    "## The Logic of Hypothesis Testing\n",
    "\n",
    "### 1. Hypotheses\n",
    "\n",
    "Two claims:\n",
    "\n",
    "1. There is no difference in the mean weight between fertilizers A and B.  This is called the null hypothesis.\n",
    "\n",
    "2. There is no difference in the mean weight between fertilizers A and B.  This is called the alternative hypothesis."
   ]
  },
  {
   "cell_type": "markdown",
   "id": "3f6e8d55-7d96-4e05-9e6a-e4da8fbc7d7c",
   "metadata": {
    "slideshow": {
     "slide_type": "slide"
    }
   },
   "source": [
    "### 2. Test statistic\n",
    "\n",
    "The test statistic is a number, calculated from the data, that captures what we're interested in.\n",
    "\n",
    "What would be a useful test statistic for this study?"
   ]
  },
  {
   "cell_type": "markdown",
   "id": "7b890274-95c8-4e3c-a6dc-77c695a15b9c",
   "metadata": {
    "slideshow": {
     "slide_type": "slide"
    }
   },
   "source": [
    "### 3. Simulate what the null hypothesis predicts will happen\n",
    "\n",
    "- If the null hypothesis is true then the weight of tomatoes for each plant will be the same regardless of how they are labeled. That means we can randomly shuffle the labels and the mean difference should be close to 0.\n",
    "\n",
    "Assume that there is no difference in mean weight between A and B (i.e., the null hypothesis is true).  Now, consider the following **thought experiment (we don't actually do this, this is a model for the data)**:\n",
    "\n",
    "- Imagine we have 5 playing cards labelled `A` and 6 cards labelled `B`.\n",
    "\n",
    "\n",
    "- Shuffle the cards ...\n",
    "\n",
    "\n",
    "- Assign the cards to the 11 plants then calculate the mean weight difference between `A` and `B`.  This is one simulated value of the test statistic. \n",
    "\n",
    "\n",
    "- Shuffle the cards again ...\n",
    "\n",
    "\n",
    "- Assign the cards to the 11 plants then calculate the mean weight difference between `A` and `B`.  This is second simulated value of the test statistic. \n",
    "\n",
    "\n",
    "- Continue shuffling, assigning , and computing the mean difference."
   ]
  },
  {
   "cell_type": "markdown",
   "id": "92219900-5191-4eee-8cc5-4891c961b27a",
   "metadata": {
    "slideshow": {
     "slide_type": "slide"
    }
   },
   "source": [
    "## Simulating what the null hypothesis predicts\n",
    "\n",
    "Let's assume the null hypothesis is true and simulate what the null hypothesis predicts.\n",
    "\n",
    "### Step 1\n",
    "\n",
    "Randomly shuffle the assignment of fertilizers to plants. "
   ]
  },
  {
   "cell_type": "code",
   "execution_count": null,
   "id": "eebd97b0-70f0-4b23-a17b-51b21000927d",
   "metadata": {},
   "outputs": [],
   "source": [
    "fert_sim = plant_df['fert'].sample(frac=1, replace = False).reset_index(drop = True)"
   ]
  },
  {
   "cell_type": "markdown",
   "id": "17ad7a75-011b-457d-9a4f-491d9c45fb9e",
   "metadata": {
    "slideshow": {
     "slide_type": "slide"
    }
   },
   "source": [
    "### Step 2\n",
    "\n",
    "Compute the mean difference between fertilizers A and B."
   ]
  },
  {
   "cell_type": "code",
   "execution_count": null,
   "id": "5970ffd0-e0df-400a-995f-ee070d71a623",
   "metadata": {},
   "outputs": [],
   "source": [
    "mean_A = plant_df.loc[fert_sim == 'A', 'tomatoes'].mean()\n",
    "\n",
    "mean_B = plant_df.loc[fert_sim == 'B', 'tomatoes'].mean()\n",
    "\n",
    "sim_diff = mean_B - mean_A\n",
    "\n",
    "sim_diff"
   ]
  },
  {
   "cell_type": "markdown",
   "id": "9be2a945-264e-48f7-9741-fab71ebaabb8",
   "metadata": {
    "slideshow": {
     "slide_type": "slide"
    },
    "tags": []
   },
   "source": [
    "### Step 3\n",
    "\n",
    "Repeat Steps 1 and 2 a large number of times (e.g., 5000) to get the distribution of mean differences. "
   ]
  },
  {
   "cell_type": "code",
   "execution_count": null,
   "id": "d3b22358-cb7e-448d-b584-3171065dbaa7",
   "metadata": {},
   "outputs": [],
   "source": [
    "simulated_diffs = []\n",
    "\n",
    "for _ in range(5000):\n",
    "    fert_sim = plant_df['fert'].sample(frac=1, replace = False).reset_index(drop = True)\n",
    "    mean_A = plant_df.loc[fert_sim == 'A', 'tomatoes'].mean()\n",
    "    mean_B = plant_df.loc[fert_sim == 'B', 'tomatoes'].mean()\n",
    "    sim_diff = mean_B - mean_A\n",
    "    simulated_diffs.append(sim_diff)\n",
    "    "
   ]
  },
  {
   "cell_type": "code",
   "execution_count": null,
   "id": "6d3f7991-5fd9-4721-9595-e3c7214519ef",
   "metadata": {
    "slideshow": {
     "slide_type": "slide"
    }
   },
   "outputs": [],
   "source": [
    "import matplotlib.pyplot as plt\n",
    "\n",
    "plt.hist(simulated_diffs, edgecolor = 'black', color = 'lightgrey')\n",
    "#plt.vlines(x = obs_diff, ymin = 0, ymax = 1000, color = 'black', linewidth = 5);"
   ]
  },
  {
   "cell_type": "markdown",
   "id": "b57f190a-d39c-42aa-8d1f-3a1334837068",
   "metadata": {
    "slideshow": {
     "slide_type": "slide"
    }
   },
   "source": [
    "- The histogram above shows the randomization distribution with the observed difference as the black line.\n",
    "\n",
    "- What proportion of the simulated differences are larger than the observed mean difference of 1.83?  This is known as the **p-value**."
   ]
  },
  {
   "cell_type": "code",
   "execution_count": null,
   "id": "1f730e0e-5f52-4311-858d-8724fbe250fa",
   "metadata": {},
   "outputs": [],
   "source": [
    "simulated_diffs_df = pd.DataFrame({'sim_diffs' : simulated_diffs})\n",
    "\n",
    "numgreater = (simulated_diffs_df['sim_diffs'] >= obs_diff).sum()\n",
    "\n",
    "print('The number of simulated differences greater than the observed difference is:', numgreater)\n",
    "\n",
    "pvalue = numgreater / 5000\n",
    "\n",
    "print('The p-value is:', pvalue)"
   ]
  },
  {
   "cell_type": "markdown",
   "id": "e280cea9-a424-4d86-85af-4c62825519eb",
   "metadata": {
    "slideshow": {
     "slide_type": "slide"
    },
    "tags": []
   },
   "source": [
    "### Step 4\n",
    "\n",
    "Interpret the results.  \n",
    "\n",
    "Assuming that there is no difference in the mean tomato plant weights between A and B, 31% of simulations had as large or larger value than the observed mean difference of 1.83.  Therefore, there is little reason to doubt the null hypothesis that one fertilizer is better than another."
   ]
  },
  {
   "cell_type": "code",
   "execution_count": null,
   "id": "39bd89d5-2057-4668-b6d2-999b066ba7e2",
   "metadata": {},
   "outputs": [],
   "source": []
  }
 ],
 "metadata": {
  "kernelspec": {
   "display_name": "Python 3 (ipykernel)",
   "language": "python",
   "name": "python3"
  },
  "language_info": {
   "codemirror_mode": {
    "name": "ipython",
    "version": 3
   },
   "file_extension": ".py",
   "mimetype": "text/x-python",
   "name": "python",
   "nbconvert_exporter": "python",
   "pygments_lexer": "ipython3",
   "version": "3.8.8"
  }
 },
 "nbformat": 4,
 "nbformat_minor": 5
}
