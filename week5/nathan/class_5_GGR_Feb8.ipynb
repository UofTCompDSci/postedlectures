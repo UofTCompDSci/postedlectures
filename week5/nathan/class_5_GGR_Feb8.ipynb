{
 "cells": [
  {
   "cell_type": "markdown",
   "id": "d5bb41ee",
   "metadata": {},
   "source": [
    "## Class 4: Data Wrangling and Exploratory Data Analysis \n",
    "\n",
    "## Learning Objectives\n",
    "\n",
    "By the end of today's class you will be able to:\n",
    "\n",
    "- review logical statements\n",
    "\n",
    "- select subsets of rows using operators `!=`, `>`, `>=`, `<`, `<=`\n",
    "\n",
    "- operations on `pandas` `Series` and `DataFrames`.\n",
    "\n",
    "- join two data frames\n",
    "\n",
    "- Grouped summaries of data\n",
    "\n",
    "- Define statistical variables from data using Python.\n",
    "\n",
    "- Define and interpret statistical distributions.\n",
    "\n",
    "<!--\n",
    "- Understand the difference between categorical (nominal and ordered) , and interval variables.\n",
    "\n",
    "- Create numerical and visual data summaries of categorical variables using Python.\n",
    "\n",
    "- Understand how to interpret categorical variables and bar charts in context.\n",
    "\n",
    "- Create numerical and visual data summaries of categorical variables using Python.\n",
    "\n",
    "- Understand how to compute and interpret frequency and cumulative frequency distributions.\n",
    "\n",
    "- Understand strategies on managing missing values and the implications on data interpretations.\n",
    "-->"
   ]
  },
  {
   "cell_type": "markdown",
   "id": "1fc0011c",
   "metadata": {},
   "source": [
    "## Let's start by reviewing logical statements\n",
    "\n",
    "- last week we were using or `|`, and `&`, equivalent `==`, and not equivalent `!=`\n",
    "\n",
    "We saw the following in a few assignments:\n",
    "\n",
    "`unmarried = (married_status !=1) | (married_status !=2)\n",
    "married = (married_status == 1) | (married_status ==2)`"
   ]
  },
  {
   "cell_type": "markdown",
   "id": "02cc8675",
   "metadata": {},
   "source": [
    "what is best is:\n",
    "\n",
    "`unmarried = (married_status !=1) & (married_status != 2)`"
   ]
  },
  {
   "cell_type": "markdown",
   "id": "b3a1d956",
   "metadata": {},
   "source": [
    "# More on Selecting Rows/Selecting Subsets/Filtering Rows\n",
    "\n",
    "- Last week we discussed how to select rows using `&`, `|` by creating Boolean variables that correspond to creating subsets of a data frame (e.g., urban and middle age).\n",
    "\n",
    "- This week we will consider selecting subsets using:\n",
    "  + `!=` - not equal\n",
    "  + `>` - greater than\n",
    "  + `>=` - greater than or equal to\n",
    "  + `<` - less than\n",
    "  + `<=` - less than or equal to"
   ]
  },
  {
   "cell_type": "code",
   "execution_count": 1,
   "id": "8901caef",
   "metadata": {},
   "outputs": [],
   "source": [
    "import pandas as pd\n",
    "\n",
    "time_use_df = pd.read_csv('gss_tu2016_main_file.csv')"
   ]
  },
  {
   "cell_type": "markdown",
   "id": "522e9d97",
   "metadata": {},
   "source": [
    "`dur01` is time spent sleeping, resting, etc. Let's rename it to `RRtime`.\n",
    "\n",
    "```\n",
    "dur01              Duration - Sleeping, resting, relaxing, sick in bed\n",
    "\n",
    "           VALUE  LABEL\n",
    "               0  No time spent doing this activity\n",
    "            9996  Valid skip\n",
    "            9997  Don't know\n",
    "            9998  Refusal\n",
    "            9999  Not stated\n",
    "\n",
    "           Data type: numeric\n",
    "           Missing-data codes: 9996-9999\n",
    "           Record/columns: 1/65-68\n",
    "```"
   ]
  },
  {
   "cell_type": "code",
   "execution_count": 2,
   "id": "19934251",
   "metadata": {},
   "outputs": [
    {
     "data": {
      "text/plain": [
       "0    510\n",
       "1    420\n",
       "2    570\n",
       "3    510\n",
       "4    525\n",
       "Name: dur01, dtype: int64"
      ]
     },
     "execution_count": 2,
     "metadata": {},
     "output_type": "execute_result"
    }
   ],
   "source": [
    "RRtime = time_use_df['dur01']\n",
    "RRtime.head()"
   ]
  },
  {
   "cell_type": "markdown",
   "id": "ec46a6a7",
   "metadata": {},
   "source": [
    "What is the average `RRtime`?\n",
    "\n",
    "We can use the `pandas` function `mean()` to compute the mean time spent sleeping, resting, etc. "
   ]
  },
  {
   "cell_type": "code",
   "execution_count": 3,
   "id": "5e3019aa",
   "metadata": {},
   "outputs": [
    {
     "data": {
      "text/plain": [
       "522.3930994824611"
      ]
     },
     "execution_count": 3,
     "metadata": {},
     "output_type": "execute_result"
    }
   ],
   "source": [
    "RRtime.mean()"
   ]
  },
  {
   "cell_type": "markdown",
   "id": "a21ebdb3",
   "metadata": {},
   "source": [
    "Is this accurate?\n",
    "\n",
    "Let's check for missing values."
   ]
  },
  {
   "cell_type": "code",
   "execution_count": 4,
   "id": "9ef1f777",
   "metadata": {},
   "outputs": [
    {
     "data": {
      "text/plain": [
       "False    17390\n",
       "Name: dur01, dtype: int64"
      ]
     },
     "execution_count": 4,
     "metadata": {},
     "output_type": "execute_result"
    }
   ],
   "source": [
    "RRmissing = (RRtime == 9996) | (RRtime == 9997)| (RRtime == 9998)| (RRtime == 9999)\n",
    "RRmissing.value_counts()"
   ]
  },
  {
   "cell_type": "markdown",
   "id": "1d5ead3a",
   "metadata": {},
   "source": [
    "How many people reported 0 time spent on RR?"
   ]
  },
  {
   "cell_type": "code",
   "execution_count": 5,
   "id": "546048f4",
   "metadata": {},
   "outputs": [
    {
     "data": {
      "text/plain": [
       "False    17374\n",
       "True        16\n",
       "Name: dur01, dtype: int64"
      ]
     },
     "execution_count": 5,
     "metadata": {},
     "output_type": "execute_result"
    }
   ],
   "source": [
    "noRR = RRtime == 0\n",
    "noRR.value_counts()"
   ]
  },
  {
   "cell_type": "markdown",
   "id": "53cdf201",
   "metadata": {},
   "source": [
    "- It's not missing, but seems not to be correct.  What would happen to the average time spent on rest if we **excluded** respondents that reported 0?\n",
    "\n",
    "- There are a few ways to do approach excluding these rows of `RRtime`.\n"
   ]
  },
  {
   "cell_type": "markdown",
   "id": "d41b7d4d",
   "metadata": {},
   "source": [
    "## Use not-equal to operator `!=` \n",
    "\n",
    "A Boolean series that is `True` when `RRtime` is not equal to `0` and `False` otherwise."
   ]
  },
  {
   "cell_type": "code",
   "execution_count": 6,
   "id": "eec14823",
   "metadata": {},
   "outputs": [
    {
     "data": {
      "text/plain": [
       "0    True\n",
       "1    True\n",
       "2    True\n",
       "3    True\n",
       "4    True\n",
       "Name: dur01, dtype: bool"
      ]
     },
     "execution_count": 6,
     "metadata": {},
     "output_type": "execute_result"
    }
   ],
   "source": [
    "someRR = RRtime != 0\n",
    "\n",
    "someRR.head()"
   ]
  },
  {
   "cell_type": "code",
   "execution_count": 7,
   "id": "53837c93",
   "metadata": {},
   "outputs": [
    {
     "data": {
      "text/plain": [
       "True     17374\n",
       "False       16\n",
       "Name: dur01, dtype: int64"
      ]
     },
     "execution_count": 7,
     "metadata": {},
     "output_type": "execute_result"
    }
   ],
   "source": [
    "someRR.value_counts()"
   ]
  },
  {
   "cell_type": "markdown",
   "id": "2f4d646f",
   "metadata": {},
   "source": [
    "## Use not-equal to operator `>` \n",
    "\n",
    "A Boolean series that is `True` when `RRtime` is greater than `0` and `False` otherwise."
   ]
  },
  {
   "cell_type": "code",
   "execution_count": 8,
   "id": "41add14e",
   "metadata": {},
   "outputs": [
    {
     "data": {
      "text/plain": [
       "True     17374\n",
       "False       16\n",
       "Name: dur01, dtype: int64"
      ]
     },
     "execution_count": 8,
     "metadata": {},
     "output_type": "execute_result"
    }
   ],
   "source": [
    "someRR = RRtime > 0\n",
    "\n",
    "someRR.value_counts()"
   ]
  },
  {
   "cell_type": "markdown",
   "id": "5a04f35b",
   "metadata": {},
   "source": [
    "OK.  But, what about the mean when we exclude the 16 people that reported 0 time spent on rest?"
   ]
  },
  {
   "cell_type": "code",
   "execution_count": 9,
   "id": "47b32315",
   "metadata": {},
   "outputs": [
    {
     "name": "stdout",
     "output_type": "stream",
     "text": [
      "522.3930994824611\n"
     ]
    },
    {
     "data": {
      "text/plain": [
       "522.8741798089098"
      ]
     },
     "execution_count": 9,
     "metadata": {},
     "output_type": "execute_result"
    }
   ],
   "source": [
    "print(RRtime.mean())\n",
    "RRtime[someRR].mean()"
   ]
  },
  {
   "cell_type": "markdown",
   "id": "ac74b174",
   "metadata": {},
   "source": [
    "- Oh, but which number excludes rest time of 0?  Let's be more descriptive.  Also, what's the difference between the two values?\n",
    "\n",
    "- We can use several print statements to create descriptive output."
   ]
  },
  {
   "cell_type": "code",
   "execution_count": 10,
   "id": "769a85b8",
   "metadata": {},
   "outputs": [
    {
     "name": "stdout",
     "output_type": "stream",
     "text": [
      "The mean rest time of all respondents is: 522.3930994824611\n",
      "\n",
      "\n",
      "The mean rest time except respondents with 0 is: 522.8741798089098\n",
      "\n",
      "\n",
      "The difference between all repondents and excluding those with 0 is: -0.4810803264487049\n"
     ]
    }
   ],
   "source": [
    "label_all = 'The mean rest time of all respondents is:'\n",
    "\n",
    "mean_all = RRtime.mean()\n",
    "\n",
    "label_nozero = 'The mean rest time except respondents with 0 is:'\n",
    "\n",
    "mean_nozero = RRtime[someRR].mean()\n",
    "\n",
    "label_diff = 'The difference between all repondents and excluding those with 0 is:'\n",
    "\n",
    "diff = mean_all - mean_nozero\n",
    "\n",
    "print(label_all, mean_all)\n",
    "\n",
    "print('\\n') # add a new line\n",
    "\n",
    "print(label_nozero, mean_nozero)\n",
    "\n",
    "print('\\n') # add a new line\n",
    "\n",
    "print(label_diff, diff)"
   ]
  },
  {
   "cell_type": "markdown",
   "id": "028a9266",
   "metadata": {},
   "source": [
    "- What proportion of respondents got at least 7 hours, but less than 8.5 hours rest?\n",
    "\n",
    "- At least 7 hours means 7 hours or more.\n",
    "\n",
    "- Less than 8.5 hours means at most 8.5 hours, but not including 8.5 hours."
   ]
  },
  {
   "cell_type": "code",
   "execution_count": 11,
   "id": "d6d5eb6c",
   "metadata": {},
   "outputs": [
    {
     "data": {
      "text/plain": [
       "False    17390\n",
       "Name: dur01, dtype: int64"
      ]
     },
     "execution_count": 11,
     "metadata": {},
     "output_type": "execute_result"
    }
   ],
   "source": [
    "between785 = (RRtime >= 7) & (RRtime < 8.5)\n",
    "between785.value_counts()"
   ]
  },
  {
   "cell_type": "markdown",
   "id": "6669f13a",
   "metadata": {},
   "source": [
    "- What's wrong?  \n",
    "\n",
    "- Time is measured in minutes not hours.\n",
    "\n",
    "- So, let's convert `RRtime` to hours.  How?\n",
    "\n",
    "- 60 minutes = 1 hour.  So, 1 minute = 1/60 hour.  Since `RRtime` is in minutes we can multiply it by 1/60 to change it to hours."
   ]
  },
  {
   "cell_type": "code",
   "execution_count": 12,
   "id": "a7a5b200",
   "metadata": {},
   "outputs": [
    {
     "data": {
      "text/plain": [
       "0    8.50\n",
       "1    7.00\n",
       "2    9.50\n",
       "3    8.50\n",
       "4    8.75\n",
       "Name: dur01, dtype: float64"
      ]
     },
     "execution_count": 12,
     "metadata": {},
     "output_type": "execute_result"
    }
   ],
   "source": [
    "RRtime_hours = RRtime/60\n",
    "RRtime_hours.head()"
   ]
  },
  {
   "cell_type": "markdown",
   "id": "e7e9e870",
   "metadata": {},
   "source": [
    "Now, let's try selecting rows."
   ]
  },
  {
   "cell_type": "code",
   "execution_count": 13,
   "id": "c7abb403",
   "metadata": {},
   "outputs": [
    {
     "data": {
      "text/plain": [
       "False    11960\n",
       "True      5430\n",
       "Name: dur01, dtype: int64"
      ]
     },
     "execution_count": 13,
     "metadata": {},
     "output_type": "execute_result"
    }
   ],
   "source": [
    "between785 = (RRtime_hours >= 7) & (RRtime_hours < 8.5)\n",
    "between785.value_counts()"
   ]
  },
  {
   "cell_type": "code",
   "execution_count": 14,
   "id": "136c71bd",
   "metadata": {},
   "outputs": [
    {
     "data": {
      "text/plain": [
       "False    11960\n",
       "True      5430\n",
       "Name: dur01, dtype: int64"
      ]
     },
     "execution_count": 14,
     "metadata": {},
     "output_type": "execute_result"
    }
   ],
   "source": [
    "counts = between785.value_counts()\n",
    "counts"
   ]
  },
  {
   "cell_type": "markdown",
   "id": "c3a7b62b",
   "metadata": {},
   "source": [
    "- `counts[1]` is the number of respondents that rested between 7 and 8.5 hours.\n",
    "\n",
    "- `counts.sum()` is the total number of respondents.\n",
    "\n",
    "- So, `counts[1]/counts.sum()` is the proportion of total respondents that rested between 7 and 8.5 hours.\n"
   ]
  },
  {
   "cell_type": "code",
   "execution_count": 15,
   "id": "01ed5064",
   "metadata": {},
   "outputs": [
    {
     "data": {
      "text/plain": [
       "0.31224841863139735"
      ]
     },
     "execution_count": 15,
     "metadata": {},
     "output_type": "execute_result"
    }
   ],
   "source": [
    "prop = counts[1]/counts.sum()\n",
    "prop"
   ]
  },
  {
   "cell_type": "markdown",
   "id": "87022617",
   "metadata": {},
   "source": [
    "Too many decimal places.  Let's round it with the pandas function `.round(n)`, where `n` is the number of decimal places to keep."
   ]
  },
  {
   "cell_type": "code",
   "execution_count": 16,
   "id": "7ab97d80",
   "metadata": {},
   "outputs": [
    {
     "data": {
      "text/plain": [
       "0.31"
      ]
     },
     "execution_count": 16,
     "metadata": {},
     "output_type": "execute_result"
    }
   ],
   "source": [
    "prop.round(2)"
   ]
  },
  {
   "cell_type": "markdown",
   "id": "8d6be1bc",
   "metadata": {},
   "source": [
    "Say, we wanted to report as a percentage.  Then we would multiply the proportion by 100.  "
   ]
  },
  {
   "cell_type": "code",
   "execution_count": 17,
   "id": "5022331e",
   "metadata": {},
   "outputs": [
    {
     "data": {
      "text/plain": [
       "31.0"
      ]
     },
     "execution_count": 17,
     "metadata": {},
     "output_type": "execute_result"
    }
   ],
   "source": [
    "prop.round(2)*100"
   ]
  },
  {
   "cell_type": "markdown",
   "id": "3bd8eab1",
   "metadata": {},
   "source": [
    "Now, we can report as a percentage using a `print()` statement."
   ]
  },
  {
   "cell_type": "code",
   "execution_count": 18,
   "id": "a01faa34",
   "metadata": {},
   "outputs": [
    {
     "name": "stdout",
     "output_type": "stream",
     "text": [
      "31.0 % of respondents reported sleeping between 7 and 8.5 hours.\n"
     ]
    }
   ],
   "source": [
    "prop_perc = prop.round(2)*100\n",
    "\n",
    "prop_msg = '% of respondents reported sleeping between 7 and 8.5 hours.'\n",
    "\n",
    "print(prop_perc, prop_msg)"
   ]
  },
  {
   "cell_type": "markdown",
   "id": "27836c3d",
   "metadata": {},
   "source": [
    "# Data transformations with `pandas` series and DataFrames\n",
    "\n",
    "Numeric variables that are integers or floats can be multiplied, divided, added, and subtracted.\n",
    "\n",
    "Suppose we discovered that by accident all of the data for time spent resting `RRtime` had an extra 5 minutes, except for those respondents that have a 0 for this variable. But we also want to keep the respondents with values of 0. How can we clean-up this mistake?"
   ]
  },
  {
   "cell_type": "code",
   "execution_count": 19,
   "id": "e5883e28",
   "metadata": {},
   "outputs": [],
   "source": [
    "someRR = RRtime != 0\n",
    "\n",
    "noRR = RRtime == 0\n",
    "\n",
    "RRtime_corrected = RRtime[someRR] - 5 "
   ]
  },
  {
   "cell_type": "code",
   "execution_count": 20,
   "id": "cc5a1e1e",
   "metadata": {},
   "outputs": [
    {
     "data": {
      "text/html": [
       "<div>\n",
       "<style scoped>\n",
       "    .dataframe tbody tr th:only-of-type {\n",
       "        vertical-align: middle;\n",
       "    }\n",
       "\n",
       "    .dataframe tbody tr th {\n",
       "        vertical-align: top;\n",
       "    }\n",
       "\n",
       "    .dataframe thead th {\n",
       "        text-align: right;\n",
       "    }\n",
       "</style>\n",
       "<table border=\"1\" class=\"dataframe\">\n",
       "  <thead>\n",
       "    <tr style=\"text-align: right;\">\n",
       "      <th></th>\n",
       "      <th>RR_cor</th>\n",
       "      <th>dur01</th>\n",
       "    </tr>\n",
       "  </thead>\n",
       "  <tbody>\n",
       "    <tr>\n",
       "      <th>0</th>\n",
       "      <td>505.0</td>\n",
       "      <td>510</td>\n",
       "    </tr>\n",
       "    <tr>\n",
       "      <th>1</th>\n",
       "      <td>415.0</td>\n",
       "      <td>420</td>\n",
       "    </tr>\n",
       "    <tr>\n",
       "      <th>2</th>\n",
       "      <td>565.0</td>\n",
       "      <td>570</td>\n",
       "    </tr>\n",
       "    <tr>\n",
       "      <th>3</th>\n",
       "      <td>505.0</td>\n",
       "      <td>510</td>\n",
       "    </tr>\n",
       "    <tr>\n",
       "      <th>4</th>\n",
       "      <td>520.0</td>\n",
       "      <td>525</td>\n",
       "    </tr>\n",
       "  </tbody>\n",
       "</table>\n",
       "</div>"
      ],
      "text/plain": [
       "   RR_cor  dur01\n",
       "0   505.0    510\n",
       "1   415.0    420\n",
       "2   565.0    570\n",
       "3   505.0    510\n",
       "4   520.0    525"
      ]
     },
     "execution_count": 20,
     "metadata": {},
     "output_type": "execute_result"
    }
   ],
   "source": [
    "time_use_df_cor = time_use_df.copy()\n",
    "\n",
    "time_use_df_cor.loc[someRR, 'RR_cor'] = RRtime_corrected\n",
    "\n",
    "time_use_df_cor.loc[noRR, 'RR_cor'] = 0\n",
    "\n",
    "time_use_df_cor[['RR_cor', 'dur01']].head()"
   ]
  },
  {
   "cell_type": "markdown",
   "id": "7b1b0438",
   "metadata": {},
   "source": [
    "- Looks good.  \n",
    "\n",
    "- Next, view only rows that are 0."
   ]
  },
  {
   "cell_type": "code",
   "execution_count": 21,
   "id": "e9c7884c",
   "metadata": {},
   "outputs": [
    {
     "data": {
      "text/html": [
       "<div>\n",
       "<style scoped>\n",
       "    .dataframe tbody tr th:only-of-type {\n",
       "        vertical-align: middle;\n",
       "    }\n",
       "\n",
       "    .dataframe tbody tr th {\n",
       "        vertical-align: top;\n",
       "    }\n",
       "\n",
       "    .dataframe thead th {\n",
       "        text-align: right;\n",
       "    }\n",
       "</style>\n",
       "<table border=\"1\" class=\"dataframe\">\n",
       "  <thead>\n",
       "    <tr style=\"text-align: right;\">\n",
       "      <th></th>\n",
       "      <th>RR_cor</th>\n",
       "      <th>dur01</th>\n",
       "    </tr>\n",
       "  </thead>\n",
       "  <tbody>\n",
       "    <tr>\n",
       "      <th>167</th>\n",
       "      <td>0.0</td>\n",
       "      <td>0</td>\n",
       "    </tr>\n",
       "    <tr>\n",
       "      <th>2601</th>\n",
       "      <td>0.0</td>\n",
       "      <td>0</td>\n",
       "    </tr>\n",
       "    <tr>\n",
       "      <th>2925</th>\n",
       "      <td>0.0</td>\n",
       "      <td>0</td>\n",
       "    </tr>\n",
       "    <tr>\n",
       "      <th>3511</th>\n",
       "      <td>0.0</td>\n",
       "      <td>0</td>\n",
       "    </tr>\n",
       "    <tr>\n",
       "      <th>4509</th>\n",
       "      <td>0.0</td>\n",
       "      <td>0</td>\n",
       "    </tr>\n",
       "    <tr>\n",
       "      <th>5038</th>\n",
       "      <td>0.0</td>\n",
       "      <td>0</td>\n",
       "    </tr>\n",
       "    <tr>\n",
       "      <th>8057</th>\n",
       "      <td>0.0</td>\n",
       "      <td>0</td>\n",
       "    </tr>\n",
       "    <tr>\n",
       "      <th>9768</th>\n",
       "      <td>0.0</td>\n",
       "      <td>0</td>\n",
       "    </tr>\n",
       "    <tr>\n",
       "      <th>10764</th>\n",
       "      <td>0.0</td>\n",
       "      <td>0</td>\n",
       "    </tr>\n",
       "    <tr>\n",
       "      <th>12145</th>\n",
       "      <td>0.0</td>\n",
       "      <td>0</td>\n",
       "    </tr>\n",
       "    <tr>\n",
       "      <th>13056</th>\n",
       "      <td>0.0</td>\n",
       "      <td>0</td>\n",
       "    </tr>\n",
       "    <tr>\n",
       "      <th>13660</th>\n",
       "      <td>0.0</td>\n",
       "      <td>0</td>\n",
       "    </tr>\n",
       "    <tr>\n",
       "      <th>13980</th>\n",
       "      <td>0.0</td>\n",
       "      <td>0</td>\n",
       "    </tr>\n",
       "    <tr>\n",
       "      <th>15049</th>\n",
       "      <td>0.0</td>\n",
       "      <td>0</td>\n",
       "    </tr>\n",
       "    <tr>\n",
       "      <th>16332</th>\n",
       "      <td>0.0</td>\n",
       "      <td>0</td>\n",
       "    </tr>\n",
       "    <tr>\n",
       "      <th>16554</th>\n",
       "      <td>0.0</td>\n",
       "      <td>0</td>\n",
       "    </tr>\n",
       "  </tbody>\n",
       "</table>\n",
       "</div>"
      ],
      "text/plain": [
       "       RR_cor  dur01\n",
       "167       0.0      0\n",
       "2601      0.0      0\n",
       "2925      0.0      0\n",
       "3511      0.0      0\n",
       "4509      0.0      0\n",
       "5038      0.0      0\n",
       "8057      0.0      0\n",
       "9768      0.0      0\n",
       "10764     0.0      0\n",
       "12145     0.0      0\n",
       "13056     0.0      0\n",
       "13660     0.0      0\n",
       "13980     0.0      0\n",
       "15049     0.0      0\n",
       "16332     0.0      0\n",
       "16554     0.0      0"
      ]
     },
     "execution_count": 21,
     "metadata": {},
     "output_type": "execute_result"
    }
   ],
   "source": [
    "no_time = time_use_df_cor['RR_cor'] == 0\n",
    "\n",
    "time_use_df_cor.loc[no_time, ['RR_cor', 'dur01']]"
   ]
  },
  {
   "cell_type": "markdown",
   "id": "4afbf14b",
   "metadata": {},
   "source": [
    "# Joining Tables, Web Scraping\n",
    "\n",
    "We want would like to look at the relationships, such as the relationship between sleeping and working, on different aspects of time use at the provincial level.  In addition we would like to add provinical level data of on income and housing.\n"
   ]
  },
  {
   "cell_type": "code",
   "execution_count": 22,
   "id": "344e4865",
   "metadata": {},
   "outputs": [
    {
     "data": {
      "text/html": [
       "<div>\n",
       "<style scoped>\n",
       "    .dataframe tbody tr th:only-of-type {\n",
       "        vertical-align: middle;\n",
       "    }\n",
       "\n",
       "    .dataframe tbody tr th {\n",
       "        vertical-align: top;\n",
       "    }\n",
       "\n",
       "    .dataframe thead th {\n",
       "        text-align: right;\n",
       "    }\n",
       "</style>\n",
       "<table border=\"1\" class=\"dataframe\">\n",
       "  <thead>\n",
       "    <tr style=\"text-align: right;\">\n",
       "      <th></th>\n",
       "      <th>COL0</th>\n",
       "      <th>COL1</th>\n",
       "      <th>COL2</th>\n",
       "      <th>COL3</th>\n",
       "      <th>COL4</th>\n",
       "    </tr>\n",
       "  </thead>\n",
       "  <tbody>\n",
       "    <tr>\n",
       "      <th>0</th>\n",
       "      <td>1</td>\n",
       "      <td>60.2</td>\n",
       "      <td>70336.0</td>\n",
       "      <td>2.4</td>\n",
       "      <td>16.6</td>\n",
       "    </tr>\n",
       "    <tr>\n",
       "      <th>1</th>\n",
       "      <td>10</td>\n",
       "      <td>49.5</td>\n",
       "      <td>67272.0</td>\n",
       "      <td>2.3</td>\n",
       "      <td>10.6</td>\n",
       "    </tr>\n",
       "    <tr>\n",
       "      <th>2</th>\n",
       "      <td>11</td>\n",
       "      <td>58.2</td>\n",
       "      <td>61163.0</td>\n",
       "      <td>2.3</td>\n",
       "      <td>11.1</td>\n",
       "    </tr>\n",
       "    <tr>\n",
       "      <th>3</th>\n",
       "      <td>12</td>\n",
       "      <td>55.2</td>\n",
       "      <td>60764.0</td>\n",
       "      <td>2.3</td>\n",
       "      <td>12.0</td>\n",
       "    </tr>\n",
       "    <tr>\n",
       "      <th>4</th>\n",
       "      <td>13</td>\n",
       "      <td>54.6</td>\n",
       "      <td>59347.0</td>\n",
       "      <td>2.3</td>\n",
       "      <td>10.3</td>\n",
       "    </tr>\n",
       "    <tr>\n",
       "      <th>5</th>\n",
       "      <td>24</td>\n",
       "      <td>59.5</td>\n",
       "      <td>59822.0</td>\n",
       "      <td>2.3</td>\n",
       "      <td>12.9</td>\n",
       "    </tr>\n",
       "    <tr>\n",
       "      <th>6</th>\n",
       "      <td>35</td>\n",
       "      <td>59.9</td>\n",
       "      <td>74287.0</td>\n",
       "      <td>2.6</td>\n",
       "      <td>19.8</td>\n",
       "    </tr>\n",
       "    <tr>\n",
       "      <th>7</th>\n",
       "      <td>46</td>\n",
       "      <td>61.7</td>\n",
       "      <td>68147.0</td>\n",
       "      <td>2.5</td>\n",
       "      <td>11.4</td>\n",
       "    </tr>\n",
       "    <tr>\n",
       "      <th>8</th>\n",
       "      <td>47</td>\n",
       "      <td>63.5</td>\n",
       "      <td>75412.0</td>\n",
       "      <td>2.5</td>\n",
       "      <td>12.1</td>\n",
       "    </tr>\n",
       "    <tr>\n",
       "      <th>9</th>\n",
       "      <td>48</td>\n",
       "      <td>65.4</td>\n",
       "      <td>93835.0</td>\n",
       "      <td>2.6</td>\n",
       "      <td>15.1</td>\n",
       "    </tr>\n",
       "    <tr>\n",
       "      <th>10</th>\n",
       "      <td>59</td>\n",
       "      <td>59.6</td>\n",
       "      <td>69995.0</td>\n",
       "      <td>2.4</td>\n",
       "      <td>20.7</td>\n",
       "    </tr>\n",
       "    <tr>\n",
       "      <th>11</th>\n",
       "      <td>60</td>\n",
       "      <td>68.5</td>\n",
       "      <td>84521.0</td>\n",
       "      <td>2.3</td>\n",
       "      <td>12.7</td>\n",
       "    </tr>\n",
       "    <tr>\n",
       "      <th>12</th>\n",
       "      <td>61</td>\n",
       "      <td>66.2</td>\n",
       "      <td>117688.0</td>\n",
       "      <td>2.7</td>\n",
       "      <td>9.0</td>\n",
       "    </tr>\n",
       "    <tr>\n",
       "      <th>13</th>\n",
       "      <td>62</td>\n",
       "      <td>53.6</td>\n",
       "      <td>97441.0</td>\n",
       "      <td>3.6</td>\n",
       "      <td>7.9</td>\n",
       "    </tr>\n",
       "  </tbody>\n",
       "</table>\n",
       "</div>"
      ],
      "text/plain": [
       "    COL0  COL1      COL2  COL3  COL4\n",
       "0      1  60.2   70336.0   2.4  16.6\n",
       "1     10  49.5   67272.0   2.3  10.6\n",
       "2     11  58.2   61163.0   2.3  11.1\n",
       "3     12  55.2   60764.0   2.3  12.0\n",
       "4     13  54.6   59347.0   2.3  10.3\n",
       "5     24  59.5   59822.0   2.3  12.9\n",
       "6     35  59.9   74287.0   2.6  19.8\n",
       "7     46  61.7   68147.0   2.5  11.4\n",
       "8     47  63.5   75412.0   2.5  12.1\n",
       "9     48  65.4   93835.0   2.6  15.1\n",
       "10    59  59.6   69995.0   2.4  20.7\n",
       "11    60  68.5   84521.0   2.3  12.7\n",
       "12    61  66.2  117688.0   2.7   9.0\n",
       "13    62  53.6   97441.0   3.6   7.9"
      ]
     },
     "execution_count": 22,
     "metadata": {},
     "output_type": "execute_result"
    }
   ],
   "source": [
    "prov_data = pd.read_csv('provincial_data.csv')\n",
    "prov_data"
   ]
  },
  {
   "cell_type": "markdown",
   "id": "75aebbdf",
   "metadata": {},
   "source": [
    "\n",
    "```\n",
    "COL0 - GEO UID\n",
    "COL1 - Labour - Total Sex / Employment rate\n",
    "COL2 - Income - Total Sex / Total - Income statistics in 2015 for private households by household size - 100% data / Median total income of households in 2015 ($)\n",
    "COL3 - Dwelling characteristics / Average household size\n",
    "\n",
    "COL4 - Housing - Total Sex / Total - Owner households in non-farm, non-reserve private dwellings - 25% sample data / % of owner households spending 30% or more of its income on shelter costs\n",
    "```"
   ]
  },
  {
   "cell_type": "markdown",
   "id": "c654ec9b",
   "metadata": {},
   "source": [
    "Let's give the columns meaningful names."
   ]
  },
  {
   "cell_type": "code",
   "execution_count": 23,
   "id": "b2389c5e",
   "metadata": {},
   "outputs": [
    {
     "data": {
      "text/html": [
       "<div>\n",
       "<style scoped>\n",
       "    .dataframe tbody tr th:only-of-type {\n",
       "        vertical-align: middle;\n",
       "    }\n",
       "\n",
       "    .dataframe tbody tr th {\n",
       "        vertical-align: top;\n",
       "    }\n",
       "\n",
       "    .dataframe thead th {\n",
       "        text-align: right;\n",
       "    }\n",
       "</style>\n",
       "<table border=\"1\" class=\"dataframe\">\n",
       "  <thead>\n",
       "    <tr style=\"text-align: right;\">\n",
       "      <th></th>\n",
       "      <th>Prov</th>\n",
       "      <th>Employment Rate</th>\n",
       "      <th>Income</th>\n",
       "      <th>Household Size</th>\n",
       "      <th>Pct house over 30</th>\n",
       "    </tr>\n",
       "  </thead>\n",
       "  <tbody>\n",
       "    <tr>\n",
       "      <th>0</th>\n",
       "      <td>1</td>\n",
       "      <td>60.2</td>\n",
       "      <td>70336.0</td>\n",
       "      <td>2.4</td>\n",
       "      <td>16.6</td>\n",
       "    </tr>\n",
       "    <tr>\n",
       "      <th>1</th>\n",
       "      <td>10</td>\n",
       "      <td>49.5</td>\n",
       "      <td>67272.0</td>\n",
       "      <td>2.3</td>\n",
       "      <td>10.6</td>\n",
       "    </tr>\n",
       "    <tr>\n",
       "      <th>2</th>\n",
       "      <td>11</td>\n",
       "      <td>58.2</td>\n",
       "      <td>61163.0</td>\n",
       "      <td>2.3</td>\n",
       "      <td>11.1</td>\n",
       "    </tr>\n",
       "    <tr>\n",
       "      <th>3</th>\n",
       "      <td>12</td>\n",
       "      <td>55.2</td>\n",
       "      <td>60764.0</td>\n",
       "      <td>2.3</td>\n",
       "      <td>12.0</td>\n",
       "    </tr>\n",
       "    <tr>\n",
       "      <th>4</th>\n",
       "      <td>13</td>\n",
       "      <td>54.6</td>\n",
       "      <td>59347.0</td>\n",
       "      <td>2.3</td>\n",
       "      <td>10.3</td>\n",
       "    </tr>\n",
       "    <tr>\n",
       "      <th>5</th>\n",
       "      <td>24</td>\n",
       "      <td>59.5</td>\n",
       "      <td>59822.0</td>\n",
       "      <td>2.3</td>\n",
       "      <td>12.9</td>\n",
       "    </tr>\n",
       "    <tr>\n",
       "      <th>6</th>\n",
       "      <td>35</td>\n",
       "      <td>59.9</td>\n",
       "      <td>74287.0</td>\n",
       "      <td>2.6</td>\n",
       "      <td>19.8</td>\n",
       "    </tr>\n",
       "    <tr>\n",
       "      <th>7</th>\n",
       "      <td>46</td>\n",
       "      <td>61.7</td>\n",
       "      <td>68147.0</td>\n",
       "      <td>2.5</td>\n",
       "      <td>11.4</td>\n",
       "    </tr>\n",
       "    <tr>\n",
       "      <th>8</th>\n",
       "      <td>47</td>\n",
       "      <td>63.5</td>\n",
       "      <td>75412.0</td>\n",
       "      <td>2.5</td>\n",
       "      <td>12.1</td>\n",
       "    </tr>\n",
       "    <tr>\n",
       "      <th>9</th>\n",
       "      <td>48</td>\n",
       "      <td>65.4</td>\n",
       "      <td>93835.0</td>\n",
       "      <td>2.6</td>\n",
       "      <td>15.1</td>\n",
       "    </tr>\n",
       "    <tr>\n",
       "      <th>10</th>\n",
       "      <td>59</td>\n",
       "      <td>59.6</td>\n",
       "      <td>69995.0</td>\n",
       "      <td>2.4</td>\n",
       "      <td>20.7</td>\n",
       "    </tr>\n",
       "    <tr>\n",
       "      <th>11</th>\n",
       "      <td>60</td>\n",
       "      <td>68.5</td>\n",
       "      <td>84521.0</td>\n",
       "      <td>2.3</td>\n",
       "      <td>12.7</td>\n",
       "    </tr>\n",
       "    <tr>\n",
       "      <th>12</th>\n",
       "      <td>61</td>\n",
       "      <td>66.2</td>\n",
       "      <td>117688.0</td>\n",
       "      <td>2.7</td>\n",
       "      <td>9.0</td>\n",
       "    </tr>\n",
       "    <tr>\n",
       "      <th>13</th>\n",
       "      <td>62</td>\n",
       "      <td>53.6</td>\n",
       "      <td>97441.0</td>\n",
       "      <td>3.6</td>\n",
       "      <td>7.9</td>\n",
       "    </tr>\n",
       "  </tbody>\n",
       "</table>\n",
       "</div>"
      ],
      "text/plain": [
       "    Prov  Employment Rate    Income  Household Size  Pct house over 30\n",
       "0      1             60.2   70336.0             2.4               16.6\n",
       "1     10             49.5   67272.0             2.3               10.6\n",
       "2     11             58.2   61163.0             2.3               11.1\n",
       "3     12             55.2   60764.0             2.3               12.0\n",
       "4     13             54.6   59347.0             2.3               10.3\n",
       "5     24             59.5   59822.0             2.3               12.9\n",
       "6     35             59.9   74287.0             2.6               19.8\n",
       "7     46             61.7   68147.0             2.5               11.4\n",
       "8     47             63.5   75412.0             2.5               12.1\n",
       "9     48             65.4   93835.0             2.6               15.1\n",
       "10    59             59.6   69995.0             2.4               20.7\n",
       "11    60             68.5   84521.0             2.3               12.7\n",
       "12    61             66.2  117688.0             2.7                9.0\n",
       "13    62             53.6   97441.0             3.6                7.9"
      ]
     },
     "execution_count": 23,
     "metadata": {},
     "output_type": "execute_result"
    }
   ],
   "source": [
    "colnames = {'COL0':'Prov', \n",
    "            'COL1':'Employment Rate', \n",
    "            'COL2':'Income',\n",
    "            'COL3': 'Household Size',\n",
    "            'COL4': 'Pct house over 30'}\n",
    "\n",
    "prov_data.rename(columns = colnames, inplace=True)\n",
    "prov_data"
   ]
  },
  {
   "cell_type": "markdown",
   "id": "ee1f11f0",
   "metadata": {},
   "source": [
    "Let's give the columns meaningful names."
   ]
  },
  {
   "cell_type": "code",
   "execution_count": 24,
   "id": "327a4cf4",
   "metadata": {},
   "outputs": [
    {
     "data": {
      "text/html": [
       "<div>\n",
       "<style scoped>\n",
       "    .dataframe tbody tr th:only-of-type {\n",
       "        vertical-align: middle;\n",
       "    }\n",
       "\n",
       "    .dataframe tbody tr th {\n",
       "        vertical-align: top;\n",
       "    }\n",
       "\n",
       "    .dataframe thead th {\n",
       "        text-align: right;\n",
       "    }\n",
       "</style>\n",
       "<table border=\"1\" class=\"dataframe\">\n",
       "  <thead>\n",
       "    <tr style=\"text-align: right;\">\n",
       "      <th></th>\n",
       "      <th>Prov</th>\n",
       "      <th>Employment Rate</th>\n",
       "      <th>Income</th>\n",
       "      <th>Household Size</th>\n",
       "      <th>Pct house over 30</th>\n",
       "    </tr>\n",
       "  </thead>\n",
       "  <tbody>\n",
       "    <tr>\n",
       "      <th>0</th>\n",
       "      <td>1</td>\n",
       "      <td>60.2</td>\n",
       "      <td>70336.0</td>\n",
       "      <td>2.4</td>\n",
       "      <td>16.6</td>\n",
       "    </tr>\n",
       "    <tr>\n",
       "      <th>1</th>\n",
       "      <td>10</td>\n",
       "      <td>49.5</td>\n",
       "      <td>67272.0</td>\n",
       "      <td>2.3</td>\n",
       "      <td>10.6</td>\n",
       "    </tr>\n",
       "    <tr>\n",
       "      <th>2</th>\n",
       "      <td>11</td>\n",
       "      <td>58.2</td>\n",
       "      <td>61163.0</td>\n",
       "      <td>2.3</td>\n",
       "      <td>11.1</td>\n",
       "    </tr>\n",
       "    <tr>\n",
       "      <th>3</th>\n",
       "      <td>12</td>\n",
       "      <td>55.2</td>\n",
       "      <td>60764.0</td>\n",
       "      <td>2.3</td>\n",
       "      <td>12.0</td>\n",
       "    </tr>\n",
       "    <tr>\n",
       "      <th>4</th>\n",
       "      <td>13</td>\n",
       "      <td>54.6</td>\n",
       "      <td>59347.0</td>\n",
       "      <td>2.3</td>\n",
       "      <td>10.3</td>\n",
       "    </tr>\n",
       "    <tr>\n",
       "      <th>5</th>\n",
       "      <td>24</td>\n",
       "      <td>59.5</td>\n",
       "      <td>59822.0</td>\n",
       "      <td>2.3</td>\n",
       "      <td>12.9</td>\n",
       "    </tr>\n",
       "    <tr>\n",
       "      <th>6</th>\n",
       "      <td>35</td>\n",
       "      <td>59.9</td>\n",
       "      <td>74287.0</td>\n",
       "      <td>2.6</td>\n",
       "      <td>19.8</td>\n",
       "    </tr>\n",
       "    <tr>\n",
       "      <th>7</th>\n",
       "      <td>46</td>\n",
       "      <td>61.7</td>\n",
       "      <td>68147.0</td>\n",
       "      <td>2.5</td>\n",
       "      <td>11.4</td>\n",
       "    </tr>\n",
       "    <tr>\n",
       "      <th>8</th>\n",
       "      <td>47</td>\n",
       "      <td>63.5</td>\n",
       "      <td>75412.0</td>\n",
       "      <td>2.5</td>\n",
       "      <td>12.1</td>\n",
       "    </tr>\n",
       "    <tr>\n",
       "      <th>9</th>\n",
       "      <td>48</td>\n",
       "      <td>65.4</td>\n",
       "      <td>93835.0</td>\n",
       "      <td>2.6</td>\n",
       "      <td>15.1</td>\n",
       "    </tr>\n",
       "    <tr>\n",
       "      <th>10</th>\n",
       "      <td>59</td>\n",
       "      <td>59.6</td>\n",
       "      <td>69995.0</td>\n",
       "      <td>2.4</td>\n",
       "      <td>20.7</td>\n",
       "    </tr>\n",
       "    <tr>\n",
       "      <th>11</th>\n",
       "      <td>60</td>\n",
       "      <td>68.5</td>\n",
       "      <td>84521.0</td>\n",
       "      <td>2.3</td>\n",
       "      <td>12.7</td>\n",
       "    </tr>\n",
       "    <tr>\n",
       "      <th>12</th>\n",
       "      <td>61</td>\n",
       "      <td>66.2</td>\n",
       "      <td>117688.0</td>\n",
       "      <td>2.7</td>\n",
       "      <td>9.0</td>\n",
       "    </tr>\n",
       "    <tr>\n",
       "      <th>13</th>\n",
       "      <td>62</td>\n",
       "      <td>53.6</td>\n",
       "      <td>97441.0</td>\n",
       "      <td>3.6</td>\n",
       "      <td>7.9</td>\n",
       "    </tr>\n",
       "  </tbody>\n",
       "</table>\n",
       "</div>"
      ],
      "text/plain": [
       "    Prov  Employment Rate    Income  Household Size  Pct house over 30\n",
       "0      1             60.2   70336.0             2.4               16.6\n",
       "1     10             49.5   67272.0             2.3               10.6\n",
       "2     11             58.2   61163.0             2.3               11.1\n",
       "3     12             55.2   60764.0             2.3               12.0\n",
       "4     13             54.6   59347.0             2.3               10.3\n",
       "5     24             59.5   59822.0             2.3               12.9\n",
       "6     35             59.9   74287.0             2.6               19.8\n",
       "7     46             61.7   68147.0             2.5               11.4\n",
       "8     47             63.5   75412.0             2.5               12.1\n",
       "9     48             65.4   93835.0             2.6               15.1\n",
       "10    59             59.6   69995.0             2.4               20.7\n",
       "11    60             68.5   84521.0             2.3               12.7\n",
       "12    61             66.2  117688.0             2.7                9.0\n",
       "13    62             53.6   97441.0             3.6                7.9"
      ]
     },
     "execution_count": 24,
     "metadata": {},
     "output_type": "execute_result"
    }
   ],
   "source": [
    "prov_data.rename(columns = {'COL0':'Prov', \n",
    "                            'COL1':'Employment Rate', \n",
    "                            'COL2':'Income',\n",
    "                            'COL3': 'Household Size',\n",
    "                            'COL4': 'Pct house over 30'}, inplace=True)\n",
    "prov_data"
   ]
  },
  {
   "cell_type": "markdown",
   "id": "99a8fdd0",
   "metadata": {},
   "source": [
    "But, what do the codes provincial codes represent?"
   ]
  },
  {
   "cell_type": "markdown",
   "id": "b839bd6c",
   "metadata": {},
   "source": [
    "# Web Scrapping a Table"
   ]
  },
  {
   "cell_type": "markdown",
   "id": "8f8287da",
   "metadata": {},
   "source": [
    "<!-- \n",
    "<img src=\"statscanwebpage.png\" width=\"600\" height=\"200\"> \n",
    "-->\n",
    "\n",
    "![](statscanwebpage.png)"
   ]
  },
  {
   "cell_type": "markdown",
   "id": "e0a533dc",
   "metadata": {},
   "source": [
    "- `pandas` can read *some* tables from websites using the function `read_html()`. \n",
    "\n",
    "- You won't have to know how to do this for any table, and we will help you with the coding."
   ]
  },
  {
   "cell_type": "code",
   "execution_count": 25,
   "id": "1163958c",
   "metadata": {},
   "outputs": [],
   "source": [
    "statscanurl = 'https://www12.statcan.gc.ca/census-recensement/2016/ref/dict/geo038-eng.cfm'\n",
    "\n",
    "statscan = pd.read_html(statscanurl)\n",
    "\n",
    "statscan_df = statscan[0]"
   ]
  },
  {
   "cell_type": "code",
   "execution_count": 26,
   "id": "4fdd0658",
   "metadata": {},
   "outputs": [
    {
     "data": {
      "text/html": [
       "<div>\n",
       "<style scoped>\n",
       "    .dataframe tbody tr th:only-of-type {\n",
       "        vertical-align: middle;\n",
       "    }\n",
       "\n",
       "    .dataframe tbody tr th {\n",
       "        vertical-align: top;\n",
       "    }\n",
       "\n",
       "    .dataframe thead th {\n",
       "        text-align: right;\n",
       "    }\n",
       "</style>\n",
       "<table border=\"1\" class=\"dataframe\">\n",
       "  <thead>\n",
       "    <tr style=\"text-align: right;\">\n",
       "      <th></th>\n",
       "      <th>Province/Territory</th>\n",
       "      <th>Standard abbreviationsEnglish/French</th>\n",
       "      <th>Internationally approvedalpha code(Source: Canada Post)</th>\n",
       "      <th>Standard geographicalclassification (SGC) code</th>\n",
       "      <th>Region name</th>\n",
       "    </tr>\n",
       "  </thead>\n",
       "  <tbody>\n",
       "    <tr>\n",
       "      <th>0</th>\n",
       "      <td>Newfoundland and Labrador</td>\n",
       "      <td>N.L./T.-N.-L.</td>\n",
       "      <td>NL</td>\n",
       "      <td>10</td>\n",
       "      <td>Atlantic</td>\n",
       "    </tr>\n",
       "    <tr>\n",
       "      <th>1</th>\n",
       "      <td>Prince Edward Island</td>\n",
       "      <td>P.E.I./Î.-P.-É.</td>\n",
       "      <td>PE</td>\n",
       "      <td>11</td>\n",
       "      <td>Atlantic</td>\n",
       "    </tr>\n",
       "    <tr>\n",
       "      <th>2</th>\n",
       "      <td>Nova Scotia</td>\n",
       "      <td>N.S./N.-É.</td>\n",
       "      <td>NS</td>\n",
       "      <td>12</td>\n",
       "      <td>Atlantic</td>\n",
       "    </tr>\n",
       "    <tr>\n",
       "      <th>3</th>\n",
       "      <td>New Brunswick</td>\n",
       "      <td>N.B./N.-B.</td>\n",
       "      <td>NB</td>\n",
       "      <td>13</td>\n",
       "      <td>Atlantic</td>\n",
       "    </tr>\n",
       "    <tr>\n",
       "      <th>4</th>\n",
       "      <td>Quebec</td>\n",
       "      <td>Que./Qc</td>\n",
       "      <td>QC</td>\n",
       "      <td>24</td>\n",
       "      <td>Quebec</td>\n",
       "    </tr>\n",
       "    <tr>\n",
       "      <th>5</th>\n",
       "      <td>Ontario</td>\n",
       "      <td>Ont./Ont.</td>\n",
       "      <td>ON</td>\n",
       "      <td>35</td>\n",
       "      <td>Ontario</td>\n",
       "    </tr>\n",
       "    <tr>\n",
       "      <th>6</th>\n",
       "      <td>Manitoba</td>\n",
       "      <td>Man./Man.</td>\n",
       "      <td>MB</td>\n",
       "      <td>46</td>\n",
       "      <td>Prairies</td>\n",
       "    </tr>\n",
       "    <tr>\n",
       "      <th>7</th>\n",
       "      <td>Saskatchewan</td>\n",
       "      <td>Sask./Sask.</td>\n",
       "      <td>SK</td>\n",
       "      <td>47</td>\n",
       "      <td>Prairies</td>\n",
       "    </tr>\n",
       "    <tr>\n",
       "      <th>8</th>\n",
       "      <td>Alberta</td>\n",
       "      <td>Alta./Alb.</td>\n",
       "      <td>AB</td>\n",
       "      <td>48</td>\n",
       "      <td>Prairies</td>\n",
       "    </tr>\n",
       "    <tr>\n",
       "      <th>9</th>\n",
       "      <td>British Columbia</td>\n",
       "      <td>B.C./C.-B.</td>\n",
       "      <td>BC</td>\n",
       "      <td>59</td>\n",
       "      <td>British Columbia</td>\n",
       "    </tr>\n",
       "    <tr>\n",
       "      <th>10</th>\n",
       "      <td>Yukon</td>\n",
       "      <td>Y.T./Yn</td>\n",
       "      <td>YT</td>\n",
       "      <td>60</td>\n",
       "      <td>Territories</td>\n",
       "    </tr>\n",
       "    <tr>\n",
       "      <th>11</th>\n",
       "      <td>Northwest Territories</td>\n",
       "      <td>N.W.T./T.N.-O.</td>\n",
       "      <td>NT</td>\n",
       "      <td>61</td>\n",
       "      <td>Territories</td>\n",
       "    </tr>\n",
       "    <tr>\n",
       "      <th>12</th>\n",
       "      <td>Nunavut</td>\n",
       "      <td>Nvt./Nt</td>\n",
       "      <td>NU</td>\n",
       "      <td>62</td>\n",
       "      <td>Territories</td>\n",
       "    </tr>\n",
       "    <tr>\n",
       "      <th>13</th>\n",
       "      <td>Source: Statistics Canada, 2016 Census of Popu...</td>\n",
       "      <td>Source: Statistics Canada, 2016 Census of Popu...</td>\n",
       "      <td>Source: Statistics Canada, 2016 Census of Popu...</td>\n",
       "      <td>Source: Statistics Canada, 2016 Census of Popu...</td>\n",
       "      <td>Source: Statistics Canada, 2016 Census of Popu...</td>\n",
       "    </tr>\n",
       "  </tbody>\n",
       "</table>\n",
       "</div>"
      ],
      "text/plain": [
       "                                   Province/Territory  \\\n",
       "0                           Newfoundland and Labrador   \n",
       "1                                Prince Edward Island   \n",
       "2                                         Nova Scotia   \n",
       "3                                       New Brunswick   \n",
       "4                                              Quebec   \n",
       "5                                             Ontario   \n",
       "6                                            Manitoba   \n",
       "7                                        Saskatchewan   \n",
       "8                                             Alberta   \n",
       "9                                    British Columbia   \n",
       "10                                              Yukon   \n",
       "11                              Northwest Territories   \n",
       "12                                            Nunavut   \n",
       "13  Source: Statistics Canada, 2016 Census of Popu...   \n",
       "\n",
       "                 Standard abbreviationsEnglish/French  \\\n",
       "0                                       N.L./T.-N.-L.   \n",
       "1                                     P.E.I./Î.-P.-É.   \n",
       "2                                          N.S./N.-É.   \n",
       "3                                          N.B./N.-B.   \n",
       "4                                             Que./Qc   \n",
       "5                                           Ont./Ont.   \n",
       "6                                           Man./Man.   \n",
       "7                                         Sask./Sask.   \n",
       "8                                          Alta./Alb.   \n",
       "9                                          B.C./C.-B.   \n",
       "10                                            Y.T./Yn   \n",
       "11                                     N.W.T./T.N.-O.   \n",
       "12                                            Nvt./Nt   \n",
       "13  Source: Statistics Canada, 2016 Census of Popu...   \n",
       "\n",
       "   Internationally approvedalpha code(Source: Canada Post)  \\\n",
       "0                                                  NL        \n",
       "1                                                  PE        \n",
       "2                                                  NS        \n",
       "3                                                  NB        \n",
       "4                                                  QC        \n",
       "5                                                  ON        \n",
       "6                                                  MB        \n",
       "7                                                  SK        \n",
       "8                                                  AB        \n",
       "9                                                  BC        \n",
       "10                                                 YT        \n",
       "11                                                 NT        \n",
       "12                                                 NU        \n",
       "13  Source: Statistics Canada, 2016 Census of Popu...        \n",
       "\n",
       "       Standard geographicalclassification (SGC) code  \\\n",
       "0                                                  10   \n",
       "1                                                  11   \n",
       "2                                                  12   \n",
       "3                                                  13   \n",
       "4                                                  24   \n",
       "5                                                  35   \n",
       "6                                                  46   \n",
       "7                                                  47   \n",
       "8                                                  48   \n",
       "9                                                  59   \n",
       "10                                                 60   \n",
       "11                                                 61   \n",
       "12                                                 62   \n",
       "13  Source: Statistics Canada, 2016 Census of Popu...   \n",
       "\n",
       "                                          Region name  \n",
       "0                                            Atlantic  \n",
       "1                                            Atlantic  \n",
       "2                                            Atlantic  \n",
       "3                                            Atlantic  \n",
       "4                                              Quebec  \n",
       "5                                             Ontario  \n",
       "6                                            Prairies  \n",
       "7                                            Prairies  \n",
       "8                                            Prairies  \n",
       "9                                    British Columbia  \n",
       "10                                        Territories  \n",
       "11                                        Territories  \n",
       "12                                        Territories  \n",
       "13  Source: Statistics Canada, 2016 Census of Popu...  "
      ]
     },
     "execution_count": 26,
     "metadata": {},
     "output_type": "execute_result"
    }
   ],
   "source": [
    "statscan_df"
   ]
  },
  {
   "cell_type": "markdown",
   "id": "123734e1",
   "metadata": {},
   "source": [
    "Let's exclude the last row (row 14), and keep the third and fourth columns."
   ]
  },
  {
   "cell_type": "code",
   "execution_count": 27,
   "id": "4c4296a6",
   "metadata": {},
   "outputs": [
    {
     "data": {
      "text/html": [
       "<div>\n",
       "<style scoped>\n",
       "    .dataframe tbody tr th:only-of-type {\n",
       "        vertical-align: middle;\n",
       "    }\n",
       "\n",
       "    .dataframe tbody tr th {\n",
       "        vertical-align: top;\n",
       "    }\n",
       "\n",
       "    .dataframe thead th {\n",
       "        text-align: right;\n",
       "    }\n",
       "</style>\n",
       "<table border=\"1\" class=\"dataframe\">\n",
       "  <thead>\n",
       "    <tr style=\"text-align: right;\">\n",
       "      <th></th>\n",
       "      <th>Internationally approvedalpha code(Source: Canada Post)</th>\n",
       "      <th>Standard geographicalclassification (SGC) code</th>\n",
       "    </tr>\n",
       "  </thead>\n",
       "  <tbody>\n",
       "    <tr>\n",
       "      <th>0</th>\n",
       "      <td>NL</td>\n",
       "      <td>10</td>\n",
       "    </tr>\n",
       "    <tr>\n",
       "      <th>1</th>\n",
       "      <td>PE</td>\n",
       "      <td>11</td>\n",
       "    </tr>\n",
       "    <tr>\n",
       "      <th>2</th>\n",
       "      <td>NS</td>\n",
       "      <td>12</td>\n",
       "    </tr>\n",
       "    <tr>\n",
       "      <th>3</th>\n",
       "      <td>NB</td>\n",
       "      <td>13</td>\n",
       "    </tr>\n",
       "    <tr>\n",
       "      <th>4</th>\n",
       "      <td>QC</td>\n",
       "      <td>24</td>\n",
       "    </tr>\n",
       "    <tr>\n",
       "      <th>5</th>\n",
       "      <td>ON</td>\n",
       "      <td>35</td>\n",
       "    </tr>\n",
       "    <tr>\n",
       "      <th>6</th>\n",
       "      <td>MB</td>\n",
       "      <td>46</td>\n",
       "    </tr>\n",
       "    <tr>\n",
       "      <th>7</th>\n",
       "      <td>SK</td>\n",
       "      <td>47</td>\n",
       "    </tr>\n",
       "    <tr>\n",
       "      <th>8</th>\n",
       "      <td>AB</td>\n",
       "      <td>48</td>\n",
       "    </tr>\n",
       "    <tr>\n",
       "      <th>9</th>\n",
       "      <td>BC</td>\n",
       "      <td>59</td>\n",
       "    </tr>\n",
       "    <tr>\n",
       "      <th>10</th>\n",
       "      <td>YT</td>\n",
       "      <td>60</td>\n",
       "    </tr>\n",
       "    <tr>\n",
       "      <th>11</th>\n",
       "      <td>NT</td>\n",
       "      <td>61</td>\n",
       "    </tr>\n",
       "    <tr>\n",
       "      <th>12</th>\n",
       "      <td>NU</td>\n",
       "      <td>62</td>\n",
       "    </tr>\n",
       "  </tbody>\n",
       "</table>\n",
       "</div>"
      ],
      "text/plain": [
       "   Internationally approvedalpha code(Source: Canada Post)  \\\n",
       "0                                                  NL        \n",
       "1                                                  PE        \n",
       "2                                                  NS        \n",
       "3                                                  NB        \n",
       "4                                                  QC        \n",
       "5                                                  ON        \n",
       "6                                                  MB        \n",
       "7                                                  SK        \n",
       "8                                                  AB        \n",
       "9                                                  BC        \n",
       "10                                                 YT        \n",
       "11                                                 NT        \n",
       "12                                                 NU        \n",
       "\n",
       "   Standard geographicalclassification (SGC) code  \n",
       "0                                              10  \n",
       "1                                              11  \n",
       "2                                              12  \n",
       "3                                              13  \n",
       "4                                              24  \n",
       "5                                              35  \n",
       "6                                              46  \n",
       "7                                              47  \n",
       "8                                              48  \n",
       "9                                              59  \n",
       "10                                             60  \n",
       "11                                             61  \n",
       "12                                             62  "
      ]
     },
     "execution_count": 27,
     "metadata": {},
     "output_type": "execute_result"
    }
   ],
   "source": [
    "statscan_df.iloc[0:13, 2:4]"
   ]
  },
  {
   "cell_type": "code",
   "execution_count": 28,
   "id": "9fe0664c",
   "metadata": {},
   "outputs": [
    {
     "data": {
      "text/html": [
       "<div>\n",
       "<style scoped>\n",
       "    .dataframe tbody tr th:only-of-type {\n",
       "        vertical-align: middle;\n",
       "    }\n",
       "\n",
       "    .dataframe tbody tr th {\n",
       "        vertical-align: top;\n",
       "    }\n",
       "\n",
       "    .dataframe thead th {\n",
       "        text-align: right;\n",
       "    }\n",
       "</style>\n",
       "<table border=\"1\" class=\"dataframe\">\n",
       "  <thead>\n",
       "    <tr style=\"text-align: right;\">\n",
       "      <th></th>\n",
       "      <th>Internationally approvedalpha code(Source: Canada Post)</th>\n",
       "      <th>Standard geographicalclassification (SGC) code</th>\n",
       "    </tr>\n",
       "  </thead>\n",
       "  <tbody>\n",
       "    <tr>\n",
       "      <th>0</th>\n",
       "      <td>NL</td>\n",
       "      <td>10</td>\n",
       "    </tr>\n",
       "    <tr>\n",
       "      <th>1</th>\n",
       "      <td>PE</td>\n",
       "      <td>11</td>\n",
       "    </tr>\n",
       "    <tr>\n",
       "      <th>2</th>\n",
       "      <td>NS</td>\n",
       "      <td>12</td>\n",
       "    </tr>\n",
       "    <tr>\n",
       "      <th>3</th>\n",
       "      <td>NB</td>\n",
       "      <td>13</td>\n",
       "    </tr>\n",
       "    <tr>\n",
       "      <th>4</th>\n",
       "      <td>QC</td>\n",
       "      <td>24</td>\n",
       "    </tr>\n",
       "    <tr>\n",
       "      <th>5</th>\n",
       "      <td>ON</td>\n",
       "      <td>35</td>\n",
       "    </tr>\n",
       "    <tr>\n",
       "      <th>6</th>\n",
       "      <td>MB</td>\n",
       "      <td>46</td>\n",
       "    </tr>\n",
       "    <tr>\n",
       "      <th>7</th>\n",
       "      <td>SK</td>\n",
       "      <td>47</td>\n",
       "    </tr>\n",
       "    <tr>\n",
       "      <th>8</th>\n",
       "      <td>AB</td>\n",
       "      <td>48</td>\n",
       "    </tr>\n",
       "    <tr>\n",
       "      <th>9</th>\n",
       "      <td>BC</td>\n",
       "      <td>59</td>\n",
       "    </tr>\n",
       "    <tr>\n",
       "      <th>10</th>\n",
       "      <td>YT</td>\n",
       "      <td>60</td>\n",
       "    </tr>\n",
       "    <tr>\n",
       "      <th>11</th>\n",
       "      <td>NT</td>\n",
       "      <td>61</td>\n",
       "    </tr>\n",
       "    <tr>\n",
       "      <th>12</th>\n",
       "      <td>NU</td>\n",
       "      <td>62</td>\n",
       "    </tr>\n",
       "  </tbody>\n",
       "</table>\n",
       "</div>"
      ],
      "text/plain": [
       "   Internationally approvedalpha code(Source: Canada Post)  \\\n",
       "0                                                  NL        \n",
       "1                                                  PE        \n",
       "2                                                  NS        \n",
       "3                                                  NB        \n",
       "4                                                  QC        \n",
       "5                                                  ON        \n",
       "6                                                  MB        \n",
       "7                                                  SK        \n",
       "8                                                  AB        \n",
       "9                                                  BC        \n",
       "10                                                 YT        \n",
       "11                                                 NT        \n",
       "12                                                 NU        \n",
       "\n",
       "   Standard geographicalclassification (SGC) code  \n",
       "0                                              10  \n",
       "1                                              11  \n",
       "2                                              12  \n",
       "3                                              13  \n",
       "4                                              24  \n",
       "5                                              35  \n",
       "6                                              46  \n",
       "7                                              47  \n",
       "8                                              48  \n",
       "9                                              59  \n",
       "10                                             60  \n",
       "11                                             61  \n",
       "12                                             62  "
      ]
     },
     "execution_count": 28,
     "metadata": {},
     "output_type": "execute_result"
    }
   ],
   "source": [
    "statscan_df1 = statscan_df.iloc[0:13, 2:4]\n",
    "statscan_df1"
   ]
  },
  {
   "cell_type": "code",
   "execution_count": 29,
   "id": "cfbfae64",
   "metadata": {},
   "outputs": [
    {
     "data": {
      "text/html": [
       "<div>\n",
       "<style scoped>\n",
       "    .dataframe tbody tr th:only-of-type {\n",
       "        vertical-align: middle;\n",
       "    }\n",
       "\n",
       "    .dataframe tbody tr th {\n",
       "        vertical-align: top;\n",
       "    }\n",
       "\n",
       "    .dataframe thead th {\n",
       "        text-align: right;\n",
       "    }\n",
       "</style>\n",
       "<table border=\"1\" class=\"dataframe\">\n",
       "  <thead>\n",
       "    <tr style=\"text-align: right;\">\n",
       "      <th></th>\n",
       "      <th>Prov_ab</th>\n",
       "      <th>Prov</th>\n",
       "    </tr>\n",
       "  </thead>\n",
       "  <tbody>\n",
       "    <tr>\n",
       "      <th>0</th>\n",
       "      <td>NL</td>\n",
       "      <td>10</td>\n",
       "    </tr>\n",
       "    <tr>\n",
       "      <th>1</th>\n",
       "      <td>PE</td>\n",
       "      <td>11</td>\n",
       "    </tr>\n",
       "    <tr>\n",
       "      <th>2</th>\n",
       "      <td>NS</td>\n",
       "      <td>12</td>\n",
       "    </tr>\n",
       "    <tr>\n",
       "      <th>3</th>\n",
       "      <td>NB</td>\n",
       "      <td>13</td>\n",
       "    </tr>\n",
       "    <tr>\n",
       "      <th>4</th>\n",
       "      <td>QC</td>\n",
       "      <td>24</td>\n",
       "    </tr>\n",
       "    <tr>\n",
       "      <th>5</th>\n",
       "      <td>ON</td>\n",
       "      <td>35</td>\n",
       "    </tr>\n",
       "    <tr>\n",
       "      <th>6</th>\n",
       "      <td>MB</td>\n",
       "      <td>46</td>\n",
       "    </tr>\n",
       "    <tr>\n",
       "      <th>7</th>\n",
       "      <td>SK</td>\n",
       "      <td>47</td>\n",
       "    </tr>\n",
       "    <tr>\n",
       "      <th>8</th>\n",
       "      <td>AB</td>\n",
       "      <td>48</td>\n",
       "    </tr>\n",
       "    <tr>\n",
       "      <th>9</th>\n",
       "      <td>BC</td>\n",
       "      <td>59</td>\n",
       "    </tr>\n",
       "    <tr>\n",
       "      <th>10</th>\n",
       "      <td>YT</td>\n",
       "      <td>60</td>\n",
       "    </tr>\n",
       "    <tr>\n",
       "      <th>11</th>\n",
       "      <td>NT</td>\n",
       "      <td>61</td>\n",
       "    </tr>\n",
       "    <tr>\n",
       "      <th>12</th>\n",
       "      <td>NU</td>\n",
       "      <td>62</td>\n",
       "    </tr>\n",
       "  </tbody>\n",
       "</table>\n",
       "</div>"
      ],
      "text/plain": [
       "   Prov_ab Prov\n",
       "0       NL   10\n",
       "1       PE   11\n",
       "2       NS   12\n",
       "3       NB   13\n",
       "4       QC   24\n",
       "5       ON   35\n",
       "6       MB   46\n",
       "7       SK   47\n",
       "8       AB   48\n",
       "9       BC   59\n",
       "10      YT   60\n",
       "11      NT   61\n",
       "12      NU   62"
      ]
     },
     "execution_count": 29,
     "metadata": {},
     "output_type": "execute_result"
    }
   ],
   "source": [
    "statscan_df1_names = list(statscan_df1)\n",
    "\n",
    "colnames = {statscan_df1_names[0]: 'Prov_ab',\n",
    "            statscan_df1_names[1]: 'Prov'}\n",
    "\n",
    "statscan_df1.rename(columns = colnames, inplace = True)\n",
    "\n",
    "statscan_df1"
   ]
  },
  {
   "cell_type": "markdown",
   "id": "d5a1ff24",
   "metadata": {},
   "source": [
    "- Now let's check the types of all the columns in `statscan_df1`.\n",
    "\n",
    "- We can do this using the pandas function `dtypes`."
   ]
  },
  {
   "cell_type": "code",
   "execution_count": 30,
   "id": "2d2e1633",
   "metadata": {},
   "outputs": [
    {
     "data": {
      "text/plain": [
       "Prov_ab    object\n",
       "Prov       object\n",
       "dtype: object"
      ]
     },
     "execution_count": 30,
     "metadata": {},
     "output_type": "execute_result"
    }
   ],
   "source": [
    "statscan_df1.dtypes"
   ]
  },
  {
   "cell_type": "markdown",
   "id": "16a664f2",
   "metadata": {},
   "source": [
    "Type `object` means it's a mixture of types."
   ]
  },
  {
   "cell_type": "markdown",
   "id": "55fc08bd",
   "metadata": {},
   "source": [
    "The `Prov` column in `prov_data` type is"
   ]
  },
  {
   "cell_type": "code",
   "execution_count": 31,
   "id": "0ab0a2ce",
   "metadata": {},
   "outputs": [
    {
     "data": {
      "text/plain": [
       "0     1\n",
       "1    10\n",
       "2    11\n",
       "3    12\n",
       "4    13\n",
       "Name: Prov, dtype: int64"
      ]
     },
     "execution_count": 31,
     "metadata": {},
     "output_type": "execute_result"
    }
   ],
   "source": [
    "prov_data['Prov'].head()"
   ]
  },
  {
   "cell_type": "code",
   "execution_count": 32,
   "id": "cf698b41",
   "metadata": {},
   "outputs": [
    {
     "data": {
      "text/plain": [
       "dtype('int64')"
      ]
     },
     "execution_count": 32,
     "metadata": {},
     "output_type": "execute_result"
    }
   ],
   "source": [
    "prov_data['Prov'].dtype"
   ]
  },
  {
   "cell_type": "markdown",
   "id": "7fffc915",
   "metadata": {},
   "source": [
    "- We want to merge `statscan_df1` and `Prov` using the numbers assigned to the provinces.\n",
    "\n",
    "- So, we need to be sure that `statscan_df1[Prov]` is an integer.\n",
    "\n",
    "- We can change the type using the `pandas` function `astype()` to change the type to `int`.\n",
    "\n",
    "- Then, finally we can replace the column `Prov` with the correct type using an assignment statement."
   ]
  },
  {
   "cell_type": "code",
   "execution_count": 33,
   "id": "4d57fcdf",
   "metadata": {},
   "outputs": [
    {
     "data": {
      "text/plain": [
       "0     10\n",
       "1     11\n",
       "2     12\n",
       "3     13\n",
       "4     24\n",
       "5     35\n",
       "6     46\n",
       "7     47\n",
       "8     48\n",
       "9     59\n",
       "10    60\n",
       "11    61\n",
       "12    62\n",
       "Name: Prov, dtype: int64"
      ]
     },
     "execution_count": 33,
     "metadata": {},
     "output_type": "execute_result"
    }
   ],
   "source": [
    "Prov_int = statscan_df1['Prov'].astype('int')\n",
    "\n",
    "statscan_df1['Prov'] = Prov_int\n",
    "\n",
    "statscan_df1['Prov']"
   ]
  },
  {
   "cell_type": "markdown",
   "id": "dc4f70bf",
   "metadata": {},
   "source": [
    "Now, we are ready to use the `merge` function in `pandas`. "
   ]
  },
  {
   "cell_type": "code",
   "execution_count": 34,
   "id": "d512ab28",
   "metadata": {},
   "outputs": [
    {
     "data": {
      "text/html": [
       "<div>\n",
       "<style scoped>\n",
       "    .dataframe tbody tr th:only-of-type {\n",
       "        vertical-align: middle;\n",
       "    }\n",
       "\n",
       "    .dataframe tbody tr th {\n",
       "        vertical-align: top;\n",
       "    }\n",
       "\n",
       "    .dataframe thead th {\n",
       "        text-align: right;\n",
       "    }\n",
       "</style>\n",
       "<table border=\"1\" class=\"dataframe\">\n",
       "  <thead>\n",
       "    <tr style=\"text-align: right;\">\n",
       "      <th></th>\n",
       "      <th>Prov_ab</th>\n",
       "      <th>Prov</th>\n",
       "      <th>Employment Rate</th>\n",
       "      <th>Income</th>\n",
       "      <th>Household Size</th>\n",
       "      <th>Pct house over 30</th>\n",
       "    </tr>\n",
       "  </thead>\n",
       "  <tbody>\n",
       "    <tr>\n",
       "      <th>0</th>\n",
       "      <td>NL</td>\n",
       "      <td>10</td>\n",
       "      <td>49.5</td>\n",
       "      <td>67272.0</td>\n",
       "      <td>2.3</td>\n",
       "      <td>10.6</td>\n",
       "    </tr>\n",
       "    <tr>\n",
       "      <th>1</th>\n",
       "      <td>PE</td>\n",
       "      <td>11</td>\n",
       "      <td>58.2</td>\n",
       "      <td>61163.0</td>\n",
       "      <td>2.3</td>\n",
       "      <td>11.1</td>\n",
       "    </tr>\n",
       "    <tr>\n",
       "      <th>2</th>\n",
       "      <td>NS</td>\n",
       "      <td>12</td>\n",
       "      <td>55.2</td>\n",
       "      <td>60764.0</td>\n",
       "      <td>2.3</td>\n",
       "      <td>12.0</td>\n",
       "    </tr>\n",
       "    <tr>\n",
       "      <th>3</th>\n",
       "      <td>NB</td>\n",
       "      <td>13</td>\n",
       "      <td>54.6</td>\n",
       "      <td>59347.0</td>\n",
       "      <td>2.3</td>\n",
       "      <td>10.3</td>\n",
       "    </tr>\n",
       "    <tr>\n",
       "      <th>4</th>\n",
       "      <td>QC</td>\n",
       "      <td>24</td>\n",
       "      <td>59.5</td>\n",
       "      <td>59822.0</td>\n",
       "      <td>2.3</td>\n",
       "      <td>12.9</td>\n",
       "    </tr>\n",
       "    <tr>\n",
       "      <th>5</th>\n",
       "      <td>ON</td>\n",
       "      <td>35</td>\n",
       "      <td>59.9</td>\n",
       "      <td>74287.0</td>\n",
       "      <td>2.6</td>\n",
       "      <td>19.8</td>\n",
       "    </tr>\n",
       "    <tr>\n",
       "      <th>6</th>\n",
       "      <td>MB</td>\n",
       "      <td>46</td>\n",
       "      <td>61.7</td>\n",
       "      <td>68147.0</td>\n",
       "      <td>2.5</td>\n",
       "      <td>11.4</td>\n",
       "    </tr>\n",
       "    <tr>\n",
       "      <th>7</th>\n",
       "      <td>SK</td>\n",
       "      <td>47</td>\n",
       "      <td>63.5</td>\n",
       "      <td>75412.0</td>\n",
       "      <td>2.5</td>\n",
       "      <td>12.1</td>\n",
       "    </tr>\n",
       "    <tr>\n",
       "      <th>8</th>\n",
       "      <td>AB</td>\n",
       "      <td>48</td>\n",
       "      <td>65.4</td>\n",
       "      <td>93835.0</td>\n",
       "      <td>2.6</td>\n",
       "      <td>15.1</td>\n",
       "    </tr>\n",
       "    <tr>\n",
       "      <th>9</th>\n",
       "      <td>BC</td>\n",
       "      <td>59</td>\n",
       "      <td>59.6</td>\n",
       "      <td>69995.0</td>\n",
       "      <td>2.4</td>\n",
       "      <td>20.7</td>\n",
       "    </tr>\n",
       "    <tr>\n",
       "      <th>10</th>\n",
       "      <td>YT</td>\n",
       "      <td>60</td>\n",
       "      <td>68.5</td>\n",
       "      <td>84521.0</td>\n",
       "      <td>2.3</td>\n",
       "      <td>12.7</td>\n",
       "    </tr>\n",
       "    <tr>\n",
       "      <th>11</th>\n",
       "      <td>NT</td>\n",
       "      <td>61</td>\n",
       "      <td>66.2</td>\n",
       "      <td>117688.0</td>\n",
       "      <td>2.7</td>\n",
       "      <td>9.0</td>\n",
       "    </tr>\n",
       "    <tr>\n",
       "      <th>12</th>\n",
       "      <td>NU</td>\n",
       "      <td>62</td>\n",
       "      <td>53.6</td>\n",
       "      <td>97441.0</td>\n",
       "      <td>3.6</td>\n",
       "      <td>7.9</td>\n",
       "    </tr>\n",
       "  </tbody>\n",
       "</table>\n",
       "</div>"
      ],
      "text/plain": [
       "   Prov_ab  Prov  Employment Rate    Income  Household Size  Pct house over 30\n",
       "0       NL    10             49.5   67272.0             2.3               10.6\n",
       "1       PE    11             58.2   61163.0             2.3               11.1\n",
       "2       NS    12             55.2   60764.0             2.3               12.0\n",
       "3       NB    13             54.6   59347.0             2.3               10.3\n",
       "4       QC    24             59.5   59822.0             2.3               12.9\n",
       "5       ON    35             59.9   74287.0             2.6               19.8\n",
       "6       MB    46             61.7   68147.0             2.5               11.4\n",
       "7       SK    47             63.5   75412.0             2.5               12.1\n",
       "8       AB    48             65.4   93835.0             2.6               15.1\n",
       "9       BC    59             59.6   69995.0             2.4               20.7\n",
       "10      YT    60             68.5   84521.0             2.3               12.7\n",
       "11      NT    61             66.2  117688.0             2.7                9.0\n",
       "12      NU    62             53.6   97441.0             3.6                7.9"
      ]
     },
     "execution_count": 34,
     "metadata": {},
     "output_type": "execute_result"
    }
   ],
   "source": [
    "prov_data_df = statscan_df1.merge(prov_data, \n",
    "                                  right_on= 'Prov', # the right data frame is prov_data \n",
    "                                  left_on='Prov')   # the left data frame is prov_data \n",
    "\n",
    "prov_data_df"
   ]
  },
  {
   "cell_type": "markdown",
   "id": "72904589",
   "metadata": {},
   "source": [
    "Add a visual of what just happened using screen shots of excel tables."
   ]
  },
  {
   "cell_type": "markdown",
   "id": "96339ab1-74e7-4e63-be04-0222e3d9ef1e",
   "metadata": {},
   "source": [
    "# Class #5"
   ]
  },
  {
   "cell_type": "markdown",
   "id": "79c41057",
   "metadata": {},
   "source": [
    "# Is time spent resting different by province?\n",
    "\n",
    "## Grouped summaries of data \n",
    "\n",
    "- Many times we will want to calculate means, proportions, and other statistics by group membership.\n",
    "\n",
    "- This is so common that `pandas` has a built-in function called `groupby` that groups a data frame by another variable."
   ]
  },
  {
   "cell_type": "code",
   "execution_count": 35,
   "id": "9b88b7ba",
   "metadata": {},
   "outputs": [
    {
     "data": {
      "text/html": [
       "<div>\n",
       "<style scoped>\n",
       "    .dataframe tbody tr th:only-of-type {\n",
       "        vertical-align: middle;\n",
       "    }\n",
       "\n",
       "    .dataframe tbody tr th {\n",
       "        vertical-align: top;\n",
       "    }\n",
       "\n",
       "    .dataframe thead th {\n",
       "        text-align: right;\n",
       "    }\n",
       "</style>\n",
       "<table border=\"1\" class=\"dataframe\">\n",
       "  <thead>\n",
       "    <tr style=\"text-align: right;\">\n",
       "      <th></th>\n",
       "      <th>dur01</th>\n",
       "    </tr>\n",
       "    <tr>\n",
       "      <th>prv</th>\n",
       "      <th></th>\n",
       "    </tr>\n",
       "  </thead>\n",
       "  <tbody>\n",
       "    <tr>\n",
       "      <th>10</th>\n",
       "      <td>519.104339</td>\n",
       "    </tr>\n",
       "    <tr>\n",
       "      <th>11</th>\n",
       "      <td>534.065385</td>\n",
       "    </tr>\n",
       "    <tr>\n",
       "      <th>12</th>\n",
       "      <td>510.055019</td>\n",
       "    </tr>\n",
       "    <tr>\n",
       "      <th>13</th>\n",
       "      <td>523.340265</td>\n",
       "    </tr>\n",
       "    <tr>\n",
       "      <th>24</th>\n",
       "      <td>525.554724</td>\n",
       "    </tr>\n",
       "    <tr>\n",
       "      <th>35</th>\n",
       "      <td>516.742869</td>\n",
       "    </tr>\n",
       "    <tr>\n",
       "      <th>46</th>\n",
       "      <td>529.791411</td>\n",
       "    </tr>\n",
       "    <tr>\n",
       "      <th>47</th>\n",
       "      <td>529.470905</td>\n",
       "    </tr>\n",
       "    <tr>\n",
       "      <th>48</th>\n",
       "      <td>522.629888</td>\n",
       "    </tr>\n",
       "    <tr>\n",
       "      <th>59</th>\n",
       "      <td>528.488161</td>\n",
       "    </tr>\n",
       "  </tbody>\n",
       "</table>\n",
       "</div>"
      ],
      "text/plain": [
       "          dur01\n",
       "prv            \n",
       "10   519.104339\n",
       "11   534.065385\n",
       "12   510.055019\n",
       "13   523.340265\n",
       "24   525.554724\n",
       "35   516.742869\n",
       "46   529.791411\n",
       "47   529.470905\n",
       "48   522.629888\n",
       "59   528.488161"
      ]
     },
     "execution_count": 35,
     "metadata": {},
     "output_type": "execute_result"
    }
   ],
   "source": [
    "Restprov_df = time_use_df[['dur01','prv']]\n",
    "\n",
    "Restprov_df_grouped = Restprov_df.groupby('prv') #group the dataframe by prov\n",
    "\n",
    "Restprov_df_grouped.mean()  # calc the mean for each prov"
   ]
  },
  {
   "cell_type": "markdown",
   "id": "13c2fbd9",
   "metadata": {},
   "source": [
    "- But, what does `prv` 10 represent?\n",
    "\n",
    "- We can merge `time_use_df` and `prov_data_df` "
   ]
  },
  {
   "cell_type": "code",
   "execution_count": 36,
   "id": "60a37b60",
   "metadata": {},
   "outputs": [
    {
     "data": {
      "text/html": [
       "<div>\n",
       "<style scoped>\n",
       "    .dataframe tbody tr th:only-of-type {\n",
       "        vertical-align: middle;\n",
       "    }\n",
       "\n",
       "    .dataframe tbody tr th {\n",
       "        vertical-align: top;\n",
       "    }\n",
       "\n",
       "    .dataframe thead th {\n",
       "        text-align: right;\n",
       "    }\n",
       "</style>\n",
       "<table border=\"1\" class=\"dataframe\">\n",
       "  <thead>\n",
       "    <tr style=\"text-align: right;\">\n",
       "      <th></th>\n",
       "      <th>Prov_ab</th>\n",
       "      <th>prv</th>\n",
       "    </tr>\n",
       "  </thead>\n",
       "  <tbody>\n",
       "    <tr>\n",
       "      <th>0</th>\n",
       "      <td>MB</td>\n",
       "      <td>46</td>\n",
       "    </tr>\n",
       "    <tr>\n",
       "      <th>1</th>\n",
       "      <td>MB</td>\n",
       "      <td>46</td>\n",
       "    </tr>\n",
       "    <tr>\n",
       "      <th>2</th>\n",
       "      <td>MB</td>\n",
       "      <td>46</td>\n",
       "    </tr>\n",
       "    <tr>\n",
       "      <th>3</th>\n",
       "      <td>MB</td>\n",
       "      <td>46</td>\n",
       "    </tr>\n",
       "    <tr>\n",
       "      <th>4</th>\n",
       "      <td>MB</td>\n",
       "      <td>46</td>\n",
       "    </tr>\n",
       "  </tbody>\n",
       "</table>\n",
       "</div>"
      ],
      "text/plain": [
       "  Prov_ab  prv\n",
       "0      MB   46\n",
       "1      MB   46\n",
       "2      MB   46\n",
       "3      MB   46\n",
       "4      MB   46"
      ]
     },
     "execution_count": 36,
     "metadata": {},
     "output_type": "execute_result"
    }
   ],
   "source": [
    "time_use_prov = time_use_df.merge(prov_data_df, \n",
    "                                  left_on='prv', \n",
    "                                  right_on='Prov')\n",
    "time_use_prov[['Prov_ab','prv']].head()"
   ]
  },
  {
   "cell_type": "code",
   "execution_count": 37,
   "id": "1b17da4e",
   "metadata": {},
   "outputs": [
    {
     "data": {
      "text/html": [
       "<div>\n",
       "<style scoped>\n",
       "    .dataframe tbody tr th:only-of-type {\n",
       "        vertical-align: middle;\n",
       "    }\n",
       "\n",
       "    .dataframe tbody tr th {\n",
       "        vertical-align: top;\n",
       "    }\n",
       "\n",
       "    .dataframe thead th {\n",
       "        text-align: right;\n",
       "    }\n",
       "</style>\n",
       "<table border=\"1\" class=\"dataframe\">\n",
       "  <thead>\n",
       "    <tr style=\"text-align: right;\">\n",
       "      <th></th>\n",
       "      <th>dur01</th>\n",
       "    </tr>\n",
       "    <tr>\n",
       "      <th>Prov_ab</th>\n",
       "      <th></th>\n",
       "    </tr>\n",
       "  </thead>\n",
       "  <tbody>\n",
       "    <tr>\n",
       "      <th>AB</th>\n",
       "      <td>8.710498</td>\n",
       "    </tr>\n",
       "    <tr>\n",
       "      <th>BC</th>\n",
       "      <td>8.808136</td>\n",
       "    </tr>\n",
       "    <tr>\n",
       "      <th>MB</th>\n",
       "      <td>8.829857</td>\n",
       "    </tr>\n",
       "    <tr>\n",
       "      <th>NB</th>\n",
       "      <td>8.722338</td>\n",
       "    </tr>\n",
       "    <tr>\n",
       "      <th>NL</th>\n",
       "      <td>8.651739</td>\n",
       "    </tr>\n",
       "    <tr>\n",
       "      <th>NS</th>\n",
       "      <td>8.500917</td>\n",
       "    </tr>\n",
       "    <tr>\n",
       "      <th>ON</th>\n",
       "      <td>8.612381</td>\n",
       "    </tr>\n",
       "    <tr>\n",
       "      <th>PE</th>\n",
       "      <td>8.901090</td>\n",
       "    </tr>\n",
       "    <tr>\n",
       "      <th>QC</th>\n",
       "      <td>8.759245</td>\n",
       "    </tr>\n",
       "    <tr>\n",
       "      <th>SK</th>\n",
       "      <td>8.824515</td>\n",
       "    </tr>\n",
       "  </tbody>\n",
       "</table>\n",
       "</div>"
      ],
      "text/plain": [
       "            dur01\n",
       "Prov_ab          \n",
       "AB       8.710498\n",
       "BC       8.808136\n",
       "MB       8.829857\n",
       "NB       8.722338\n",
       "NL       8.651739\n",
       "NS       8.500917\n",
       "ON       8.612381\n",
       "PE       8.901090\n",
       "QC       8.759245\n",
       "SK       8.824515"
      ]
     },
     "execution_count": 37,
     "metadata": {},
     "output_type": "execute_result"
    }
   ],
   "source": [
    "Restprov_df = time_use_prov[['dur01','Prov_ab']]\n",
    "\n",
    "Restprov_df_grouped = Restprov_df.groupby('Prov_ab') #group the dataframe by prov\n",
    "\n",
    "RRmeans_prov = Restprov_df_grouped.mean()  # calc the mean for each prov\n",
    "\n",
    "RRmeans_prov_hrs = RRmeans_prov/60 # express the result in hours\n",
    "\n",
    "RRmeans_prov_hrs"
   ]
  },
  {
   "cell_type": "markdown",
   "id": "6fa6c730",
   "metadata": {},
   "source": [
    "Which province gets the most and least rest?"
   ]
  },
  {
   "cell_type": "code",
   "execution_count": 38,
   "id": "87473120",
   "metadata": {},
   "outputs": [
    {
     "data": {
      "text/html": [
       "<div>\n",
       "<style scoped>\n",
       "    .dataframe tbody tr th:only-of-type {\n",
       "        vertical-align: middle;\n",
       "    }\n",
       "\n",
       "    .dataframe tbody tr th {\n",
       "        vertical-align: top;\n",
       "    }\n",
       "\n",
       "    .dataframe thead th {\n",
       "        text-align: right;\n",
       "    }\n",
       "</style>\n",
       "<table border=\"1\" class=\"dataframe\">\n",
       "  <thead>\n",
       "    <tr style=\"text-align: right;\">\n",
       "      <th></th>\n",
       "      <th>dur01</th>\n",
       "    </tr>\n",
       "    <tr>\n",
       "      <th>Prov_ab</th>\n",
       "      <th></th>\n",
       "    </tr>\n",
       "  </thead>\n",
       "  <tbody>\n",
       "    <tr>\n",
       "      <th>PE</th>\n",
       "      <td>8.90109</td>\n",
       "    </tr>\n",
       "  </tbody>\n",
       "</table>\n",
       "</div>"
      ],
      "text/plain": [
       "           dur01\n",
       "Prov_ab         \n",
       "PE       8.90109"
      ]
     },
     "execution_count": 38,
     "metadata": {},
     "output_type": "execute_result"
    }
   ],
   "source": [
    "max = RRmeans_prov_hrs.max()[0]\n",
    "\n",
    "max_row = RRmeans_prov_hrs['dur01'] == max\n",
    "\n",
    "RRmeans_prov_hrs.loc[max_row,]"
   ]
  },
  {
   "cell_type": "markdown",
   "id": "3d48e8c8",
   "metadata": {
    "slideshow": {
     "slide_type": "slide"
    }
   },
   "source": [
    "# Statistical Variables\n",
    "\n",
    "\n",
    "- A **categorical variable** is a variable for which the measurement scale consists of a set of categories.  For example, time use has ten categories or **levels**.  These types of variables are very common in social and biomedical sciences, and many other areas. \n",
    "\n",
    "- Categorical variables that don't have a natural ordering is called a **nominal variable**.\n",
    "\n",
    "- If a categorical variable has a natural ordering it is called an **ordinal variable**.  For example, if **levels** `96,97,98,99` are removed from `gtu_110` then time use would be considered an ordinal variable since it's ordered from feeling rushed `Every day` (`1`) to feeling rushed `Never` (`6`). \n",
    "\n",
    "- **Ordinal variables** clearly order categories, but the \"distance\" between categories are unknown. A person categorized as feeling rushed `About once a week` feels more rushed than someone who feels rushed `About once a month`, although we cannot give a numnerical value for how much more rushed that person is.\n",
    "\n",
    "- An **interval variable** is one that does have numerical distances between any two levels of the measurement scale.  For example, age measured in years is an interval variable.\n",
    "\n",
    "- Time use is an example of an **interval (statistical) variable**."
   ]
  },
  {
   "cell_type": "markdown",
   "id": "254e63a9",
   "metadata": {
    "slideshow": {
     "slide_type": "slide"
    }
   },
   "source": [
    "# What's the difference between a Statistical Variable and a Variable in python?\n",
    "\n",
    "- A variable in python is a location in computer memory to store a value.\n",
    "\n",
    "- A statistical variable is essentially a mathematical representation of data."
   ]
  },
  {
   "cell_type": "markdown",
   "id": "35dab13e",
   "metadata": {
    "slideshow": {
     "slide_type": "slide"
    }
   },
   "source": [
    "## Examples of implementing statistical variables in python\n",
    "\n",
    "If 10 people are *randomly* selected, and asked how many minutes they slept last night, then this data could be represented by an **interval variable**.\n",
    "   + In python the data could be represented in `pandas` `series`, where the `series` data type is float.\n",
    "\n",
    "If 10 people are *randomly* selected, and asked if they live in urban or rural areas, then this data could be represented by an **categorical variable**.\n",
    "   + In python the data could be represented in `pandas` `series`, where the `series` data type is Boolean (`True` if urban, and `False` if not urban).\n",
    "\n",
    "\n"
   ]
  },
  {
   "cell_type": "markdown",
   "id": "00877690",
   "metadata": {
    "slideshow": {
     "slide_type": "slide"
    }
   },
   "source": [
    "# Statistical Distributions\n",
    "\n",
    "- What is a statistical distribution?\n",
    "\n",
    "- How can a distribution be summarized?\n",
    "\n",
    "- What questions can we answer using a distribution? "
   ]
  },
  {
   "cell_type": "markdown",
   "id": "51d2b7f4",
   "metadata": {
    "slideshow": {
     "slide_type": "slide"
    }
   },
   "source": [
    "# What is the distribution of kids under 14 in Ontario?"
   ]
  },
  {
   "cell_type": "markdown",
   "id": "7473454a",
   "metadata": {},
   "source": [
    "1. Select rows in `time_use_prov` where `Prov_ab` is `ON`: `time_use_prov['Prov_ab'] == 'ON'`\n",
    "\n",
    "2. After the rows are selected then select the column corresponding to time spent resting `dur01`: `time_use_prov.loc[Ontario_rows, 'chh0014c']`"
   ]
  },
  {
   "cell_type": "code",
   "execution_count": 39,
   "id": "e051ff4b",
   "metadata": {},
   "outputs": [
    {
     "data": {
      "text/plain": [
       "pandas.core.series.Series"
      ]
     },
     "execution_count": 39,
     "metadata": {},
     "output_type": "execute_result"
    }
   ],
   "source": [
    "Ontario_rows = time_use_prov['Prov_ab'] == 'ON' \n",
    "\n",
    "Ontario_kids = time_use_prov.loc[Ontario_rows, 'chh0014c']\n",
    "\n",
    "type(Ontario_kids)"
   ]
  },
  {
   "cell_type": "markdown",
   "id": "69beb510",
   "metadata": {
    "slideshow": {
     "slide_type": "slide"
    }
   },
   "source": [
    "# Distributions"
   ]
  },
  {
   "cell_type": "markdown",
   "id": "ea4004c6",
   "metadata": {},
   "source": [
    "- The **distribution** of a statistical variable tells us what values it takes and how often it takes these values."
   ]
  },
  {
   "cell_type": "markdown",
   "id": "342fd998",
   "metadata": {
    "slideshow": {
     "slide_type": "slide"
    }
   },
   "source": [
    "## Summarizing the distribution of qualitative variable\n",
    "\n",
    "- The `pandas` function `value_counts()` summarizes the distribution of categorical variable."
   ]
  },
  {
   "cell_type": "code",
   "execution_count": 40,
   "id": "84fe8884",
   "metadata": {
    "tags": []
   },
   "outputs": [
    {
     "data": {
      "text/plain": [
       "0    3918\n",
       "1     508\n",
       "2     430\n",
       "3     157\n",
       "Name: chh0014c, dtype: int64"
      ]
     },
     "execution_count": 40,
     "metadata": {},
     "output_type": "execute_result"
    }
   ],
   "source": [
    "Ontkidsdist_counts = Ontario_kids.value_counts()\n",
    "Ontkidsdist_counts"
   ]
  },
  {
   "cell_type": "markdown",
   "id": "30e2edf1",
   "metadata": {},
   "source": [
    "- This is the distribution of number of kids in Ontario.\n",
    "\n",
    "- It can be visualized in a bar plot.\n",
    "\n",
    "- The bars represent the frequency of observations (rows) and the labels on the horizontal axis represent the number of kids in a respondents household. \n",
    "\n",
    "- This is often called the **Frequency Distribution** of kids under 14."
   ]
  },
  {
   "cell_type": "code",
   "execution_count": 41,
   "id": "64f28c29",
   "metadata": {
    "slideshow": {
     "slide_type": "slide"
    },
    "tags": []
   },
   "outputs": [
    {
     "data": {
      "text/plain": [
       "<AxesSubplot:>"
      ]
     },
     "execution_count": 41,
     "metadata": {},
     "output_type": "execute_result"
    },
    {
     "data": {
      "image/png": "[encoded data removed]",
      "text/plain": [
       "<Figure size 432x288 with 1 Axes>"
      ]
     },
     "metadata": {
      "needs_background": "light"
     },
     "output_type": "display_data"
    }
   ],
   "source": [
    "Ontkidsdist_counts.plot.bar()"
   ]
  },
  {
   "cell_type": "markdown",
   "id": "afe19d60",
   "metadata": {
    "slideshow": {
     "slide_type": "slide"
    }
   },
   "source": [
    "If we want to plot proportions instead of counts then we can transform `Ontkidsdist` by dividing by the total number of observations."
   ]
  },
  {
   "cell_type": "code",
   "execution_count": 42,
   "id": "3737a600",
   "metadata": {},
   "outputs": [
    {
     "data": {
      "text/plain": [
       "0    0.781568\n",
       "1    0.101337\n",
       "2    0.085777\n",
       "3    0.031319\n",
       "Name: chh0014c, dtype: float64"
      ]
     },
     "execution_count": 42,
     "metadata": {},
     "output_type": "execute_result"
    }
   ],
   "source": [
    "Ontkidsdist_prop = Ontkidsdist_counts/Ontkidsdist_counts.sum()\n",
    "Ontkidsdist_prop"
   ]
  },
  {
   "cell_type": "markdown",
   "id": "05cf7651-7db7-42c3-b628-49bd149057d2",
   "metadata": {},
   "source": [
    "- When proportions are used then this is called the **Relative Frequency Distribution** of kids under 14."
   ]
  },
  {
   "cell_type": "code",
   "execution_count": 43,
   "id": "a0036d01",
   "metadata": {},
   "outputs": [
    {
     "data": {
      "text/plain": [
       "<AxesSubplot:>"
      ]
     },
     "execution_count": 43,
     "metadata": {},
     "output_type": "execute_result"
    },
    {
     "data": {
      "image/png": "[encoded data removed]",
      "text/plain": [
       "<Figure size 432x288 with 1 Axes>"
      ]
     },
     "metadata": {
      "needs_background": "light"
     },
     "output_type": "display_data"
    }
   ],
   "source": [
    "Ontkidsdist_prop.plot.bar()"
   ]
  },
  {
   "cell_type": "markdown",
   "id": "cb79e6af",
   "metadata": {
    "slideshow": {
     "slide_type": "slide"
    }
   },
   "source": [
    "How does the distribution change across provinces?"
   ]
  },
  {
   "cell_type": "code",
   "execution_count": 44,
   "id": "e9fb9321",
   "metadata": {},
   "outputs": [
    {
     "data": {
      "text/plain": [
       "0    0.752095\n",
       "1    0.106145\n",
       "2    0.101257\n",
       "3    0.040503\n",
       "Name: chh0014c, dtype: float64"
      ]
     },
     "execution_count": 44,
     "metadata": {},
     "output_type": "execute_result"
    }
   ],
   "source": [
    "Alberta_rows = time_use_prov['Prov_ab'] == 'AB' \n",
    "\n",
    "Alberta_kids = time_use_prov.loc[Alberta_rows, 'chh0014c']\n",
    "\n",
    "Albertakidsdist = Alberta_kids.value_counts()\n",
    "\n",
    "Albertakids_prop = Albertakidsdist/Albertakidsdist.sum()\n",
    "\n",
    "Albertakids_prop"
   ]
  },
  {
   "cell_type": "markdown",
   "id": "d3b61587",
   "metadata": {},
   "source": [
    "- Storing the distributions of kids under 14 in a `DataFrame` allows for side-by-side comparison "
   ]
  },
  {
   "cell_type": "code",
   "execution_count": 45,
   "id": "237d71f3",
   "metadata": {},
   "outputs": [
    {
     "data": {
      "text/html": [
       "<div>\n",
       "<style scoped>\n",
       "    .dataframe tbody tr th:only-of-type {\n",
       "        vertical-align: middle;\n",
       "    }\n",
       "\n",
       "    .dataframe tbody tr th {\n",
       "        vertical-align: top;\n",
       "    }\n",
       "\n",
       "    .dataframe thead th {\n",
       "        text-align: right;\n",
       "    }\n",
       "</style>\n",
       "<table border=\"1\" class=\"dataframe\">\n",
       "  <thead>\n",
       "    <tr style=\"text-align: right;\">\n",
       "      <th></th>\n",
       "      <th>0</th>\n",
       "      <th>1</th>\n",
       "      <th>2</th>\n",
       "      <th>3</th>\n",
       "    </tr>\n",
       "  </thead>\n",
       "  <tbody>\n",
       "    <tr>\n",
       "      <th>AB</th>\n",
       "      <td>0.752095</td>\n",
       "      <td>0.106145</td>\n",
       "      <td>0.101257</td>\n",
       "      <td>0.040503</td>\n",
       "    </tr>\n",
       "    <tr>\n",
       "      <th>ON</th>\n",
       "      <td>0.781568</td>\n",
       "      <td>0.101337</td>\n",
       "      <td>0.085777</td>\n",
       "      <td>0.031319</td>\n",
       "    </tr>\n",
       "  </tbody>\n",
       "</table>\n",
       "</div>"
      ],
      "text/plain": [
       "           0         1         2         3\n",
       "AB  0.752095  0.106145  0.101257  0.040503\n",
       "ON  0.781568  0.101337  0.085777  0.031319"
      ]
     },
     "execution_count": 45,
     "metadata": {},
     "output_type": "execute_result"
    }
   ],
   "source": [
    "ABON_df = pd.DataFrame([Albertakids_prop, Ontkidsdist_prop], index = ['AB', 'ON'])\n",
    "ABON_df"
   ]
  },
  {
   "cell_type": "markdown",
   "id": "57ba38d3",
   "metadata": {},
   "source": [
    "- The `ABON_df` can be plotted using `plot.bar()`"
   ]
  },
  {
   "cell_type": "code",
   "execution_count": 46,
   "id": "1e311439",
   "metadata": {},
   "outputs": [
    {
     "data": {
      "text/plain": [
       "<AxesSubplot:>"
      ]
     },
     "execution_count": 46,
     "metadata": {},
     "output_type": "execute_result"
    },
    {
     "data": {
      "image/png": "[encoded data removed]",
      "text/plain": [
       "<Figure size 432x288 with 1 Axes>"
      ]
     },
     "metadata": {
      "needs_background": "light"
     },
     "output_type": "display_data"
    }
   ],
   "source": [
    "ABON_df.plot.bar()"
   ]
  },
  {
   "cell_type": "markdown",
   "id": "25eab607",
   "metadata": {
    "slideshow": {
     "slide_type": "-"
    }
   },
   "source": [
    "Are the distributions similar?"
   ]
  },
  {
   "cell_type": "markdown",
   "id": "62dc3f3c-cb5b-460b-9148-78983eb8c42c",
   "metadata": {
    "slideshow": {
     "slide_type": "slide"
    },
    "tags": []
   },
   "source": [
    "# Summarizing the distribution of an interval variable"
   ]
  },
  {
   "cell_type": "markdown",
   "id": "96e40eb1-d75f-481f-9cac-ede83b505374",
   "metadata": {},
   "source": [
    "`dur01` is time spent sleeping, resting, etc. Let's rename it to `RRtime`.\n",
    "\n",
    "```\n",
    "dur01              Duration - Sleeping, resting, relaxing, sick in bed\n",
    "\n",
    "           VALUE  LABEL\n",
    "               0  No time spent doing this activity\n",
    "            9996  Valid skip\n",
    "            9997  Don't know\n",
    "            9998  Refusal\n",
    "            9999  Not stated\n",
    "\n",
    "           Data type: numeric\n",
    "           Missing-data codes: 9996-9999\n",
    "           Record/columns: 1/65-68\n",
    "```"
   ]
  },
  {
   "cell_type": "code",
   "execution_count": 47,
   "id": "5cedb8b8-6087-4b52-a6f2-06d01db60548",
   "metadata": {},
   "outputs": [
    {
     "data": {
      "text/plain": [
       "0    510\n",
       "1    420\n",
       "2    570\n",
       "3    510\n",
       "4    525\n",
       "Name: dur01, dtype: int64"
      ]
     },
     "execution_count": 47,
     "metadata": {},
     "output_type": "execute_result"
    }
   ],
   "source": [
    "RRtime = time_use_df['dur01']\n",
    "RRtime.head()"
   ]
  },
  {
   "cell_type": "markdown",
   "id": "45cffe52-10ca-4cf9-872d-2e752942e222",
   "metadata": {
    "slideshow": {
     "slide_type": "slide"
    }
   },
   "source": [
    "The distribution of an interval variable can be described using \n",
    "\n",
    "- a measure of centre such as mean, median, mode\n",
    "\n",
    "- a measure of spread such as standard deviation, inter-quartile range\n",
    "\n",
    "- a measure of range such as the largest value minus the smallest value (or max - min)"
   ]
  },
  {
   "cell_type": "code",
   "execution_count": 48,
   "id": "40c275c4-683b-4554-9c6f-3c8c394f92dc",
   "metadata": {},
   "outputs": [
    {
     "data": {
      "text/plain": [
       "count    17390.000000\n",
       "mean       522.393099\n",
       "std        133.063959\n",
       "min          0.000000\n",
       "25%        450.000000\n",
       "50%        510.000000\n",
       "75%        585.000000\n",
       "max       1440.000000\n",
       "Name: dur01, dtype: float64"
      ]
     },
     "execution_count": 48,
     "metadata": {},
     "output_type": "execute_result"
    }
   ],
   "source": [
    "RR_summary = RRtime.describe()\n",
    "RR_summary"
   ]
  },
  {
   "cell_type": "markdown",
   "id": "5675aa43-6cb2-44a3-94fa-df77e864c6a3",
   "metadata": {},
   "source": [
    "- `count` : the total number of observations.\n",
    "\n",
    "- `mean`: the arithmetic average of `'RRtime'`.\n",
    "\n",
    "- `std` : the standard deviation of `'RRtime'`.\n",
    "\n",
    "- `min`, `max` : the smallest and largest values of `'RRtime'`.\n",
    "\n",
    "- `25%`, `50%`, `75%` : the 25th, 50th, 75th quantiles of `'RRtime'` - 25% / 50% / 75% of the values of `'RRtime'` are below these values respectively.\n",
    "\n"
   ]
  },
  {
   "cell_type": "markdown",
   "id": "12ac82bf-6d65-4e04-a8c9-7ad7fcbc312f",
   "metadata": {
    "slideshow": {
     "slide_type": "slide"
    }
   },
   "source": [
    "`pandas` has separate function to compute all of these statistics.  \n",
    "\n",
    "`quantile` function can compute quantiles of an interval variable. "
   ]
  },
  {
   "cell_type": "code",
   "execution_count": 49,
   "id": "16cfc117-6a45-436c-9f83-acbb64ec5542",
   "metadata": {},
   "outputs": [
    {
     "name": "stdout",
     "output_type": "stream",
     "text": [
      "25%: 450.0\n",
      "50%: 510.0\n",
      "75%: 585.0\n"
     ]
    }
   ],
   "source": [
    "print('25%:',RRtime.quantile(q = 0.25))\n",
    "print('50%:',RRtime.quantile(q = 0.50))\n",
    "print('75%:',RRtime.quantile(q = 0.75))"
   ]
  },
  {
   "cell_type": "markdown",
   "id": "027b74ee-f8e2-4d2c-b231-4f4cb7091b3f",
   "metadata": {
    "slideshow": {
     "slide_type": "slide"
    }
   },
   "source": [
    "## Quantiles\n",
    "\n",
    "- The median value is the 50% quantile.  50% of the values fall below this value.  The median is also called the second quartile.\n",
    "\n",
    "- The 25% quantile is the value where 25% of the values fall below.  This is often the first quartile.  \n",
    "\n",
    "- The 75% quantile is the value where 75% of the values fall below.  This is often the third quartile.  \n",
    "\n",
    "- There are 17390 values.  If we sort the values from largest to smallest then find the value in the middle (17390 / 2 = 8695) then that value is the median."
   ]
  },
  {
   "cell_type": "markdown",
   "id": "353670e4-9d9e-4399-a232-12441282424b",
   "metadata": {},
   "source": [
    "`std`, `min`, `max`, `count` can compute all "
   ]
  },
  {
   "cell_type": "code",
   "execution_count": 60,
   "id": "f60d2abd-3954-45ce-8e0a-d7738c4e845e",
   "metadata": {},
   "outputs": [
    {
     "name": "stdout",
     "output_type": "stream",
     "text": [
      "standard deviation (std): 133.0639585562059\n",
      "min: 0\n",
      "max: 1440\n",
      "count: 17390\n"
     ]
    }
   ],
   "source": [
    "print('standard deviation (std):', RRtime.std())\n",
    "print('min:', RRtime.min())\n",
    "print('max:', RRtime.max())\n",
    "print('count:', RRtime.count())"
   ]
  },
  {
   "cell_type": "markdown",
   "id": "0f9fbd31-f2fd-4443-af07-f6bbbeeebad0",
   "metadata": {
    "slideshow": {
     "slide_type": "slide"
    }
   },
   "source": [
    "## Variation\n",
    "\n",
    "- One of the most important concepts in statistical reasoning.\n",
    "\n",
    "- Standard deviation is average deviation from the mean.  **Large** values mean large variation and **small** values mean small variation.  \n",
    "\n",
    "Other measures of variation are: \n",
    "   + Interquartile range is the difference between the 75th quantile and 25th quantile.\n",
    "   + Range the difference between the maximum and minimum. \n",
    "\n",
    "- Small samples often have large variation, so estimating a statistic from a small sample is usually less reliable."
   ]
  },
  {
   "cell_type": "markdown",
   "id": "0bac01dd-83e8-444c-99ab-b1f0622f68a3",
   "metadata": {
    "slideshow": {
     "slide_type": "slide"
    }
   },
   "source": [
    "## Question\n",
    "\n",
    "A certain town is served by two hospitals. In the larger hospital about 45 babies are born each day, and in the smaller hospital about 15 babies are born each day. As you know, about 50% of all babies are boys. However, the exact percentage varies from day to day. Sometimes it may be higher than 50%, sometimes lower.\n",
    "\n",
    "\n",
    "For a period of 1 year, each hospital recorded the days on which more than 60% of the babies born were boys. Which hospital do you think recorded more such days?\n",
    "\n",
    "- The larger hospital\n",
    "- The smaller hospital\n",
    "- About the same (that is, within 5% of each other) "
   ]
  },
  {
   "cell_type": "markdown",
   "id": "131fb54d-01bb-4002-a7b8-da150f9ede59",
   "metadata": {
    "slideshow": {
     "slide_type": "slide"
    },
    "tags": []
   },
   "source": [
    "## Histograms\n",
    "\n",
    "Histograms display the frequency distribution of an interval variable.\n",
    "\n"
   ]
  },
  {
   "cell_type": "code",
   "execution_count": 51,
   "id": "d573ad8d-efb9-4b96-b698-52ccd56dae68",
   "metadata": {},
   "outputs": [
    {
     "data": {
      "text/plain": [
       "<AxesSubplot:ylabel='Frequency'>"
      ]
     },
     "execution_count": 51,
     "metadata": {},
     "output_type": "execute_result"
    },
    {
     "data": {
      "image/png": "[encoded data removed]",
      "text/plain": [
       "<Figure size 432x288 with 1 Axes>"
      ]
     },
     "metadata": {
      "needs_background": "light"
     },
     "output_type": "display_data"
    }
   ],
   "source": [
    "RRtime.plot.hist()"
   ]
  },
  {
   "cell_type": "code",
   "execution_count": 52,
   "id": "07fb7bf4-9ae0-4394-bc02-bf26a89ca3c5",
   "metadata": {},
   "outputs": [
    {
     "data": {
      "text/plain": [
       "0        (480.0, 576.0]\n",
       "1        (384.0, 480.0]\n",
       "2        (480.0, 576.0]\n",
       "3        (480.0, 576.0]\n",
       "4        (480.0, 576.0]\n",
       "              ...      \n",
       "17385    (480.0, 576.0]\n",
       "17386    (576.0, 672.0]\n",
       "17387    (480.0, 576.0]\n",
       "17388    (768.0, 864.0]\n",
       "17389    (384.0, 480.0]\n",
       "Name: dur01, Length: 17390, dtype: category\n",
       "Categories (15, interval[float64, right]): [(-1.44, 96.0] < (96.0, 192.0] < (192.0, 288.0] < (288.0, 384.0] ... (1056.0, 1152.0] < (1152.0, 1248.0] < (1248.0, 1344.0] < (1344.0, 1440.0]]"
      ]
     },
     "execution_count": 52,
     "metadata": {},
     "output_type": "execute_result"
    }
   ],
   "source": [
    "pd.cut(RRtime, bins = 15)"
   ]
  },
  {
   "cell_type": "code",
   "execution_count": 59,
   "id": "d00ca65a-337f-4273-ba24-ad31c3cf6dee",
   "metadata": {},
   "outputs": [
    {
     "data": {
      "text/plain": [
       "(-1.44, 96.0]         44\n",
       "(96.0, 192.0]        116\n",
       "(192.0, 288.0]       301\n",
       "(288.0, 384.0]      1198\n",
       "(384.0, 480.0]      5441\n",
       "(480.0, 576.0]      5682\n",
       "(576.0, 672.0]      2903\n",
       "(672.0, 768.0]      1008\n",
       "(768.0, 864.0]       379\n",
       "(864.0, 960.0]       168\n",
       "(960.0, 1056.0]       65\n",
       "(1056.0, 1152.0]      35\n",
       "(1152.0, 1248.0]      23\n",
       "(1248.0, 1344.0]      12\n",
       "(1344.0, 1440.0]      15\n",
       "Name: dur01, dtype: int64"
      ]
     },
     "execution_count": 59,
     "metadata": {},
     "output_type": "execute_result"
    }
   ],
   "source": [
    "pd.cut(RRtime, bins = 15).value_counts().sort_index()"
   ]
  },
  {
   "cell_type": "code",
   "execution_count": 54,
   "id": "65076965-41ea-458b-a005-04b5a5669db3",
   "metadata": {
    "slideshow": {
     "slide_type": "slide"
    }
   },
   "outputs": [
    {
     "data": {
      "text/plain": [
       "<AxesSubplot:ylabel='Frequency'>"
      ]
     },
     "execution_count": 54,
     "metadata": {},
     "output_type": "execute_result"
    },
    {
     "data": {
      "image/png": "[encoded data removed]",
      "text/plain": [
       "<Figure size 432x288 with 1 Axes>"
      ]
     },
     "metadata": {
      "needs_background": "light"
     },
     "output_type": "display_data"
    }
   ],
   "source": [
    "RRtime.plot.hist(color = 'grey', edgecolor = 'black', bins = 15)"
   ]
  },
  {
   "cell_type": "code",
   "execution_count": 55,
   "id": "9ce8c519-8081-452d-b0c1-af7b977b5212",
   "metadata": {
    "slideshow": {
     "slide_type": "slide"
    }
   },
   "outputs": [
    {
     "data": {
      "text/plain": [
       "count    17390.000000\n",
       "mean       522.393099\n",
       "std        133.063959\n",
       "min          0.000000\n",
       "25%        450.000000\n",
       "50%        510.000000\n",
       "75%        585.000000\n",
       "max       1440.000000\n",
       "Name: dur01, dtype: float64"
      ]
     },
     "execution_count": 55,
     "metadata": {},
     "output_type": "execute_result"
    }
   ],
   "source": [
    "RR_summary"
   ]
  },
  {
   "cell_type": "markdown",
   "id": "69a7fc57-d175-4e41-b321-532482ce6e92",
   "metadata": {},
   "source": [
    "## Question: How could we find the value XX in these statements?\n",
    "\n",
    "- 10% of respondents in the time use survey sleep more than XX hours.\n",
    "\n",
    "- The range of sleep time among respondents in the time use survey is XX hours."
   ]
  },
  {
   "cell_type": "markdown",
   "id": "6accbf6e-983a-4eb0-94c7-77d8939221ae",
   "metadata": {
    "slideshow": {
     "slide_type": "slide"
    },
    "tags": []
   },
   "source": [
    "## Boxplots \n",
    "\n",
    "Another way to visualize the distribution of an interval variable\n",
    "\n",
    "A box plot is a method for graphically depicting groups of numerical data through their quartiles. The box extends from the Q1 to Q3 quartile values of the data, with a line at the median (Q2). The whiskers extend from the edges of box to show the range of the data. By default, they extend no more than 1.5 * IQR (IQR = Q3 - Q1) from the edges of the box, ending at the farthest data point within that interval. Outliers are plotted as separate dots."
   ]
  },
  {
   "cell_type": "markdown",
   "id": "b8f30acd-ca38-460d-8632-2cab79272d8c",
   "metadata": {},
   "source": [
    "Boxplots are helpful for comparing the distributions between groups.\n",
    "\n",
    "```\n",
    "     Q1-1.5IQR   Q1   median  Q3   Q3+1.5IQR\n",
    "                  |-----:-----|\n",
    "  o      |--------|     :     |--------|    o  o\n",
    "                  |-----:-----|\n",
    "flier             <----------->            fliers\n",
    "                       IQR\n",
    "```"
   ]
  },
  {
   "cell_type": "code",
   "execution_count": 56,
   "id": "a3cfc1d6-a290-4d13-bef7-de2f6b1a0f18",
   "metadata": {},
   "outputs": [
    {
     "data": {
      "text/plain": [
       "<AxesSubplot:>"
      ]
     },
     "execution_count": 56,
     "metadata": {},
     "output_type": "execute_result"
    },
    {
     "data": {
      "image/png": "[encoded data removed]",
      "text/plain": [
       "<Figure size 432x288 with 1 Axes>"
      ]
     },
     "metadata": {
      "needs_background": "light"
     },
     "output_type": "display_data"
    }
   ],
   "source": [
    "RRtime.plot.box()"
   ]
  },
  {
   "cell_type": "markdown",
   "id": "55f40b59-8b62-435e-a04a-d1446851a3df",
   "metadata": {
    "slideshow": {
     "slide_type": "slide"
    }
   },
   "source": [
    "Let's go back to the time use data.\n",
    "\n",
    "- select and rename columns"
   ]
  },
  {
   "cell_type": "code",
   "execution_count": 57,
   "id": "86969133-ad4d-472e-9795-4bc7a8abbd3c",
   "metadata": {},
   "outputs": [
    {
     "data": {
      "text/html": [
       "<div>\n",
       "<style scoped>\n",
       "    .dataframe tbody tr th:only-of-type {\n",
       "        vertical-align: middle;\n",
       "    }\n",
       "\n",
       "    .dataframe tbody tr th {\n",
       "        vertical-align: top;\n",
       "    }\n",
       "\n",
       "    .dataframe thead th {\n",
       "        text-align: right;\n",
       "    }\n",
       "</style>\n",
       "<table border=\"1\" class=\"dataframe\">\n",
       "  <thead>\n",
       "    <tr style=\"text-align: right;\">\n",
       "      <th></th>\n",
       "      <th>Participant ID</th>\n",
       "      <th>Urban/Rural</th>\n",
       "      <th>Age Group</th>\n",
       "      <th>Marital Status</th>\n",
       "      <th>sex</th>\n",
       "      <th>Kids under 14</th>\n",
       "      <th>Feeling Rushed</th>\n",
       "      <th>Sleep duration</th>\n",
       "      <th>Work duration</th>\n",
       "    </tr>\n",
       "  </thead>\n",
       "  <tbody>\n",
       "    <tr>\n",
       "      <th>0</th>\n",
       "      <td>10000</td>\n",
       "      <td>1</td>\n",
       "      <td>5</td>\n",
       "      <td>5</td>\n",
       "      <td>1</td>\n",
       "      <td>0</td>\n",
       "      <td>1</td>\n",
       "      <td>510</td>\n",
       "      <td>0</td>\n",
       "    </tr>\n",
       "    <tr>\n",
       "      <th>1</th>\n",
       "      <td>10001</td>\n",
       "      <td>1</td>\n",
       "      <td>5</td>\n",
       "      <td>1</td>\n",
       "      <td>1</td>\n",
       "      <td>0</td>\n",
       "      <td>3</td>\n",
       "      <td>420</td>\n",
       "      <td>0</td>\n",
       "    </tr>\n",
       "    <tr>\n",
       "      <th>2</th>\n",
       "      <td>10002</td>\n",
       "      <td>1</td>\n",
       "      <td>4</td>\n",
       "      <td>1</td>\n",
       "      <td>2</td>\n",
       "      <td>3</td>\n",
       "      <td>1</td>\n",
       "      <td>570</td>\n",
       "      <td>480</td>\n",
       "    </tr>\n",
       "    <tr>\n",
       "      <th>3</th>\n",
       "      <td>10003</td>\n",
       "      <td>1</td>\n",
       "      <td>6</td>\n",
       "      <td>5</td>\n",
       "      <td>2</td>\n",
       "      <td>0</td>\n",
       "      <td>2</td>\n",
       "      <td>510</td>\n",
       "      <td>20</td>\n",
       "    </tr>\n",
       "    <tr>\n",
       "      <th>4</th>\n",
       "      <td>10004</td>\n",
       "      <td>1</td>\n",
       "      <td>2</td>\n",
       "      <td>6</td>\n",
       "      <td>1</td>\n",
       "      <td>0</td>\n",
       "      <td>1</td>\n",
       "      <td>525</td>\n",
       "      <td>0</td>\n",
       "    </tr>\n",
       "  </tbody>\n",
       "</table>\n",
       "</div>"
      ],
      "text/plain": [
       "   Participant ID  Urban/Rural  Age Group  Marital Status  sex  Kids under 14  \\\n",
       "0           10000            1          5               5    1              0   \n",
       "1           10001            1          5               1    1              0   \n",
       "2           10002            1          4               1    2              3   \n",
       "3           10003            1          6               5    2              0   \n",
       "4           10004            1          2               6    1              0   \n",
       "\n",
       "   Feeling Rushed  Sleep duration  Work duration  \n",
       "0               1             510              0  \n",
       "1               3             420              0  \n",
       "2               1             570            480  \n",
       "3               2             510             20  \n",
       "4               1             525              0  "
      ]
     },
     "execution_count": 57,
     "metadata": {},
     "output_type": "execute_result"
    }
   ],
   "source": [
    "important_columns = [\"CASEID\",\"luc_rst\",\"agegr10\",\"marstat\",\"sex\",\n",
    "                     \"chh0014c\",\"gtu_110\",\"dur01\", \"dur08\"]\n",
    "\n",
    "new_col_names = columns={\n",
    "        'CASEID': 'Participant ID',\n",
    "        'luc_rst': 'Urban/Rural',\n",
    "        'agegr10': 'Age Group',\n",
    "        'marstat': 'Marital Status',\n",
    "        'sex': 'sex',\n",
    "        'chh0014c': 'Kids under 14',\n",
    "        'gtu_110': 'Feeling Rushed',\n",
    "        'dur01': 'Sleep duration',\n",
    "        'dur08': 'Work duration'\n",
    "    }\n",
    "\n",
    "\n",
    "time_use_colnames = time_use_df[important_columns].rename(columns = new_col_names)\n",
    "\n",
    "time_use_colnames.head()"
   ]
  },
  {
   "cell_type": "markdown",
   "id": "3bafa3a8-3947-4306-8362-dd26a7a191e6",
   "metadata": {},
   "source": [
    "The `pandas` function `DataFrame.boxplot` can plot the distributions of `Sleep duration` and `Work duration` by a third column `Urban/Rural`."
   ]
  },
  {
   "cell_type": "code",
   "execution_count": 63,
   "id": "76275172-0518-4ae0-91c6-95cf46e6040d",
   "metadata": {
    "slideshow": {
     "slide_type": "slide"
    },
    "tags": []
   },
   "outputs": [
    {
     "data": {
      "image/png": "[encoded data removed]",
      "text/plain": [
       "<Figure size 432x288 with 2 Axes>"
      ]
     },
     "metadata": {
      "needs_background": "light"
     },
     "output_type": "display_data"
    }
   ],
   "source": [
    "time_use_colnames.boxplot(column = ['Sleep duration', 'Work duration'], \n",
    "                          by = 'Urban/Rural', \n",
    "                          layout = (2,1), \n",
    "                          grid=False);"
   ]
  },
  {
   "cell_type": "code",
   "execution_count": 64,
   "id": "c364d795-3123-4a91-90af-7b130259fe3c",
   "metadata": {},
   "outputs": [
    {
     "data": {
      "text/html": [
       "<div>\n",
       "<style scoped>\n",
       "    .dataframe tbody tr th:only-of-type {\n",
       "        vertical-align: middle;\n",
       "    }\n",
       "\n",
       "    .dataframe tbody tr th {\n",
       "        vertical-align: top;\n",
       "    }\n",
       "\n",
       "    .dataframe thead tr th {\n",
       "        text-align: left;\n",
       "    }\n",
       "\n",
       "    .dataframe thead tr:last-of-type th {\n",
       "        text-align: right;\n",
       "    }\n",
       "</style>\n",
       "<table border=\"1\" class=\"dataframe\">\n",
       "  <thead>\n",
       "    <tr>\n",
       "      <th></th>\n",
       "      <th colspan=\"8\" halign=\"left\">Sleep duration</th>\n",
       "      <th colspan=\"8\" halign=\"left\">Work duration</th>\n",
       "    </tr>\n",
       "    <tr>\n",
       "      <th></th>\n",
       "      <th>count</th>\n",
       "      <th>mean</th>\n",
       "      <th>std</th>\n",
       "      <th>min</th>\n",
       "      <th>25%</th>\n",
       "      <th>50%</th>\n",
       "      <th>75%</th>\n",
       "      <th>max</th>\n",
       "      <th>count</th>\n",
       "      <th>mean</th>\n",
       "      <th>std</th>\n",
       "      <th>min</th>\n",
       "      <th>25%</th>\n",
       "      <th>50%</th>\n",
       "      <th>75%</th>\n",
       "      <th>max</th>\n",
       "    </tr>\n",
       "    <tr>\n",
       "      <th>Urban/Rural</th>\n",
       "      <th></th>\n",
       "      <th></th>\n",
       "      <th></th>\n",
       "      <th></th>\n",
       "      <th></th>\n",
       "      <th></th>\n",
       "      <th></th>\n",
       "      <th></th>\n",
       "      <th></th>\n",
       "      <th></th>\n",
       "      <th></th>\n",
       "      <th></th>\n",
       "      <th></th>\n",
       "      <th></th>\n",
       "      <th></th>\n",
       "      <th></th>\n",
       "    </tr>\n",
       "  </thead>\n",
       "  <tbody>\n",
       "    <tr>\n",
       "      <th>1</th>\n",
       "      <td>13319.0</td>\n",
       "      <td>520.983407</td>\n",
       "      <td>132.811205</td>\n",
       "      <td>0.0</td>\n",
       "      <td>450.0</td>\n",
       "      <td>510.0</td>\n",
       "      <td>585.0</td>\n",
       "      <td>1440.0</td>\n",
       "      <td>13319.0</td>\n",
       "      <td>174.614085</td>\n",
       "      <td>247.597594</td>\n",
       "      <td>0.0</td>\n",
       "      <td>0.0</td>\n",
       "      <td>0.0</td>\n",
       "      <td>440.0</td>\n",
       "      <td>1230.0</td>\n",
       "    </tr>\n",
       "    <tr>\n",
       "      <th>2</th>\n",
       "      <td>3551.0</td>\n",
       "      <td>525.971276</td>\n",
       "      <td>131.641854</td>\n",
       "      <td>0.0</td>\n",
       "      <td>450.0</td>\n",
       "      <td>515.0</td>\n",
       "      <td>595.0</td>\n",
       "      <td>1430.0</td>\n",
       "      <td>3551.0</td>\n",
       "      <td>147.551112</td>\n",
       "      <td>241.570156</td>\n",
       "      <td>0.0</td>\n",
       "      <td>0.0</td>\n",
       "      <td>0.0</td>\n",
       "      <td>360.0</td>\n",
       "      <td>1310.0</td>\n",
       "    </tr>\n",
       "    <tr>\n",
       "      <th>3</th>\n",
       "      <td>520.0</td>\n",
       "      <td>534.065385</td>\n",
       "      <td>147.642983</td>\n",
       "      <td>150.0</td>\n",
       "      <td>450.0</td>\n",
       "      <td>510.0</td>\n",
       "      <td>600.0</td>\n",
       "      <td>1430.0</td>\n",
       "      <td>520.0</td>\n",
       "      <td>134.126923</td>\n",
       "      <td>228.162382</td>\n",
       "      <td>0.0</td>\n",
       "      <td>0.0</td>\n",
       "      <td>0.0</td>\n",
       "      <td>290.0</td>\n",
       "      <td>1140.0</td>\n",
       "    </tr>\n",
       "  </tbody>\n",
       "</table>\n",
       "</div>"
      ],
      "text/plain": [
       "            Sleep duration                                               \\\n",
       "                     count        mean         std    min    25%    50%   \n",
       "Urban/Rural                                                               \n",
       "1                  13319.0  520.983407  132.811205    0.0  450.0  510.0   \n",
       "2                   3551.0  525.971276  131.641854    0.0  450.0  515.0   \n",
       "3                    520.0  534.065385  147.642983  150.0  450.0  510.0   \n",
       "\n",
       "                           Work duration                                    \\\n",
       "               75%     max         count        mean         std  min  25%   \n",
       "Urban/Rural                                                                  \n",
       "1            585.0  1440.0       13319.0  174.614085  247.597594  0.0  0.0   \n",
       "2            595.0  1430.0        3551.0  147.551112  241.570156  0.0  0.0   \n",
       "3            600.0  1430.0         520.0  134.126923  228.162382  0.0  0.0   \n",
       "\n",
       "                                 \n",
       "             50%    75%     max  \n",
       "Urban/Rural                      \n",
       "1            0.0  440.0  1230.0  \n",
       "2            0.0  360.0  1310.0  \n",
       "3            0.0  290.0  1140.0  "
      ]
     },
     "execution_count": 64,
     "metadata": {},
     "output_type": "execute_result"
    }
   ],
   "source": [
    "sleep_work_live = time_use_colnames[['Sleep duration', 'Work duration', 'Urban/Rural']]\n",
    "sleep_work_live.groupby('Urban/Rural').describe()"
   ]
  },
  {
   "cell_type": "code",
   "execution_count": null,
   "id": "84d0187d-ac34-4d16-97bf-b3f677d1fe1a",
   "metadata": {},
   "outputs": [],
   "source": []
  }
 ],
 "metadata": {
  "celltoolbar": "Slideshow",
  "kernelspec": {
   "display_name": "Python 3 (ipykernel)",
   "language": "python",
   "name": "python3"
  },
  "language_info": {
   "codemirror_mode": {
    "name": "ipython",
    "version": 3
   },
   "file_extension": ".py",
   "mimetype": "text/x-python",
   "name": "python",
   "nbconvert_exporter": "python",
   "pygments_lexer": "ipython3",
   "version": "3.8.8"
  }
 },
 "nbformat": 4,
 "nbformat_minor": 5
}
