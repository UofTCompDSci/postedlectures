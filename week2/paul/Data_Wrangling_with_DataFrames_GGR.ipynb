{
 "cells": [
  {
   "cell_type": "markdown",
   "id": "ee7988de",
   "metadata": {},
   "source": [
    "# Data Wrangling\n",
    "\n",
    "Here are some fun facts about your Python skills after 1.5 weeks:\n",
    "\n",
    "+ You can create and manipulate a Jupyter notebook.\n",
    "+ You can download a CSV file to your computer and upload it to JupyterHub.\n",
    "+ You can read a CSV file to create a `DataFrame`.\n",
    "+ You can call `head` to get a new shorter `DataFrame` with just the top few rows.\n",
    "+ You can extract a column from a `DataFrame`, and you're aware that the column type is `Series`.\n",
    "+ You can, given an example, figure out how use a Python dictionary to create a `DataFrame`.\n",
    "+ You can create a list of values in Python and name it using an assignment statement.\n",
    "+ You can calculate the average of a `Series` or a list, and can find the maximum and minimum values using built-in functions.\n",
    "+ You can name any data you want using variables.\n",
    "+ You can print any data you have."
   ]
  },
  {
   "cell_type": "markdown",
   "id": "9a12049a",
   "metadata": {},
   "source": [
    "# What's next?\n",
    "\n",
    "__Subsetting__:\n",
    "\n",
    "+ Create a new `DataFrame` containing a subset of the columns.\n",
    "+ Create a new `DataFrame` containing a subset of the rows\n",
    "  - by index, using slicing\n",
    "  - by looking for rows that match our criteria\n",
    "+ Renaming columns"
   ]
  },
  {
   "cell_type": "markdown",
   "id": "401eefc3",
   "metadata": {},
   "source": [
    "# GGR: Time Use dataset\n",
    "\n",
    "Dataset: Statistics Canada General Social Survey's (GSS) Time Use (TU) Survey\n",
    "\n",
    "+ Tracks how people spend their time\n",
    "+ two parts\n",
    "  - an 'episode' file where each row describes an event for one person. Each person has one row per event (like \"make coffee\") that they experienced.\n",
    "  - a 'main' file that includes meta-information about the individuals and also includes summary information from the 'episode' file. There is 1 row of information per person.\n",
    "+ we will stick to the 'main' file for now\n",
    "The data are stored in file `gss_tu2016_main_file.csv`. The name uses abbreviations:\n",
    "- GSS: general social survey\n",
    "- tu2016: time use from the year 2016\n",
    "- csv: comma-separated values"
   ]
  },
  {
   "cell_type": "markdown",
   "id": "b2644348",
   "metadata": {},
   "source": [
    "## 'main' file\n",
    "\n",
    "- Summarizes time use information\n",
    "- Includes summary information from the 'episode' file\n",
    "- Includes information from other survey questions about the participant's socioeconomic status (demographics, economic situation, self-reported health status, etc.).\n",
    "- Each row describes a single participant using information taken from the survey or summarized from the 'episode' file."
   ]
  },
  {
   "cell_type": "markdown",
   "id": "c2336132",
   "metadata": {},
   "source": [
    "| ID  | Home Province | Self-rated Health | Time Spent Sleeping | Time Spent Commuting | Time Spent Eating | ... | Count of Sleeping Activities | Count of Commuting Activities | Count of Eating Activities |\n",
    "|-----|---------------|-------------------|---------------------|----------------------|-------------------|-----|------------------------------|-------------------------------|----------------------------|\n",
    "| 1   | ON            | Excellent         | 440 min             | 60 min               | 70 min            |     | 2                            | 2                             | 3                          |\n",
    "| 2   | AB            | Poor              | 600 min             | 80 min               | 130 min           |     | 3                            | 4                             | 2                          |\n",
    "| ... |               |                   |                     |                      |                   |     |                              |                               |                            |\n",
    "| 238 | BC            | Fair              | 380 min             | 20 min               | 40 min            |     | 2                            | 2                             | 4                          |"
   ]
  },
  {
   "cell_type": "markdown",
   "id": "256554b2",
   "metadata": {},
   "source": [
    "The 'main' data are stored in file `gss_tu2016_main_file.csv`. It is in the same folder as this notebook.\n",
    "\n",
    "The name uses abbreviations:\n",
    "- GSS: general social survey\n",
    "- tu2016: time use from the year 2016\n",
    "- csv: comma-separated values\n",
    "\n",
    "Let's start exploring!"
   ]
  },
  {
   "cell_type": "code",
   "execution_count": null,
   "id": "adcabe15",
   "metadata": {},
   "outputs": [],
   "source": [
    "import pandas as pd\n",
    "time_use_data = pd.read_csv('gss_tu2016_main_file.csv')\n",
    "time_use_data.head()"
   ]
  },
  {
   "cell_type": "markdown",
   "id": "cebe191b",
   "metadata": {},
   "source": [
    "Where the heck did the nice names go?\n",
    "\n",
    "Let's try to look at all of the column names:"
   ]
  },
  {
   "cell_type": "code",
   "execution_count": null,
   "id": "da7a53a3",
   "metadata": {
    "scrolled": true
   },
   "outputs": [],
   "source": [
    "time_use_data.columns"
   ]
  },
  {
   "cell_type": "markdown",
   "id": "3e36231b",
   "metadata": {},
   "source": [
    "Yikes. 350?\n",
    "\n",
    "Let's make a smaller `DataFrame` with only the columns we care about. Here they are:"
   ]
  },
  {
   "cell_type": "markdown",
   "id": "7aa9c011",
   "metadata": {},
   "source": [
    "In order to create an easy to use dataset we will only keep the following columns:\n",
    "\n",
    "- `CASEID` (participant ID), \n",
    "- `luc_rst` (large urban centre vs rural and small towns), \n",
    "- `agegr10` (age group), \n",
    "- `marstat` (marital status), \n",
    "- `sex` (sex), \n",
    "- `chh0014c` (number of kids 14 or under), \n",
    "- `gtu_110` (feeling rushed), and \n",
    "- `dur01` (duration spent sleeping). "
   ]
  },
  {
   "cell_type": "code",
   "execution_count": null,
   "id": "ce6cc085",
   "metadata": {},
   "outputs": [],
   "source": [
    "time_use_data['CASEID'].head()"
   ]
  },
  {
   "cell_type": "markdown",
   "id": "c7d35357",
   "metadata": {},
   "source": [
    "Let's put all these column names in a list we'll name `important_columns`."
   ]
  },
  {
   "cell_type": "code",
   "execution_count": null,
   "id": "f6878476",
   "metadata": {
    "slideshow": {
     "slide_type": "-"
    }
   },
   "outputs": [],
   "source": [
    "important_columns = [\"CASEID\", \"luc_rst\", \"agegr10\", \"marstat\", \"sex\",\n",
    "                     \"chh0014c\", \"gtu_110\", \"dur01\"]"
   ]
  },
  {
   "cell_type": "markdown",
   "id": "e4bad3c1",
   "metadata": {},
   "source": [
    "Just like we can extract a single column to get a `Series` , we can extract a subset of the columns to get a new `DataFrame`:"
   ]
  },
  {
   "cell_type": "code",
   "execution_count": null,
   "id": "8e080f6e",
   "metadata": {},
   "outputs": [],
   "source": [
    "subset_time_use_data = time_use_data[important_columns]\n",
    "subset_time_use_data.head()"
   ]
  },
  {
   "cell_type": "markdown",
   "id": "f9d772dc",
   "metadata": {},
   "source": [
    "### Still yucky to read\n",
    "\n",
    "Here's a Python dictionary mapping icky names to better names:"
   ]
  },
  {
   "cell_type": "code",
   "execution_count": null,
   "id": "f7fc9a75",
   "metadata": {},
   "outputs": [],
   "source": [
    "column_names = {\n",
    "    'CASEID': 'Participant ID',\n",
    "    'luc_rst': 'Urban/Rural',\n",
    "    'agegr10': 'Age Group',\n",
    "    'marstat': 'Marital Status',\n",
    "    'sex': 'Sex',\n",
    "    'chh0014c': 'Kids under 14',\n",
    "    'gtu_110': 'Feeling Rushed',\n",
    "    'dur01': 'Sleep Duration'\n",
    "}"
   ]
  },
  {
   "cell_type": "code",
   "execution_count": null,
   "id": "befcea42",
   "metadata": {},
   "outputs": [],
   "source": [
    "column_names['marstat']"
   ]
  },
  {
   "cell_type": "markdown",
   "id": "75419b0e",
   "metadata": {},
   "source": [
    "### Renaming columns!\n",
    "\n",
    "This code makes a new `DataFrame` with the column names replaced (The `columns=` part is required magic):"
   ]
  },
  {
   "cell_type": "code",
   "execution_count": null,
   "id": "4f9e7081",
   "metadata": {
    "scrolled": true
   },
   "outputs": [],
   "source": [
    "time_use_subset = subset_time_use_data.rename(columns=column_names)\n",
    "time_use_subset.head()"
   ]
  },
  {
   "cell_type": "markdown",
   "id": "7d603f88",
   "metadata": {},
   "source": [
    "# Subsetting rows\n",
    "\n",
    "Two ways to subset by row.\n",
    "+ By row index\n",
    "+ By describing the columns to look in and the values to select for"
   ]
  },
  {
   "cell_type": "markdown",
   "id": "521d3ebf",
   "metadata": {},
   "source": [
    "## By row index: slicing"
   ]
  },
  {
   "cell_type": "markdown",
   "id": "5dd1a19c",
   "metadata": {},
   "source": [
    "`DataFrame`s contain a variable called `iloc` that takes the row range and column range:"
   ]
  },
  {
   "cell_type": "code",
   "execution_count": null,
   "id": "0369681b",
   "metadata": {},
   "outputs": [],
   "source": [
    "time_use_subset.iloc[0:3, 1:4] # Rows 0, 1, and 2; columns 1, 2, and 3"
   ]
  },
  {
   "cell_type": "markdown",
   "id": "40eebff5",
   "metadata": {},
   "source": [
    "As with list slicing, the second index is not included in the result."
   ]
  },
  {
   "cell_type": "markdown",
   "id": "e8ff7c82",
   "metadata": {},
   "source": [
    "## By using the `DataFrame` row labels\n",
    "\n",
    "`DataFrame`s contain a variable called `loc` that uses the labels, not the indexes. Watch that second index!\n",
    "\n",
    "(The row labels are integers in `time_use_subset`.)"
   ]
  },
  {
   "cell_type": "code",
   "execution_count": null,
   "id": "ed8c0a48",
   "metadata": {
    "scrolled": true
   },
   "outputs": [],
   "source": [
    "time_use_subset.loc[0:3, 'Urban/Rural':'Marital Status']"
   ]
  },
  {
   "cell_type": "markdown",
   "id": "09f00f5b",
   "metadata": {},
   "source": [
    "### `iloc` vs `loc`\n",
    "\n",
    "+ With `iloc`, the second part of a range is not included.\n",
    "+ With `loc`, the second part of a range __is__ included."
   ]
  },
  {
   "cell_type": "markdown",
   "id": "a6f1f47a",
   "metadata": {},
   "source": [
    "# In which rows is the Marital Status 1?\n",
    "\n",
    "This gets a `Series` of Boolean values. Because `=` is used for assignment, Python uses `==` for equality."
   ]
  },
  {
   "cell_type": "code",
   "execution_count": null,
   "id": "0f48bb7c",
   "metadata": {},
   "outputs": [],
   "source": [
    "time_use_subset['Marital Status'] == 1"
   ]
  },
  {
   "cell_type": "markdown",
   "id": "61b46d1f",
   "metadata": {},
   "source": [
    "Ooh! That's fun. We can give this to `loc` as the row specification."
   ]
  },
  {
   "cell_type": "markdown",
   "id": "cd935b43",
   "metadata": {},
   "source": [
    "# Practice\n",
    "\n",
    "A reminder of `time_use_subset` info:"
   ]
  },
  {
   "cell_type": "code",
   "execution_count": null,
   "id": "87ff76e6",
   "metadata": {},
   "outputs": [],
   "source": [
    "time_use_subset.head()"
   ]
  },
  {
   "cell_type": "markdown",
   "id": "dfe4fcb3",
   "metadata": {},
   "source": [
    "How do you get a `DataFrame` for rows where `Sex == 1`?"
   ]
  },
  {
   "cell_type": "code",
   "execution_count": null,
   "id": "e411d45a",
   "metadata": {},
   "outputs": [],
   "source": [
    "# Get the True/False Series from the column.\n",
    "sex_1_series = time_use_subset['Sex'] == 1\n",
    "sex_1_df = time_use_subset.loc[sex_1_series, :]\n",
    "sex_1_df.head()"
   ]
  },
  {
   "cell_type": "markdown",
   "id": "0e037dc7",
   "metadata": {},
   "source": [
    "How do you get a `DataFrame` for rows where `Sex == 1`, but with only the `Age Group`, `Marital Status`, and `Sex` columns?"
   ]
  },
  {
   "cell_type": "code",
   "execution_count": null,
   "id": "9b5e1b03",
   "metadata": {},
   "outputs": [],
   "source": [
    "sex_1_df = time_use_subset.loc[sex_1_series, 'Age Group':'Sex']\n",
    "sex_1_df.head()"
   ]
  },
  {
   "cell_type": "markdown",
   "id": "e7ce34e4",
   "metadata": {},
   "source": [
    "How do you get a `DataFrame` with only `Feeling Rushed` and `Sleep duration` columns for everyone except people who have a `Feeling Rushed` values of `1`. (Hint: `!=` means \"not equal to\", the opposite of `==`.)"
   ]
  },
  {
   "cell_type": "code",
   "execution_count": null,
   "id": "5563c3ca",
   "metadata": {},
   "outputs": [],
   "source": [
    "rushed_series = time_use_subset['Feeling Rushed'] != 1 # Get our column of True/False values\n",
    "rushed_df = time_use_subset.loc[rushed_series, 'Feeling Rushed':'Sleep Duration']\n",
    "rushed_df.head()"
   ]
  }
 ],
 "metadata": {
  "kernelspec": {
   "display_name": "Python 3 (ipykernel)",
   "language": "python",
   "name": "python3"
  },
  "language_info": {
   "codemirror_mode": {
    "name": "ipython",
    "version": 3
   },
   "file_extension": ".py",
   "mimetype": "text/x-python",
   "name": "python",
   "nbconvert_exporter": "python",
   "pygments_lexer": "ipython3",
   "version": "3.8.12"
  }
 },
 "nbformat": 4,
 "nbformat_minor": 5
}
