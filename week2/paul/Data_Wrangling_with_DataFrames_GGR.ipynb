{
 "cells": [
  {
   "cell_type": "markdown",
   "id": "de156d20",
   "metadata": {},
   "source": [
    "# Data Wrangling\n",
    "\n",
    "Here are some fun facts about your Python skills after 1.5 weeks:\n",
    "\n",
    "+ You can create and manipulate a Jupyter notebook.\n",
    "+ You can download a CSV file to your computer and upload it to JupyterHub.\n",
    "+ You can read a CSV file to create a `DataFrame`.\n",
    "+ You can call `head` to get a new shorter `DataFrame` with just the top few rows.\n",
    "+ You can extract a column from a `DataFrame`, and you're aware that the column type is `Series`.\n",
    "+ You can, given an example, figure out how use a Python dictionary to create a `DataFrame`.\n",
    "+ You can create a list of values in Python and name it using an assignment statement.\n",
    "+ You can calculate the average of a `Series` or a list, and can find the maximum and minimum values using built-in functions.\n",
    "+ You can name any data you want using variables.\n",
    "+ You can print any data you have."
   ]
  },
  {
   "cell_type": "markdown",
   "id": "ef60ff1f",
   "metadata": {},
   "source": [
    "# What's next?\n",
    "\n",
    "__Subsetting__:\n",
    "\n",
    "+ Create a new `DataFrame` containing a subset of the columns.\n",
    "+ Create a new `DataFrame` containing a subset of the rows\n",
    "  - by index, using slicing\n",
    "  - by looking for rows that match our criteria\n",
    "+ Renaming columns"
   ]
  },
  {
   "cell_type": "markdown",
   "id": "20223bef",
   "metadata": {},
   "source": [
    "# GGR: Time Use dataset\n",
    "\n",
    "Dataset: Statistics Canada General Social Survey's (GSS) Time Use (TU) Survey\n",
    "\n",
    "+ Tracks how people spend their time\n",
    "+ two parts\n",
    "  - an 'episode' file where each row describes an event for one person. Each person has one row per event (like \"make coffee\") that they experienced.\n",
    "  - a 'main' file that includes meta-information about the individuals and also includes summary information from the 'episode' file. There is 1 row of information per person.\n",
    "+ we will stick to the 'main' file for now\n",
    "The data are stored in file `gss_tu2016_main_file.csv`. The name uses abbreviations:\n",
    "- GSS: general social survey\n",
    "- tu2016: time use from the year 2016\n",
    "- csv: comma-separated values"
   ]
  },
  {
   "cell_type": "markdown",
   "id": "6b717a70",
   "metadata": {},
   "source": [
    "## 'main' file\n",
    "\n",
    "- Summarizes time use information\n",
    "- Includes summary information from the 'episode' file\n",
    "- Includes information from other survey questions about the participant's socioeconomic status (demographics, economic situation, self-reported health status, etc.).\n",
    "- Each row describes a single participant using information taken from the survey or summarized from the 'episode' file."
   ]
  },
  {
   "cell_type": "markdown",
   "id": "b6399473",
   "metadata": {},
   "source": [
    "| ID  | Home Province | Self-rated Health | Time Spent Sleeping | Time Spent Commuting | Time Spent Eating | ... | Count of Sleeping Activities | Count of Commuting Activities | Count of Eating Activities |\n",
    "|-----|---------------|-------------------|---------------------|----------------------|-------------------|-----|------------------------------|-------------------------------|----------------------------|\n",
    "| 1   | ON            | Excellent         | 440 min             | 60 min               | 70 min            |     | 2                            | 2                             | 3                          |\n",
    "| 2   | AB            | Poor              | 600 min             | 80 min               | 130 min           |     | 3                            | 4                             | 2                          |\n",
    "| ... |               |                   |                     |                      |                   |     |                              |                               |                            |\n",
    "| 238 | BC            | Fair              | 380 min             | 20 min               | 40 min            |     | 2                            | 2                             | 4                          |"
   ]
  },
  {
   "cell_type": "markdown",
   "id": "5291838a",
   "metadata": {},
   "source": [
    "The 'main' data are stored in file `gss_tu2016_main_file.csv`. It is in the same folder as this notebook.\n",
    "\n",
    "The name uses abbreviations:\n",
    "- GSS: general social survey\n",
    "- tu2016: time use from the year 2016\n",
    "- csv: comma-separated values\n",
    "\n",
    "Let's start exploring!"
   ]
  },
  {
   "cell_type": "code",
   "execution_count": 2,
   "id": "e9c8e09b",
   "metadata": {},
   "outputs": [
    {
     "data": {
      "text/html": [
       "<div>\n",
       "<style scoped>\n",
       "    .dataframe tbody tr th:only-of-type {\n",
       "        vertical-align: middle;\n",
       "    }\n",
       "\n",
       "    .dataframe tbody tr th {\n",
       "        vertical-align: top;\n",
       "    }\n",
       "\n",
       "    .dataframe thead th {\n",
       "        text-align: right;\n",
       "    }\n",
       "</style>\n",
       "<table border=\"1\" class=\"dataframe\">\n",
       "  <thead>\n",
       "    <tr style=\"text-align: right;\">\n",
       "      <th></th>\n",
       "      <th>CASEID</th>\n",
       "      <th>pumfid</th>\n",
       "      <th>wght_per</th>\n",
       "      <th>survmnth</th>\n",
       "      <th>wtbs_001</th>\n",
       "      <th>agecxryg</th>\n",
       "      <th>agegr10</th>\n",
       "      <th>agehsdyc</th>\n",
       "      <th>ageprgrd</th>\n",
       "      <th>chh0014c</th>\n",
       "      <th>...</th>\n",
       "      <th>ree_02</th>\n",
       "      <th>ree_03</th>\n",
       "      <th>rlr_110</th>\n",
       "      <th>lan_01</th>\n",
       "      <th>lanhome</th>\n",
       "      <th>lanhmult</th>\n",
       "      <th>lanmt</th>\n",
       "      <th>lanmtmul</th>\n",
       "      <th>incg1</th>\n",
       "      <th>hhincg1</th>\n",
       "    </tr>\n",
       "  </thead>\n",
       "  <tbody>\n",
       "    <tr>\n",
       "      <th>0</th>\n",
       "      <td>10000</td>\n",
       "      <td>10000</td>\n",
       "      <td>616.6740</td>\n",
       "      <td>7</td>\n",
       "      <td>305.1159</td>\n",
       "      <td>96</td>\n",
       "      <td>5</td>\n",
       "      <td>62</td>\n",
       "      <td>96</td>\n",
       "      <td>0</td>\n",
       "      <td>...</td>\n",
       "      <td>1</td>\n",
       "      <td>1</td>\n",
       "      <td>1</td>\n",
       "      <td>1</td>\n",
       "      <td>1</td>\n",
       "      <td>1</td>\n",
       "      <td>1</td>\n",
       "      <td>1</td>\n",
       "      <td>1</td>\n",
       "      <td>1</td>\n",
       "    </tr>\n",
       "    <tr>\n",
       "      <th>1</th>\n",
       "      <td>10001</td>\n",
       "      <td>10001</td>\n",
       "      <td>8516.6140</td>\n",
       "      <td>7</td>\n",
       "      <td>0.0000</td>\n",
       "      <td>6</td>\n",
       "      <td>5</td>\n",
       "      <td>32</td>\n",
       "      <td>5</td>\n",
       "      <td>0</td>\n",
       "      <td>...</td>\n",
       "      <td>5</td>\n",
       "      <td>6</td>\n",
       "      <td>3</td>\n",
       "      <td>1</td>\n",
       "      <td>5</td>\n",
       "      <td>2</td>\n",
       "      <td>5</td>\n",
       "      <td>2</td>\n",
       "      <td>5</td>\n",
       "      <td>8</td>\n",
       "    </tr>\n",
       "    <tr>\n",
       "      <th>2</th>\n",
       "      <td>10002</td>\n",
       "      <td>10002</td>\n",
       "      <td>371.7520</td>\n",
       "      <td>1</td>\n",
       "      <td>362.7057</td>\n",
       "      <td>2</td>\n",
       "      <td>4</td>\n",
       "      <td>9</td>\n",
       "      <td>10</td>\n",
       "      <td>3</td>\n",
       "      <td>...</td>\n",
       "      <td>5</td>\n",
       "      <td>1</td>\n",
       "      <td>1</td>\n",
       "      <td>1</td>\n",
       "      <td>1</td>\n",
       "      <td>1</td>\n",
       "      <td>1</td>\n",
       "      <td>1</td>\n",
       "      <td>3</td>\n",
       "      <td>8</td>\n",
       "    </tr>\n",
       "    <tr>\n",
       "      <th>3</th>\n",
       "      <td>10003</td>\n",
       "      <td>10003</td>\n",
       "      <td>1019.3135</td>\n",
       "      <td>3</td>\n",
       "      <td>0.0000</td>\n",
       "      <td>96</td>\n",
       "      <td>6</td>\n",
       "      <td>65</td>\n",
       "      <td>96</td>\n",
       "      <td>0</td>\n",
       "      <td>...</td>\n",
       "      <td>3</td>\n",
       "      <td>2</td>\n",
       "      <td>2</td>\n",
       "      <td>1</td>\n",
       "      <td>1</td>\n",
       "      <td>1</td>\n",
       "      <td>1</td>\n",
       "      <td>1</td>\n",
       "      <td>2</td>\n",
       "      <td>2</td>\n",
       "    </tr>\n",
       "    <tr>\n",
       "      <th>4</th>\n",
       "      <td>10004</td>\n",
       "      <td>10004</td>\n",
       "      <td>1916.0708</td>\n",
       "      <td>9</td>\n",
       "      <td>11388.9706</td>\n",
       "      <td>96</td>\n",
       "      <td>2</td>\n",
       "      <td>25</td>\n",
       "      <td>96</td>\n",
       "      <td>0</td>\n",
       "      <td>...</td>\n",
       "      <td>9</td>\n",
       "      <td>99</td>\n",
       "      <td>9</td>\n",
       "      <td>9</td>\n",
       "      <td>99</td>\n",
       "      <td>9</td>\n",
       "      <td>99</td>\n",
       "      <td>9</td>\n",
       "      <td>2</td>\n",
       "      <td>4</td>\n",
       "    </tr>\n",
       "  </tbody>\n",
       "</table>\n",
       "<p>5 rows × 350 columns</p>\n",
       "</div>"
      ],
      "text/plain": [
       "   CASEID  pumfid   wght_per  survmnth    wtbs_001  agecxryg  agegr10  \\\n",
       "0   10000   10000   616.6740         7    305.1159        96        5   \n",
       "1   10001   10001  8516.6140         7      0.0000         6        5   \n",
       "2   10002   10002   371.7520         1    362.7057         2        4   \n",
       "3   10003   10003  1019.3135         3      0.0000        96        6   \n",
       "4   10004   10004  1916.0708         9  11388.9706        96        2   \n",
       "\n",
       "   agehsdyc  ageprgrd  chh0014c  ...  ree_02  ree_03  rlr_110  lan_01  \\\n",
       "0        62        96         0  ...       1       1        1       1   \n",
       "1        32         5         0  ...       5       6        3       1   \n",
       "2         9        10         3  ...       5       1        1       1   \n",
       "3        65        96         0  ...       3       2        2       1   \n",
       "4        25        96         0  ...       9      99        9       9   \n",
       "\n",
       "   lanhome  lanhmult  lanmt  lanmtmul  incg1  hhincg1  \n",
       "0        1         1      1         1      1        1  \n",
       "1        5         2      5         2      5        8  \n",
       "2        1         1      1         1      3        8  \n",
       "3        1         1      1         1      2        2  \n",
       "4       99         9     99         9      2        4  \n",
       "\n",
       "[5 rows x 350 columns]"
      ]
     },
     "execution_count": 2,
     "metadata": {},
     "output_type": "execute_result"
    }
   ],
   "source": [
    "import pandas as pd\n",
    "time_use_data = pd.read_csv('gss_tu2016_main_file.csv')\n",
    "time_use_data.head()"
   ]
  },
  {
   "cell_type": "markdown",
   "id": "9af3917d",
   "metadata": {},
   "source": [
    "Where the heck did the nice names go?\n",
    "\n",
    "Let's try to look at all of the column names:"
   ]
  },
  {
   "cell_type": "code",
   "execution_count": 3,
   "id": "5201ae4c",
   "metadata": {
    "scrolled": true
   },
   "outputs": [
    {
     "data": {
      "text/plain": [
       "Index(['CASEID', 'pumfid', 'wght_per', 'survmnth', 'wtbs_001', 'agecxryg',\n",
       "       'agegr10', 'agehsdyc', 'ageprgrd', 'chh0014c',\n",
       "       ...\n",
       "       'ree_02', 'ree_03', 'rlr_110', 'lan_01', 'lanhome', 'lanhmult', 'lanmt',\n",
       "       'lanmtmul', 'incg1', 'hhincg1'],\n",
       "      dtype='object', length=350)"
      ]
     },
     "execution_count": 3,
     "metadata": {},
     "output_type": "execute_result"
    }
   ],
   "source": [
    "time_use_data.columns"
   ]
  },
  {
   "cell_type": "markdown",
   "id": "b8638442",
   "metadata": {},
   "source": [
    "Yikes. 350?\n",
    "\n",
    "Let's make a smaller `DataFrame` with only the columns we care about. Here they are:"
   ]
  },
  {
   "cell_type": "markdown",
   "id": "67154559",
   "metadata": {},
   "source": [
    "In order to create an easy to use dataset we will only keep the following columns:\n",
    "\n",
    "- `CASEID` (participant ID), \n",
    "- `luc_rst` (large urban centre vs rural and small towns), \n",
    "- `agegr10` (age group), \n",
    "- `marstat` (marital status), \n",
    "- `sex` (sex), \n",
    "- `chh0014c` (number of kids 14 or under), \n",
    "- `gtu_110` (feeling rushed), and \n",
    "- `dur01` (duration spent sleeping). "
   ]
  },
  {
   "cell_type": "code",
   "execution_count": 4,
   "id": "b0e39475",
   "metadata": {},
   "outputs": [
    {
     "data": {
      "text/plain": [
       "0    10000\n",
       "1    10001\n",
       "2    10002\n",
       "3    10003\n",
       "4    10004\n",
       "Name: CASEID, dtype: int64"
      ]
     },
     "execution_count": 4,
     "metadata": {},
     "output_type": "execute_result"
    }
   ],
   "source": [
    "time_use_data['CASEID'].head()"
   ]
  },
  {
   "cell_type": "markdown",
   "id": "a70672f0",
   "metadata": {},
   "source": [
    "Let's put all these column names in a list we'll name `important_columns`."
   ]
  },
  {
   "cell_type": "code",
   "execution_count": 5,
   "id": "c7ec3c29",
   "metadata": {
    "slideshow": {
     "slide_type": "-"
    }
   },
   "outputs": [],
   "source": [
    "important_columns = ['CASEID', \"luc_rst\", \"agegr10\", \"marstat\", \"sex\",\n",
    "                     \"chh0014c\", \"gtu_110\", \"dur01\"]"
   ]
  },
  {
   "cell_type": "code",
   "execution_count": 10,
   "id": "106cf719",
   "metadata": {},
   "outputs": [
    {
     "ename": "TypeError",
     "evalue": "list indices must be integers or slices, not str",
     "output_type": "error",
     "traceback": [
      "\u001b[0;31m---------------------------------------------------------------------------\u001b[0m",
      "\u001b[0;31mTypeError\u001b[0m                                 Traceback (most recent call last)",
      "\u001b[0;32m/tmp/ipykernel_82/3542116649.py\u001b[0m in \u001b[0;36m<module>\u001b[0;34m\u001b[0m\n\u001b[0;32m----> 1\u001b[0;31m \u001b[0mimportant_columns\u001b[0m\u001b[0;34m[\u001b[0m\u001b[0;34m'CASEID'\u001b[0m\u001b[0;34m]\u001b[0m \u001b[0;31m# Oops. When I index into a list, I need an integer.\u001b[0m\u001b[0;34m\u001b[0m\u001b[0;34m\u001b[0m\u001b[0m\n\u001b[0m",
      "\u001b[0;31mTypeError\u001b[0m: list indices must be integers or slices, not str"
     ]
    }
   ],
   "source": [
    "important_columns['CASEID'] # Oops. When I index into a list, I need an integer."
   ]
  },
  {
   "cell_type": "code",
   "execution_count": 14,
   "id": "315d8deb",
   "metadata": {},
   "outputs": [
    {
     "data": {
      "text/plain": [
       "list"
      ]
     },
     "execution_count": 14,
     "metadata": {},
     "output_type": "execute_result"
    }
   ],
   "source": [
    "important_columns[-1]\n",
    "type(important_columns)"
   ]
  },
  {
   "cell_type": "code",
   "execution_count": 16,
   "id": "a7e2d710",
   "metadata": {
    "scrolled": true
   },
   "outputs": [
    {
     "data": {
      "text/plain": [
       "pandas.core.frame.DataFrame"
      ]
     },
     "execution_count": 16,
     "metadata": {},
     "output_type": "execute_result"
    }
   ],
   "source": [
    "type(time_use_data[important_columns])"
   ]
  },
  {
   "cell_type": "code",
   "execution_count": 18,
   "id": "5600698b",
   "metadata": {},
   "outputs": [
    {
     "data": {
      "text/plain": [
       "pandas.core.series.Series"
      ]
     },
     "execution_count": 18,
     "metadata": {},
     "output_type": "execute_result"
    }
   ],
   "source": [
    "type(time_use_data['CASEID'])"
   ]
  },
  {
   "cell_type": "markdown",
   "id": "14890a70",
   "metadata": {},
   "source": [
    "Just like we can extract a single column to get a `Series` , we can extract a subset of the columns to get a new `DataFrame`:"
   ]
  },
  {
   "cell_type": "code",
   "execution_count": 19,
   "id": "a9c5093a",
   "metadata": {},
   "outputs": [
    {
     "data": {
      "text/html": [
       "<div>\n",
       "<style scoped>\n",
       "    .dataframe tbody tr th:only-of-type {\n",
       "        vertical-align: middle;\n",
       "    }\n",
       "\n",
       "    .dataframe tbody tr th {\n",
       "        vertical-align: top;\n",
       "    }\n",
       "\n",
       "    .dataframe thead th {\n",
       "        text-align: right;\n",
       "    }\n",
       "</style>\n",
       "<table border=\"1\" class=\"dataframe\">\n",
       "  <thead>\n",
       "    <tr style=\"text-align: right;\">\n",
       "      <th></th>\n",
       "      <th>CASEID</th>\n",
       "      <th>luc_rst</th>\n",
       "      <th>agegr10</th>\n",
       "      <th>marstat</th>\n",
       "      <th>sex</th>\n",
       "      <th>chh0014c</th>\n",
       "      <th>gtu_110</th>\n",
       "      <th>dur01</th>\n",
       "    </tr>\n",
       "  </thead>\n",
       "  <tbody>\n",
       "    <tr>\n",
       "      <th>0</th>\n",
       "      <td>10000</td>\n",
       "      <td>1</td>\n",
       "      <td>5</td>\n",
       "      <td>5</td>\n",
       "      <td>1</td>\n",
       "      <td>0</td>\n",
       "      <td>1</td>\n",
       "      <td>510</td>\n",
       "    </tr>\n",
       "    <tr>\n",
       "      <th>1</th>\n",
       "      <td>10001</td>\n",
       "      <td>1</td>\n",
       "      <td>5</td>\n",
       "      <td>1</td>\n",
       "      <td>1</td>\n",
       "      <td>0</td>\n",
       "      <td>3</td>\n",
       "      <td>420</td>\n",
       "    </tr>\n",
       "    <tr>\n",
       "      <th>2</th>\n",
       "      <td>10002</td>\n",
       "      <td>1</td>\n",
       "      <td>4</td>\n",
       "      <td>1</td>\n",
       "      <td>2</td>\n",
       "      <td>3</td>\n",
       "      <td>1</td>\n",
       "      <td>570</td>\n",
       "    </tr>\n",
       "    <tr>\n",
       "      <th>3</th>\n",
       "      <td>10003</td>\n",
       "      <td>1</td>\n",
       "      <td>6</td>\n",
       "      <td>5</td>\n",
       "      <td>2</td>\n",
       "      <td>0</td>\n",
       "      <td>2</td>\n",
       "      <td>510</td>\n",
       "    </tr>\n",
       "    <tr>\n",
       "      <th>4</th>\n",
       "      <td>10004</td>\n",
       "      <td>1</td>\n",
       "      <td>2</td>\n",
       "      <td>6</td>\n",
       "      <td>1</td>\n",
       "      <td>0</td>\n",
       "      <td>1</td>\n",
       "      <td>525</td>\n",
       "    </tr>\n",
       "  </tbody>\n",
       "</table>\n",
       "</div>"
      ],
      "text/plain": [
       "   CASEID  luc_rst  agegr10  marstat  sex  chh0014c  gtu_110  dur01\n",
       "0   10000        1        5        5    1         0        1    510\n",
       "1   10001        1        5        1    1         0        3    420\n",
       "2   10002        1        4        1    2         3        1    570\n",
       "3   10003        1        6        5    2         0        2    510\n",
       "4   10004        1        2        6    1         0        1    525"
      ]
     },
     "execution_count": 19,
     "metadata": {},
     "output_type": "execute_result"
    }
   ],
   "source": [
    "subset_time_use_data = time_use_data[important_columns]\n",
    "subset_time_use_data.head()"
   ]
  },
  {
   "cell_type": "markdown",
   "id": "32d8ddef",
   "metadata": {},
   "source": [
    "### Still yucky to read\n",
    "\n",
    "Here's a Python dictionary mapping icky names to better names:"
   ]
  },
  {
   "cell_type": "code",
   "execution_count": 21,
   "id": "bd8c9909",
   "metadata": {},
   "outputs": [],
   "source": [
    "column_names = {\n",
    "    'CASEID': 'Participant ID',\n",
    "    'luc_rst': 'Urban/Rural',\n",
    "    'agegr10': 'Age Group',\n",
    "    'marstat': 'Marital Status',\n",
    "    'sex': 'Sex',\n",
    "    'chh0014c': 'Kids under 14',\n",
    "    'gtu_110': 'Feeling Rushed',\n",
    "    'dur01': 'Sleep Duration'\n",
    "}"
   ]
  },
  {
   "cell_type": "code",
   "execution_count": 22,
   "id": "6a3b7133",
   "metadata": {},
   "outputs": [
    {
     "data": {
      "text/plain": [
       "'Marital Status'"
      ]
     },
     "execution_count": 22,
     "metadata": {},
     "output_type": "execute_result"
    }
   ],
   "source": [
    "column_names['marstat']"
   ]
  },
  {
   "cell_type": "code",
   "execution_count": 23,
   "id": "0c6b3370",
   "metadata": {},
   "outputs": [
    {
     "data": {
      "text/plain": [
       "{'CASEID': 'Participant ID',\n",
       " 'luc_rst': 'Urban/Rural',\n",
       " 'agegr10': 'Age Group',\n",
       " 'marstat': 'Marital Status',\n",
       " 'sex': 'Sex',\n",
       " 'chh0014c': 'Kids under 14',\n",
       " 'gtu_110': 'Feeling Rushed',\n",
       " 'dur01': 'Sleep Duration'}"
      ]
     },
     "execution_count": 23,
     "metadata": {},
     "output_type": "execute_result"
    }
   ],
   "source": [
    "column_names"
   ]
  },
  {
   "cell_type": "markdown",
   "id": "7b5d50b9",
   "metadata": {},
   "source": [
    "### Renaming columns!\n",
    "\n",
    "This code makes a new `DataFrame` with the column names replaced (The `columns=` part is required magic):"
   ]
  },
  {
   "cell_type": "code",
   "execution_count": 26,
   "id": "efb43c6e",
   "metadata": {
    "scrolled": true
   },
   "outputs": [
    {
     "data": {
      "text/html": [
       "<div>\n",
       "<style scoped>\n",
       "    .dataframe tbody tr th:only-of-type {\n",
       "        vertical-align: middle;\n",
       "    }\n",
       "\n",
       "    .dataframe tbody tr th {\n",
       "        vertical-align: top;\n",
       "    }\n",
       "\n",
       "    .dataframe thead th {\n",
       "        text-align: right;\n",
       "    }\n",
       "</style>\n",
       "<table border=\"1\" class=\"dataframe\">\n",
       "  <thead>\n",
       "    <tr style=\"text-align: right;\">\n",
       "      <th></th>\n",
       "      <th>Participant ID</th>\n",
       "      <th>Urban/Rural</th>\n",
       "      <th>Age Group</th>\n",
       "      <th>Marital Status</th>\n",
       "      <th>Sex</th>\n",
       "      <th>Kids under 14</th>\n",
       "      <th>Feeling Rushed</th>\n",
       "      <th>Sleep Duration</th>\n",
       "    </tr>\n",
       "  </thead>\n",
       "  <tbody>\n",
       "    <tr>\n",
       "      <th>0</th>\n",
       "      <td>10000</td>\n",
       "      <td>1</td>\n",
       "      <td>5</td>\n",
       "      <td>5</td>\n",
       "      <td>1</td>\n",
       "      <td>0</td>\n",
       "      <td>1</td>\n",
       "      <td>510</td>\n",
       "    </tr>\n",
       "    <tr>\n",
       "      <th>1</th>\n",
       "      <td>10001</td>\n",
       "      <td>1</td>\n",
       "      <td>5</td>\n",
       "      <td>1</td>\n",
       "      <td>1</td>\n",
       "      <td>0</td>\n",
       "      <td>3</td>\n",
       "      <td>420</td>\n",
       "    </tr>\n",
       "    <tr>\n",
       "      <th>2</th>\n",
       "      <td>10002</td>\n",
       "      <td>1</td>\n",
       "      <td>4</td>\n",
       "      <td>1</td>\n",
       "      <td>2</td>\n",
       "      <td>3</td>\n",
       "      <td>1</td>\n",
       "      <td>570</td>\n",
       "    </tr>\n",
       "    <tr>\n",
       "      <th>3</th>\n",
       "      <td>10003</td>\n",
       "      <td>1</td>\n",
       "      <td>6</td>\n",
       "      <td>5</td>\n",
       "      <td>2</td>\n",
       "      <td>0</td>\n",
       "      <td>2</td>\n",
       "      <td>510</td>\n",
       "    </tr>\n",
       "    <tr>\n",
       "      <th>4</th>\n",
       "      <td>10004</td>\n",
       "      <td>1</td>\n",
       "      <td>2</td>\n",
       "      <td>6</td>\n",
       "      <td>1</td>\n",
       "      <td>0</td>\n",
       "      <td>1</td>\n",
       "      <td>525</td>\n",
       "    </tr>\n",
       "  </tbody>\n",
       "</table>\n",
       "</div>"
      ],
      "text/plain": [
       "   Participant ID  Urban/Rural  Age Group  Marital Status  Sex  Kids under 14  \\\n",
       "0           10000            1          5               5    1              0   \n",
       "1           10001            1          5               1    1              0   \n",
       "2           10002            1          4               1    2              3   \n",
       "3           10003            1          6               5    2              0   \n",
       "4           10004            1          2               6    1              0   \n",
       "\n",
       "   Feeling Rushed  Sleep Duration  \n",
       "0               1             510  \n",
       "1               3             420  \n",
       "2               1             570  \n",
       "3               2             510  \n",
       "4               1             525  "
      ]
     },
     "execution_count": 26,
     "metadata": {},
     "output_type": "execute_result"
    }
   ],
   "source": [
    "time_use_subset = subset_time_use_data.rename(columns=column_names)\n",
    "time_use_subset.head()"
   ]
  },
  {
   "cell_type": "markdown",
   "id": "ea39097d",
   "metadata": {},
   "source": [
    "# Parameters and arguments in function definitions and function calls"
   ]
  },
  {
   "cell_type": "markdown",
   "id": "eaaca075",
   "metadata": {},
   "source": [
    "Arguments are values we supply in a function call. In `sum(3, 5)`, `3` and `5` are the _arguments_.\n",
    "\n",
    "Variables that are defined in a function header are called _parameters_. Below, the parameter is named `iterable`."
   ]
  },
  {
   "cell_type": "code",
   "execution_count": 24,
   "id": "877881fd",
   "metadata": {},
   "outputs": [
    {
     "name": "stdout",
     "output_type": "stream",
     "text": [
      "Help on built-in function sum in module builtins:\n",
      "\n",
      "sum(iterable, /, start=0)\n",
      "    Return the sum of a 'start' value (default: 0) plus an iterable of numbers\n",
      "    \n",
      "    When the iterable is empty, return the start value.\n",
      "    This function is intended specifically for use with numeric values and may\n",
      "    reject non-numeric types.\n",
      "\n"
     ]
    }
   ],
   "source": [
    "help(sum)"
   ]
  },
  {
   "cell_type": "code",
   "execution_count": 25,
   "id": "734911ec",
   "metadata": {},
   "outputs": [
    {
     "data": {
      "text/plain": [
       "6"
      ]
     },
     "execution_count": 25,
     "metadata": {},
     "output_type": "execute_result"
    }
   ],
   "source": [
    "sum([1, 2, 3])"
   ]
  },
  {
   "cell_type": "markdown",
   "id": "c318a16e",
   "metadata": {},
   "source": [
    "# Subsetting rows\n",
    "\n",
    "Two ways to subset by row.\n",
    "+ By row index\n",
    "+ By describing the columns to look in and the values to select for"
   ]
  },
  {
   "cell_type": "markdown",
   "id": "fcda6d8b",
   "metadata": {},
   "source": [
    "## By row index: slicing"
   ]
  },
  {
   "cell_type": "markdown",
   "id": "5184eaa4",
   "metadata": {},
   "source": [
    "`DataFrame`s contain a variable called `iloc` that takes the row range and column range:"
   ]
  },
  {
   "cell_type": "code",
   "execution_count": 29,
   "id": "6392df41",
   "metadata": {},
   "outputs": [
    {
     "data": {
      "text/html": [
       "<div>\n",
       "<style scoped>\n",
       "    .dataframe tbody tr th:only-of-type {\n",
       "        vertical-align: middle;\n",
       "    }\n",
       "\n",
       "    .dataframe tbody tr th {\n",
       "        vertical-align: top;\n",
       "    }\n",
       "\n",
       "    .dataframe thead th {\n",
       "        text-align: right;\n",
       "    }\n",
       "</style>\n",
       "<table border=\"1\" class=\"dataframe\">\n",
       "  <thead>\n",
       "    <tr style=\"text-align: right;\">\n",
       "      <th></th>\n",
       "      <th>Participant ID</th>\n",
       "      <th>Urban/Rural</th>\n",
       "      <th>Age Group</th>\n",
       "      <th>Marital Status</th>\n",
       "      <th>Sex</th>\n",
       "      <th>Kids under 14</th>\n",
       "      <th>Feeling Rushed</th>\n",
       "      <th>Sleep Duration</th>\n",
       "    </tr>\n",
       "  </thead>\n",
       "  <tbody>\n",
       "    <tr>\n",
       "      <th>0</th>\n",
       "      <td>10000</td>\n",
       "      <td>1</td>\n",
       "      <td>5</td>\n",
       "      <td>5</td>\n",
       "      <td>1</td>\n",
       "      <td>0</td>\n",
       "      <td>1</td>\n",
       "      <td>510</td>\n",
       "    </tr>\n",
       "    <tr>\n",
       "      <th>1</th>\n",
       "      <td>10001</td>\n",
       "      <td>1</td>\n",
       "      <td>5</td>\n",
       "      <td>1</td>\n",
       "      <td>1</td>\n",
       "      <td>0</td>\n",
       "      <td>3</td>\n",
       "      <td>420</td>\n",
       "    </tr>\n",
       "    <tr>\n",
       "      <th>2</th>\n",
       "      <td>10002</td>\n",
       "      <td>1</td>\n",
       "      <td>4</td>\n",
       "      <td>1</td>\n",
       "      <td>2</td>\n",
       "      <td>3</td>\n",
       "      <td>1</td>\n",
       "      <td>570</td>\n",
       "    </tr>\n",
       "  </tbody>\n",
       "</table>\n",
       "</div>"
      ],
      "text/plain": [
       "   Participant ID  Urban/Rural  Age Group  Marital Status  Sex  Kids under 14  \\\n",
       "0           10000            1          5               5    1              0   \n",
       "1           10001            1          5               1    1              0   \n",
       "2           10002            1          4               1    2              3   \n",
       "\n",
       "   Feeling Rushed  Sleep Duration  \n",
       "0               1             510  \n",
       "1               3             420  \n",
       "2               1             570  "
      ]
     },
     "execution_count": 29,
     "metadata": {},
     "output_type": "execute_result"
    }
   ],
   "source": [
    "time_use_subset.head(3)"
   ]
  },
  {
   "cell_type": "code",
   "execution_count": 27,
   "id": "18bce6be",
   "metadata": {},
   "outputs": [
    {
     "data": {
      "text/html": [
       "<div>\n",
       "<style scoped>\n",
       "    .dataframe tbody tr th:only-of-type {\n",
       "        vertical-align: middle;\n",
       "    }\n",
       "\n",
       "    .dataframe tbody tr th {\n",
       "        vertical-align: top;\n",
       "    }\n",
       "\n",
       "    .dataframe thead th {\n",
       "        text-align: right;\n",
       "    }\n",
       "</style>\n",
       "<table border=\"1\" class=\"dataframe\">\n",
       "  <thead>\n",
       "    <tr style=\"text-align: right;\">\n",
       "      <th></th>\n",
       "      <th>Urban/Rural</th>\n",
       "      <th>Age Group</th>\n",
       "      <th>Marital Status</th>\n",
       "    </tr>\n",
       "  </thead>\n",
       "  <tbody>\n",
       "    <tr>\n",
       "      <th>0</th>\n",
       "      <td>1</td>\n",
       "      <td>5</td>\n",
       "      <td>5</td>\n",
       "    </tr>\n",
       "    <tr>\n",
       "      <th>1</th>\n",
       "      <td>1</td>\n",
       "      <td>5</td>\n",
       "      <td>1</td>\n",
       "    </tr>\n",
       "    <tr>\n",
       "      <th>2</th>\n",
       "      <td>1</td>\n",
       "      <td>4</td>\n",
       "      <td>1</td>\n",
       "    </tr>\n",
       "  </tbody>\n",
       "</table>\n",
       "</div>"
      ],
      "text/plain": [
       "   Urban/Rural  Age Group  Marital Status\n",
       "0            1          5               5\n",
       "1            1          5               1\n",
       "2            1          4               1"
      ]
     },
     "execution_count": 27,
     "metadata": {},
     "output_type": "execute_result"
    }
   ],
   "source": [
    "time_use_subset.iloc[0:3, 1:4] # Rows 0, 1, and 2; columns 1, 2, and 3"
   ]
  },
  {
   "cell_type": "code",
   "execution_count": 31,
   "id": "83be458b",
   "metadata": {
    "scrolled": true
   },
   "outputs": [
    {
     "data": {
      "text/plain": [
       "5"
      ]
     },
     "execution_count": 31,
     "metadata": {},
     "output_type": "execute_result"
    }
   ],
   "source": [
    "time_use_subset.iloc[0, 3] # This gets a single value"
   ]
  },
  {
   "cell_type": "code",
   "execution_count": 33,
   "id": "85f1e83d",
   "metadata": {},
   "outputs": [
    {
     "data": {
      "text/html": [
       "<div>\n",
       "<style scoped>\n",
       "    .dataframe tbody tr th:only-of-type {\n",
       "        vertical-align: middle;\n",
       "    }\n",
       "\n",
       "    .dataframe tbody tr th {\n",
       "        vertical-align: top;\n",
       "    }\n",
       "\n",
       "    .dataframe thead th {\n",
       "        text-align: right;\n",
       "    }\n",
       "</style>\n",
       "<table border=\"1\" class=\"dataframe\">\n",
       "  <thead>\n",
       "    <tr style=\"text-align: right;\">\n",
       "      <th></th>\n",
       "      <th>professor</th>\n",
       "      <th>favicecream</th>\n",
       "    </tr>\n",
       "  </thead>\n",
       "  <tbody>\n",
       "    <tr>\n",
       "      <th>0</th>\n",
       "      <td>NT</td>\n",
       "      <td>chocolate</td>\n",
       "    </tr>\n",
       "    <tr>\n",
       "      <th>1</th>\n",
       "      <td>PG</td>\n",
       "      <td>mint</td>\n",
       "    </tr>\n",
       "    <tr>\n",
       "      <th>2</th>\n",
       "      <td>MW</td>\n",
       "      <td>butterscotch</td>\n",
       "    </tr>\n",
       "  </tbody>\n",
       "</table>\n",
       "</div>"
      ],
      "text/plain": [
       "  professor   favicecream\n",
       "0        NT     chocolate\n",
       "1        PG          mint\n",
       "2        MW  butterscotch"
      ]
     },
     "execution_count": 33,
     "metadata": {},
     "output_type": "execute_result"
    }
   ],
   "source": [
    "icecreamdat = {'professor': ['NT', 'PG','MW'], \n",
    "               'favicecream': ['chocolate', 'mint', 'butterscotch']}\n",
    "\n",
    "icecream_df = pd.DataFrame(icecreamdat)\n",
    "icecream_df"
   ]
  },
  {
   "cell_type": "code",
   "execution_count": 34,
   "id": "0628b890",
   "metadata": {},
   "outputs": [
    {
     "data": {
      "text/plain": [
       "'mint'"
      ]
     },
     "execution_count": 34,
     "metadata": {},
     "output_type": "execute_result"
    }
   ],
   "source": [
    "icecream_df.iloc[1, 1]"
   ]
  },
  {
   "cell_type": "markdown",
   "id": "c3b556ce",
   "metadata": {},
   "source": [
    "# Parameters vs. arguments\n",
    "\n",
    "`pd.DataFrame(icecreamdat)`\n",
    "What's the argument? icecreamdat"
   ]
  },
  {
   "cell_type": "markdown",
   "id": "32f2d312",
   "metadata": {},
   "source": [
    "As with list slicing, the second index is not included in the result."
   ]
  },
  {
   "cell_type": "code",
   "execution_count": 37,
   "id": "f2e9ef4c",
   "metadata": {},
   "outputs": [
    {
     "name": "stdout",
     "output_type": "stream",
     "text": [
      "Help on built-in function round in module builtins:\n",
      "\n",
      "round(number, ndigits=None)\n",
      "    Round a number to a given precision in decimal digits.\n",
      "    \n",
      "    The return value is an integer if ndigits is omitted or None.  Otherwise\n",
      "    the return value has the same type as the number.  ndigits may be negative.\n",
      "\n"
     ]
    }
   ],
   "source": [
    "help(round) # What's the parameter name?"
   ]
  },
  {
   "cell_type": "markdown",
   "id": "cc26cf55",
   "metadata": {},
   "source": [
    "## By using the `DataFrame` row labels\n",
    "\n",
    "`DataFrame`s contain a variable called `loc` that uses the labels, not the indexes. Watch that second index!\n",
    "\n",
    "(The row labels are integers in `time_use_subset`.)"
   ]
  },
  {
   "cell_type": "code",
   "execution_count": 39,
   "id": "934bff83",
   "metadata": {},
   "outputs": [
    {
     "data": {
      "text/html": [
       "<div>\n",
       "<style scoped>\n",
       "    .dataframe tbody tr th:only-of-type {\n",
       "        vertical-align: middle;\n",
       "    }\n",
       "\n",
       "    .dataframe tbody tr th {\n",
       "        vertical-align: top;\n",
       "    }\n",
       "\n",
       "    .dataframe thead th {\n",
       "        text-align: right;\n",
       "    }\n",
       "</style>\n",
       "<table border=\"1\" class=\"dataframe\">\n",
       "  <thead>\n",
       "    <tr style=\"text-align: right;\">\n",
       "      <th></th>\n",
       "      <th>Participant ID</th>\n",
       "      <th>Urban/Rural</th>\n",
       "      <th>Age Group</th>\n",
       "      <th>Marital Status</th>\n",
       "      <th>Sex</th>\n",
       "      <th>Kids under 14</th>\n",
       "      <th>Feeling Rushed</th>\n",
       "      <th>Sleep Duration</th>\n",
       "    </tr>\n",
       "  </thead>\n",
       "  <tbody>\n",
       "    <tr>\n",
       "      <th>0</th>\n",
       "      <td>10000</td>\n",
       "      <td>1</td>\n",
       "      <td>5</td>\n",
       "      <td>5</td>\n",
       "      <td>1</td>\n",
       "      <td>0</td>\n",
       "      <td>1</td>\n",
       "      <td>510</td>\n",
       "    </tr>\n",
       "    <tr>\n",
       "      <th>1</th>\n",
       "      <td>10001</td>\n",
       "      <td>1</td>\n",
       "      <td>5</td>\n",
       "      <td>1</td>\n",
       "      <td>1</td>\n",
       "      <td>0</td>\n",
       "      <td>3</td>\n",
       "      <td>420</td>\n",
       "    </tr>\n",
       "    <tr>\n",
       "      <th>2</th>\n",
       "      <td>10002</td>\n",
       "      <td>1</td>\n",
       "      <td>4</td>\n",
       "      <td>1</td>\n",
       "      <td>2</td>\n",
       "      <td>3</td>\n",
       "      <td>1</td>\n",
       "      <td>570</td>\n",
       "    </tr>\n",
       "    <tr>\n",
       "      <th>3</th>\n",
       "      <td>10003</td>\n",
       "      <td>1</td>\n",
       "      <td>6</td>\n",
       "      <td>5</td>\n",
       "      <td>2</td>\n",
       "      <td>0</td>\n",
       "      <td>2</td>\n",
       "      <td>510</td>\n",
       "    </tr>\n",
       "    <tr>\n",
       "      <th>4</th>\n",
       "      <td>10004</td>\n",
       "      <td>1</td>\n",
       "      <td>2</td>\n",
       "      <td>6</td>\n",
       "      <td>1</td>\n",
       "      <td>0</td>\n",
       "      <td>1</td>\n",
       "      <td>525</td>\n",
       "    </tr>\n",
       "  </tbody>\n",
       "</table>\n",
       "</div>"
      ],
      "text/plain": [
       "   Participant ID  Urban/Rural  Age Group  Marital Status  Sex  Kids under 14  \\\n",
       "0           10000            1          5               5    1              0   \n",
       "1           10001            1          5               1    1              0   \n",
       "2           10002            1          4               1    2              3   \n",
       "3           10003            1          6               5    2              0   \n",
       "4           10004            1          2               6    1              0   \n",
       "\n",
       "   Feeling Rushed  Sleep Duration  \n",
       "0               1             510  \n",
       "1               3             420  \n",
       "2               1             570  \n",
       "3               2             510  \n",
       "4               1             525  "
      ]
     },
     "execution_count": 39,
     "metadata": {},
     "output_type": "execute_result"
    }
   ],
   "source": [
    "time_use_subset.head()"
   ]
  },
  {
   "cell_type": "code",
   "execution_count": 40,
   "id": "3084c3d4",
   "metadata": {
    "scrolled": true
   },
   "outputs": [
    {
     "data": {
      "text/html": [
       "<div>\n",
       "<style scoped>\n",
       "    .dataframe tbody tr th:only-of-type {\n",
       "        vertical-align: middle;\n",
       "    }\n",
       "\n",
       "    .dataframe tbody tr th {\n",
       "        vertical-align: top;\n",
       "    }\n",
       "\n",
       "    .dataframe thead th {\n",
       "        text-align: right;\n",
       "    }\n",
       "</style>\n",
       "<table border=\"1\" class=\"dataframe\">\n",
       "  <thead>\n",
       "    <tr style=\"text-align: right;\">\n",
       "      <th></th>\n",
       "      <th>Urban/Rural</th>\n",
       "      <th>Age Group</th>\n",
       "      <th>Marital Status</th>\n",
       "    </tr>\n",
       "  </thead>\n",
       "  <tbody>\n",
       "    <tr>\n",
       "      <th>0</th>\n",
       "      <td>1</td>\n",
       "      <td>5</td>\n",
       "      <td>5</td>\n",
       "    </tr>\n",
       "    <tr>\n",
       "      <th>1</th>\n",
       "      <td>1</td>\n",
       "      <td>5</td>\n",
       "      <td>1</td>\n",
       "    </tr>\n",
       "    <tr>\n",
       "      <th>2</th>\n",
       "      <td>1</td>\n",
       "      <td>4</td>\n",
       "      <td>1</td>\n",
       "    </tr>\n",
       "    <tr>\n",
       "      <th>3</th>\n",
       "      <td>1</td>\n",
       "      <td>6</td>\n",
       "      <td>5</td>\n",
       "    </tr>\n",
       "  </tbody>\n",
       "</table>\n",
       "</div>"
      ],
      "text/plain": [
       "   Urban/Rural  Age Group  Marital Status\n",
       "0            1          5               5\n",
       "1            1          5               1\n",
       "2            1          4               1\n",
       "3            1          6               5"
      ]
     },
     "execution_count": 40,
     "metadata": {},
     "output_type": "execute_result"
    }
   ],
   "source": [
    "time_use_subset.loc[0:3, 'Urban/Rural':'Marital Status']"
   ]
  },
  {
   "cell_type": "markdown",
   "id": "89ca5a0e",
   "metadata": {},
   "source": [
    "### `iloc` vs `loc`\n",
    "\n",
    "+ With `iloc`, the second part of a range is not included.\n",
    "+ With `loc`, the second part of a range __is__ included.\n",
    "\n",
    "This is for us humans: it's hard to find the name of the column *after* the one you want to end on."
   ]
  },
  {
   "cell_type": "markdown",
   "id": "8fe9c6be",
   "metadata": {},
   "source": [
    "# In which rows is the Marital Status 1?\n",
    "\n",
    "This gets a `Series` of Boolean values. Because `=` is used for assignment, Python uses `==` for equality."
   ]
  },
  {
   "cell_type": "code",
   "execution_count": 45,
   "id": "7ba3cac0",
   "metadata": {},
   "outputs": [
    {
     "data": {
      "text/plain": [
       "0        5\n",
       "1        1\n",
       "2        1\n",
       "3        5\n",
       "4        6\n",
       "        ..\n",
       "17385    6\n",
       "17386    6\n",
       "17387    3\n",
       "17388    2\n",
       "17389    1\n",
       "Name: Marital Status, Length: 17390, dtype: int64"
      ]
     },
     "execution_count": 45,
     "metadata": {},
     "output_type": "execute_result"
    }
   ],
   "source": [
    "time_use_subset['Marital Status']"
   ]
  },
  {
   "cell_type": "code",
   "execution_count": 48,
   "id": "5eceae61",
   "metadata": {},
   "outputs": [
    {
     "data": {
      "text/plain": [
       "0         True\n",
       "1        False\n",
       "2        False\n",
       "3         True\n",
       "4         True\n",
       "         ...  \n",
       "17385     True\n",
       "17386     True\n",
       "17387     True\n",
       "17388    False\n",
       "17389    False\n",
       "Name: Marital Status, Length: 17390, dtype: bool"
      ]
     },
     "execution_count": 48,
     "metadata": {},
     "output_type": "execute_result"
    }
   ],
   "source": [
    "time_use_subset['Marital Status'] >= 3"
   ]
  },
  {
   "cell_type": "code",
   "execution_count": 54,
   "id": "5c8184b1",
   "metadata": {},
   "outputs": [
    {
     "data": {
      "text/plain": [
       "7464"
      ]
     },
     "execution_count": 54,
     "metadata": {},
     "output_type": "execute_result"
    }
   ],
   "source": [
    "sum(time_use_subset['Marital Status'] >= 3) # 'cause we can add True and True"
   ]
  },
  {
   "cell_type": "markdown",
   "id": "80e66fb7",
   "metadata": {},
   "source": [
    "Ooh! That's fun. We can give this to `loc` as the row specification."
   ]
  },
  {
   "cell_type": "code",
   "execution_count": 59,
   "id": "b39cd586",
   "metadata": {},
   "outputs": [
    {
     "data": {
      "text/plain": [
       "0    False\n",
       "1     True\n",
       "2     True\n",
       "3    False\n",
       "4    False\n",
       "Name: Marital Status, dtype: bool"
      ]
     },
     "execution_count": 59,
     "metadata": {},
     "output_type": "execute_result"
    }
   ],
   "source": [
    "row_criteria = time_use_subset['Marital Status'] == 1\n",
    "row_criteria.head()"
   ]
  },
  {
   "cell_type": "code",
   "execution_count": 63,
   "id": "386d3b13",
   "metadata": {},
   "outputs": [
    {
     "data": {
      "text/html": [
       "<div>\n",
       "<style scoped>\n",
       "    .dataframe tbody tr th:only-of-type {\n",
       "        vertical-align: middle;\n",
       "    }\n",
       "\n",
       "    .dataframe tbody tr th {\n",
       "        vertical-align: top;\n",
       "    }\n",
       "\n",
       "    .dataframe thead th {\n",
       "        text-align: right;\n",
       "    }\n",
       "</style>\n",
       "<table border=\"1\" class=\"dataframe\">\n",
       "  <thead>\n",
       "    <tr style=\"text-align: right;\">\n",
       "      <th></th>\n",
       "      <th>Participant ID</th>\n",
       "      <th>Urban/Rural</th>\n",
       "      <th>Age Group</th>\n",
       "      <th>Marital Status</th>\n",
       "      <th>Sex</th>\n",
       "      <th>Kids under 14</th>\n",
       "      <th>Feeling Rushed</th>\n",
       "      <th>Sleep Duration</th>\n",
       "    </tr>\n",
       "  </thead>\n",
       "  <tbody>\n",
       "    <tr>\n",
       "      <th>1</th>\n",
       "      <td>10001</td>\n",
       "      <td>1</td>\n",
       "      <td>5</td>\n",
       "      <td>1</td>\n",
       "      <td>1</td>\n",
       "      <td>0</td>\n",
       "      <td>3</td>\n",
       "      <td>420</td>\n",
       "    </tr>\n",
       "    <tr>\n",
       "      <th>2</th>\n",
       "      <td>10002</td>\n",
       "      <td>1</td>\n",
       "      <td>4</td>\n",
       "      <td>1</td>\n",
       "      <td>2</td>\n",
       "      <td>3</td>\n",
       "      <td>1</td>\n",
       "      <td>570</td>\n",
       "    </tr>\n",
       "    <tr>\n",
       "      <th>8</th>\n",
       "      <td>10008</td>\n",
       "      <td>2</td>\n",
       "      <td>2</td>\n",
       "      <td>1</td>\n",
       "      <td>2</td>\n",
       "      <td>1</td>\n",
       "      <td>2</td>\n",
       "      <td>525</td>\n",
       "    </tr>\n",
       "    <tr>\n",
       "      <th>10</th>\n",
       "      <td>10010</td>\n",
       "      <td>3</td>\n",
       "      <td>3</td>\n",
       "      <td>1</td>\n",
       "      <td>2</td>\n",
       "      <td>3</td>\n",
       "      <td>2</td>\n",
       "      <td>480</td>\n",
       "    </tr>\n",
       "    <tr>\n",
       "      <th>12</th>\n",
       "      <td>10012</td>\n",
       "      <td>2</td>\n",
       "      <td>2</td>\n",
       "      <td>1</td>\n",
       "      <td>2</td>\n",
       "      <td>3</td>\n",
       "      <td>1</td>\n",
       "      <td>390</td>\n",
       "    </tr>\n",
       "  </tbody>\n",
       "</table>\n",
       "</div>"
      ],
      "text/plain": [
       "    Participant ID  Urban/Rural  Age Group  Marital Status  Sex  \\\n",
       "1            10001            1          5               1    1   \n",
       "2            10002            1          4               1    2   \n",
       "8            10008            2          2               1    2   \n",
       "10           10010            3          3               1    2   \n",
       "12           10012            2          2               1    2   \n",
       "\n",
       "    Kids under 14  Feeling Rushed  Sleep Duration  \n",
       "1               0               3             420  \n",
       "2               3               1             570  \n",
       "8               1               2             525  \n",
       "10              3               2             480  \n",
       "12              3               1             390  "
      ]
     },
     "execution_count": 63,
     "metadata": {},
     "output_type": "execute_result"
    }
   ],
   "source": [
    "marital_status_1 = time_use_subset.loc[row_criteria, :]\n",
    "marital_status_1.head()"
   ]
  },
  {
   "cell_type": "markdown",
   "id": "e7bb7e6b",
   "metadata": {},
   "source": [
    "# Type `bool`\n",
    "\n",
    "Two values: `True` and `False`\n",
    "\n",
    "We compare two values using `==`. `>=` `<=` `<` `>`"
   ]
  },
  {
   "cell_type": "markdown",
   "id": "8c400785",
   "metadata": {},
   "source": [
    "# Practice\n",
    "\n",
    "A reminder of `time_use_subset` info:"
   ]
  },
  {
   "cell_type": "code",
   "execution_count": 64,
   "id": "f10a3603",
   "metadata": {},
   "outputs": [
    {
     "data": {
      "text/html": [
       "<div>\n",
       "<style scoped>\n",
       "    .dataframe tbody tr th:only-of-type {\n",
       "        vertical-align: middle;\n",
       "    }\n",
       "\n",
       "    .dataframe tbody tr th {\n",
       "        vertical-align: top;\n",
       "    }\n",
       "\n",
       "    .dataframe thead th {\n",
       "        text-align: right;\n",
       "    }\n",
       "</style>\n",
       "<table border=\"1\" class=\"dataframe\">\n",
       "  <thead>\n",
       "    <tr style=\"text-align: right;\">\n",
       "      <th></th>\n",
       "      <th>Participant ID</th>\n",
       "      <th>Urban/Rural</th>\n",
       "      <th>Age Group</th>\n",
       "      <th>Marital Status</th>\n",
       "      <th>Sex</th>\n",
       "      <th>Kids under 14</th>\n",
       "      <th>Feeling Rushed</th>\n",
       "      <th>Sleep Duration</th>\n",
       "    </tr>\n",
       "  </thead>\n",
       "  <tbody>\n",
       "    <tr>\n",
       "      <th>0</th>\n",
       "      <td>10000</td>\n",
       "      <td>1</td>\n",
       "      <td>5</td>\n",
       "      <td>5</td>\n",
       "      <td>1</td>\n",
       "      <td>0</td>\n",
       "      <td>1</td>\n",
       "      <td>510</td>\n",
       "    </tr>\n",
       "    <tr>\n",
       "      <th>1</th>\n",
       "      <td>10001</td>\n",
       "      <td>1</td>\n",
       "      <td>5</td>\n",
       "      <td>1</td>\n",
       "      <td>1</td>\n",
       "      <td>0</td>\n",
       "      <td>3</td>\n",
       "      <td>420</td>\n",
       "    </tr>\n",
       "    <tr>\n",
       "      <th>2</th>\n",
       "      <td>10002</td>\n",
       "      <td>1</td>\n",
       "      <td>4</td>\n",
       "      <td>1</td>\n",
       "      <td>2</td>\n",
       "      <td>3</td>\n",
       "      <td>1</td>\n",
       "      <td>570</td>\n",
       "    </tr>\n",
       "    <tr>\n",
       "      <th>3</th>\n",
       "      <td>10003</td>\n",
       "      <td>1</td>\n",
       "      <td>6</td>\n",
       "      <td>5</td>\n",
       "      <td>2</td>\n",
       "      <td>0</td>\n",
       "      <td>2</td>\n",
       "      <td>510</td>\n",
       "    </tr>\n",
       "    <tr>\n",
       "      <th>4</th>\n",
       "      <td>10004</td>\n",
       "      <td>1</td>\n",
       "      <td>2</td>\n",
       "      <td>6</td>\n",
       "      <td>1</td>\n",
       "      <td>0</td>\n",
       "      <td>1</td>\n",
       "      <td>525</td>\n",
       "    </tr>\n",
       "  </tbody>\n",
       "</table>\n",
       "</div>"
      ],
      "text/plain": [
       "   Participant ID  Urban/Rural  Age Group  Marital Status  Sex  Kids under 14  \\\n",
       "0           10000            1          5               5    1              0   \n",
       "1           10001            1          5               1    1              0   \n",
       "2           10002            1          4               1    2              3   \n",
       "3           10003            1          6               5    2              0   \n",
       "4           10004            1          2               6    1              0   \n",
       "\n",
       "   Feeling Rushed  Sleep Duration  \n",
       "0               1             510  \n",
       "1               3             420  \n",
       "2               1             570  \n",
       "3               2             510  \n",
       "4               1             525  "
      ]
     },
     "execution_count": 64,
     "metadata": {},
     "output_type": "execute_result"
    }
   ],
   "source": [
    "time_use_subset.head()"
   ]
  },
  {
   "cell_type": "markdown",
   "id": "63695e45",
   "metadata": {},
   "source": [
    "How do you get a `DataFrame` for rows where `Sex == 1`?"
   ]
  },
  {
   "cell_type": "code",
   "execution_count": 65,
   "id": "ad2b18fc",
   "metadata": {},
   "outputs": [
    {
     "data": {
      "text/html": [
       "<div>\n",
       "<style scoped>\n",
       "    .dataframe tbody tr th:only-of-type {\n",
       "        vertical-align: middle;\n",
       "    }\n",
       "\n",
       "    .dataframe tbody tr th {\n",
       "        vertical-align: top;\n",
       "    }\n",
       "\n",
       "    .dataframe thead th {\n",
       "        text-align: right;\n",
       "    }\n",
       "</style>\n",
       "<table border=\"1\" class=\"dataframe\">\n",
       "  <thead>\n",
       "    <tr style=\"text-align: right;\">\n",
       "      <th></th>\n",
       "      <th>Participant ID</th>\n",
       "      <th>Urban/Rural</th>\n",
       "      <th>Age Group</th>\n",
       "      <th>Marital Status</th>\n",
       "      <th>Sex</th>\n",
       "      <th>Kids under 14</th>\n",
       "      <th>Feeling Rushed</th>\n",
       "      <th>Sleep Duration</th>\n",
       "    </tr>\n",
       "  </thead>\n",
       "  <tbody>\n",
       "    <tr>\n",
       "      <th>0</th>\n",
       "      <td>10000</td>\n",
       "      <td>1</td>\n",
       "      <td>5</td>\n",
       "      <td>5</td>\n",
       "      <td>1</td>\n",
       "      <td>0</td>\n",
       "      <td>1</td>\n",
       "      <td>510</td>\n",
       "    </tr>\n",
       "    <tr>\n",
       "      <th>1</th>\n",
       "      <td>10001</td>\n",
       "      <td>1</td>\n",
       "      <td>5</td>\n",
       "      <td>1</td>\n",
       "      <td>1</td>\n",
       "      <td>0</td>\n",
       "      <td>3</td>\n",
       "      <td>420</td>\n",
       "    </tr>\n",
       "    <tr>\n",
       "      <th>4</th>\n",
       "      <td>10004</td>\n",
       "      <td>1</td>\n",
       "      <td>2</td>\n",
       "      <td>6</td>\n",
       "      <td>1</td>\n",
       "      <td>0</td>\n",
       "      <td>1</td>\n",
       "      <td>525</td>\n",
       "    </tr>\n",
       "    <tr>\n",
       "      <th>5</th>\n",
       "      <td>10005</td>\n",
       "      <td>1</td>\n",
       "      <td>1</td>\n",
       "      <td>6</td>\n",
       "      <td>1</td>\n",
       "      <td>2</td>\n",
       "      <td>1</td>\n",
       "      <td>435</td>\n",
       "    </tr>\n",
       "    <tr>\n",
       "      <th>6</th>\n",
       "      <td>10006</td>\n",
       "      <td>1</td>\n",
       "      <td>1</td>\n",
       "      <td>6</td>\n",
       "      <td>1</td>\n",
       "      <td>1</td>\n",
       "      <td>4</td>\n",
       "      <td>635</td>\n",
       "    </tr>\n",
       "  </tbody>\n",
       "</table>\n",
       "</div>"
      ],
      "text/plain": [
       "   Participant ID  Urban/Rural  Age Group  Marital Status  Sex  Kids under 14  \\\n",
       "0           10000            1          5               5    1              0   \n",
       "1           10001            1          5               1    1              0   \n",
       "4           10004            1          2               6    1              0   \n",
       "5           10005            1          1               6    1              2   \n",
       "6           10006            1          1               6    1              1   \n",
       "\n",
       "   Feeling Rushed  Sleep Duration  \n",
       "0               1             510  \n",
       "1               3             420  \n",
       "4               1             525  \n",
       "5               1             435  \n",
       "6               4             635  "
      ]
     },
     "execution_count": 65,
     "metadata": {},
     "output_type": "execute_result"
    }
   ],
   "source": [
    "# Get the True/False Series from the column.\n",
    "sex_1_series = time_use_subset['Sex'] == 1\n",
    "sex_1_df = time_use_subset.loc[sex_1_series, :]\n",
    "sex_1_df.head()"
   ]
  },
  {
   "cell_type": "markdown",
   "id": "02405a16",
   "metadata": {},
   "source": [
    "How do you get a `DataFrame` for rows where `Sex == 1`, but with only the `Age Group`, `Marital Status`, and `Sex` columns?"
   ]
  },
  {
   "cell_type": "code",
   "execution_count": 66,
   "id": "6a1fb80b",
   "metadata": {},
   "outputs": [
    {
     "data": {
      "text/html": [
       "<div>\n",
       "<style scoped>\n",
       "    .dataframe tbody tr th:only-of-type {\n",
       "        vertical-align: middle;\n",
       "    }\n",
       "\n",
       "    .dataframe tbody tr th {\n",
       "        vertical-align: top;\n",
       "    }\n",
       "\n",
       "    .dataframe thead th {\n",
       "        text-align: right;\n",
       "    }\n",
       "</style>\n",
       "<table border=\"1\" class=\"dataframe\">\n",
       "  <thead>\n",
       "    <tr style=\"text-align: right;\">\n",
       "      <th></th>\n",
       "      <th>Age Group</th>\n",
       "      <th>Marital Status</th>\n",
       "      <th>Sex</th>\n",
       "    </tr>\n",
       "  </thead>\n",
       "  <tbody>\n",
       "    <tr>\n",
       "      <th>0</th>\n",
       "      <td>5</td>\n",
       "      <td>5</td>\n",
       "      <td>1</td>\n",
       "    </tr>\n",
       "    <tr>\n",
       "      <th>1</th>\n",
       "      <td>5</td>\n",
       "      <td>1</td>\n",
       "      <td>1</td>\n",
       "    </tr>\n",
       "    <tr>\n",
       "      <th>4</th>\n",
       "      <td>2</td>\n",
       "      <td>6</td>\n",
       "      <td>1</td>\n",
       "    </tr>\n",
       "    <tr>\n",
       "      <th>5</th>\n",
       "      <td>1</td>\n",
       "      <td>6</td>\n",
       "      <td>1</td>\n",
       "    </tr>\n",
       "    <tr>\n",
       "      <th>6</th>\n",
       "      <td>1</td>\n",
       "      <td>6</td>\n",
       "      <td>1</td>\n",
       "    </tr>\n",
       "  </tbody>\n",
       "</table>\n",
       "</div>"
      ],
      "text/plain": [
       "   Age Group  Marital Status  Sex\n",
       "0          5               5    1\n",
       "1          5               1    1\n",
       "4          2               6    1\n",
       "5          1               6    1\n",
       "6          1               6    1"
      ]
     },
     "execution_count": 66,
     "metadata": {},
     "output_type": "execute_result"
    }
   ],
   "source": [
    "sex_1_df = time_use_subset.loc[sex_1_series, 'Age Group':'Sex']\n",
    "sex_1_df.head()"
   ]
  },
  {
   "cell_type": "markdown",
   "id": "71bac120",
   "metadata": {},
   "source": [
    "How do you get a `DataFrame` with only `Feeling Rushed` and `Sleep duration` columns for everyone except people who have a `Feeling Rushed` values of `1`. (Hint: `!=` means \"not equal to\", the opposite of `==`.)"
   ]
  },
  {
   "cell_type": "code",
   "execution_count": 68,
   "id": "79a38542",
   "metadata": {},
   "outputs": [
    {
     "data": {
      "text/html": [
       "<div>\n",
       "<style scoped>\n",
       "    .dataframe tbody tr th:only-of-type {\n",
       "        vertical-align: middle;\n",
       "    }\n",
       "\n",
       "    .dataframe tbody tr th {\n",
       "        vertical-align: top;\n",
       "    }\n",
       "\n",
       "    .dataframe thead th {\n",
       "        text-align: right;\n",
       "    }\n",
       "</style>\n",
       "<table border=\"1\" class=\"dataframe\">\n",
       "  <thead>\n",
       "    <tr style=\"text-align: right;\">\n",
       "      <th></th>\n",
       "      <th>Participant ID</th>\n",
       "      <th>Urban/Rural</th>\n",
       "      <th>Age Group</th>\n",
       "      <th>Marital Status</th>\n",
       "      <th>Sex</th>\n",
       "      <th>Kids under 14</th>\n",
       "      <th>Feeling Rushed</th>\n",
       "      <th>Sleep Duration</th>\n",
       "    </tr>\n",
       "  </thead>\n",
       "  <tbody>\n",
       "    <tr>\n",
       "      <th>0</th>\n",
       "      <td>10000</td>\n",
       "      <td>1</td>\n",
       "      <td>5</td>\n",
       "      <td>5</td>\n",
       "      <td>1</td>\n",
       "      <td>0</td>\n",
       "      <td>1</td>\n",
       "      <td>510</td>\n",
       "    </tr>\n",
       "    <tr>\n",
       "      <th>1</th>\n",
       "      <td>10001</td>\n",
       "      <td>1</td>\n",
       "      <td>5</td>\n",
       "      <td>1</td>\n",
       "      <td>1</td>\n",
       "      <td>0</td>\n",
       "      <td>3</td>\n",
       "      <td>420</td>\n",
       "    </tr>\n",
       "    <tr>\n",
       "      <th>2</th>\n",
       "      <td>10002</td>\n",
       "      <td>1</td>\n",
       "      <td>4</td>\n",
       "      <td>1</td>\n",
       "      <td>2</td>\n",
       "      <td>3</td>\n",
       "      <td>1</td>\n",
       "      <td>570</td>\n",
       "    </tr>\n",
       "    <tr>\n",
       "      <th>3</th>\n",
       "      <td>10003</td>\n",
       "      <td>1</td>\n",
       "      <td>6</td>\n",
       "      <td>5</td>\n",
       "      <td>2</td>\n",
       "      <td>0</td>\n",
       "      <td>2</td>\n",
       "      <td>510</td>\n",
       "    </tr>\n",
       "    <tr>\n",
       "      <th>4</th>\n",
       "      <td>10004</td>\n",
       "      <td>1</td>\n",
       "      <td>2</td>\n",
       "      <td>6</td>\n",
       "      <td>1</td>\n",
       "      <td>0</td>\n",
       "      <td>1</td>\n",
       "      <td>525</td>\n",
       "    </tr>\n",
       "  </tbody>\n",
       "</table>\n",
       "</div>"
      ],
      "text/plain": [
       "   Participant ID  Urban/Rural  Age Group  Marital Status  Sex  Kids under 14  \\\n",
       "0           10000            1          5               5    1              0   \n",
       "1           10001            1          5               1    1              0   \n",
       "2           10002            1          4               1    2              3   \n",
       "3           10003            1          6               5    2              0   \n",
       "4           10004            1          2               6    1              0   \n",
       "\n",
       "   Feeling Rushed  Sleep Duration  \n",
       "0               1             510  \n",
       "1               3             420  \n",
       "2               1             570  \n",
       "3               2             510  \n",
       "4               1             525  "
      ]
     },
     "execution_count": 68,
     "metadata": {},
     "output_type": "execute_result"
    }
   ],
   "source": [
    "time_use_subset.head()"
   ]
  },
  {
   "cell_type": "code",
   "execution_count": 69,
   "id": "77517af2",
   "metadata": {},
   "outputs": [
    {
     "data": {
      "text/html": [
       "<div>\n",
       "<style scoped>\n",
       "    .dataframe tbody tr th:only-of-type {\n",
       "        vertical-align: middle;\n",
       "    }\n",
       "\n",
       "    .dataframe tbody tr th {\n",
       "        vertical-align: top;\n",
       "    }\n",
       "\n",
       "    .dataframe thead th {\n",
       "        text-align: right;\n",
       "    }\n",
       "</style>\n",
       "<table border=\"1\" class=\"dataframe\">\n",
       "  <thead>\n",
       "    <tr style=\"text-align: right;\">\n",
       "      <th></th>\n",
       "      <th>Feeling Rushed</th>\n",
       "      <th>Sleep Duration</th>\n",
       "    </tr>\n",
       "  </thead>\n",
       "  <tbody>\n",
       "    <tr>\n",
       "      <th>1</th>\n",
       "      <td>3</td>\n",
       "      <td>420</td>\n",
       "    </tr>\n",
       "    <tr>\n",
       "      <th>3</th>\n",
       "      <td>2</td>\n",
       "      <td>510</td>\n",
       "    </tr>\n",
       "    <tr>\n",
       "      <th>6</th>\n",
       "      <td>4</td>\n",
       "      <td>635</td>\n",
       "    </tr>\n",
       "    <tr>\n",
       "      <th>7</th>\n",
       "      <td>5</td>\n",
       "      <td>440</td>\n",
       "    </tr>\n",
       "    <tr>\n",
       "      <th>8</th>\n",
       "      <td>2</td>\n",
       "      <td>525</td>\n",
       "    </tr>\n",
       "  </tbody>\n",
       "</table>\n",
       "</div>"
      ],
      "text/plain": [
       "   Feeling Rushed  Sleep Duration\n",
       "1               3             420\n",
       "3               2             510\n",
       "6               4             635\n",
       "7               5             440\n",
       "8               2             525"
      ]
     },
     "execution_count": 69,
     "metadata": {},
     "output_type": "execute_result"
    }
   ],
   "source": [
    "rushed_series = time_use_subset['Feeling Rushed'] != 1 # Get our column of True/False values\n",
    "rushed_df = time_use_subset.loc[rushed_series, 'Feeling Rushed':'Sleep Duration']\n",
    "rushed_df.head()"
   ]
  }
 ],
 "metadata": {
  "kernelspec": {
   "display_name": "Python 3 (ipykernel)",
   "language": "python",
   "name": "python3"
  },
  "language_info": {
   "codemirror_mode": {
    "name": "ipython",
    "version": 3
   },
   "file_extension": ".py",
   "mimetype": "text/x-python",
   "name": "python",
   "nbconvert_exporter": "python",
   "pygments_lexer": "ipython3",
   "version": "3.8.12"
  }
 },
 "nbformat": 4,
 "nbformat_minor": 5
}
