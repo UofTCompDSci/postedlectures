{
 "cells": [
  {
   "cell_type": "markdown",
   "id": "66a74e4f-ade1-4b67-9071-c72a26f0ff12",
   "metadata": {},
   "source": [
    "# Class 6\n",
    "## March 2, 2022\n",
    "\n",
    "By the end of this class you should be able to:\n",
    "\n",
    "By the end of this class you should be able to:\n",
    "\n",
    "- understand how to write a function in Python\n",
    "\n",
    "- understand that a function definition creates a function object and a variable name for that object\n",
    "\n",
    "- understand how to write a function call in Python\n",
    "\n",
    "- understand that a function call is an expression that produces a value, just like mathematical expressions\n",
    "\n",
    "- explain how a function call works: how it passes information to the parameters\n",
    "\n",
    "- understand that any variables created during function execution are local to the current function call, and when the function ends the variables disappear\n",
    "\n",
    "- understand that the return statement announces the value of the function call\n",
    "\n",
    "- describe the parts of a function: name, parameters, body\n",
    "\n",
    "- understand how to write a `for` loop in Python\n",
    "\n",
    "- understand the role of empirical distributions (sample and statistic) and simulation\n",
    "\n",
    "- understand the law of averages and its relationship to empirical distributions"
   ]
  },
  {
   "cell_type": "markdown",
   "id": "590a6969-2c28-413b-8e9d-75ae00094eb2",
   "metadata": {},
   "source": [
    "<mark> Paul </mark>\n",
    "\n",
    "## Functions\n",
    "\n",
    "We've seen many functions: `sum`, `max`, `groupby`, and so on. We're going to explore how to create our own functions.\n",
    "\n",
    "We're going to use Python's `random` module, and in particular function `randint`.\n",
    "\n",
    "Later in the lecture, we're going to do it another way entirely."
   ]
  },
  {
   "cell_type": "code",
   "execution_count": 1,
   "id": "74d19b11-bcd5-48ae-9317-27ea949ecc1c",
   "metadata": {},
   "outputs": [],
   "source": [
    "import random\n",
    "help(random.randint)"
   ]
  },
  {
   "cell_type": "markdown",
   "id": "a1d83d0c",
   "metadata": {},
   "source": [
    "Here we call function `randint`, asking for a number in the range 1 to 6."
   ]
  },
  {
   "cell_type": "code",
   "execution_count": 2,
   "id": "7193ef8d-c7a0-49f1-a382-aad67d9fd14d",
   "metadata": {},
   "outputs": [
    {
     "data": {
      "text/plain": [
       "3"
      ]
     },
     "execution_count": 2,
     "metadata": {},
     "output_type": "execute_result"
    }
   ],
   "source": [
    "random.randint(1, 6)"
   ]
  },
  {
   "cell_type": "markdown",
   "id": "28b34fa4",
   "metadata": {},
   "source": [
    "### Conjunction junction, what's your function?\n",
    "\n",
    "Here is our first function definition. It has three parts:\n",
    "\n",
    "1. Function header\n",
    "    + `def` then the function name then `():`.\n",
    "2. Documentation string — \"docstring\" for short. (This is often omitted.)\n",
    "3. Function body\n",
    "    + A sequence of Python statements that perform a computation\n",
    "    + If it ends with `return`, that announces the value of the function call"
   ]
  },
  {
   "cell_type": "code",
   "execution_count": null,
   "id": "0d342fe1",
   "metadata": {},
   "outputs": [],
   "source": [
    "def roll_die():\n",
    "    \"\"\"Simulate a die roll by returning a number between 1 and 6.\n",
    "    \"\"\"\n",
    "    roll = random.randint(1, 6)\n",
    "    return roll"
   ]
  },
  {
   "cell_type": "markdown",
   "id": "37322cb0",
   "metadata": {},
   "source": [
    "Let's call it:"
   ]
  },
  {
   "cell_type": "code",
   "execution_count": null,
   "id": "a0256d16",
   "metadata": {},
   "outputs": [],
   "source": [
    "roll_die()"
   ]
  },
  {
   "cell_type": "markdown",
   "id": "44f5cdfe",
   "metadata": {},
   "source": [
    "`roll_die` is a variable. So … what is its value?"
   ]
  },
  {
   "cell_type": "code",
   "execution_count": null,
   "id": "6ec1155c",
   "metadata": {},
   "outputs": [],
   "source": [
    "roll_die"
   ]
  },
  {
   "cell_type": "code",
   "execution_count": 1,
   "id": "c3d68a62",
   "metadata": {},
   "outputs": [
    {
     "ename": "NameError",
     "evalue": "name 'roll_die' is not defined",
     "output_type": "error",
     "traceback": [
      "\u001b[0;31m---------------------------------------------------------------------------\u001b[0m",
      "\u001b[0;31mNameError\u001b[0m                                 Traceback (most recent call last)",
      "\u001b[0;32m/var/folders/2f/yww6jjm560339p56szl8xx0c0000gn/T/ipykernel_8501/2492008372.py\u001b[0m in \u001b[0;36m<module>\u001b[0;34m\u001b[0m\n\u001b[0;32m----> 1\u001b[0;31m \u001b[0mhelp\u001b[0m\u001b[0;34m(\u001b[0m\u001b[0mroll_die\u001b[0m\u001b[0;34m)\u001b[0m\u001b[0;34m\u001b[0m\u001b[0;34m\u001b[0m\u001b[0m\n\u001b[0m",
      "\u001b[0;31mNameError\u001b[0m: name 'roll_die' is not defined"
     ]
    }
   ],
   "source": [
    "help(roll_die)"
   ]
  },
  {
   "cell_type": "code",
   "execution_count": null,
   "id": "126f12d9",
   "metadata": {},
   "outputs": [],
   "source": [
    "dir(roll_die)"
   ]
  },
  {
   "cell_type": "code",
   "execution_count": null,
   "id": "f82e02de",
   "metadata": {},
   "outputs": [],
   "source": [
    "roll_die.__doc__"
   ]
  },
  {
   "cell_type": "markdown",
   "id": "bb7b5bad",
   "metadata": {},
   "source": [
    "A function is a value, so can we make an alias for `roll_die`?"
   ]
  },
  {
   "cell_type": "code",
   "execution_count": null,
   "id": "5a374167",
   "metadata": {},
   "outputs": [],
   "source": [
    "waffles = roll_die\n",
    "waffles()"
   ]
  },
  {
   "cell_type": "code",
   "execution_count": null,
   "id": "c22ae69b",
   "metadata": {},
   "outputs": [],
   "source": [
    "print(id(roll_die))\n",
    "print(id(waffles))"
   ]
  },
  {
   "cell_type": "code",
   "execution_count": null,
   "id": "381ea878",
   "metadata": {},
   "outputs": [],
   "source": [
    "waffles.__name__"
   ]
  },
  {
   "cell_type": "markdown",
   "id": "091afbd2-0643-4fb3-8eb7-c744e340abc5",
   "metadata": {},
   "source": [
    "### Platonic solids: octahedrons and dodecahedrons and icosahdrons, oh my!\n",
    "\n",
    "Fun reading: [The geometry of weird-shaped dice](https://skullsinthestars.com/2017/03/09/the-geometry-of-weird-shaped-dice/).\n",
    "\n",
    "![dice.jpg](https://skullsinthestars.files.wordpress.com/2017/03/platonicsolids.jpg?w=457&h=343)\n",
    "\n",
    "Often, we want to ask a function to calculate some information for us based on data we give it. Here is a function that allows us to simulate any shape of dice."
   ]
  },
  {
   "cell_type": "code",
   "execution_count": null,
   "id": "66832921",
   "metadata": {},
   "outputs": [],
   "source": [
    "def roll_die(num_sides):\n",
    "    \"\"\"Simulate a die roll by returning a number between 1 and num_sides.\n",
    "    \"\"\"\n",
    "    roll = random.randint(1, num_sides)\n",
    "    return roll"
   ]
  },
  {
   "cell_type": "markdown",
   "id": "4c21a35f",
   "metadata": {},
   "source": [
    "In this function call, we're passing `20` in, and `num_sides` is a temporary name for that value."
   ]
  },
  {
   "cell_type": "code",
   "execution_count": null,
   "id": "6ea1d5f7",
   "metadata": {},
   "outputs": [],
   "source": [
    "roll_die(20)"
   ]
  },
  {
   "cell_type": "markdown",
   "id": "d97c7330",
   "metadata": {},
   "source": [
    "### Local variables\n",
    "\n",
    "`num_sides` and `roll` are _local_ to the function. They only exist while the function is being called."
   ]
  },
  {
   "cell_type": "code",
   "execution_count": 2,
   "id": "eb5671f0",
   "metadata": {},
   "outputs": [
    {
     "ename": "NameError",
     "evalue": "name 'num_sides' is not defined",
     "output_type": "error",
     "traceback": [
      "\u001b[0;31m---------------------------------------------------------------------------\u001b[0m",
      "\u001b[0;31mNameError\u001b[0m                                 Traceback (most recent call last)",
      "\u001b[0;32m/var/folders/2f/yww6jjm560339p56szl8xx0c0000gn/T/ipykernel_8501/161539490.py\u001b[0m in \u001b[0;36m<module>\u001b[0;34m\u001b[0m\n\u001b[0;32m----> 1\u001b[0;31m \u001b[0mprint\u001b[0m\u001b[0;34m(\u001b[0m\u001b[0mnum_sides\u001b[0m\u001b[0;34m)\u001b[0m\u001b[0;34m\u001b[0m\u001b[0;34m\u001b[0m\u001b[0m\n\u001b[0m",
      "\u001b[0;31mNameError\u001b[0m: name 'num_sides' is not defined"
     ]
    }
   ],
   "source": [
    "print(num_sides)"
   ]
  },
  {
   "cell_type": "markdown",
   "id": "fe97a739",
   "metadata": {},
   "source": [
    "The only place you can use `print(num_sides)` is in the function body for `roll_die`."
   ]
  },
  {
   "cell_type": "markdown",
   "id": "7394400c",
   "metadata": {},
   "source": [
    "### Values go in, a value comes out\n",
    "\n",
    "When we call a function, the arguments need to be evaluated before we can do the function call.\n",
    "\n",
    "When a function returns, the return value is used as the value of the function call.b"
   ]
  },
  {
   "cell_type": "markdown",
   "id": "00fc3caa",
   "metadata": {},
   "source": [
    "### When do you write a function?\n",
    "\n",
    "If you find yourself copying and pasting code, i'ts time to write a function that does the same thing.\n",
    "\n",
    "If you think of a good domain-specific name for a computation or simulation you're doing, make a function so the rest of your code is more readable."
   ]
  },
  {
   "cell_type": "markdown",
   "id": "2189b5f9",
   "metadata": {},
   "source": [
    "## You try it\n",
    "\n",
    "Write a function that takes in a number of centimeters and returns the equivalent number of inches.\n",
    "\n",
    "1. What's a good name for the function? It helps to think of a short verb phrase, because the function does something.\n",
    "2. There are 2.54 cm in an inch, so divide the number of centimeters by 2.54 to get the equivalent number of inches."
   ]
  },
  {
   "cell_type": "code",
   "execution_count": null,
   "id": "896cbde9",
   "metadata": {},
   "outputs": [],
   "source": [
    "def "
   ]
  },
  {
   "cell_type": "markdown",
   "id": "b3d1f687",
   "metadata": {},
   "source": [
    "Now call it and check whether you get the right answer:"
   ]
  },
  {
   "cell_type": "code",
   "execution_count": null,
   "id": "7a422b37",
   "metadata": {},
   "outputs": [],
   "source": [
    "# Call your function here"
   ]
  },
  {
   "cell_type": "markdown",
   "id": "9ff4f281",
   "metadata": {},
   "source": [
    "# Iteration\n",
    "## Do the same thing to each item in a list\n",
    "\n",
    "Python lets you step through a list one item at a time using a for loop:"
   ]
  },
  {
   "cell_type": "code",
   "execution_count": null,
   "id": "d704cd4d",
   "metadata": {},
   "outputs": [],
   "source": [
    "centimeters = [43.5, 33.1, -25.5, 6.1]\n",
    "for cm in centimeters:\n",
    "    print(cm)"
   ]
  },
  {
   "cell_type": "markdown",
   "id": "c3aeeb45",
   "metadata": {},
   "source": [
    "Each _iteration_ of the loop makes `cm` the name of the next number, in order from left to right.\n",
    "\n",
    "This works with any iterable, like `str` and `Series`."
   ]
  },
  {
   "cell_type": "code",
   "execution_count": null,
   "id": "91621efa",
   "metadata": {},
   "outputs": [],
   "source": [
    "for letter in 'GGR274':\n",
    "    print(letter)"
   ]
  },
  {
   "cell_type": "markdown",
   "id": "95b8f054",
   "metadata": {},
   "source": [
    "Here's a `Series`."
   ]
  },
  {
   "cell_type": "code",
   "execution_count": 5,
   "id": "b3aac10a",
   "metadata": {},
   "outputs": [
    {
     "ename": "FileNotFoundError",
     "evalue": "[Errno 2] No such file or directory: 'gss_tu2016_main_file.csv'",
     "output_type": "error",
     "traceback": [
      "\u001b[0;31m---------------------------------------------------------------------------\u001b[0m",
      "\u001b[0;31mFileNotFoundError\u001b[0m                         Traceback (most recent call last)",
      "\u001b[0;32m/var/folders/2f/yww6jjm560339p56szl8xx0c0000gn/T/ipykernel_8501/704323379.py\u001b[0m in \u001b[0;36m<module>\u001b[0;34m\u001b[0m\n\u001b[1;32m      1\u001b[0m \u001b[0;32mimport\u001b[0m \u001b[0mpandas\u001b[0m \u001b[0;32mas\u001b[0m \u001b[0mpd\u001b[0m\u001b[0;34m\u001b[0m\u001b[0;34m\u001b[0m\u001b[0m\n\u001b[0;32m----> 2\u001b[0;31m \u001b[0mtimeuse\u001b[0m \u001b[0;34m=\u001b[0m \u001b[0mpd\u001b[0m\u001b[0;34m.\u001b[0m\u001b[0mread_csv\u001b[0m\u001b[0;34m(\u001b[0m\u001b[0;34m'gss_tu2016_main_file.csv'\u001b[0m\u001b[0;34m)\u001b[0m\u001b[0;34m\u001b[0m\u001b[0;34m\u001b[0m\u001b[0m\n\u001b[0m\u001b[1;32m      3\u001b[0m \u001b[0;34m\u001b[0m\u001b[0m\n\u001b[1;32m      4\u001b[0m \u001b[0mpersdur\u001b[0m \u001b[0;34m=\u001b[0m \u001b[0mtimeuse\u001b[0m\u001b[0;34m[\u001b[0m\u001b[0;34m'persdur'\u001b[0m\u001b[0;34m]\u001b[0m\u001b[0;34m\u001b[0m\u001b[0;34m\u001b[0m\u001b[0m\n\u001b[1;32m      5\u001b[0m \u001b[0mpersdur\u001b[0m\u001b[0;34m.\u001b[0m\u001b[0mhead\u001b[0m\u001b[0;34m(\u001b[0m\u001b[0;34m)\u001b[0m\u001b[0;34m\u001b[0m\u001b[0;34m\u001b[0m\u001b[0m\n",
      "\u001b[0;32m/usr/local/lib/python3.9/site-packages/pandas/util/_decorators.py\u001b[0m in \u001b[0;36mwrapper\u001b[0;34m(*args, **kwargs)\u001b[0m\n\u001b[1;32m    309\u001b[0m                     \u001b[0mstacklevel\u001b[0m\u001b[0;34m=\u001b[0m\u001b[0mstacklevel\u001b[0m\u001b[0;34m,\u001b[0m\u001b[0;34m\u001b[0m\u001b[0;34m\u001b[0m\u001b[0m\n\u001b[1;32m    310\u001b[0m                 )\n\u001b[0;32m--> 311\u001b[0;31m             \u001b[0;32mreturn\u001b[0m \u001b[0mfunc\u001b[0m\u001b[0;34m(\u001b[0m\u001b[0;34m*\u001b[0m\u001b[0margs\u001b[0m\u001b[0;34m,\u001b[0m \u001b[0;34m**\u001b[0m\u001b[0mkwargs\u001b[0m\u001b[0;34m)\u001b[0m\u001b[0;34m\u001b[0m\u001b[0;34m\u001b[0m\u001b[0m\n\u001b[0m\u001b[1;32m    312\u001b[0m \u001b[0;34m\u001b[0m\u001b[0m\n\u001b[1;32m    313\u001b[0m         \u001b[0;32mreturn\u001b[0m \u001b[0mwrapper\u001b[0m\u001b[0;34m\u001b[0m\u001b[0;34m\u001b[0m\u001b[0m\n",
      "\u001b[0;32m/usr/local/lib/python3.9/site-packages/pandas/io/parsers/readers.py\u001b[0m in \u001b[0;36mread_csv\u001b[0;34m(filepath_or_buffer, sep, delimiter, header, names, index_col, usecols, squeeze, prefix, mangle_dupe_cols, dtype, engine, converters, true_values, false_values, skipinitialspace, skiprows, skipfooter, nrows, na_values, keep_default_na, na_filter, verbose, skip_blank_lines, parse_dates, infer_datetime_format, keep_date_col, date_parser, dayfirst, cache_dates, iterator, chunksize, compression, thousands, decimal, lineterminator, quotechar, quoting, doublequote, escapechar, comment, encoding, encoding_errors, dialect, error_bad_lines, warn_bad_lines, on_bad_lines, delim_whitespace, low_memory, memory_map, float_precision, storage_options)\u001b[0m\n\u001b[1;32m    584\u001b[0m     \u001b[0mkwds\u001b[0m\u001b[0;34m.\u001b[0m\u001b[0mupdate\u001b[0m\u001b[0;34m(\u001b[0m\u001b[0mkwds_defaults\u001b[0m\u001b[0;34m)\u001b[0m\u001b[0;34m\u001b[0m\u001b[0;34m\u001b[0m\u001b[0m\n\u001b[1;32m    585\u001b[0m \u001b[0;34m\u001b[0m\u001b[0m\n\u001b[0;32m--> 586\u001b[0;31m     \u001b[0;32mreturn\u001b[0m \u001b[0m_read\u001b[0m\u001b[0;34m(\u001b[0m\u001b[0mfilepath_or_buffer\u001b[0m\u001b[0;34m,\u001b[0m \u001b[0mkwds\u001b[0m\u001b[0;34m)\u001b[0m\u001b[0;34m\u001b[0m\u001b[0;34m\u001b[0m\u001b[0m\n\u001b[0m\u001b[1;32m    587\u001b[0m \u001b[0;34m\u001b[0m\u001b[0m\n\u001b[1;32m    588\u001b[0m \u001b[0;34m\u001b[0m\u001b[0m\n",
      "\u001b[0;32m/usr/local/lib/python3.9/site-packages/pandas/io/parsers/readers.py\u001b[0m in \u001b[0;36m_read\u001b[0;34m(filepath_or_buffer, kwds)\u001b[0m\n\u001b[1;32m    480\u001b[0m \u001b[0;34m\u001b[0m\u001b[0m\n\u001b[1;32m    481\u001b[0m     \u001b[0;31m# Create the parser.\u001b[0m\u001b[0;34m\u001b[0m\u001b[0;34m\u001b[0m\u001b[0m\n\u001b[0;32m--> 482\u001b[0;31m     \u001b[0mparser\u001b[0m \u001b[0;34m=\u001b[0m \u001b[0mTextFileReader\u001b[0m\u001b[0;34m(\u001b[0m\u001b[0mfilepath_or_buffer\u001b[0m\u001b[0;34m,\u001b[0m \u001b[0;34m**\u001b[0m\u001b[0mkwds\u001b[0m\u001b[0;34m)\u001b[0m\u001b[0;34m\u001b[0m\u001b[0;34m\u001b[0m\u001b[0m\n\u001b[0m\u001b[1;32m    483\u001b[0m \u001b[0;34m\u001b[0m\u001b[0m\n\u001b[1;32m    484\u001b[0m     \u001b[0;32mif\u001b[0m \u001b[0mchunksize\u001b[0m \u001b[0;32mor\u001b[0m \u001b[0miterator\u001b[0m\u001b[0;34m:\u001b[0m\u001b[0;34m\u001b[0m\u001b[0;34m\u001b[0m\u001b[0m\n",
      "\u001b[0;32m/usr/local/lib/python3.9/site-packages/pandas/io/parsers/readers.py\u001b[0m in \u001b[0;36m__init__\u001b[0;34m(self, f, engine, **kwds)\u001b[0m\n\u001b[1;32m    809\u001b[0m             \u001b[0mself\u001b[0m\u001b[0;34m.\u001b[0m\u001b[0moptions\u001b[0m\u001b[0;34m[\u001b[0m\u001b[0;34m\"has_index_names\"\u001b[0m\u001b[0;34m]\u001b[0m \u001b[0;34m=\u001b[0m \u001b[0mkwds\u001b[0m\u001b[0;34m[\u001b[0m\u001b[0;34m\"has_index_names\"\u001b[0m\u001b[0;34m]\u001b[0m\u001b[0;34m\u001b[0m\u001b[0;34m\u001b[0m\u001b[0m\n\u001b[1;32m    810\u001b[0m \u001b[0;34m\u001b[0m\u001b[0m\n\u001b[0;32m--> 811\u001b[0;31m         \u001b[0mself\u001b[0m\u001b[0;34m.\u001b[0m\u001b[0m_engine\u001b[0m \u001b[0;34m=\u001b[0m \u001b[0mself\u001b[0m\u001b[0;34m.\u001b[0m\u001b[0m_make_engine\u001b[0m\u001b[0;34m(\u001b[0m\u001b[0mself\u001b[0m\u001b[0;34m.\u001b[0m\u001b[0mengine\u001b[0m\u001b[0;34m)\u001b[0m\u001b[0;34m\u001b[0m\u001b[0;34m\u001b[0m\u001b[0m\n\u001b[0m\u001b[1;32m    812\u001b[0m \u001b[0;34m\u001b[0m\u001b[0m\n\u001b[1;32m    813\u001b[0m     \u001b[0;32mdef\u001b[0m \u001b[0mclose\u001b[0m\u001b[0;34m(\u001b[0m\u001b[0mself\u001b[0m\u001b[0;34m)\u001b[0m\u001b[0;34m:\u001b[0m\u001b[0;34m\u001b[0m\u001b[0;34m\u001b[0m\u001b[0m\n",
      "\u001b[0;32m/usr/local/lib/python3.9/site-packages/pandas/io/parsers/readers.py\u001b[0m in \u001b[0;36m_make_engine\u001b[0;34m(self, engine)\u001b[0m\n\u001b[1;32m   1038\u001b[0m             )\n\u001b[1;32m   1039\u001b[0m         \u001b[0;31m# error: Too many arguments for \"ParserBase\"\u001b[0m\u001b[0;34m\u001b[0m\u001b[0;34m\u001b[0m\u001b[0m\n\u001b[0;32m-> 1040\u001b[0;31m         \u001b[0;32mreturn\u001b[0m \u001b[0mmapping\u001b[0m\u001b[0;34m[\u001b[0m\u001b[0mengine\u001b[0m\u001b[0;34m]\u001b[0m\u001b[0;34m(\u001b[0m\u001b[0mself\u001b[0m\u001b[0;34m.\u001b[0m\u001b[0mf\u001b[0m\u001b[0;34m,\u001b[0m \u001b[0;34m**\u001b[0m\u001b[0mself\u001b[0m\u001b[0;34m.\u001b[0m\u001b[0moptions\u001b[0m\u001b[0;34m)\u001b[0m  \u001b[0;31m# type: ignore[call-arg]\u001b[0m\u001b[0;34m\u001b[0m\u001b[0;34m\u001b[0m\u001b[0m\n\u001b[0m\u001b[1;32m   1041\u001b[0m \u001b[0;34m\u001b[0m\u001b[0m\n\u001b[1;32m   1042\u001b[0m     \u001b[0;32mdef\u001b[0m \u001b[0m_failover_to_python\u001b[0m\u001b[0;34m(\u001b[0m\u001b[0mself\u001b[0m\u001b[0;34m)\u001b[0m\u001b[0;34m:\u001b[0m\u001b[0;34m\u001b[0m\u001b[0;34m\u001b[0m\u001b[0m\n",
      "\u001b[0;32m/usr/local/lib/python3.9/site-packages/pandas/io/parsers/c_parser_wrapper.py\u001b[0m in \u001b[0;36m__init__\u001b[0;34m(self, src, **kwds)\u001b[0m\n\u001b[1;32m     49\u001b[0m \u001b[0;34m\u001b[0m\u001b[0m\n\u001b[1;32m     50\u001b[0m         \u001b[0;31m# open handles\u001b[0m\u001b[0;34m\u001b[0m\u001b[0;34m\u001b[0m\u001b[0m\n\u001b[0;32m---> 51\u001b[0;31m         \u001b[0mself\u001b[0m\u001b[0;34m.\u001b[0m\u001b[0m_open_handles\u001b[0m\u001b[0;34m(\u001b[0m\u001b[0msrc\u001b[0m\u001b[0;34m,\u001b[0m \u001b[0mkwds\u001b[0m\u001b[0;34m)\u001b[0m\u001b[0;34m\u001b[0m\u001b[0;34m\u001b[0m\u001b[0m\n\u001b[0m\u001b[1;32m     52\u001b[0m         \u001b[0;32massert\u001b[0m \u001b[0mself\u001b[0m\u001b[0;34m.\u001b[0m\u001b[0mhandles\u001b[0m \u001b[0;32mis\u001b[0m \u001b[0;32mnot\u001b[0m \u001b[0;32mNone\u001b[0m\u001b[0;34m\u001b[0m\u001b[0;34m\u001b[0m\u001b[0m\n\u001b[1;32m     53\u001b[0m \u001b[0;34m\u001b[0m\u001b[0m\n",
      "\u001b[0;32m/usr/local/lib/python3.9/site-packages/pandas/io/parsers/base_parser.py\u001b[0m in \u001b[0;36m_open_handles\u001b[0;34m(self, src, kwds)\u001b[0m\n\u001b[1;32m    220\u001b[0m         \u001b[0mLet\u001b[0m \u001b[0mthe\u001b[0m \u001b[0mreaders\u001b[0m \u001b[0mopen\u001b[0m \u001b[0mIOHandles\u001b[0m \u001b[0mafter\u001b[0m \u001b[0mthey\u001b[0m \u001b[0mare\u001b[0m \u001b[0mdone\u001b[0m \u001b[0;32mwith\u001b[0m \u001b[0mtheir\u001b[0m \u001b[0mpotential\u001b[0m \u001b[0mraises\u001b[0m\u001b[0;34m.\u001b[0m\u001b[0;34m\u001b[0m\u001b[0;34m\u001b[0m\u001b[0m\n\u001b[1;32m    221\u001b[0m         \"\"\"\n\u001b[0;32m--> 222\u001b[0;31m         self.handles = get_handle(\n\u001b[0m\u001b[1;32m    223\u001b[0m             \u001b[0msrc\u001b[0m\u001b[0;34m,\u001b[0m\u001b[0;34m\u001b[0m\u001b[0;34m\u001b[0m\u001b[0m\n\u001b[1;32m    224\u001b[0m             \u001b[0;34m\"r\"\u001b[0m\u001b[0;34m,\u001b[0m\u001b[0;34m\u001b[0m\u001b[0;34m\u001b[0m\u001b[0m\n",
      "\u001b[0;32m/usr/local/lib/python3.9/site-packages/pandas/io/common.py\u001b[0m in \u001b[0;36mget_handle\u001b[0;34m(path_or_buf, mode, encoding, compression, memory_map, is_text, errors, storage_options)\u001b[0m\n\u001b[1;32m    700\u001b[0m         \u001b[0;32mif\u001b[0m \u001b[0mioargs\u001b[0m\u001b[0;34m.\u001b[0m\u001b[0mencoding\u001b[0m \u001b[0;32mand\u001b[0m \u001b[0;34m\"b\"\u001b[0m \u001b[0;32mnot\u001b[0m \u001b[0;32min\u001b[0m \u001b[0mioargs\u001b[0m\u001b[0;34m.\u001b[0m\u001b[0mmode\u001b[0m\u001b[0;34m:\u001b[0m\u001b[0;34m\u001b[0m\u001b[0;34m\u001b[0m\u001b[0m\n\u001b[1;32m    701\u001b[0m             \u001b[0;31m# Encoding\u001b[0m\u001b[0;34m\u001b[0m\u001b[0;34m\u001b[0m\u001b[0m\n\u001b[0;32m--> 702\u001b[0;31m             handle = open(\n\u001b[0m\u001b[1;32m    703\u001b[0m                 \u001b[0mhandle\u001b[0m\u001b[0;34m,\u001b[0m\u001b[0;34m\u001b[0m\u001b[0;34m\u001b[0m\u001b[0m\n\u001b[1;32m    704\u001b[0m                 \u001b[0mioargs\u001b[0m\u001b[0;34m.\u001b[0m\u001b[0mmode\u001b[0m\u001b[0;34m,\u001b[0m\u001b[0;34m\u001b[0m\u001b[0;34m\u001b[0m\u001b[0m\n",
      "\u001b[0;31mFileNotFoundError\u001b[0m: [Errno 2] No such file or directory: 'gss_tu2016_main_file.csv'"
     ]
    }
   ],
   "source": [
    "import pandas as pd\n",
    "timeuse = pd.read_csv('gss_tu2016_main_file.csv')\n",
    "\n",
    "persdur = timeuse['persdur']\n",
    "persdur.head()"
   ]
  },
  {
   "cell_type": "markdown",
   "id": "cc135ada",
   "metadata": {},
   "source": [
    "Goal: calculate the sum of the numbers using a for loop (rather than calling `sum`).\n",
    "\n",
    "Once we have this basic structure, we can start to get fancy with it.\n",
    "\n",
    "We'll start with keeping a running total. What's in `Series` `persdur`?"
   ]
  },
  {
   "cell_type": "code",
   "execution_count": null,
   "id": "9a10cc9e",
   "metadata": {},
   "outputs": [],
   "source": [
    "persdur.head()"
   ]
  },
  {
   "cell_type": "markdown",
   "id": "14a84c5c",
   "metadata": {},
   "source": [
    "We can access values by index:"
   ]
  },
  {
   "cell_type": "code",
   "execution_count": 34,
   "id": "4e528fc0",
   "metadata": {},
   "outputs": [
    {
     "data": {
      "text/plain": [
       "30"
      ]
     },
     "execution_count": 34,
     "metadata": {},
     "output_type": "execute_result"
    }
   ],
   "source": [
    "running_sum = 0\n",
    "persdur[0]"
   ]
  },
  {
   "cell_type": "code",
   "execution_count": 35,
   "id": "4067dede",
   "metadata": {},
   "outputs": [
    {
     "data": {
      "text/plain": [
       "30"
      ]
     },
     "execution_count": 35,
     "metadata": {},
     "output_type": "execute_result"
    }
   ],
   "source": [
    "running_sum = running_sum + persdur[0]\n",
    "running_sum"
   ]
  },
  {
   "cell_type": "code",
   "execution_count": 36,
   "id": "8292a1ea",
   "metadata": {},
   "outputs": [
    {
     "data": {
      "text/plain": [
       "60"
      ]
     },
     "execution_count": 36,
     "metadata": {},
     "output_type": "execute_result"
    }
   ],
   "source": [
    "running_sum = running_sum + persdur[1]\n",
    "running_sum"
   ]
  },
  {
   "cell_type": "code",
   "execution_count": 37,
   "id": "eedb0231",
   "metadata": {},
   "outputs": [
    {
     "data": {
      "text/plain": [
       "90"
      ]
     },
     "execution_count": 37,
     "metadata": {},
     "output_type": "execute_result"
    }
   ],
   "source": [
    "running_sum = running_sum + persdur[2]\n",
    "running_sum"
   ]
  },
  {
   "cell_type": "code",
   "execution_count": 38,
   "id": "3900d437",
   "metadata": {},
   "outputs": [
    {
     "data": {
      "text/plain": [
       "165"
      ]
     },
     "execution_count": 38,
     "metadata": {},
     "output_type": "execute_result"
    }
   ],
   "source": [
    "running_sum = running_sum + persdur[3]\n",
    "running_sum"
   ]
  },
  {
   "cell_type": "code",
   "execution_count": 39,
   "id": "e512cd9e",
   "metadata": {},
   "outputs": [
    {
     "data": {
      "text/plain": [
       "180"
      ]
     },
     "execution_count": 39,
     "metadata": {},
     "output_type": "execute_result"
    }
   ],
   "source": [
    "running_sum = running_sum + persdur[4]\n",
    "running_sum"
   ]
  },
  {
   "cell_type": "markdown",
   "id": "60dbdf37",
   "metadata": {},
   "source": [
    "Algorithm: keep a running total of the that have been processed by the for loop. We'll start a 0 and each iteration add the current value to the sum."
   ]
  },
  {
   "cell_type": "code",
   "execution_count": null,
   "id": "8381d280",
   "metadata": {},
   "outputs": [],
   "source": [
    "running_sum = 0\n",
    "\n",
    "for pdur in persdur:\n",
    "    running_sum = running_sum + pdur\n",
    "\n",
    "running_sum"
   ]
  },
  {
   "cell_type": "markdown",
   "id": "507b81fa",
   "metadata": {},
   "source": [
    "### Iterating a constant amount of times\n",
    "\n",
    "Sometimes we want to repeat something an exact number of times rather than once for each item in a list.\n",
    "\n",
    "To do this, The Python idiom is to call function `range` to generate a sequence of numbers. The result is iterable, so we can use it in a for loop."
   ]
  },
  {
   "cell_type": "code",
   "execution_count": null,
   "id": "b0dff8cd",
   "metadata": {},
   "outputs": [],
   "source": [
    "range(1, 5)"
   ]
  },
  {
   "cell_type": "code",
   "execution_count": null,
   "id": "1638f5f2",
   "metadata": {
    "scrolled": true
   },
   "outputs": [],
   "source": [
    "help(range)"
   ]
  },
  {
   "cell_type": "code",
   "execution_count": null,
   "id": "6a080c14",
   "metadata": {},
   "outputs": [],
   "source": [
    "range(5)"
   ]
  },
  {
   "cell_type": "markdown",
   "id": "428f4ebd",
   "metadata": {},
   "source": [
    "We can use a for loop to roll five 6-sided dice and add them up using the same technique as before:"
   ]
  },
  {
   "cell_type": "code",
   "execution_count": null,
   "id": "b04f3369-aab4-400e-82c7-34dac512cf60",
   "metadata": {},
   "outputs": [],
   "source": [
    "dice_sum = 0\n",
    "\n",
    "for number in range(5):\n",
    "    dice_sum = dice_sum + roll_die(6)\n",
    "\n",
    "dice_sum"
   ]
  },
  {
   "cell_type": "markdown",
   "id": "e6b4bc80",
   "metadata": {},
   "source": [
    "Notice that we never use `number`'s value. To indicate this, the Python community often uses `_` as the variable name:"
   ]
  },
  {
   "cell_type": "code",
   "execution_count": null,
   "id": "2ba5b78e",
   "metadata": {},
   "outputs": [],
   "source": [
    "dice_sum = 0\n",
    "\n",
    "for _ in range(5):\n",
    "    dice_sum = dice_sum + roll_die(6)\n",
    "\n",
    "dice_sum"
   ]
  },
  {
   "cell_type": "code",
   "execution_count": null,
   "id": "643dbaf1",
   "metadata": {},
   "outputs": [],
   "source": []
  },
  {
   "cell_type": "markdown",
   "id": "ecfed7bc-22c4-4a3d-9a40-4c2562fd98b1",
   "metadata": {},
   "source": [
    "<mark> Nathan Start </mark>"
   ]
  },
  {
   "cell_type": "markdown",
   "id": "06f68f26-b1b7-48c7-a37b-76dd9d0811ac",
   "metadata": {
    "slideshow": {
     "slide_type": "slide"
    }
   },
   "source": [
    "# Empirical Distributions\n",
    "\n",
    "- In data science, the word \"empirical\" means \"observed\". Empirical distributions are distributions of observed data, such as data in the time use survey.\n",
    "\n",
    "- We can simulate data and see what the empirical distribution looks like. \n",
    "\n",
    "\n",
    "## Toss a coin ten times\n",
    "\n",
    "- Our setting is a simple experiment: rolling a die multiple times and keeping track of which face appears. The table `die` contains the numbers of spots on the faces of a die. All the numbers appear exactly once, as we are assuming that the die is fair."
   ]
  },
  {
   "cell_type": "markdown",
   "id": "94273e1f-0003-4bc7-9025-479faec0f371",
   "metadata": {
    "slideshow": {
     "slide_type": "slide"
    }
   },
   "source": [
    "- We will use the `numpy` library to create a *simulated* six sided die.\n",
    "\n",
    "- The `arrange` function returns evenly spaced values within an interval."
   ]
  },
  {
   "cell_type": "code",
   "execution_count": 6,
   "id": "0fb5e477-77d1-4d26-bbe2-d31c73aa8530",
   "metadata": {},
   "outputs": [
    {
     "data": {
      "text/plain": [
       "array([1, 2, 3, 4, 5, 6])"
      ]
     },
     "execution_count": 6,
     "metadata": {},
     "output_type": "execute_result"
    }
   ],
   "source": [
    "import numpy as np\n",
    "\n",
    "die_sides = np.arange(start = 1, stop = 7, step = 1)\n",
    "die_sides"
   ]
  },
  {
   "cell_type": "markdown",
   "id": "c55b37d9-e6eb-468a-a6ee-3bceda69b550",
   "metadata": {},
   "source": [
    "NB: this returns a `numpy` array which is a different python object.\n",
    "\n",
    "Alternatively, we could have used the `array` function in `numpy`."
   ]
  },
  {
   "cell_type": "code",
   "execution_count": 7,
   "id": "ce94ca6d-dd7a-45ae-878a-1f3a140f62dc",
   "metadata": {},
   "outputs": [
    {
     "data": {
      "text/plain": [
       "array([1, 2, 3, 4, 5, 6])"
      ]
     },
     "execution_count": 7,
     "metadata": {},
     "output_type": "execute_result"
    }
   ],
   "source": [
    "np.array([1, 2, 3, 4, 5, 6])"
   ]
  },
  {
   "cell_type": "markdown",
   "id": "c77518ff-dc3e-4abc-a9e2-7730dc4786f8",
   "metadata": {
    "slideshow": {
     "slide_type": "slide"
    }
   },
   "source": [
    "Now, we can create a `pandas` `Series` with `die_sides`"
   ]
  },
  {
   "cell_type": "code",
   "execution_count": 8,
   "id": "c900d2a4-c249-48aa-8eac-132846795df1",
   "metadata": {},
   "outputs": [
    {
     "data": {
      "text/plain": [
       "0    1\n",
       "1    2\n",
       "2    3\n",
       "3    4\n",
       "4    5\n",
       "5    6\n",
       "dtype: int64"
      ]
     },
     "execution_count": 8,
     "metadata": {},
     "output_type": "execute_result"
    }
   ],
   "source": [
    "import pandas as pd\n",
    "\n",
    "die = pd.Series(die_sides)\n",
    "die"
   ]
  },
  {
   "cell_type": "markdown",
   "id": "9749ad06-7c39-4ff7-b9c0-de83b48f0dfd",
   "metadata": {
    "slideshow": {
     "slide_type": "slide"
    }
   },
   "source": [
    "- Now, we can use the `pandas` `sample` function to take a random *sample* of `die`.  \n",
    "\n",
    "- `replace = False` means that values that are already selected cannot be selected again.  This is the default for this parameter."
   ]
  },
  {
   "cell_type": "code",
   "execution_count": 9,
   "id": "ef8b1a06-6713-43d9-914a-309e908c9e96",
   "metadata": {},
   "outputs": [
    {
     "data": {
      "text/plain": [
       "4    5\n",
       "dtype: int64"
      ]
     },
     "execution_count": 9,
     "metadata": {},
     "output_type": "execute_result"
    }
   ],
   "source": [
    "die.sample(n = 1, replace = False)"
   ]
  },
  {
   "cell_type": "markdown",
   "id": "575efa6a-8d81-4938-9344-2a32bf5e6cb8",
   "metadata": {
    "slideshow": {
     "slide_type": "slide"
    }
   },
   "source": [
    "- `die.sample(n = 1, replace = False)` is a **simulation** of tossing a six-sided die once.\n",
    "\n",
    "- How can we toss the die, say, 10 times?\n",
    "\n",
    "- Change `n` to 10 and the `replace` parameter in `sample` to `True`, so that we sample `die` with replacement.  In other words, we allow the scenario of rolling, say, a value of 1, then on the next roll we can allow a roll of 1.  "
   ]
  },
  {
   "cell_type": "code",
   "execution_count": 10,
   "id": "ba2b7c8d-32f9-483d-8cc7-6258616044ef",
   "metadata": {},
   "outputs": [
    {
     "data": {
      "text/plain": [
       "0    1\n",
       "1    2\n",
       "2    3\n",
       "4    5\n",
       "3    4\n",
       "1    2\n",
       "1    2\n",
       "4    5\n",
       "3    4\n",
       "3    4\n",
       "dtype: int64"
      ]
     },
     "execution_count": 10,
     "metadata": {},
     "output_type": "execute_result"
    }
   ],
   "source": [
    "roll_10 = die.sample(n = 10, replace = True)\n",
    "roll_10"
   ]
  },
  {
   "cell_type": "markdown",
   "id": "00712f5b-5cfc-49c3-a4ec-869413b5edd0",
   "metadata": {
    "slideshow": {
     "slide_type": "slide"
    }
   },
   "source": [
    "`np.arange(start = 0.5, stop = 6.6, step = 1)` will create a `numpy` array with elements 0.5, 0.5 + 1, 0.5 + 1 + 1, 0.5 + 1 + 1 + 1, etc. that will use to create the histogram bins. "
   ]
  },
  {
   "cell_type": "code",
   "execution_count": 11,
   "id": "b1acc9b3-e614-4bc4-937d-3e9ec78e71d1",
   "metadata": {
    "slideshow": {
     "slide_type": "slide"
    }
   },
   "outputs": [],
   "source": [
    "die_bins = np.arange(start = 0.5, stop = 6.6, step = 1)"
   ]
  },
  {
   "cell_type": "code",
   "execution_count": 12,
   "id": "768bb556-d74a-4007-b311-f9f5f87388ad",
   "metadata": {},
   "outputs": [
    {
     "data": {
      "text/plain": [
       "<AxesSubplot:ylabel='Frequency'>"
      ]
     },
     "execution_count": 12,
     "metadata": {},
     "output_type": "execute_result"
    },
    {
     "data": {
      "image/png": "[encoded data removed]",
      "text/plain": [
       "<Figure size 432x288 with 1 Axes>"
      ]
     },
     "metadata": {
      "needs_background": "light"
     },
     "output_type": "display_data"
    }
   ],
   "source": [
    "roll_10.plot.hist(bins = die_bins, edgecolor = 'black', color = 'grey')"
   ]
  },
  {
   "cell_type": "markdown",
   "id": "673c571b-7205-4022-bf0d-804912ecd997",
   "metadata": {},
   "source": [
    "-  If the die is fair then we would expect each side of the die (1 through 6) to have an equal chance (1/6) of appearing.\n",
    "\n",
    "- So, in 10 rolls of the die we would expect approximately 10/6 (~ 2) times."
   ]
  },
  {
   "cell_type": "markdown",
   "id": "f921cd9c-dcbc-4717-a993-71e9ef2f1da6",
   "metadata": {},
   "source": [
    "- The histogram above is called the **Empirical Distribution** of 10 rolls of a fair die.\n",
    "\n",
    "- What happens if the die is rolled 10,000 times?"
   ]
  },
  {
   "cell_type": "code",
   "execution_count": 13,
   "id": "97c3a0b2-0c6d-4182-b905-e88373a9d541",
   "metadata": {
    "slideshow": {
     "slide_type": "slide"
    }
   },
   "outputs": [
    {
     "data": {
      "text/plain": [
       "<AxesSubplot:ylabel='Frequency'>"
      ]
     },
     "execution_count": 13,
     "metadata": {},
     "output_type": "execute_result"
    },
    {
     "data": {
      "image/png": "[encoded data removed]",
      "text/plain": [
       "<Figure size 432x288 with 1 Axes>"
      ]
     },
     "metadata": {
      "needs_background": "light"
     },
     "output_type": "display_data"
    }
   ],
   "source": [
    "roll_10000 = die.sample(n = 10000, replace = True)\n",
    "roll_10000.plot.hist(bins = die_bins, edgecolor = 'black', color = 'grey')"
   ]
  },
  {
   "cell_type": "markdown",
   "id": "b361a392-81b6-45b7-8cb7-ea17b721af21",
   "metadata": {
    "slideshow": {
     "slide_type": "slide"
    }
   },
   "source": [
    "## Plotting in matplotlib\n",
    "\n",
    "- We can create the histogram using `matplotlib.pyplot` directly (`pandas` plotting functions use this library).\n",
    "\n",
    "- `matplotlib.pyplot` gives us greater flexibility in the types of plots we can create.\n",
    "\n",
    "- the syntax is similar to `pandas.DataFrame.hist`\n",
    "\n",
    "- If the widths of the histogram bins are 1 then the setting the parameter `density = True` will display values on the vertical axis of the that correspond to the probability of a value falling into a bin. NB: if the width of the bins is not equal to 1 then `density = True` will not produce probabilities on the vertical axis.\n",
    "\n",
    "- `ylabel` and `xlabel` allow us to label the vertical and horizontal axes."
   ]
  },
  {
   "cell_type": "code",
   "execution_count": 14,
   "id": "5a2a2364-2e2c-4023-9675-4547200bcee9",
   "metadata": {},
   "outputs": [
    {
     "data": {
      "text/plain": [
       "Text(0.5, 0, 'Die value')"
      ]
     },
     "execution_count": 14,
     "metadata": {},
     "output_type": "execute_result"
    },
    {
     "data": {
      "image/png": "[encoded data removed]",
      "text/plain": [
       "<Figure size 432x288 with 1 Axes>"
      ]
     },
     "metadata": {
      "needs_background": "light"
     },
     "output_type": "display_data"
    }
   ],
   "source": [
    "import matplotlib.pyplot as plt\n",
    "\n",
    "plt.hist(roll_10000, bins = die_bins, edgecolor = 'black', color = 'grey', density = True)\n",
    "plt.ylabel('Proportion')\n",
    "plt.xlabel('Die value')"
   ]
  },
  {
   "cell_type": "markdown",
   "id": "4a3697c3-8121-4396-bf6e-cda4c970d1ab",
   "metadata": {
    "slideshow": {
     "slide_type": "slide"
    }
   },
   "source": [
    "## Probability\n",
    "\n",
    "- Since the widths of the histogram bins are 1 the values on the vertical axis of the histogram are probabilities.\n",
    "\n",
    "- The probability of rolling a 1, 2, 3, 4, 5, or 6 in 10,000 rolls of a six-sided fair die is approximately 0.17 (= 1/6).\n",
    "\n",
    "- The observed probabilities can be directly calculated using `value_counts` then dividing by the number of die rolls (or in general the number of simulations)."
   ]
  },
  {
   "cell_type": "code",
   "execution_count": 15,
   "id": "fdd3fdf0-b15f-4338-912e-7fb2e2fe48f8",
   "metadata": {},
   "outputs": [
    {
     "data": {
      "text/plain": [
       "6    0.1732\n",
       "3    0.1709\n",
       "5    0.1661\n",
       "4    0.1636\n",
       "1    0.1633\n",
       "2    0.1629\n",
       "dtype: float64"
      ]
     },
     "execution_count": 15,
     "metadata": {},
     "output_type": "execute_result"
    }
   ],
   "source": [
    "roll_10000.value_counts()/len(roll_10000)"
   ]
  },
  {
   "cell_type": "markdown",
   "id": "b6b04a45",
   "metadata": {},
   "source": [
    "As we increase the number of rolls in the simulation, the area of each bar gets closer to 16.67%, which is the area of each bar in the probability histogram."
   ]
  },
  {
   "cell_type": "markdown",
   "id": "7dc8c6ff-aea9-4b01-8234-bb5baf4c6dde",
   "metadata": {
    "slideshow": {
     "slide_type": "slide"
    }
   },
   "source": [
    "## The Law of Averages\n",
    "\n",
    "What we have observed above is an instance of a general rule called the *law of averages*:\n",
    "\n",
    "If a chance experiment is repeated independently and under identical conditions, then, in the long run, the proportion of times that an event occurs gets closer and closer to the theoretical probability of the event.\n",
    "\n",
    "For example, in the long run, the proportion of times the face with four spots appears gets closer and closer to 1/6.\n",
    "\n",
    "Here \"independently and under identical conditions\" means that every repetition is performed in the same way regardless of the results of all the other repetitions.\n",
    "\n",
    "Under these conditions, the law above implies that if the chance experiment is repeated a large number of times then the proportion of times that an event occurs is very likely to be close to the theoretical probability of the event."
   ]
  },
  {
   "cell_type": "markdown",
   "id": "260487e3-8b93-4d1c-a902-478778bfe131",
   "metadata": {
    "slideshow": {
     "slide_type": "slide"
    }
   },
   "source": [
    "The function `rolldie` has one argument `numrolls` that represents the number of times a die is rolled."
   ]
  },
  {
   "cell_type": "code",
   "execution_count": 16,
   "id": "e979aa12-90e8-4e27-8c2e-55c53f16d818",
   "metadata": {},
   "outputs": [],
   "source": [
    "def rolldie(numrolls):\n",
    "    die_results = die.sample(n = numrolls, replace = True)\n",
    "    return die_results"
   ]
  },
  {
   "cell_type": "markdown",
   "id": "1095376f-3757-428a-82f7-7ffcd289697a",
   "metadata": {
    "slideshow": {
     "slide_type": "fragment"
    }
   },
   "source": [
    "- The function `empirical_hist` has one argument `obsdievals` that represents the observed values of rolling a single-sided die.\n",
    "\n",
    "- The function produces the quantitative distribution of a die, and a histogram."
   ]
  },
  {
   "cell_type": "code",
   "execution_count": 17,
   "id": "6dd8cbfe-fec4-4435-a2d2-671c248caf9d",
   "metadata": {},
   "outputs": [],
   "source": [
    "def empirical_hist(obsdievals):\n",
    "    print(obsdievals.value_counts()/len(obsdievals))\n",
    "    plt.hist(obsdievals, bins = die_bins, edgecolor = 'black', color = 'grey', density = True)\n",
    "    plt.ylabel('Proportion')\n",
    "    plt.xlabel('Die value')"
   ]
  },
  {
   "cell_type": "markdown",
   "id": "360fcd5f-29eb-40f5-a5ba-166abe0b167a",
   "metadata": {
    "slideshow": {
     "slide_type": "fragment"
    }
   },
   "source": [
    "- The parameter value for `empirical_hist` can be obtained by using the function `rolldie` above.\n",
    "\n",
    "- This can be used directly as the parameter value for `empirical_hist`."
   ]
  },
  {
   "cell_type": "code",
   "execution_count": 18,
   "id": "1d9a3758-cdfb-463f-9eb4-a4b335ab2c39",
   "metadata": {},
   "outputs": [
    {
     "name": "stdout",
     "output_type": "stream",
     "text": [
      "1    0.3\n",
      "4    0.2\n",
      "2    0.2\n",
      "5    0.1\n",
      "3    0.1\n",
      "6    0.1\n",
      "dtype: float64\n"
     ]
    },
    {
     "data": {
      "image/png": "[encoded data removed]",
      "text/plain": [
       "<Figure size 432x288 with 1 Axes>"
      ]
     },
     "metadata": {
      "needs_background": "light"
     },
     "output_type": "display_data"
    }
   ],
   "source": [
    "# this is a long version of the code below\n",
    "# rollvalues = rolldie(10)\n",
    "# empirical_hist(rollvalues)\n",
    "\n",
    "empirical_hist(rolldie(10))"
   ]
  },
  {
   "cell_type": "markdown",
   "id": "aaac1b3e-92e2-4a6b-a134-675d5cf03921",
   "metadata": {
    "slideshow": {
     "slide_type": "slide"
    }
   },
   "source": [
    "# Interactive exploration of simulating a die roll\n",
    "\n",
    "We can use the `interact` function from `ipywidgets` library to interact directly with distribution. \n"
   ]
  },
  {
   "cell_type": "code",
   "execution_count": 19,
   "id": "9b8adcbb-f026-4249-9180-6cee95121e10",
   "metadata": {},
   "outputs": [
    {
     "data": {
      "application/vnd.jupyter.widget-view+json": {
       "model_id": "40e55f5fc6f5415a9f16cf9d430bbb5c",
       "version_major": 2,
       "version_minor": 0
      },
      "text/plain": [
       "interactive(children=(IntSlider(value=10, description='n', max=10000, min=10, step=50), Output()), _dom_classe…"
      ]
     },
     "metadata": {},
     "output_type": "display_data"
    },
    {
     "data": {
      "text/plain": [
       "<function __main__.die_sim_plot(n)>"
      ]
     },
     "execution_count": 19,
     "metadata": {},
     "output_type": "execute_result"
    }
   ],
   "source": [
    "from ipywidgets import interact\n",
    "import ipywidgets as widgets\n",
    "\n",
    "def die_sim_plot(n):\n",
    "    rolldie = die.sample(n, replace=True)\n",
    "    print(rolldie.value_counts()/n)\n",
    "    plt.hist(rolldie, bins = die_bins, edgecolor = 'black', color = 'grey', density = True)\n",
    "\n",
    "\n",
    "interact(die_sim_plot, n = widgets.IntSlider(min = 10, max= 10000, step=50, value=10))"
   ]
  },
  {
   "cell_type": "markdown",
   "id": "35a8f6f1-9f53-4056-811d-4ba209a0d181",
   "metadata": {},
   "source": [
    "## Questions\n",
    "\n",
    "- What does the value `n` on the slider represent?\n",
    "\n",
    "- What do the numbers above the histogram represent?\n",
    "\n",
    "- Describe what the histogram represents.\n",
    "\n",
    "- Describe the pattern in the histogram as `n` gets larger.  "
   ]
  },
  {
   "cell_type": "markdown",
   "id": "8d97415f-304a-4764-87d2-8bc6398d49a1",
   "metadata": {
    "slideshow": {
     "slide_type": "slide"
    }
   },
   "source": [
    "## Sampling from a Population"
   ]
  },
  {
   "cell_type": "markdown",
   "id": "6619481d-0cd3-4ca0-a424-77ff0573f9b1",
   "metadata": {},
   "source": [
    "The law of averages also holds when the random sample is drawn from individuals in a large population.\n",
    "\n"
   ]
  },
  {
   "cell_type": "code",
   "execution_count": 20,
   "id": "44654c56-1611-4079-849a-080a76cb8308",
   "metadata": {},
   "outputs": [
    {
     "data": {
      "text/html": [
       "<div>\n",
       "<style scoped>\n",
       "    .dataframe tbody tr th:only-of-type {\n",
       "        vertical-align: middle;\n",
       "    }\n",
       "\n",
       "    .dataframe tbody tr th {\n",
       "        vertical-align: top;\n",
       "    }\n",
       "\n",
       "    .dataframe thead th {\n",
       "        text-align: right;\n",
       "    }\n",
       "</style>\n",
       "<table border=\"1\" class=\"dataframe\">\n",
       "  <thead>\n",
       "    <tr style=\"text-align: right;\">\n",
       "      <th></th>\n",
       "      <th>MSW05_Order</th>\n",
       "      <th>MSW05_Family</th>\n",
       "      <th>MSW05_Genus</th>\n",
       "      <th>MSW05_Species</th>\n",
       "      <th>MSW05_Binomial</th>\n",
       "      <th>1-1_ActivityCycle</th>\n",
       "      <th>5-1_AdultBodyMass_g</th>\n",
       "      <th>8-1_AdultForearmLen_mm</th>\n",
       "      <th>13-1_AdultHeadBodyLen_mm</th>\n",
       "      <th>2-1_AgeatEyeOpening_d</th>\n",
       "      <th>...</th>\n",
       "      <th>26-6_GR_MinLong_dd</th>\n",
       "      <th>26-7_GR_MidRangeLong_dd</th>\n",
       "      <th>27-1_HuPopDen_Min_n/km2</th>\n",
       "      <th>27-2_HuPopDen_Mean_n/km2</th>\n",
       "      <th>27-3_HuPopDen_5p_n/km2</th>\n",
       "      <th>27-4_HuPopDen_Change</th>\n",
       "      <th>28-1_Precip_Mean_mm</th>\n",
       "      <th>28-2_Temp_Mean_01degC</th>\n",
       "      <th>30-1_AET_Mean_mm</th>\n",
       "      <th>30-2_PET_Mean_mm</th>\n",
       "    </tr>\n",
       "  </thead>\n",
       "  <tbody>\n",
       "    <tr>\n",
       "      <th>0</th>\n",
       "      <td>Artiodactyla</td>\n",
       "      <td>Camelidae</td>\n",
       "      <td>Camelus</td>\n",
       "      <td>dromedarius</td>\n",
       "      <td>Camelus dromedarius</td>\n",
       "      <td>3.0</td>\n",
       "      <td>492714.47</td>\n",
       "      <td>NaN</td>\n",
       "      <td>NaN</td>\n",
       "      <td>NaN</td>\n",
       "      <td>...</td>\n",
       "      <td>NaN</td>\n",
       "      <td>NaN</td>\n",
       "      <td>NaN</td>\n",
       "      <td>NaN</td>\n",
       "      <td>NaN</td>\n",
       "      <td>NaN</td>\n",
       "      <td>NaN</td>\n",
       "      <td>NaN</td>\n",
       "      <td>NaN</td>\n",
       "      <td>NaN</td>\n",
       "    </tr>\n",
       "    <tr>\n",
       "      <th>1</th>\n",
       "      <td>Carnivora</td>\n",
       "      <td>Canidae</td>\n",
       "      <td>Canis</td>\n",
       "      <td>adustus</td>\n",
       "      <td>Canis adustus</td>\n",
       "      <td>1.0</td>\n",
       "      <td>10392.49</td>\n",
       "      <td>NaN</td>\n",
       "      <td>745.32</td>\n",
       "      <td>NaN</td>\n",
       "      <td>...</td>\n",
       "      <td>-17.53</td>\n",
       "      <td>13.00</td>\n",
       "      <td>0.0</td>\n",
       "      <td>35.20</td>\n",
       "      <td>1.0</td>\n",
       "      <td>0.14</td>\n",
       "      <td>90.75</td>\n",
       "      <td>236.51</td>\n",
       "      <td>922.90</td>\n",
       "      <td>1534.40</td>\n",
       "    </tr>\n",
       "    <tr>\n",
       "      <th>2</th>\n",
       "      <td>Carnivora</td>\n",
       "      <td>Canidae</td>\n",
       "      <td>Canis</td>\n",
       "      <td>aureus</td>\n",
       "      <td>Canis aureus</td>\n",
       "      <td>2.0</td>\n",
       "      <td>9658.70</td>\n",
       "      <td>NaN</td>\n",
       "      <td>827.53</td>\n",
       "      <td>7.50</td>\n",
       "      <td>...</td>\n",
       "      <td>-17.05</td>\n",
       "      <td>45.74</td>\n",
       "      <td>0.0</td>\n",
       "      <td>79.29</td>\n",
       "      <td>0.0</td>\n",
       "      <td>0.10</td>\n",
       "      <td>44.61</td>\n",
       "      <td>217.23</td>\n",
       "      <td>438.02</td>\n",
       "      <td>1358.98</td>\n",
       "    </tr>\n",
       "    <tr>\n",
       "      <th>3</th>\n",
       "      <td>Carnivora</td>\n",
       "      <td>Canidae</td>\n",
       "      <td>Canis</td>\n",
       "      <td>latrans</td>\n",
       "      <td>Canis latrans</td>\n",
       "      <td>2.0</td>\n",
       "      <td>11989.10</td>\n",
       "      <td>NaN</td>\n",
       "      <td>872.39</td>\n",
       "      <td>11.94</td>\n",
       "      <td>...</td>\n",
       "      <td>-168.12</td>\n",
       "      <td>-117.60</td>\n",
       "      <td>0.0</td>\n",
       "      <td>27.27</td>\n",
       "      <td>0.0</td>\n",
       "      <td>0.06</td>\n",
       "      <td>53.03</td>\n",
       "      <td>58.18</td>\n",
       "      <td>503.02</td>\n",
       "      <td>728.37</td>\n",
       "    </tr>\n",
       "    <tr>\n",
       "      <th>4</th>\n",
       "      <td>Carnivora</td>\n",
       "      <td>Canidae</td>\n",
       "      <td>Canis</td>\n",
       "      <td>lupus</td>\n",
       "      <td>Canis lupus</td>\n",
       "      <td>2.0</td>\n",
       "      <td>31756.51</td>\n",
       "      <td>NaN</td>\n",
       "      <td>1055.00</td>\n",
       "      <td>14.01</td>\n",
       "      <td>...</td>\n",
       "      <td>-171.84</td>\n",
       "      <td>3.90</td>\n",
       "      <td>0.0</td>\n",
       "      <td>37.87</td>\n",
       "      <td>0.0</td>\n",
       "      <td>0.04</td>\n",
       "      <td>34.79</td>\n",
       "      <td>4.82</td>\n",
       "      <td>313.33</td>\n",
       "      <td>561.11</td>\n",
       "    </tr>\n",
       "  </tbody>\n",
       "</table>\n",
       "<p>5 rows × 55 columns</p>\n",
       "</div>"
      ],
      "text/plain": [
       "    MSW05_Order MSW05_Family MSW05_Genus MSW05_Species       MSW05_Binomial  \\\n",
       "0  Artiodactyla    Camelidae     Camelus   dromedarius  Camelus dromedarius   \n",
       "1     Carnivora      Canidae       Canis       adustus        Canis adustus   \n",
       "2     Carnivora      Canidae       Canis        aureus         Canis aureus   \n",
       "3     Carnivora      Canidae       Canis       latrans        Canis latrans   \n",
       "4     Carnivora      Canidae       Canis         lupus          Canis lupus   \n",
       "\n",
       "   1-1_ActivityCycle  5-1_AdultBodyMass_g  8-1_AdultForearmLen_mm  \\\n",
       "0                3.0            492714.47                     NaN   \n",
       "1                1.0             10392.49                     NaN   \n",
       "2                2.0              9658.70                     NaN   \n",
       "3                2.0             11989.10                     NaN   \n",
       "4                2.0             31756.51                     NaN   \n",
       "\n",
       "   13-1_AdultHeadBodyLen_mm  2-1_AgeatEyeOpening_d  ...  26-6_GR_MinLong_dd  \\\n",
       "0                       NaN                    NaN  ...                 NaN   \n",
       "1                    745.32                    NaN  ...              -17.53   \n",
       "2                    827.53                   7.50  ...              -17.05   \n",
       "3                    872.39                  11.94  ...             -168.12   \n",
       "4                   1055.00                  14.01  ...             -171.84   \n",
       "\n",
       "   26-7_GR_MidRangeLong_dd  27-1_HuPopDen_Min_n/km2  27-2_HuPopDen_Mean_n/km2  \\\n",
       "0                      NaN                      NaN                       NaN   \n",
       "1                    13.00                      0.0                     35.20   \n",
       "2                    45.74                      0.0                     79.29   \n",
       "3                  -117.60                      0.0                     27.27   \n",
       "4                     3.90                      0.0                     37.87   \n",
       "\n",
       "   27-3_HuPopDen_5p_n/km2  27-4_HuPopDen_Change  28-1_Precip_Mean_mm  \\\n",
       "0                     NaN                   NaN                  NaN   \n",
       "1                     1.0                  0.14                90.75   \n",
       "2                     0.0                  0.10                44.61   \n",
       "3                     0.0                  0.06                53.03   \n",
       "4                     0.0                  0.04                34.79   \n",
       "\n",
       "   28-2_Temp_Mean_01degC  30-1_AET_Mean_mm  30-2_PET_Mean_mm  \n",
       "0                    NaN               NaN               NaN  \n",
       "1                 236.51            922.90           1534.40  \n",
       "2                 217.23            438.02           1358.98  \n",
       "3                  58.18            503.02            728.37  \n",
       "4                   4.82            313.33            561.11  \n",
       "\n",
       "[5 rows x 55 columns]"
      ]
     },
     "execution_count": 20,
     "metadata": {},
     "output_type": "execute_result"
    }
   ],
   "source": [
    "import pandas as pd\n",
    "\n",
    "pantheria = pd.read_csv('pantheria.txt',sep=\"\\t\")\n",
    "pantheria.head()"
   ]
  },
  {
   "cell_type": "code",
   "execution_count": 21,
   "id": "104dd949-7d2a-4319-af96-7e1f2d3e3c60",
   "metadata": {
    "slideshow": {
     "slide_type": "slide"
    }
   },
   "outputs": [
    {
     "data": {
      "text/html": [
       "<div>\n",
       "<style scoped>\n",
       "    .dataframe tbody tr th:only-of-type {\n",
       "        vertical-align: middle;\n",
       "    }\n",
       "\n",
       "    .dataframe tbody tr th {\n",
       "        vertical-align: top;\n",
       "    }\n",
       "\n",
       "    .dataframe thead th {\n",
       "        text-align: right;\n",
       "    }\n",
       "</style>\n",
       "<table border=\"1\" class=\"dataframe\">\n",
       "  <thead>\n",
       "    <tr style=\"text-align: right;\">\n",
       "      <th></th>\n",
       "      <th>order</th>\n",
       "      <th>genus_species</th>\n",
       "      <th>interbirth_d</th>\n",
       "    </tr>\n",
       "  </thead>\n",
       "  <tbody>\n",
       "    <tr>\n",
       "      <th>0</th>\n",
       "      <td>Artiodactyla</td>\n",
       "      <td>Camelus dromedarius</td>\n",
       "      <td>614.41</td>\n",
       "    </tr>\n",
       "    <tr>\n",
       "      <th>1</th>\n",
       "      <td>Carnivora</td>\n",
       "      <td>Canis adustus</td>\n",
       "      <td>NaN</td>\n",
       "    </tr>\n",
       "    <tr>\n",
       "      <th>2</th>\n",
       "      <td>Carnivora</td>\n",
       "      <td>Canis aureus</td>\n",
       "      <td>365.00</td>\n",
       "    </tr>\n",
       "    <tr>\n",
       "      <th>3</th>\n",
       "      <td>Carnivora</td>\n",
       "      <td>Canis latrans</td>\n",
       "      <td>365.00</td>\n",
       "    </tr>\n",
       "    <tr>\n",
       "      <th>4</th>\n",
       "      <td>Carnivora</td>\n",
       "      <td>Canis lupus</td>\n",
       "      <td>365.00</td>\n",
       "    </tr>\n",
       "  </tbody>\n",
       "</table>\n",
       "</div>"
      ],
      "text/plain": [
       "          order        genus_species  interbirth_d\n",
       "0  Artiodactyla  Camelus dromedarius        614.41\n",
       "1     Carnivora        Canis adustus           NaN\n",
       "2     Carnivora         Canis aureus        365.00\n",
       "3     Carnivora        Canis latrans        365.00\n",
       "4     Carnivora          Canis lupus        365.00"
      ]
     },
     "execution_count": 21,
     "metadata": {},
     "output_type": "execute_result"
    }
   ],
   "source": [
    "important_columns = [\"MSW05_Order\",\"MSW05_Binomial\",\"14-1_InterbirthInterval_d\"]\n",
    "\n",
    "sub_pantheria = pantheria[important_columns]\n",
    "\n",
    "columnnames = {'MSW05_Order': 'order',\n",
    "               'MSW05_Binomial': 'genus_species',\n",
    "               '14-1_InterbirthInterval_d': 'interbirth_d'}\n",
    "\n",
    "sub_pantheria = sub_pantheria.rename(columns=columnnames)\n",
    "\n",
    "sub_pantheria.head()"
   ]
  },
  {
   "cell_type": "markdown",
   "id": "08e1cf80-0b90-423a-908f-d943edbad116",
   "metadata": {
    "slideshow": {
     "slide_type": "slide"
    }
   },
   "source": [
    "Transform inter birth interval from days to months, and add this new column called `'interbirth_month'` to `sub_pantheria`."
   ]
  },
  {
   "cell_type": "code",
   "execution_count": 40,
   "id": "775bf77a-e389-4740-a0d4-05c0da66c3d0",
   "metadata": {},
   "outputs": [
    {
     "data": {
      "text/html": [
       "<div>\n",
       "<style scoped>\n",
       "    .dataframe tbody tr th:only-of-type {\n",
       "        vertical-align: middle;\n",
       "    }\n",
       "\n",
       "    .dataframe tbody tr th {\n",
       "        vertical-align: top;\n",
       "    }\n",
       "\n",
       "    .dataframe thead th {\n",
       "        text-align: right;\n",
       "    }\n",
       "</style>\n",
       "<table border=\"1\" class=\"dataframe\">\n",
       "  <thead>\n",
       "    <tr style=\"text-align: right;\">\n",
       "      <th></th>\n",
       "      <th>order</th>\n",
       "      <th>genus_species</th>\n",
       "      <th>interbirth_d</th>\n",
       "      <th>interbirth_month</th>\n",
       "    </tr>\n",
       "  </thead>\n",
       "  <tbody>\n",
       "    <tr>\n",
       "      <th>0</th>\n",
       "      <td>Artiodactyla</td>\n",
       "      <td>Camelus dromedarius</td>\n",
       "      <td>614.41</td>\n",
       "      <td>20.480333</td>\n",
       "    </tr>\n",
       "    <tr>\n",
       "      <th>1</th>\n",
       "      <td>Carnivora</td>\n",
       "      <td>Canis adustus</td>\n",
       "      <td>NaN</td>\n",
       "      <td>NaN</td>\n",
       "    </tr>\n",
       "    <tr>\n",
       "      <th>2</th>\n",
       "      <td>Carnivora</td>\n",
       "      <td>Canis aureus</td>\n",
       "      <td>365.00</td>\n",
       "      <td>12.166667</td>\n",
       "    </tr>\n",
       "    <tr>\n",
       "      <th>3</th>\n",
       "      <td>Carnivora</td>\n",
       "      <td>Canis latrans</td>\n",
       "      <td>365.00</td>\n",
       "      <td>12.166667</td>\n",
       "    </tr>\n",
       "    <tr>\n",
       "      <th>4</th>\n",
       "      <td>Carnivora</td>\n",
       "      <td>Canis lupus</td>\n",
       "      <td>365.00</td>\n",
       "      <td>12.166667</td>\n",
       "    </tr>\n",
       "  </tbody>\n",
       "</table>\n",
       "</div>"
      ],
      "text/plain": [
       "          order        genus_species  interbirth_d  interbirth_month\n",
       "0  Artiodactyla  Camelus dromedarius        614.41         20.480333\n",
       "1     Carnivora        Canis adustus           NaN               NaN\n",
       "2     Carnivora         Canis aureus        365.00         12.166667\n",
       "3     Carnivora        Canis latrans        365.00         12.166667\n",
       "4     Carnivora          Canis lupus        365.00         12.166667"
      ]
     },
     "execution_count": 40,
     "metadata": {},
     "output_type": "execute_result"
    }
   ],
   "source": [
    "sub_pantheria = sub_pantheria.copy()\n",
    "sub_pantheria['interbirth_month'] = (sub_pantheria['interbirth_d']/30)\n",
    "sub_pantheria.head()"
   ]
  },
  {
   "cell_type": "code",
   "execution_count": 41,
   "id": "477d4caa-1f1d-4a03-9b4b-1794fb8a469c",
   "metadata": {},
   "outputs": [
    {
     "data": {
      "text/plain": [
       "count    695.000000\n",
       "mean      11.264481\n",
       "std       10.009057\n",
       "min        0.566667\n",
       "25%        4.061000\n",
       "50%       12.166667\n",
       "75%       12.166667\n",
       "max       66.916667\n",
       "Name: interbirth_month, dtype: float64"
      ]
     },
     "execution_count": 41,
     "metadata": {},
     "output_type": "execute_result"
    }
   ],
   "source": [
    "sub_pantheria['interbirth_month'].describe()"
   ]
  },
  {
   "cell_type": "code",
   "execution_count": 42,
   "id": "a44134bd-feed-4d09-9e7d-4cfbac069412",
   "metadata": {},
   "outputs": [
    {
     "data": {
      "text/plain": [
       "<AxesSubplot:ylabel='Frequency'>"
      ]
     },
     "execution_count": 42,
     "metadata": {},
     "output_type": "execute_result"
    },
    {
     "data": {
      "image/png": "[encoded data removed]",
      "text/plain": [
       "<Figure size 432x288 with 1 Axes>"
      ]
     },
     "metadata": {
      "needs_background": "light"
     },
     "output_type": "display_data"
    }
   ],
   "source": [
    "sub_pantheria['interbirth_month'].plot.hist( bins = 10, color = 'grey', edgecolor = 'black')"
   ]
  },
  {
   "cell_type": "markdown",
   "id": "98899452-10c5-4caa-af9d-eb249470a403",
   "metadata": {
    "slideshow": {
     "slide_type": "slide"
    }
   },
   "source": [
    "# Empirical Distribution of the Sample\n",
    "\n",
    "Let's think of the 695 species inter birth times (months) as a population, and draw random samples from it with replacement. "
   ]
  },
  {
   "cell_type": "markdown",
   "id": "5c0feccb",
   "metadata": {},
   "source": [
    "A random sample of 50 ..."
   ]
  },
  {
   "cell_type": "code",
   "execution_count": 48,
   "id": "2d2565ef-03af-47f4-84e0-a98b9b95bf2f",
   "metadata": {},
   "outputs": [
    {
     "data": {
      "text/plain": [
       "<AxesSubplot:ylabel='Frequency'>"
      ]
     },
     "execution_count": 48,
     "metadata": {},
     "output_type": "execute_result"
    },
    {
     "data": {
      "image/png": "[encoded data removed]",
      "text/plain": [
       "<Figure size 432x288 with 1 Axes>"
      ]
     },
     "metadata": {
      "needs_background": "light"
     },
     "output_type": "display_data"
    }
   ],
   "source": [
    "sub_pantheria['interbirth_month'].sample(50, replace = True).plot.hist(bins = 10, color = 'grey', edgecolor = 'black')"
   ]
  },
  {
   "cell_type": "markdown",
   "id": "e4bea666",
   "metadata": {
    "slideshow": {
     "slide_type": "slide"
    }
   },
   "source": [
    "A random sample of 150 ..."
   ]
  },
  {
   "cell_type": "code",
   "execution_count": 49,
   "id": "9ec7a567-7547-4ae3-a479-72671cb6dad3",
   "metadata": {},
   "outputs": [
    {
     "data": {
      "text/plain": [
       "<AxesSubplot:ylabel='Frequency'>"
      ]
     },
     "execution_count": 49,
     "metadata": {},
     "output_type": "execute_result"
    },
    {
     "data": {
      "image/png": "[encoded data removed]",
      "text/plain": [
       "<Figure size 432x288 with 1 Axes>"
      ]
     },
     "metadata": {
      "needs_background": "light"
     },
     "output_type": "display_data"
    }
   ],
   "source": [
    "sub_pantheria['interbirth_month'].sample(150, replace = True).plot.hist(bins = 10, color = 'grey', edgecolor = 'black')"
   ]
  },
  {
   "cell_type": "markdown",
   "id": "d8ceeb6f",
   "metadata": {
    "slideshow": {
     "slide_type": "slide"
    }
   },
   "source": [
    "A random sample of 500 ..."
   ]
  },
  {
   "cell_type": "code",
   "execution_count": 50,
   "id": "1592bec2-f400-49be-a3f2-0cabe69e10f8",
   "metadata": {},
   "outputs": [
    {
     "data": {
      "text/plain": [
       "<AxesSubplot:ylabel='Frequency'>"
      ]
     },
     "execution_count": 50,
     "metadata": {},
     "output_type": "execute_result"
    },
    {
     "data": {
      "image/png": "[encoded data removed]",
      "text/plain": [
       "<Figure size 432x288 with 1 Axes>"
      ]
     },
     "metadata": {
      "needs_background": "light"
     },
     "output_type": "display_data"
    }
   ],
   "source": [
    "sub_pantheria['interbirth_month'].sample(500, replace = True).plot.hist(bins = 10, color = 'grey', edgecolor = 'black')"
   ]
  },
  {
   "cell_type": "markdown",
   "id": "6a0a76f5-1b61-4012-bd6a-8702ec4af6f0",
   "metadata": {},
   "source": [
    "- The values that occur with the least frequency are less likely to occur in small random samples.\n",
    "- As the size of the random sample increases the sample will resemble the population, with high probability."
   ]
  },
  {
   "cell_type": "markdown",
   "id": "f6e05b23-de87-4532-9b8d-9df2b6afbd53",
   "metadata": {
    "slideshow": {
     "slide_type": "slide"
    }
   },
   "source": [
    "## Interactive exploration of empirical distribution of a sample"
   ]
  },
  {
   "cell_type": "code",
   "execution_count": 51,
   "id": "629cc25d-8e24-4034-b8a6-2ce0e6ba25cc",
   "metadata": {},
   "outputs": [
    {
     "data": {
      "application/vnd.jupyter.widget-view+json": {
       "model_id": "4505497b9714407bb17c001b880d7f6b",
       "version_major": 2,
       "version_minor": 0
      },
      "text/plain": [
       "interactive(children=(IntSlider(value=10, description='n', max=500, min=10, step=50), Output()), _dom_classes=…"
      ]
     },
     "metadata": {},
     "output_type": "display_data"
    },
    {
     "data": {
      "text/plain": [
       "<function __main__.emp_hist_plot(n)>"
      ]
     },
     "execution_count": 51,
     "metadata": {},
     "output_type": "execute_result"
    }
   ],
   "source": [
    "from ipywidgets import interact\n",
    "import ipywidgets as widgets\n",
    "\n",
    "def emp_hist_plot(n):\n",
    "    sub_pantheria['interbirth_month'].sample(n, replace = True).plot.hist(bins = 10, color = 'grey', edgecolor = 'black')\n",
    "\n",
    "interact(emp_hist_plot, n = widgets.IntSlider(min = 10, max= 500, step=50, value=10))"
   ]
  },
  {
   "cell_type": "markdown",
   "id": "d0e5abe1",
   "metadata": {},
   "source": [
    "The histogram of the \"population\"."
   ]
  },
  {
   "cell_type": "code",
   "execution_count": 29,
   "id": "cb0fd5a8-1d90-4dbf-a20b-a20a8f06022c",
   "metadata": {},
   "outputs": [
    {
     "data": {
      "text/plain": [
       "<AxesSubplot:ylabel='Frequency'>"
      ]
     },
     "execution_count": 29,
     "metadata": {},
     "output_type": "execute_result"
    },
    {
     "data": {
      "image/png": "[encoded data removed]",
      "text/plain": [
       "<Figure size 432x288 with 1 Axes>"
      ]
     },
     "metadata": {
      "needs_background": "light"
     },
     "output_type": "display_data"
    }
   ],
   "source": [
    "sub_pantheria['interbirth_month'].plot.hist(bins = 10, color = 'grey', edgecolor = 'black')"
   ]
  },
  {
   "cell_type": "markdown",
   "id": "6f8eab1f-9d99-4897-8c52-68660b6cb172",
   "metadata": {},
   "source": [
    "## Questions\n",
    "\n",
    "- Describe how the empirical histogram changes as the the value `n` gets larger."
   ]
  },
  {
   "cell_type": "markdown",
   "id": "682d7bd2-9b9a-4a49-8377-f20bf552856a",
   "metadata": {
    "slideshow": {
     "slide_type": "slide"
    }
   },
   "source": [
    "# Empirical Distribution of a Statistic\n",
    "\n",
    "The Law of Averages implies that with high probability, the empirical distribution of a large random sample will resemble the distribution of the population from which the sample was drawn.\n",
    "\n",
    "The resemblance is visible in two histograms: the empirical histogram of a large random sample is likely to resemble the histogram of the population."
   ]
  },
  {
   "cell_type": "markdown",
   "id": "bd803c51-dac9-4418-b126-f350fb2a306d",
   "metadata": {
    "slideshow": {
     "slide_type": "slide"
    }
   },
   "source": [
    "## Statistical Parameter\n",
    "Frequently, we are interested in numerical quantities associated with a population.\n",
    "- In a population of voters, what percent will vote for Candidate A?\n",
    "- In a population of Facebook users, what is the largest number of Facebook friends that the users have?\n",
    "- In a population of United flights, what is the median departure delay?\n",
    "\n",
    "Numerical quantities associated with a (statistical) population are called *statistical parameters* or *parameters*. For the population of respondents in `sub_pantheria['interbirth_month']`, we know the value of the parameter \" median inter-birth time (months) \":"
   ]
  },
  {
   "cell_type": "code",
   "execution_count": 30,
   "id": "4742ba08-636e-43f1-ab3f-2aa1df3cacb5",
   "metadata": {},
   "outputs": [
    {
     "data": {
      "text/plain": [
       "12.166666666666666"
      ]
     },
     "execution_count": 30,
     "metadata": {},
     "output_type": "execute_result"
    }
   ],
   "source": [
    "sub_pantheria['interbirth_month'].median()"
   ]
  },
  {
   "cell_type": "markdown",
   "id": "588fdf1b-878d-497f-9ed8-06d87dc4b5c3",
   "metadata": {
    "slideshow": {
     "slide_type": "slide"
    }
   },
   "source": [
    "## Statistic\n",
    "In many situations, we will be interested in figuring out the value of an unknown parameter. For this, we will rely on data from a large random sample drawn from the population.\n",
    "\n",
    "A *statistic* (note the singular!) is any number computed using the data in a sample. The sample median, therefore, is a statistic. \n",
    "\n",
    "Remember that `sub_pantheria['interbirth_month']` contains a random sample of 100 species from `sub_pantheria['interbirth_month']`. The observed value of the sample median is:"
   ]
  },
  {
   "cell_type": "code",
   "execution_count": 31,
   "id": "828f5548-1809-4142-bc95-eb8902997db6",
   "metadata": {},
   "outputs": [
    {
     "data": {
      "text/plain": [
       "12.166666666666666"
      ]
     },
     "execution_count": 31,
     "metadata": {},
     "output_type": "execute_result"
    }
   ],
   "source": [
    "sub_pantheria['interbirth_month'].sample(100).median()"
   ]
  },
  {
   "cell_type": "markdown",
   "id": "c6facf88-2ed3-46b6-a18e-3e8f232471b1",
   "metadata": {},
   "source": [
    "Our sample – one set of 100 species – gave us one observed value of the statistic. This raises an important problem of inference:\n",
    "\n",
    "**The statistic could have been different.**\n",
    "A fundamental consideration in using any statistic based on a random sample is that *the sample could have come out differently*, and therefore the statistic could have come out differently too. "
   ]
  },
  {
   "cell_type": "markdown",
   "id": "419170f5-cc83-45b3-9d5e-417b38fc4fa0",
   "metadata": {
    "slideshow": {
     "slide_type": "fragment"
    }
   },
   "source": [
    "Run the cell above a few times to see how the answer varies. Often it is equal to 12.17, the same value as the population parameter. But sometimes it is different."
   ]
  },
  {
   "cell_type": "markdown",
   "id": "5f31d9af-2acb-4f9e-8384-69d085688e2b",
   "metadata": {},
   "source": [
    "**Just how different could the statistic have been?** One way to answer this is to simulate the statistic many times and note the values. A histogram of those values will tell us about the **distribution of the statistic**."
   ]
  },
  {
   "cell_type": "markdown",
   "id": "aabf6698-67b5-4388-9eb4-4fcf9d9e1251",
   "metadata": {},
   "source": [
    "## Simulating a Statistic\n",
    "We will simulate the sample median using the steps below.  You can replace the sample size of 1000 by any other sample size, and the sample median by any other statistic.\n",
    "\n",
    "**Step 1: Decide which statistic to simulate.** We have already decided that: we are going to simulate the median of a random sample of size 1000 drawn from the population of time use survey respondents that had a median time spent on personal activities between 0.25 and 3.0 hours.\n",
    "\n",
    "**Step 2: Define a function that returns one simulated value of the statistic.** Draw a random sample of size 1000 and compute the median of the sample. We did this in the code cell above. Here it is again, encapsulated in a function."
   ]
  },
  {
   "cell_type": "code",
   "execution_count": 32,
   "id": "e1ea259b-5fc4-4b51-98ee-7962ac261e2d",
   "metadata": {},
   "outputs": [],
   "source": [
    "def random_sample_median():\n",
    "    return sub_pantheria['interbirth_month'].sample(100).median()"
   ]
  },
  {
   "cell_type": "code",
   "execution_count": 33,
   "id": "500f6238-d66c-4867-85f2-3bb0022558b3",
   "metadata": {},
   "outputs": [
    {
     "data": {
      "text/plain": [
       "12.166666666666666"
      ]
     },
     "execution_count": 33,
     "metadata": {},
     "output_type": "execute_result"
    }
   ],
   "source": [
    "random_sample_median()"
   ]
  },
  {
   "cell_type": "markdown",
   "id": "1b51d1cc-d9b6-475b-a2fc-3da92bf4568f",
   "metadata": {
    "slideshow": {
     "slide_type": "slide"
    }
   },
   "source": [
    "**Step 3: Decide how many simulated values to generate.** Let's do 5,000 repetitions.\n",
    "\n",
    "**Step 4: Use a `for` loop to generate a list of simulated values.** Start by creating an empty list in which to collect our results. We will then set up a `for` loop for generating all the simulated values. The body of the loop will consist of generating one simulated value of the sample median, and appending it to our collection list.\n",
    "\n",
    "The simulation takes a noticeable amount of time to run. That is because it is performing 5000 repetitions of the process of drawing a sample of size 1000 and computing its median. That's a lot of sampling and repeating!"
   ]
  },
  {
   "cell_type": "markdown",
   "id": "1b4e5eb3-3f8f-444e-80e2-0e4985d79c35",
   "metadata": {
    "slideshow": {
     "slide_type": "fragment"
    }
   },
   "source": [
    "Let's break down this step a bit further:\n",
    "\n",
    "- set up an empty list called `sim_medians`."
   ]
  },
  {
   "cell_type": "code",
   "execution_count": 34,
   "id": "b68ca1a7-69f1-4b15-b73d-455449778d7c",
   "metadata": {
    "slideshow": {
     "slide_type": "fragment"
    }
   },
   "outputs": [],
   "source": [
    "sim_medians = [] # empty list"
   ]
  },
  {
   "cell_type": "markdown",
   "id": "d648634e-5122-4a5c-86e5-b53ca15218e8",
   "metadata": {
    "slideshow": {
     "slide_type": "fragment"
    }
   },
   "source": [
    "- Use the `append` function to append values to `sim_medians`."
   ]
  },
  {
   "cell_type": "code",
   "execution_count": 35,
   "id": "32ac77b6-6026-4199-b020-042456b0d2e5",
   "metadata": {},
   "outputs": [
    {
     "data": {
      "text/plain": [
       "[17.063666666666663]"
      ]
     },
     "execution_count": 35,
     "metadata": {},
     "output_type": "execute_result"
    }
   ],
   "source": [
    "sim_medians.append(random_sample_median())\n",
    "sim_medians"
   ]
  },
  {
   "cell_type": "markdown",
   "id": "558f483e-13c8-4e60-ad4c-6aa86ae341a9",
   "metadata": {},
   "source": [
    "- Run the cell above several times and you will see that values keep getting appended to `sim_medians`.\n",
    "\n",
    "- Each time the cell is run a random sample of 100 is drawn, the median is calculated then appended to the list."
   ]
  },
  {
   "cell_type": "code",
   "execution_count": 36,
   "id": "7fd2824e-e22c-4a99-a6f8-b49bb5d731a9",
   "metadata": {
    "slideshow": {
     "slide_type": "fragment"
    }
   },
   "outputs": [],
   "source": [
    "sim_medians = []\n",
    "\n",
    "num_sims = 5000 \n",
    "\n",
    "for _ in range(num_sims):\n",
    "    sim_medians.append(random_sample_median())"
   ]
  },
  {
   "cell_type": "markdown",
   "id": "9a0c8d91-74c0-42dd-a047-ef3e9e5be348",
   "metadata": {
    "slideshow": {
     "slide_type": "slide"
    }
   },
   "source": [
    "## Empirical Distribution of a Statistic\n",
    "\n",
    "We can now examine the **empirical frequency distribution** of the median statistic."
   ]
  },
  {
   "cell_type": "markdown",
   "id": "068c6036-fc74-4d6f-b593-551e5a6f350c",
   "metadata": {},
   "source": [
    "Create a `pandas` series using the list `sim_medians` then use the `describe` function to describe the distribution."
   ]
  },
  {
   "cell_type": "code",
   "execution_count": 37,
   "id": "7ea852ae-6f88-4c4c-8c45-474fe4c41669",
   "metadata": {},
   "outputs": [
    {
     "data": {
      "text/plain": [
       "count    5000.000000\n",
       "mean       10.200174\n",
       "std         2.712948\n",
       "min         0.886667\n",
       "25%         8.111000\n",
       "50%        11.827333\n",
       "75%        12.166667\n",
       "max        24.333333\n",
       "dtype: float64"
      ]
     },
     "execution_count": 37,
     "metadata": {},
     "output_type": "execute_result"
    }
   ],
   "source": [
    "pd.Series(sim_medians).describe()"
   ]
  },
  {
   "cell_type": "markdown",
   "id": "9b6cc5d7-ccb4-4f68-98d6-5286c2d5e9fd",
   "metadata": {
    "slideshow": {
     "slide_type": "fragment"
    }
   },
   "source": [
    "- The distribution of the median can be visualized using a histogram.  \n",
    "\n",
    "- The histogram can tell us how frequent certain values of the median occur in random samples."
   ]
  },
  {
   "cell_type": "code",
   "execution_count": 38,
   "id": "e992e40d-2844-425b-9fdd-daa9650c4197",
   "metadata": {},
   "outputs": [
    {
     "data": {
      "image/png": "[encoded data removed]",
      "text/plain": [
       "<Figure size 432x288 with 1 Axes>"
      ]
     },
     "metadata": {
      "needs_background": "light"
     },
     "output_type": "display_data"
    }
   ],
   "source": [
    "# create bins of length 0.1 \n",
    "# starting at 0.5 and ending at 1.1\n",
    "\n",
    "import numpy as np\n",
    "import matplotlib.pyplot as plt\n",
    "\n",
    "median_bins = np.arange(0, 30, 5) \n",
    "\n",
    "# use the bins to plot empirical distribution of medians\n",
    "\n",
    "plt.hist(sim_medians, edgecolor = 'black', color = 'grey', bins = median_bins);"
   ]
  },
  {
   "cell_type": "markdown",
   "id": "14086d57-41f2-46e5-8743-5dad3e33f9c0",
   "metadata": {
    "slideshow": {
     "slide_type": "slide"
    }
   },
   "source": [
    "The exact counts of medians in each interval can be examined using `pd.cut` and `value_counts`."
   ]
  },
  {
   "cell_type": "code",
   "execution_count": 39,
   "id": "2098fcff-5608-4975-837e-6bda68d0a819",
   "metadata": {},
   "outputs": [
    {
     "name": "stdout",
     "output_type": "stream",
     "text": [
      "(10, 15]    3099\n",
      "(5, 10]     1639\n",
      "(0, 5]       223\n",
      "(15, 20]      33\n",
      "(20, 25]       6\n",
      "dtype: int64\n"
     ]
    },
    {
     "data": {
      "text/plain": [
       "(10, 15]    0.6198\n",
       "(5, 10]     0.3278\n",
       "(0, 5]      0.0446\n",
       "(15, 20]    0.0066\n",
       "(20, 25]    0.0012\n",
       "dtype: float64"
      ]
     },
     "execution_count": 39,
     "metadata": {},
     "output_type": "execute_result"
    }
   ],
   "source": [
    "# create a pandas series so we can use cut function\n",
    "sim_means_series = pd.Series(sim_medians)\n",
    "\n",
    "# frequency of values in each bin\n",
    "print(pd.cut(sim_means_series, median_bins).value_counts())\n",
    "\n",
    "# relative frequency (proportion) of values in each bin\n",
    "pd.cut(sim_means_series, median_bins).value_counts()/num_sims"
   ]
  },
  {
   "cell_type": "markdown",
   "id": "0a801c11-c859-478d-8c77-f661c29d7115",
   "metadata": {},
   "source": [
    "- The histogram shows that the median values between 10 and 15 months have the highest probability of occurring (viz. 0.6332).\n",
    "\n",
    "- This means that a random sample would rarely yield a median value in the range of 0 - 5 or 15 - 20."
   ]
  },
  {
   "cell_type": "markdown",
   "id": "ea13ebcd-67c3-4ff2-90b7-744b2bb858e6",
   "metadata": {
    "slideshow": {
     "slide_type": "slide"
    }
   },
   "source": [
    "## What can we learn from simulation?\n",
    "\n",
    "- If we could generate all possible random samples of size 1000, we would know all possible values of the statistic (the sample median), as well as the probabilities of all those values. We could visualize all the values and probabilities in the probability histogram of the statistic.\n",
    "\n",
    "- But in many situations including this one, the number of all possible samples is large enough to exceed the capacity of the computer, and purely mathematical calculations of the probabilities can be intractably difficult.\n",
    "\n",
    "- This is where empirical histograms come in.\n",
    "\n",
    "- We know that by the Law of Averages, the empirical histogram of the statistic is likely to resemble the probability histogram of the statistic, if the sample size is large and if you repeat the random sampling process numerous times.\n",
    "\n",
    "- This means that simulating random processes repeatedly is a way of approximating probability distributions *without figuring out the probabilities mathematically or generating all possible random samples*. \n",
    "\n",
    "- Thus computer simulations become a powerful tool in data science. They can help data scientists understand the properties of random quantities that would be complicated to analyze in other ways."
   ]
  },
  {
   "cell_type": "code",
   "execution_count": null,
   "id": "26e966f6-631c-416a-8cbc-366f79567bd0",
   "metadata": {},
   "outputs": [],
   "source": []
  }
 ],
 "metadata": {
  "celltoolbar": "Slideshow",
  "kernelspec": {
   "display_name": "Python 3 (ipykernel)",
   "language": "python",
   "name": "python3"
  },
  "language_info": {
   "codemirror_mode": {
    "name": "ipython",
    "version": 3
   },
   "file_extension": ".py",
   "mimetype": "text/x-python",
   "name": "python",
   "nbconvert_exporter": "python",
   "pygments_lexer": "ipython3",
   "version": "3.9.9"
  }
 },
 "nbformat": 4,
 "nbformat_minor": 5
}
