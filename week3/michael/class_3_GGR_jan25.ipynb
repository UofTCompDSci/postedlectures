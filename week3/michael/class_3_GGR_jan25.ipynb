{
 "cells": [
  {
   "cell_type": "markdown",
   "metadata": {
    "jp-MarkdownHeadingCollapsed": true,
    "slideshow": {
     "slide_type": "slide"
    },
    "tags": []
   },
   "source": [
    "# Class 3: Data Wrangling and Exploratory Data Analysis\n",
    "\n",
    "## Learning Objectives:\n",
    "\n",
    "By the end of today's class you will be able to:\n",
    "\n",
    "- Begin to explore social science questions using the Statistics Canada Time Use Survey\n",
    "\n",
    "- Select rows using multiple conditions\n",
    "\n",
    "- Create a new column in a `pandas` DataFrame\n",
    "\n",
    "- Understand and implement crosstabulation in `pandas`\n",
    "\n",
    "- crosstabulation \n",
    "\n",
    "- counts and bar plots using `pandas`\n",
    "\n",
    "<!--\n",
    "\n",
    "- Explore data in the Statistics Canada Time Use Survey using the pandas library\n",
    "\n",
    "- Define statistical variables from data using Python.\n",
    "\n",
    "- Select rows (also called subgroups) and columns of a pandas data frame.\n",
    "\n",
    "- Understand how to use Boolean expressions in Python to select subgroups.\n",
    "\n",
    "- Understand the difference between categorical (nominal and ordered) , and interval variables.\n",
    "\n",
    "- Create numerical and visual data summaries of categorical variables using Python.\n",
    "\n",
    "- Understand how to interpret categorical variables and bar charts in context.\n",
    "-->\n",
    "\n",
    "\n",
    "<!--\n",
    "- Create numerical and visual data summaries of categorical and interval variables using Python: bar charts; histograms; and cumulative frequency distributions.\n",
    "\n",
    "- Understand how to interpret data using numerical and visual data summaries.\n",
    "\n",
    "- Understand how to compute and interpret frequency and cumulative frequency distributions.\n",
    "\n",
    "- Understand strategies on managaing missing values and the implications on data interpretations.\n",
    "-->"
   ]
  },
  {
   "cell_type": "markdown",
   "metadata": {
    "slideshow": {
     "slide_type": "slide"
    }
   },
   "source": [
    "# Let's review some of the tools we have been using\n",
    "## Dataset for today's class \n",
    "\n",
    "The Statistics Canada General Social Survey's (GSS) Time Use (TU) Survery Main File. This is the same data we used last week.\n",
    "\n",
    "<!--\n",
    "![Alt Text](https://media.giphy.com/media/iE4lKpKqwe7QIQCPjG/giphy.gif)\n",
    "-->"
   ]
  },
  {
   "cell_type": "code",
   "execution_count": 207,
   "metadata": {
    "slideshow": {
     "slide_type": "slide"
    }
   },
   "outputs": [],
   "source": [
    "import pandas as pd\n",
    "time_use_data = pd.read_csv('gss_tu2016_main_file.csv')"
   ]
  },
  {
   "cell_type": "code",
   "execution_count": 77,
   "metadata": {},
   "outputs": [
    {
     "data": {
      "text/html": [
       "<div>\n",
       "<style scoped>\n",
       "    .dataframe tbody tr th:only-of-type {\n",
       "        vertical-align: middle;\n",
       "    }\n",
       "\n",
       "    .dataframe tbody tr th {\n",
       "        vertical-align: top;\n",
       "    }\n",
       "\n",
       "    .dataframe thead th {\n",
       "        text-align: right;\n",
       "    }\n",
       "</style>\n",
       "<table border=\"1\" class=\"dataframe\">\n",
       "  <thead>\n",
       "    <tr style=\"text-align: right;\">\n",
       "      <th></th>\n",
       "      <th>CASEID</th>\n",
       "      <th>pumfid</th>\n",
       "      <th>wght_per</th>\n",
       "      <th>survmnth</th>\n",
       "      <th>wtbs_001</th>\n",
       "      <th>agecxryg</th>\n",
       "      <th>agegr10</th>\n",
       "      <th>agehsdyc</th>\n",
       "      <th>ageprgrd</th>\n",
       "      <th>chh0014c</th>\n",
       "      <th>...</th>\n",
       "      <th>ree_02</th>\n",
       "      <th>ree_03</th>\n",
       "      <th>rlr_110</th>\n",
       "      <th>lan_01</th>\n",
       "      <th>lanhome</th>\n",
       "      <th>lanhmult</th>\n",
       "      <th>lanmt</th>\n",
       "      <th>lanmtmul</th>\n",
       "      <th>incg1</th>\n",
       "      <th>hhincg1</th>\n",
       "    </tr>\n",
       "  </thead>\n",
       "  <tbody>\n",
       "    <tr>\n",
       "      <th>0</th>\n",
       "      <td>10000</td>\n",
       "      <td>10000</td>\n",
       "      <td>616.6740</td>\n",
       "      <td>7</td>\n",
       "      <td>305.1159</td>\n",
       "      <td>96</td>\n",
       "      <td>5</td>\n",
       "      <td>62</td>\n",
       "      <td>96</td>\n",
       "      <td>0</td>\n",
       "      <td>...</td>\n",
       "      <td>1</td>\n",
       "      <td>1</td>\n",
       "      <td>1</td>\n",
       "      <td>1</td>\n",
       "      <td>1</td>\n",
       "      <td>1</td>\n",
       "      <td>1</td>\n",
       "      <td>1</td>\n",
       "      <td>1</td>\n",
       "      <td>1</td>\n",
       "    </tr>\n",
       "    <tr>\n",
       "      <th>1</th>\n",
       "      <td>10001</td>\n",
       "      <td>10001</td>\n",
       "      <td>8516.6140</td>\n",
       "      <td>7</td>\n",
       "      <td>0.0000</td>\n",
       "      <td>6</td>\n",
       "      <td>5</td>\n",
       "      <td>32</td>\n",
       "      <td>5</td>\n",
       "      <td>0</td>\n",
       "      <td>...</td>\n",
       "      <td>5</td>\n",
       "      <td>6</td>\n",
       "      <td>3</td>\n",
       "      <td>1</td>\n",
       "      <td>5</td>\n",
       "      <td>2</td>\n",
       "      <td>5</td>\n",
       "      <td>2</td>\n",
       "      <td>5</td>\n",
       "      <td>8</td>\n",
       "    </tr>\n",
       "    <tr>\n",
       "      <th>2</th>\n",
       "      <td>10002</td>\n",
       "      <td>10002</td>\n",
       "      <td>371.7520</td>\n",
       "      <td>1</td>\n",
       "      <td>362.7057</td>\n",
       "      <td>2</td>\n",
       "      <td>4</td>\n",
       "      <td>9</td>\n",
       "      <td>10</td>\n",
       "      <td>3</td>\n",
       "      <td>...</td>\n",
       "      <td>5</td>\n",
       "      <td>1</td>\n",
       "      <td>1</td>\n",
       "      <td>1</td>\n",
       "      <td>1</td>\n",
       "      <td>1</td>\n",
       "      <td>1</td>\n",
       "      <td>1</td>\n",
       "      <td>3</td>\n",
       "      <td>8</td>\n",
       "    </tr>\n",
       "    <tr>\n",
       "      <th>3</th>\n",
       "      <td>10003</td>\n",
       "      <td>10003</td>\n",
       "      <td>1019.3135</td>\n",
       "      <td>3</td>\n",
       "      <td>0.0000</td>\n",
       "      <td>96</td>\n",
       "      <td>6</td>\n",
       "      <td>65</td>\n",
       "      <td>96</td>\n",
       "      <td>0</td>\n",
       "      <td>...</td>\n",
       "      <td>3</td>\n",
       "      <td>2</td>\n",
       "      <td>2</td>\n",
       "      <td>1</td>\n",
       "      <td>1</td>\n",
       "      <td>1</td>\n",
       "      <td>1</td>\n",
       "      <td>1</td>\n",
       "      <td>2</td>\n",
       "      <td>2</td>\n",
       "    </tr>\n",
       "    <tr>\n",
       "      <th>4</th>\n",
       "      <td>10004</td>\n",
       "      <td>10004</td>\n",
       "      <td>1916.0708</td>\n",
       "      <td>9</td>\n",
       "      <td>11388.9706</td>\n",
       "      <td>96</td>\n",
       "      <td>2</td>\n",
       "      <td>25</td>\n",
       "      <td>96</td>\n",
       "      <td>0</td>\n",
       "      <td>...</td>\n",
       "      <td>9</td>\n",
       "      <td>99</td>\n",
       "      <td>9</td>\n",
       "      <td>9</td>\n",
       "      <td>99</td>\n",
       "      <td>9</td>\n",
       "      <td>99</td>\n",
       "      <td>9</td>\n",
       "      <td>2</td>\n",
       "      <td>4</td>\n",
       "    </tr>\n",
       "  </tbody>\n",
       "</table>\n",
       "<p>5 rows × 350 columns</p>\n",
       "</div>"
      ],
      "text/plain": [
       "   CASEID  pumfid   wght_per  survmnth    wtbs_001  agecxryg  agegr10  \\\n",
       "0   10000   10000   616.6740         7    305.1159        96        5   \n",
       "1   10001   10001  8516.6140         7      0.0000         6        5   \n",
       "2   10002   10002   371.7520         1    362.7057         2        4   \n",
       "3   10003   10003  1019.3135         3      0.0000        96        6   \n",
       "4   10004   10004  1916.0708         9  11388.9706        96        2   \n",
       "\n",
       "   agehsdyc  ageprgrd  chh0014c  ...  ree_02  ree_03  rlr_110  lan_01  \\\n",
       "0        62        96         0  ...       1       1        1       1   \n",
       "1        32         5         0  ...       5       6        3       1   \n",
       "2         9        10         3  ...       5       1        1       1   \n",
       "3        65        96         0  ...       3       2        2       1   \n",
       "4        25        96         0  ...       9      99        9       9   \n",
       "\n",
       "   lanhome  lanhmult  lanmt  lanmtmul  incg1  hhincg1  \n",
       "0        1         1      1         1      1        1  \n",
       "1        5         2      5         2      5        8  \n",
       "2        1         1      1         1      3        8  \n",
       "3        1         1      1         1      2        2  \n",
       "4       99         9     99         9      2        4  \n",
       "\n",
       "[5 rows x 350 columns]"
      ]
     },
     "execution_count": 77,
     "metadata": {},
     "output_type": "execute_result"
    }
   ],
   "source": [
    "time_use_data.head()"
   ]
  },
  {
   "cell_type": "markdown",
   "metadata": {},
   "source": [
    "- A DataFrame is a rectangular table of data and contains columns, each of which can be a different value type (numeric, string, boolean, etc.). \n",
    "\n",
    "- The rows and columns can be selected from DataFrames using various functions in the pandas library.\n",
    "\n",
    "- How many columns are in this data set?"
   ]
  },
  {
   "cell_type": "code",
   "execution_count": 78,
   "metadata": {},
   "outputs": [
    {
     "data": {
      "text/plain": [
       "350"
      ]
     },
     "execution_count": 78,
     "metadata": {},
     "output_type": "execute_result"
    }
   ],
   "source": [
    "len(time_use_data.columns)"
   ]
  },
  {
   "cell_type": "markdown",
   "metadata": {
    "slideshow": {
     "slide_type": "slide"
    }
   },
   "source": [
    "# Selecting Columns from a pandas data frame\n",
    "\n",
    "## Do urban residents with more children report feeling more rushed than those with fewer children?\n",
    "\n",
    "In order to create an easy to use data set we will only keep the following columns:\n",
    "\n",
    "- `CASEID` (participant ID), \n",
    "- `luc_rst` (large urban centre vs rural and small towns), \n",
    "- `agegr10` (age group), \n",
    "- `marstat` (marital status), \n",
    "- `sex` (sex), \n",
    "- `chh0014c` (number of kids 14 or under), \n",
    "- `gtu_110` (feeling rushed), and \n",
    "- `dur01` (duration spent sleeping). "
   ]
  },
  {
   "cell_type": "markdown",
   "metadata": {},
   "source": [
    "Let's put all these column names in a list called `important_columns`."
   ]
  },
  {
   "cell_type": "code",
   "execution_count": 79,
   "metadata": {
    "slideshow": {
     "slide_type": "-"
    }
   },
   "outputs": [],
   "source": [
    "important_columns = [\"CASEID\",\"luc_rst\",\"agegr10\",\"marstat\",\"sex\",\n",
    "                     \"chh0014c\",\"gtu_110\",\"dur01\"]"
   ]
  },
  {
   "cell_type": "code",
   "execution_count": 80,
   "metadata": {
    "slideshow": {
     "slide_type": "slide"
    }
   },
   "outputs": [
    {
     "data": {
      "text/html": [
       "<div>\n",
       "<style scoped>\n",
       "    .dataframe tbody tr th:only-of-type {\n",
       "        vertical-align: middle;\n",
       "    }\n",
       "\n",
       "    .dataframe tbody tr th {\n",
       "        vertical-align: top;\n",
       "    }\n",
       "\n",
       "    .dataframe thead th {\n",
       "        text-align: right;\n",
       "    }\n",
       "</style>\n",
       "<table border=\"1\" class=\"dataframe\">\n",
       "  <thead>\n",
       "    <tr style=\"text-align: right;\">\n",
       "      <th></th>\n",
       "      <th>CASEID</th>\n",
       "      <th>luc_rst</th>\n",
       "      <th>agegr10</th>\n",
       "      <th>marstat</th>\n",
       "      <th>sex</th>\n",
       "      <th>chh0014c</th>\n",
       "      <th>gtu_110</th>\n",
       "      <th>dur01</th>\n",
       "    </tr>\n",
       "  </thead>\n",
       "  <tbody>\n",
       "    <tr>\n",
       "      <th>0</th>\n",
       "      <td>10000</td>\n",
       "      <td>1</td>\n",
       "      <td>5</td>\n",
       "      <td>5</td>\n",
       "      <td>1</td>\n",
       "      <td>0</td>\n",
       "      <td>1</td>\n",
       "      <td>510</td>\n",
       "    </tr>\n",
       "    <tr>\n",
       "      <th>1</th>\n",
       "      <td>10001</td>\n",
       "      <td>1</td>\n",
       "      <td>5</td>\n",
       "      <td>1</td>\n",
       "      <td>1</td>\n",
       "      <td>0</td>\n",
       "      <td>3</td>\n",
       "      <td>420</td>\n",
       "    </tr>\n",
       "    <tr>\n",
       "      <th>2</th>\n",
       "      <td>10002</td>\n",
       "      <td>1</td>\n",
       "      <td>4</td>\n",
       "      <td>1</td>\n",
       "      <td>2</td>\n",
       "      <td>3</td>\n",
       "      <td>1</td>\n",
       "      <td>570</td>\n",
       "    </tr>\n",
       "    <tr>\n",
       "      <th>3</th>\n",
       "      <td>10003</td>\n",
       "      <td>1</td>\n",
       "      <td>6</td>\n",
       "      <td>5</td>\n",
       "      <td>2</td>\n",
       "      <td>0</td>\n",
       "      <td>2</td>\n",
       "      <td>510</td>\n",
       "    </tr>\n",
       "    <tr>\n",
       "      <th>4</th>\n",
       "      <td>10004</td>\n",
       "      <td>1</td>\n",
       "      <td>2</td>\n",
       "      <td>6</td>\n",
       "      <td>1</td>\n",
       "      <td>0</td>\n",
       "      <td>1</td>\n",
       "      <td>525</td>\n",
       "    </tr>\n",
       "  </tbody>\n",
       "</table>\n",
       "</div>"
      ],
      "text/plain": [
       "   CASEID  luc_rst  agegr10  marstat  sex  chh0014c  gtu_110  dur01\n",
       "0   10000        1        5        5    1         0        1    510\n",
       "1   10001        1        5        1    1         0        3    420\n",
       "2   10002        1        4        1    2         3        1    570\n",
       "3   10003        1        6        5    2         0        2    510\n",
       "4   10004        1        2        6    1         0        1    525"
      ]
     },
     "execution_count": 80,
     "metadata": {},
     "output_type": "execute_result"
    }
   ],
   "source": [
    "subset_time_use_data = time_use_data[important_columns]\n",
    "subset_time_use_data.head()"
   ]
  },
  {
   "cell_type": "markdown",
   "metadata": {},
   "source": [
    "- This is one way to select columns from a pandas dataframe."
   ]
  },
  {
   "cell_type": "markdown",
   "metadata": {
    "slideshow": {
     "slide_type": "slide"
    }
   },
   "source": [
    "## Rename columns so that they are meaningful\n",
    "\n",
    "- It's possible and desireable to add meaningful names to the columns that describe the variables of interest.\n",
    "\n",
    "- <mark> Why? </mark>\n",
    "\n",
    "- Use the `rename` function to rename columns.\n",
    "\n",
    "- But, first create a <mark> ?? </mark> that associates the original column names to the new column names."
   ]
  },
  {
   "cell_type": "code",
   "execution_count": 81,
   "metadata": {},
   "outputs": [],
   "source": [
    "columnnames = {'CASEID': 'Participant ID',\n",
    "               'luc_rst': 'Urban/Rural',\n",
    "               'agegr10': 'Age Group',\n",
    "               'marstat': 'Marital Status',\n",
    "               'sex': 'sex',\n",
    "               'chh0014c': 'Kids under 14',\n",
    "               'gtu_110': 'Feeling Rushed',\n",
    "               'dur01': 'Sleep duration'}"
   ]
  },
  {
   "cell_type": "code",
   "execution_count": 82,
   "metadata": {},
   "outputs": [],
   "source": [
    "# this is good for printing nice tables\n",
    "\n",
    "subset_time_use_data_colnames = subset_time_use_data.rename(columns=columnnames)"
   ]
  },
  {
   "cell_type": "markdown",
   "metadata": {},
   "source": [
    "What's happened so far?\n",
    "\n",
    "1.  The csv (comma separated value) file named `gss_tu2016_main_file.csv` was read into python using the pandas function `read_csv()`\n",
    "\n",
    "2. Eight columns were selected and a new data frame was created called `subset_time_use_data`.\n",
    "\n",
    "3. The column names in `subset_time_use_data` were renamed so that they are meaningful (i.e., represent the measurement/context).\n",
    "\n",
    "4. The data frame with the renamed columns was assigned the name `subset_time_use_data_colnames`."
   ]
  },
  {
   "cell_type": "markdown",
   "metadata": {},
   "source": [
    "So, let's check the column names of `subset_time_use_data_colnames`."
   ]
  },
  {
   "cell_type": "code",
   "execution_count": 189,
   "metadata": {},
   "outputs": [
    {
     "data": {
      "text/plain": [
       "['Participant ID',\n",
       " 'Urban/Rural',\n",
       " 'Age Group',\n",
       " 'Marital Status',\n",
       " 'sex',\n",
       " 'Kids under 14',\n",
       " 'Feeling Rushed',\n",
       " 'Sleep duration']"
      ]
     },
     "execution_count": 189,
     "metadata": {},
     "output_type": "execute_result"
    }
   ],
   "source": [
    "list(subset_time_use_data_colnames)"
   ]
  },
  {
   "cell_type": "markdown",
   "metadata": {
    "tags": []
   },
   "source": [
    "## &#9989; Self check \n",
    "\n",
    "- What is the data type of `list(subset_time_use_data_colnames)`?  \n",
    "\n",
    "- What python function can be used to check the number columns in `list(subset_time_use_data_colnames)`?"
   ]
  },
  {
   "cell_type": "markdown",
   "metadata": {},
   "source": [
    "# DataFrame `shape`\n",
    "\n",
    "The `DataFrame.shape` function computes `(the number of rows, number of columns)` in a `pandas` DataFrame."
   ]
  },
  {
   "cell_type": "code",
   "execution_count": 190,
   "metadata": {},
   "outputs": [
    {
     "data": {
      "text/plain": [
       "(17390, 8)"
      ]
     },
     "execution_count": 190,
     "metadata": {},
     "output_type": "execute_result"
    }
   ],
   "source": [
    "subset_time_use_data_colnames.shape"
   ]
  },
  {
   "cell_type": "markdown",
   "metadata": {},
   "source": [
    "There are 17390 rows and 8 columns in `subset_time_use_data_colnames`."
   ]
  },
  {
   "cell_type": "markdown",
   "metadata": {},
   "source": [
    "# Back to the question ...\n",
    "\n",
    "**Do urban residents with more children report feeling more rushed than those with fewer children?**\n",
    "\n",
    "But, let's narrow the question even further ...\n",
    "\n",
    "**Do middle age urban residents with more children report feeling more rushed than those with fewer children?**"
   ]
  },
  {
   "cell_type": "code",
   "execution_count": 191,
   "metadata": {},
   "outputs": [
    {
     "data": {
      "text/plain": [
       "['Participant ID',\n",
       " 'Urban/Rural',\n",
       " 'Age Group',\n",
       " 'Marital Status',\n",
       " 'sex',\n",
       " 'Kids under 14',\n",
       " 'Feeling Rushed',\n",
       " 'Sleep duration']"
      ]
     },
     "execution_count": 191,
     "metadata": {},
     "output_type": "execute_result"
    }
   ],
   "source": [
    "list(subset_time_use_data_colnames)"
   ]
  },
  {
   "cell_type": "markdown",
   "metadata": {},
   "source": [
    "Question: Which variables should we focus on?"
   ]
  },
  {
   "cell_type": "code",
   "execution_count": 192,
   "metadata": {
    "tags": []
   },
   "outputs": [],
   "source": [
    "# add variables here\n",
    "\n"
   ]
  },
  {
   "cell_type": "markdown",
   "metadata": {
    "slideshow": {
     "slide_type": "slide"
    }
   },
   "source": [
    "## Which observations do we want in the data set?\n",
    "\n",
    "Middle age people that live in an urban centre.\n",
    "\n",
    "How can these observations be selected using python?"
   ]
  },
  {
   "cell_type": "markdown",
   "metadata": {},
   "source": [
    "The column names were changed to ..\n",
    "\n",
    "```\n",
    "columnnames = {'CASEID': 'Participant ID',\n",
    "               'luc_rst': 'Urban/Rural',\n",
    "               'agegr10': 'Age Group',\n",
    "               'marstat': 'Marital Status',\n",
    "               'sex': 'sex',\n",
    "               'chh0014c': 'Kids under 14',\n",
    "               'gtu_110': 'Feeling Rushed',\n",
    "               'dur01': 'Sleep duration'}\n",
    "\n",
    "```"
   ]
  },
  {
   "cell_type": "markdown",
   "metadata": {},
   "source": [
    "From the code book\n",
    "\n",
    "```\n",
    " luc_rst            Population centre indicator\n",
    "\n",
    "           VALUE  LABEL\n",
    "               1  Larger urban population centres (CMA/CA)\n",
    "               2  Rural areas and small population centres (non CMA/CA)\n",
    "               3  Prince Edward Island\n",
    "               6  Valid skip\n",
    "               7  Don't know\n",
    "               8  Refusal\n",
    "               9  Not stated\n",
    "\n",
    "           Data type: numeric\n",
    "           Missing-data codes: 6-9\n",
    "           Record/column: 1/59\n",
    "\n",
    "```\n",
    "\n",
    "```\n",
    " chh0014c           Child(ren) in household - 0 to 14 years\n",
    "\n",
    "           VALUE  LABEL\n",
    "               0  None\n",
    "               1  One\n",
    "               2  Two\n",
    "               3  Three or more\n",
    "               6  Valid skip\n",
    "               7  Don't know\n",
    "               8  Refusal\n",
    "               9  Not stated\n",
    "\n",
    "           Data type: numeric\n",
    "           Missing-data codes: 6-9\n",
    "           Record/column: 1/40\n",
    "\n",
    "```\n",
    "\n",
    "```\n",
    " agegr10            Age group of respondent (groups of 10)\n",
    "\n",
    "           VALUE  LABEL\n",
    "               1  15 to 24 years\n",
    "               2  25 to 34 years\n",
    "               3  35 to 44 years\n",
    "               4  45 to 54 years\n",
    "               5  55 to 64 years\n",
    "               6  65 to 74 years\n",
    "               7  75 years and over\n",
    "              96  Valid skip\n",
    "              97  Don't know\n",
    "              98  Refusal\n",
    "              99  Not stated\n",
    "\n",
    "           Data type: numeric\n",
    "           Missing-data codes: 96-99\n",
    "           Record/column: 1/35\n",
    "\n",
    "```\n",
    "\n",
    "```\n",
    "\n",
    "      gtu_110            General time use - Feel rushed\n",
    "\n",
    "           VALUE  LABEL\n",
    "               1  Every day\n",
    "               2  A few times a week\n",
    "               3  About once a week\n",
    "               4  About once a month\n",
    "               5  Less than once a month\n",
    "               6  Never\n",
    "              96  Valid skip\n",
    "              97  Don't know\n",
    "              98  Refusal\n",
    "              99  Not stated\n",
    "\n",
    "           Data type: numeric\n",
    "           Missing-data codes: 96-99\n",
    "           Record/columns: 1/60-61\n",
    "\n",
    "```"
   ]
  },
  {
   "cell_type": "code",
   "execution_count": 193,
   "metadata": {},
   "outputs": [
    {
     "data": {
      "text/plain": [
       "0    True\n",
       "1    True\n",
       "2    True\n",
       "3    True\n",
       "4    True\n",
       "Name: Urban/Rural, dtype: bool"
      ]
     },
     "execution_count": 193,
     "metadata": {},
     "output_type": "execute_result"
    }
   ],
   "source": [
    "urban = (subset_time_use_data_colnames[\"Urban/Rural\"] == 1)\n",
    "urban.head()"
   ]
  },
  {
   "cell_type": "code",
   "execution_count": 194,
   "metadata": {},
   "outputs": [
    {
     "data": {
      "text/plain": [
       "13319"
      ]
     },
     "execution_count": 194,
     "metadata": {},
     "output_type": "execute_result"
    }
   ],
   "source": [
    "sum(urban)"
   ]
  },
  {
   "cell_type": "markdown",
   "metadata": {},
   "source": [
    "Instead of using `sum()` we can use the pandas function `value_counts()`."
   ]
  },
  {
   "cell_type": "code",
   "execution_count": 195,
   "metadata": {},
   "outputs": [
    {
     "data": {
      "text/plain": [
       "True     13319\n",
       "False     4071\n",
       "Name: Urban/Rural, dtype: int64"
      ]
     },
     "execution_count": 195,
     "metadata": {},
     "output_type": "execute_result"
    }
   ],
   "source": [
    "urban.value_counts()"
   ]
  },
  {
   "cell_type": "markdown",
   "metadata": {},
   "source": [
    "Let's categorize families as either having no children or at least one child.\n",
    "\n",
    "We can select observations with no children."
   ]
  },
  {
   "cell_type": "code",
   "execution_count": 196,
   "metadata": {},
   "outputs": [
    {
     "data": {
      "text/plain": [
       "True     13832\n",
       "False     3558\n",
       "Name: Kids under 14, dtype: int64"
      ]
     },
     "execution_count": 196,
     "metadata": {},
     "output_type": "execute_result"
    }
   ],
   "source": [
    "no_kid = subset_time_use_data_colnames['Kids under 14']  == 0\n",
    "\n",
    "no_kid.value_counts()"
   ]
  },
  {
   "cell_type": "markdown",
   "metadata": {},
   "source": [
    "So, there are 13832 people with no kids."
   ]
  },
  {
   "cell_type": "markdown",
   "metadata": {},
   "source": [
    "How about observations with at least one child?"
   ]
  },
  {
   "cell_type": "code",
   "execution_count": 114,
   "metadata": {},
   "outputs": [
    {
     "data": {
      "text/plain": [
       "0    False\n",
       "1    False\n",
       "2     True\n",
       "3    False\n",
       "4    False\n",
       "Name: Kids under 14, dtype: bool"
      ]
     },
     "execution_count": 114,
     "metadata": {},
     "output_type": "execute_result"
    }
   ],
   "source": [
    "(subset_time_use_data_colnames['Kids under 14']  > 0).head()"
   ]
  },
  {
   "cell_type": "markdown",
   "metadata": {},
   "source": [
    "Is this correct?"
   ]
  },
  {
   "cell_type": "markdown",
   "metadata": {},
   "source": [
    "- All values greater than 3 are essentially missing for various reasons.\n",
    "\n",
    "- We want rows where `Kids under 14 == 1` **or** `Kids under 14 == 2` **or** `Kids under 14 == 3`\n",
    "\n",
    "- This can be expressed in `pandas` using `|` for **or**.\n"
   ]
  },
  {
   "cell_type": "code",
   "execution_count": 115,
   "metadata": {},
   "outputs": [
    {
     "data": {
      "text/plain": [
       "False    13832\n",
       "True      3558\n",
       "Name: Kids under 14, dtype: int64"
      ]
     },
     "execution_count": 115,
     "metadata": {},
     "output_type": "execute_result"
    }
   ],
   "source": [
    "one_kid = subset_time_use_data_colnames['Kids under 14'] == 1\n",
    "two_kid = subset_time_use_data_colnames['Kids under 14'] == 2\n",
    "three_kid = subset_time_use_data_colnames['Kids under 14'] == 3\n",
    "\n",
    "kid1 = one_kid | two_kid | three_kid\n",
    "kid1.value_counts()"
   ]
  },
  {
   "cell_type": "markdown",
   "metadata": {},
   "source": [
    "So, there are 3558 with at least one kid.  How many are observations are missing?"
   ]
  },
  {
   "cell_type": "markdown",
   "metadata": {},
   "source": [
    "# Creating A New DataFrame Column\n",
    "\n",
    "Let's create a new column called `kids_YN` in the `subset_time_use_data_colnames` that records if a person has either 0 kids or at least one kid.\n",
    "\n",
    "The *type* of `kids_YN` will be Boolean: `True` when there are at least one kid, and `False` if there are no kids.\n",
    "\n",
    "`kids_YN` will be added to a copy of `subset_time_use_data_colnames`."
   ]
  },
  {
   "cell_type": "markdown",
   "metadata": {},
   "source": [
    "The syntax for creating a new column in a `DataFrame` called `df` is:\n",
    "\n",
    "`df.loc[condition, 'New Column Name'] = value`\n",
    "\n",
    "NB: there are other several other ways to add new variables to a DataFrame. "
   ]
  },
  {
   "cell_type": "markdown",
   "metadata": {},
   "source": [
    "Step 1: Make a copy of the DataFrame"
   ]
  },
  {
   "cell_type": "code",
   "execution_count": 118,
   "metadata": {},
   "outputs": [],
   "source": [
    "subset_time_use_data_kids = subset_time_use_data_colnames.copy()"
   ]
  },
  {
   "cell_type": "markdown",
   "metadata": {},
   "source": [
    "Step 2: Assign the values \n",
    "   + `False` when `no_kid == True`\n",
    "   + `True` when `kid1 == True`"
   ]
  },
  {
   "cell_type": "code",
   "execution_count": 119,
   "metadata": {},
   "outputs": [
    {
     "data": {
      "text/html": [
       "<div>\n",
       "<style scoped>\n",
       "    .dataframe tbody tr th:only-of-type {\n",
       "        vertical-align: middle;\n",
       "    }\n",
       "\n",
       "    .dataframe tbody tr th {\n",
       "        vertical-align: top;\n",
       "    }\n",
       "\n",
       "    .dataframe thead th {\n",
       "        text-align: right;\n",
       "    }\n",
       "</style>\n",
       "<table border=\"1\" class=\"dataframe\">\n",
       "  <thead>\n",
       "    <tr style=\"text-align: right;\">\n",
       "      <th></th>\n",
       "      <th>Participant ID</th>\n",
       "      <th>Urban/Rural</th>\n",
       "      <th>Age Group</th>\n",
       "      <th>Marital Status</th>\n",
       "      <th>sex</th>\n",
       "      <th>Kids under 14</th>\n",
       "      <th>Feeling Rushed</th>\n",
       "      <th>Sleep duration</th>\n",
       "      <th>kids_YN</th>\n",
       "    </tr>\n",
       "  </thead>\n",
       "  <tbody>\n",
       "    <tr>\n",
       "      <th>0</th>\n",
       "      <td>10000</td>\n",
       "      <td>1</td>\n",
       "      <td>5</td>\n",
       "      <td>5</td>\n",
       "      <td>1</td>\n",
       "      <td>0</td>\n",
       "      <td>1</td>\n",
       "      <td>510</td>\n",
       "      <td>False</td>\n",
       "    </tr>\n",
       "    <tr>\n",
       "      <th>1</th>\n",
       "      <td>10001</td>\n",
       "      <td>1</td>\n",
       "      <td>5</td>\n",
       "      <td>1</td>\n",
       "      <td>1</td>\n",
       "      <td>0</td>\n",
       "      <td>3</td>\n",
       "      <td>420</td>\n",
       "      <td>False</td>\n",
       "    </tr>\n",
       "    <tr>\n",
       "      <th>2</th>\n",
       "      <td>10002</td>\n",
       "      <td>1</td>\n",
       "      <td>4</td>\n",
       "      <td>1</td>\n",
       "      <td>2</td>\n",
       "      <td>3</td>\n",
       "      <td>1</td>\n",
       "      <td>570</td>\n",
       "      <td>True</td>\n",
       "    </tr>\n",
       "    <tr>\n",
       "      <th>3</th>\n",
       "      <td>10003</td>\n",
       "      <td>1</td>\n",
       "      <td>6</td>\n",
       "      <td>5</td>\n",
       "      <td>2</td>\n",
       "      <td>0</td>\n",
       "      <td>2</td>\n",
       "      <td>510</td>\n",
       "      <td>False</td>\n",
       "    </tr>\n",
       "    <tr>\n",
       "      <th>4</th>\n",
       "      <td>10004</td>\n",
       "      <td>1</td>\n",
       "      <td>2</td>\n",
       "      <td>6</td>\n",
       "      <td>1</td>\n",
       "      <td>0</td>\n",
       "      <td>1</td>\n",
       "      <td>525</td>\n",
       "      <td>False</td>\n",
       "    </tr>\n",
       "  </tbody>\n",
       "</table>\n",
       "</div>"
      ],
      "text/plain": [
       "   Participant ID  Urban/Rural  Age Group  Marital Status  sex  Kids under 14  \\\n",
       "0           10000            1          5               5    1              0   \n",
       "1           10001            1          5               1    1              0   \n",
       "2           10002            1          4               1    2              3   \n",
       "3           10003            1          6               5    2              0   \n",
       "4           10004            1          2               6    1              0   \n",
       "\n",
       "   Feeling Rushed  Sleep duration kids_YN  \n",
       "0               1             510   False  \n",
       "1               3             420   False  \n",
       "2               1             570    True  \n",
       "3               2             510   False  \n",
       "4               1             525   False  "
      ]
     },
     "execution_count": 119,
     "metadata": {},
     "output_type": "execute_result"
    }
   ],
   "source": [
    "subset_time_use_data_kids.loc[no_kid, 'kids_YN'] = False\n",
    "subset_time_use_data_kids.loc[kid1, 'kids_YN'] = True\n",
    "subset_time_use_data_kids.head()"
   ]
  },
  {
   "cell_type": "markdown",
   "metadata": {},
   "source": [
    "Now, we have a new column called `kids_YN` in a copy of `subset_time_use_data_kids`."
   ]
  },
  {
   "cell_type": "code",
   "execution_count": 120,
   "metadata": {},
   "outputs": [
    {
     "data": {
      "text/plain": [
       "False    13832\n",
       "True      3558\n",
       "Name: kids_YN, dtype: int64"
      ]
     },
     "execution_count": 120,
     "metadata": {},
     "output_type": "execute_result"
    }
   ],
   "source": [
    "subset_time_use_data_kids['kids_YN'].value_counts()"
   ]
  },
  {
   "cell_type": "markdown",
   "metadata": {
    "slideshow": {
     "slide_type": "slide"
    }
   },
   "source": [
    "The Boolean variable `urban` can be used to select rows of `subset_time_use_data_colnames` corresponding to urban residents."
   ]
  },
  {
   "cell_type": "markdown",
   "metadata": {},
   "source": [
    "# What about Urban and Middle Age?\n",
    "\n",
    "The question was: **Do middle age urban residents with more children report feeling more rushed than those with fewer children?**\n",
    "\n",
    "So, we want to select observations that are middle age and live in an urban area.  \n",
    "\n",
    "In a previous cell we defined `urban` as a Boolean that is `True` if an observation lives in an urban area.  \n",
    "\n",
    "We can do the same with `Age Group`.\n",
    "\n",
    "According to [Wikipedia](https://en.wikipedia.org/wiki/Middle_age) middle age is 45 - 65.  This corresponds to age groups 4 **or** 5."
   ]
  },
  {
   "cell_type": "code",
   "execution_count": 131,
   "metadata": {},
   "outputs": [
    {
     "data": {
      "text/plain": [
       "False    10860\n",
       "True      6530\n",
       "Name: Age Group, dtype: int64"
      ]
     },
     "execution_count": 131,
     "metadata": {},
     "output_type": "execute_result"
    }
   ],
   "source": [
    "agegroup4 = subset_time_use_data_kids['Age Group'] == 4\n",
    "\n",
    "agegroup5 = subset_time_use_data_kids['Age Group'] == 5\n",
    "\n",
    "middle_age = agegroup4 | agegroup5\n",
    "\n",
    "middle_age.value_counts()"
   ]
  },
  {
   "cell_type": "code",
   "execution_count": 132,
   "metadata": {},
   "outputs": [
    {
     "data": {
      "text/html": [
       "<div>\n",
       "<style scoped>\n",
       "    .dataframe tbody tr th:only-of-type {\n",
       "        vertical-align: middle;\n",
       "    }\n",
       "\n",
       "    .dataframe tbody tr th {\n",
       "        vertical-align: top;\n",
       "    }\n",
       "\n",
       "    .dataframe thead th {\n",
       "        text-align: right;\n",
       "    }\n",
       "</style>\n",
       "<table border=\"1\" class=\"dataframe\">\n",
       "  <thead>\n",
       "    <tr style=\"text-align: right;\">\n",
       "      <th></th>\n",
       "      <th>Participant ID</th>\n",
       "      <th>Urban/Rural</th>\n",
       "      <th>Age Group</th>\n",
       "      <th>Marital Status</th>\n",
       "      <th>sex</th>\n",
       "      <th>Kids under 14</th>\n",
       "      <th>Feeling Rushed</th>\n",
       "      <th>Sleep duration</th>\n",
       "      <th>kids_YN</th>\n",
       "    </tr>\n",
       "  </thead>\n",
       "  <tbody>\n",
       "    <tr>\n",
       "      <th>0</th>\n",
       "      <td>10000</td>\n",
       "      <td>1</td>\n",
       "      <td>5</td>\n",
       "      <td>5</td>\n",
       "      <td>1</td>\n",
       "      <td>0</td>\n",
       "      <td>1</td>\n",
       "      <td>510</td>\n",
       "      <td>False</td>\n",
       "    </tr>\n",
       "    <tr>\n",
       "      <th>1</th>\n",
       "      <td>10001</td>\n",
       "      <td>1</td>\n",
       "      <td>5</td>\n",
       "      <td>1</td>\n",
       "      <td>1</td>\n",
       "      <td>0</td>\n",
       "      <td>3</td>\n",
       "      <td>420</td>\n",
       "      <td>False</td>\n",
       "    </tr>\n",
       "    <tr>\n",
       "      <th>2</th>\n",
       "      <td>10002</td>\n",
       "      <td>1</td>\n",
       "      <td>4</td>\n",
       "      <td>1</td>\n",
       "      <td>2</td>\n",
       "      <td>3</td>\n",
       "      <td>1</td>\n",
       "      <td>570</td>\n",
       "      <td>True</td>\n",
       "    </tr>\n",
       "    <tr>\n",
       "      <th>3</th>\n",
       "      <td>10003</td>\n",
       "      <td>1</td>\n",
       "      <td>6</td>\n",
       "      <td>5</td>\n",
       "      <td>2</td>\n",
       "      <td>0</td>\n",
       "      <td>2</td>\n",
       "      <td>510</td>\n",
       "      <td>False</td>\n",
       "    </tr>\n",
       "    <tr>\n",
       "      <th>4</th>\n",
       "      <td>10004</td>\n",
       "      <td>1</td>\n",
       "      <td>2</td>\n",
       "      <td>6</td>\n",
       "      <td>1</td>\n",
       "      <td>0</td>\n",
       "      <td>1</td>\n",
       "      <td>525</td>\n",
       "      <td>False</td>\n",
       "    </tr>\n",
       "  </tbody>\n",
       "</table>\n",
       "</div>"
      ],
      "text/plain": [
       "   Participant ID  Urban/Rural  Age Group  Marital Status  sex  Kids under 14  \\\n",
       "0           10000            1          5               5    1              0   \n",
       "1           10001            1          5               1    1              0   \n",
       "2           10002            1          4               1    2              3   \n",
       "3           10003            1          6               5    2              0   \n",
       "4           10004            1          2               6    1              0   \n",
       "\n",
       "   Feeling Rushed  Sleep duration kids_YN  \n",
       "0               1             510   False  \n",
       "1               3             420   False  \n",
       "2               1             570    True  \n",
       "3               2             510   False  \n",
       "4               1             525   False  "
      ]
     },
     "execution_count": 132,
     "metadata": {},
     "output_type": "execute_result"
    }
   ],
   "source": [
    "subset_time_use_data_kids[urban == True].head()"
   ]
  },
  {
   "cell_type": "markdown",
   "metadata": {},
   "source": [
    "## Selecting Urban **and** Middle Age"
   ]
  },
  {
   "cell_type": "markdown",
   "metadata": {},
   "source": [
    "To select rows where `urban == True` **and** `middle_age == True` we can use `&` in `pandas`."
   ]
  },
  {
   "cell_type": "code",
   "execution_count": 134,
   "metadata": {},
   "outputs": [
    {
     "data": {
      "text/plain": [
       "False    12516\n",
       "True      4874\n",
       "dtype: int64"
      ]
     },
     "execution_count": 134,
     "metadata": {},
     "output_type": "execute_result"
    }
   ],
   "source": [
    "middle_age_and_urban = middle_age & urban\n",
    "middle_age_and_urban.value_counts()"
   ]
  },
  {
   "cell_type": "markdown",
   "metadata": {},
   "source": [
    "Now, let's use this new Boolean variable to select rows that are middle age and urban"
   ]
  },
  {
   "cell_type": "code",
   "execution_count": 184,
   "metadata": {},
   "outputs": [
    {
     "data": {
      "text/html": [
       "<div>\n",
       "<style scoped>\n",
       "    .dataframe tbody tr th:only-of-type {\n",
       "        vertical-align: middle;\n",
       "    }\n",
       "\n",
       "    .dataframe tbody tr th {\n",
       "        vertical-align: top;\n",
       "    }\n",
       "\n",
       "    .dataframe thead th {\n",
       "        text-align: right;\n",
       "    }\n",
       "</style>\n",
       "<table border=\"1\" class=\"dataframe\">\n",
       "  <thead>\n",
       "    <tr style=\"text-align: right;\">\n",
       "      <th></th>\n",
       "      <th>Participant ID</th>\n",
       "      <th>Urban/Rural</th>\n",
       "      <th>Age Group</th>\n",
       "      <th>Marital Status</th>\n",
       "      <th>sex</th>\n",
       "      <th>Kids under 14</th>\n",
       "      <th>Feeling Rushed</th>\n",
       "      <th>Sleep duration</th>\n",
       "      <th>kids_YN</th>\n",
       "    </tr>\n",
       "  </thead>\n",
       "  <tbody>\n",
       "    <tr>\n",
       "      <th>0</th>\n",
       "      <td>10000</td>\n",
       "      <td>1</td>\n",
       "      <td>5</td>\n",
       "      <td>5</td>\n",
       "      <td>1</td>\n",
       "      <td>0</td>\n",
       "      <td>1</td>\n",
       "      <td>510</td>\n",
       "      <td>False</td>\n",
       "    </tr>\n",
       "    <tr>\n",
       "      <th>1</th>\n",
       "      <td>10001</td>\n",
       "      <td>1</td>\n",
       "      <td>5</td>\n",
       "      <td>1</td>\n",
       "      <td>1</td>\n",
       "      <td>0</td>\n",
       "      <td>3</td>\n",
       "      <td>420</td>\n",
       "      <td>False</td>\n",
       "    </tr>\n",
       "    <tr>\n",
       "      <th>2</th>\n",
       "      <td>10002</td>\n",
       "      <td>1</td>\n",
       "      <td>4</td>\n",
       "      <td>1</td>\n",
       "      <td>2</td>\n",
       "      <td>3</td>\n",
       "      <td>1</td>\n",
       "      <td>570</td>\n",
       "      <td>True</td>\n",
       "    </tr>\n",
       "    <tr>\n",
       "      <th>7</th>\n",
       "      <td>10007</td>\n",
       "      <td>1</td>\n",
       "      <td>5</td>\n",
       "      <td>3</td>\n",
       "      <td>2</td>\n",
       "      <td>0</td>\n",
       "      <td>5</td>\n",
       "      <td>440</td>\n",
       "      <td>False</td>\n",
       "    </tr>\n",
       "    <tr>\n",
       "      <th>15</th>\n",
       "      <td>10015</td>\n",
       "      <td>1</td>\n",
       "      <td>5</td>\n",
       "      <td>3</td>\n",
       "      <td>1</td>\n",
       "      <td>0</td>\n",
       "      <td>1</td>\n",
       "      <td>570</td>\n",
       "      <td>False</td>\n",
       "    </tr>\n",
       "    <tr>\n",
       "      <th>...</th>\n",
       "      <td>...</td>\n",
       "      <td>...</td>\n",
       "      <td>...</td>\n",
       "      <td>...</td>\n",
       "      <td>...</td>\n",
       "      <td>...</td>\n",
       "      <td>...</td>\n",
       "      <td>...</td>\n",
       "      <td>...</td>\n",
       "    </tr>\n",
       "    <tr>\n",
       "      <th>17373</th>\n",
       "      <td>27373</td>\n",
       "      <td>1</td>\n",
       "      <td>5</td>\n",
       "      <td>6</td>\n",
       "      <td>2</td>\n",
       "      <td>0</td>\n",
       "      <td>5</td>\n",
       "      <td>615</td>\n",
       "      <td>False</td>\n",
       "    </tr>\n",
       "    <tr>\n",
       "      <th>17375</th>\n",
       "      <td>27375</td>\n",
       "      <td>1</td>\n",
       "      <td>5</td>\n",
       "      <td>6</td>\n",
       "      <td>2</td>\n",
       "      <td>0</td>\n",
       "      <td>6</td>\n",
       "      <td>720</td>\n",
       "      <td>False</td>\n",
       "    </tr>\n",
       "    <tr>\n",
       "      <th>17383</th>\n",
       "      <td>27383</td>\n",
       "      <td>1</td>\n",
       "      <td>5</td>\n",
       "      <td>3</td>\n",
       "      <td>2</td>\n",
       "      <td>0</td>\n",
       "      <td>6</td>\n",
       "      <td>510</td>\n",
       "      <td>False</td>\n",
       "    </tr>\n",
       "    <tr>\n",
       "      <th>17386</th>\n",
       "      <td>27386</td>\n",
       "      <td>1</td>\n",
       "      <td>5</td>\n",
       "      <td>6</td>\n",
       "      <td>1</td>\n",
       "      <td>0</td>\n",
       "      <td>2</td>\n",
       "      <td>600</td>\n",
       "      <td>False</td>\n",
       "    </tr>\n",
       "    <tr>\n",
       "      <th>17389</th>\n",
       "      <td>27389</td>\n",
       "      <td>1</td>\n",
       "      <td>5</td>\n",
       "      <td>1</td>\n",
       "      <td>2</td>\n",
       "      <td>0</td>\n",
       "      <td>1</td>\n",
       "      <td>450</td>\n",
       "      <td>False</td>\n",
       "    </tr>\n",
       "  </tbody>\n",
       "</table>\n",
       "<p>4874 rows × 9 columns</p>\n",
       "</div>"
      ],
      "text/plain": [
       "       Participant ID  Urban/Rural  Age Group  Marital Status  sex  \\\n",
       "0               10000            1          5               5    1   \n",
       "1               10001            1          5               1    1   \n",
       "2               10002            1          4               1    2   \n",
       "7               10007            1          5               3    2   \n",
       "15              10015            1          5               3    1   \n",
       "...               ...          ...        ...             ...  ...   \n",
       "17373           27373            1          5               6    2   \n",
       "17375           27375            1          5               6    2   \n",
       "17383           27383            1          5               3    2   \n",
       "17386           27386            1          5               6    1   \n",
       "17389           27389            1          5               1    2   \n",
       "\n",
       "       Kids under 14  Feeling Rushed  Sleep duration kids_YN  \n",
       "0                  0               1             510   False  \n",
       "1                  0               3             420   False  \n",
       "2                  3               1             570    True  \n",
       "7                  0               5             440   False  \n",
       "15                 0               1             570   False  \n",
       "...              ...             ...             ...     ...  \n",
       "17373              0               5             615   False  \n",
       "17375              0               6             720   False  \n",
       "17383              0               6             510   False  \n",
       "17386              0               2             600   False  \n",
       "17389              0               1             450   False  \n",
       "\n",
       "[4874 rows x 9 columns]"
      ]
     },
     "execution_count": 184,
     "metadata": {},
     "output_type": "execute_result"
    }
   ],
   "source": [
    "subset_time_use_data_kids.loc[middle_age_and_urban,]"
   ]
  },
  {
   "cell_type": "markdown",
   "metadata": {},
   "source": [
    "```\n",
    "\n",
    "      gtu_110            General time use - Feel rushed\n",
    "\n",
    "           VALUE  LABEL\n",
    "               1  Every day\n",
    "               2  A few times a week\n",
    "               3  About once a week\n",
    "               4  About once a month\n",
    "               5  Less than once a month\n",
    "               6  Never\n",
    "              96  Valid skip\n",
    "              97  Don't know\n",
    "              98  Refusal\n",
    "              99  Not stated\n",
    "\n",
    "           Data type: numeric\n",
    "           Missing-data codes: 96-99\n",
    "           Record/columns: 1/60-61\n",
    "\n",
    "```\n",
    "\n",
    "So, let's compare feeling rushed at least once per week to less than once per week."
   ]
  },
  {
   "cell_type": "code",
   "execution_count": 205,
   "metadata": {
    "tags": []
   },
   "outputs": [
    {
     "data": {
      "text/plain": [
       "1     5130\n",
       "2     4925\n",
       "3     2634\n",
       "6     2475\n",
       "4     1423\n",
       "5      741\n",
       "97      60\n",
       "98       2\n",
       "Name: Feeling Rushed, dtype: int64"
      ]
     },
     "execution_count": 205,
     "metadata": {},
     "output_type": "execute_result"
    }
   ],
   "source": [
    "subset_time_use_data_kids['Feeling Rushed'].value_counts()"
   ]
  },
  {
   "cell_type": "code",
   "execution_count": 206,
   "metadata": {},
   "outputs": [],
   "source": [
    "rush_wk1 = ((subset_time_use_data_kids['Feeling Rushed'] == 1) | \n",
    "             (subset_time_use_data_kids['Feeling Rushed'] == 2) | \n",
    "             (subset_time_use_data_kids['Feeling Rushed'] == 3))\n",
    "\n",
    "rush_wk0 = ((subset_time_use_data_kids['Feeling Rushed'] == 4) | \n",
    "             (subset_time_use_data_kids['Feeling Rushed'] == 5) | \n",
    "             (subset_time_use_data_kids['Feeling Rushed'] == 6))"
   ]
  },
  {
   "cell_type": "code",
   "execution_count": 147,
   "metadata": {},
   "outputs": [
    {
     "data": {
      "text/html": [
       "<div>\n",
       "<style scoped>\n",
       "    .dataframe tbody tr th:only-of-type {\n",
       "        vertical-align: middle;\n",
       "    }\n",
       "\n",
       "    .dataframe tbody tr th {\n",
       "        vertical-align: top;\n",
       "    }\n",
       "\n",
       "    .dataframe thead th {\n",
       "        text-align: right;\n",
       "    }\n",
       "</style>\n",
       "<table border=\"1\" class=\"dataframe\">\n",
       "  <thead>\n",
       "    <tr style=\"text-align: right;\">\n",
       "      <th></th>\n",
       "      <th>Participant ID</th>\n",
       "      <th>Urban/Rural</th>\n",
       "      <th>Age Group</th>\n",
       "      <th>Marital Status</th>\n",
       "      <th>sex</th>\n",
       "      <th>Kids under 14</th>\n",
       "      <th>Feeling Rushed</th>\n",
       "      <th>Sleep duration</th>\n",
       "      <th>kids_YN</th>\n",
       "      <th>FeelRush_YN</th>\n",
       "    </tr>\n",
       "  </thead>\n",
       "  <tbody>\n",
       "    <tr>\n",
       "      <th>0</th>\n",
       "      <td>10000</td>\n",
       "      <td>1</td>\n",
       "      <td>5</td>\n",
       "      <td>5</td>\n",
       "      <td>1</td>\n",
       "      <td>0</td>\n",
       "      <td>1</td>\n",
       "      <td>510</td>\n",
       "      <td>False</td>\n",
       "      <td>True</td>\n",
       "    </tr>\n",
       "    <tr>\n",
       "      <th>1</th>\n",
       "      <td>10001</td>\n",
       "      <td>1</td>\n",
       "      <td>5</td>\n",
       "      <td>1</td>\n",
       "      <td>1</td>\n",
       "      <td>0</td>\n",
       "      <td>3</td>\n",
       "      <td>420</td>\n",
       "      <td>False</td>\n",
       "      <td>True</td>\n",
       "    </tr>\n",
       "    <tr>\n",
       "      <th>2</th>\n",
       "      <td>10002</td>\n",
       "      <td>1</td>\n",
       "      <td>4</td>\n",
       "      <td>1</td>\n",
       "      <td>2</td>\n",
       "      <td>3</td>\n",
       "      <td>1</td>\n",
       "      <td>570</td>\n",
       "      <td>True</td>\n",
       "      <td>True</td>\n",
       "    </tr>\n",
       "    <tr>\n",
       "      <th>3</th>\n",
       "      <td>10003</td>\n",
       "      <td>1</td>\n",
       "      <td>6</td>\n",
       "      <td>5</td>\n",
       "      <td>2</td>\n",
       "      <td>0</td>\n",
       "      <td>2</td>\n",
       "      <td>510</td>\n",
       "      <td>False</td>\n",
       "      <td>True</td>\n",
       "    </tr>\n",
       "    <tr>\n",
       "      <th>4</th>\n",
       "      <td>10004</td>\n",
       "      <td>1</td>\n",
       "      <td>2</td>\n",
       "      <td>6</td>\n",
       "      <td>1</td>\n",
       "      <td>0</td>\n",
       "      <td>1</td>\n",
       "      <td>525</td>\n",
       "      <td>False</td>\n",
       "      <td>True</td>\n",
       "    </tr>\n",
       "    <tr>\n",
       "      <th>...</th>\n",
       "      <td>...</td>\n",
       "      <td>...</td>\n",
       "      <td>...</td>\n",
       "      <td>...</td>\n",
       "      <td>...</td>\n",
       "      <td>...</td>\n",
       "      <td>...</td>\n",
       "      <td>...</td>\n",
       "      <td>...</td>\n",
       "      <td>...</td>\n",
       "    </tr>\n",
       "    <tr>\n",
       "      <th>17385</th>\n",
       "      <td>27385</td>\n",
       "      <td>1</td>\n",
       "      <td>1</td>\n",
       "      <td>6</td>\n",
       "      <td>2</td>\n",
       "      <td>0</td>\n",
       "      <td>5</td>\n",
       "      <td>560</td>\n",
       "      <td>False</td>\n",
       "      <td>False</td>\n",
       "    </tr>\n",
       "    <tr>\n",
       "      <th>17386</th>\n",
       "      <td>27386</td>\n",
       "      <td>1</td>\n",
       "      <td>5</td>\n",
       "      <td>6</td>\n",
       "      <td>1</td>\n",
       "      <td>0</td>\n",
       "      <td>2</td>\n",
       "      <td>600</td>\n",
       "      <td>False</td>\n",
       "      <td>True</td>\n",
       "    </tr>\n",
       "    <tr>\n",
       "      <th>17387</th>\n",
       "      <td>27387</td>\n",
       "      <td>1</td>\n",
       "      <td>7</td>\n",
       "      <td>3</td>\n",
       "      <td>2</td>\n",
       "      <td>0</td>\n",
       "      <td>3</td>\n",
       "      <td>510</td>\n",
       "      <td>False</td>\n",
       "      <td>True</td>\n",
       "    </tr>\n",
       "    <tr>\n",
       "      <th>17388</th>\n",
       "      <td>27388</td>\n",
       "      <td>1</td>\n",
       "      <td>6</td>\n",
       "      <td>2</td>\n",
       "      <td>2</td>\n",
       "      <td>0</td>\n",
       "      <td>6</td>\n",
       "      <td>785</td>\n",
       "      <td>False</td>\n",
       "      <td>False</td>\n",
       "    </tr>\n",
       "    <tr>\n",
       "      <th>17389</th>\n",
       "      <td>27389</td>\n",
       "      <td>1</td>\n",
       "      <td>5</td>\n",
       "      <td>1</td>\n",
       "      <td>2</td>\n",
       "      <td>0</td>\n",
       "      <td>1</td>\n",
       "      <td>450</td>\n",
       "      <td>False</td>\n",
       "      <td>True</td>\n",
       "    </tr>\n",
       "  </tbody>\n",
       "</table>\n",
       "<p>17390 rows × 10 columns</p>\n",
       "</div>"
      ],
      "text/plain": [
       "       Participant ID  Urban/Rural  Age Group  Marital Status  sex  \\\n",
       "0               10000            1          5               5    1   \n",
       "1               10001            1          5               1    1   \n",
       "2               10002            1          4               1    2   \n",
       "3               10003            1          6               5    2   \n",
       "4               10004            1          2               6    1   \n",
       "...               ...          ...        ...             ...  ...   \n",
       "17385           27385            1          1               6    2   \n",
       "17386           27386            1          5               6    1   \n",
       "17387           27387            1          7               3    2   \n",
       "17388           27388            1          6               2    2   \n",
       "17389           27389            1          5               1    2   \n",
       "\n",
       "       Kids under 14  Feeling Rushed  Sleep duration kids_YN FeelRush_YN  \n",
       "0                  0               1             510   False        True  \n",
       "1                  0               3             420   False        True  \n",
       "2                  3               1             570    True        True  \n",
       "3                  0               2             510   False        True  \n",
       "4                  0               1             525   False        True  \n",
       "...              ...             ...             ...     ...         ...  \n",
       "17385              0               5             560   False       False  \n",
       "17386              0               2             600   False        True  \n",
       "17387              0               3             510   False        True  \n",
       "17388              0               6             785   False       False  \n",
       "17389              0               1             450   False        True  \n",
       "\n",
       "[17390 rows x 10 columns]"
      ]
     },
     "execution_count": 147,
     "metadata": {},
     "output_type": "execute_result"
    }
   ],
   "source": [
    "subset_time_use_data_kids_rush = subset_time_use_data_kids.copy()\n",
    "\n",
    "subset_time_use_data_kids_rush.loc[rush_wk1, 'FeelRush_YN'] = True\n",
    "subset_time_use_data_kids_rush.loc[rush_wk0, 'FeelRush_YN'] = False\n",
    "subset_time_use_data_kids_rush"
   ]
  },
  {
   "cell_type": "markdown",
   "metadata": {},
   "source": [
    "# Crosstabulation\n",
    "\n",
    "- `FeelRush_YN` is a Boolean variable that classifies people as feeling rushed at least once per week, and `kids_YN` is a Boolean variable that classifies people as having at least one kid. \n",
    "\n",
    "- These two variables can be used to **cross-classify** feeling rushed and having kids.  There are four possibilities:\n",
    "\n",
    "\n",
    "`kids_YN`     | `FeelRush_YN` | Number of observations\n",
    "--------------|-----------|------\n",
    "`False`       | `False`   | A\n",
    "`False`       | `True`    | B\n",
    "`True `       | `False`   | C\n",
    "`True`        | `True`    | D\n",
    "\n",
    "- How can we use python to calculate A, B, C, D?\n",
    "\n",
    "- This occurs so often that `pandas` has a function called `crosstab` to do this."
   ]
  },
  {
   "cell_type": "code",
   "execution_count": 181,
   "metadata": {},
   "outputs": [
    {
     "data": {
      "text/html": [
       "<div>\n",
       "<style scoped>\n",
       "    .dataframe tbody tr th:only-of-type {\n",
       "        vertical-align: middle;\n",
       "    }\n",
       "\n",
       "    .dataframe tbody tr th {\n",
       "        vertical-align: top;\n",
       "    }\n",
       "\n",
       "    .dataframe thead th {\n",
       "        text-align: right;\n",
       "    }\n",
       "</style>\n",
       "<table border=\"1\" class=\"dataframe\">\n",
       "  <thead>\n",
       "    <tr style=\"text-align: right;\">\n",
       "      <th>FeelRush_YN</th>\n",
       "      <th>False</th>\n",
       "      <th>True</th>\n",
       "    </tr>\n",
       "    <tr>\n",
       "      <th>kids_YN</th>\n",
       "      <th></th>\n",
       "      <th></th>\n",
       "    </tr>\n",
       "  </thead>\n",
       "  <tbody>\n",
       "    <tr>\n",
       "      <th>False</th>\n",
       "      <td>4357</td>\n",
       "      <td>9419</td>\n",
       "    </tr>\n",
       "    <tr>\n",
       "      <th>True</th>\n",
       "      <td>282</td>\n",
       "      <td>3270</td>\n",
       "    </tr>\n",
       "  </tbody>\n",
       "</table>\n",
       "</div>"
      ],
      "text/plain": [
       "FeelRush_YN  False  True\n",
       "kids_YN                 \n",
       "False         4357  9419\n",
       "True           282  3270"
      ]
     },
     "execution_count": 181,
     "metadata": {},
     "output_type": "execute_result"
    }
   ],
   "source": [
    "pd.crosstab(subset_time_use_data_kids_rush['kids_YN'], \n",
    "            subset_time_use_data_kids_rush['FeelRush_YN'])"
   ]
  },
  {
   "cell_type": "markdown",
   "metadata": {},
   "source": [
    "Now, we know the values of A, B, C, D\n",
    "\n",
    "\n",
    "`kids_YN`     | `FeelRush_YN` | Number of observations\n",
    "--------------|-----------|------\n",
    "`False`       | `False`   | 4357\n",
    "`False`       | `True`    | 9419\n",
    "`True `       | `False`   | 282\n",
    "`True`        | `True`    | 3270"
   ]
  },
  {
   "cell_type": "markdown",
   "metadata": {},
   "source": [
    "What proportion of people that have kids feel rushed?\n",
    "\n",
    "What proportion of people that have don't have kids feel rushed?"
   ]
  },
  {
   "cell_type": "markdown",
   "metadata": {},
   "source": [
    "There are 282 + 3270 = 3552 people with kids and 3270 of these people feel rushed or 3270/3552 = 0.92\n",
    "\n",
    "There are 4357 + 9419 = 13776 people with no kids and 9419 of these people feel rushed or 9419/13776 = 0.68\n",
    "\n",
    "92% of people with kids feel rushed at least once per week compared to 68% of people with no kids feel. Having kids is associated with 24% more people feeling rushed in this survey."
   ]
  },
  {
   "cell_type": "markdown",
   "metadata": {},
   "source": [
    "The `normalize` parameter can be used to get the column (use argument `column`) or row (use argument `index`) percentages."
   ]
  },
  {
   "cell_type": "code",
   "execution_count": 182,
   "metadata": {},
   "outputs": [
    {
     "data": {
      "text/html": [
       "<div>\n",
       "<style scoped>\n",
       "    .dataframe tbody tr th:only-of-type {\n",
       "        vertical-align: middle;\n",
       "    }\n",
       "\n",
       "    .dataframe tbody tr th {\n",
       "        vertical-align: top;\n",
       "    }\n",
       "\n",
       "    .dataframe thead th {\n",
       "        text-align: right;\n",
       "    }\n",
       "</style>\n",
       "<table border=\"1\" class=\"dataframe\">\n",
       "  <thead>\n",
       "    <tr style=\"text-align: right;\">\n",
       "      <th>FeelRush_YN</th>\n",
       "      <th>False</th>\n",
       "      <th>True</th>\n",
       "    </tr>\n",
       "    <tr>\n",
       "      <th>kids_YN</th>\n",
       "      <th></th>\n",
       "      <th></th>\n",
       "    </tr>\n",
       "  </thead>\n",
       "  <tbody>\n",
       "    <tr>\n",
       "      <th>False</th>\n",
       "      <td>0.316275</td>\n",
       "      <td>0.683725</td>\n",
       "    </tr>\n",
       "    <tr>\n",
       "      <th>True</th>\n",
       "      <td>0.079392</td>\n",
       "      <td>0.920608</td>\n",
       "    </tr>\n",
       "  </tbody>\n",
       "</table>\n",
       "</div>"
      ],
      "text/plain": [
       "FeelRush_YN     False      True\n",
       "kids_YN                        \n",
       "False        0.316275  0.683725\n",
       "True         0.079392  0.920608"
      ]
     },
     "execution_count": 182,
     "metadata": {},
     "output_type": "execute_result"
    }
   ],
   "source": [
    "pd.crosstab(subset_time_use_data_kids_rush['kids_YN'], \n",
    "            subset_time_use_data_kids_rush['FeelRush_YN'], normalize = 'index')"
   ]
  },
  {
   "cell_type": "markdown",
   "metadata": {},
   "source": [
    "We can visualize this crosstabulation using a bar chart."
   ]
  },
  {
   "cell_type": "code",
   "execution_count": 183,
   "metadata": {},
   "outputs": [
    {
     "data": {
      "text/plain": [
       "<AxesSubplot:xlabel='kids_YN'>"
      ]
     },
     "execution_count": 183,
     "metadata": {},
     "output_type": "execute_result"
    },
    {
     "data": {
      "image/png": "[encoded data removed]",
      "text/plain": [
       "<Figure size 432x288 with 1 Axes>"
      ]
     },
     "metadata": {
      "needs_background": "light"
     },
     "output_type": "display_data"
    }
   ],
   "source": [
    "ct = pd.crosstab(subset_time_use_data_kids_rush['kids_YN'], \n",
    "            subset_time_use_data_kids_rush['FeelRush_YN'], normalize = 'index')\n",
    "ct.plot.bar()"
   ]
  },
  {
   "cell_type": "markdown",
   "metadata": {
    "slideshow": {
     "slide_type": "slide"
    }
   },
   "source": [
    "## Summary of Python functions/concepts used Today\n",
    "\n",
    "\n",
    "<!--\n",
    "- Selecting columns in a pandas dataframe using a list `['a', 'b', 'c']`.\n",
    "\n",
    "- renaming columns in a pandas dataframe `DataFrame.rename()` using a dictionary.\n",
    "\n",
    "- printing column names of a pandas dataframe using `list(df)`.\n",
    "\n",
    "- print first `n` rows of a dataframe using `DataFrame.head()`.\n",
    "\n",
    "- read a csv file `pandas.read_csv()`.\n",
    "\n",
    "- Boolean indexing to filter rows\n",
    "\n",
    "- Creating new variables (assignment to another column) using if-then on one column\n",
    "\n",
    "- counts of unique rows in a dataframe `pandas.DataFrame.value_counts`\n",
    "\n",
    "- bar plot of dataframe column `pandas.DataFrame.plot.bar`\n",
    "\n",
    "- shape of DataFrame `pandas.DataFrame.shape`\n",
    "\n",
    "- crosstabulation of two or more factors `pandas.crosstab`\n",
    "\n",
    "-->"
   ]
  },
  {
   "cell_type": "code",
   "execution_count": null,
   "metadata": {},
   "outputs": [],
   "source": []
  }
 ],
 "metadata": {
  "celltoolbar": "Slideshow",
  "kernelspec": {
   "display_name": "Python 3 (ipykernel)",
   "language": "python",
   "name": "python3"
  },
  "language_info": {
   "codemirror_mode": {
    "name": "ipython",
    "version": 3
   },
   "file_extension": ".py",
   "mimetype": "text/x-python",
   "name": "python",
   "nbconvert_exporter": "python",
   "pygments_lexer": "ipython3",
   "version": "3.8.8"
  }
 },
 "nbformat": 4,
 "nbformat_minor": 4
}
