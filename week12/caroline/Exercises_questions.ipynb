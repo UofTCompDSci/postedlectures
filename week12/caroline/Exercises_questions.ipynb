{
 "cells": [
  {
   "cell_type": "markdown",
   "id": "2b235d50",
   "metadata": {},
   "source": [
    "# Week 11 - Exercises \n"
   ]
  },
  {
   "cell_type": "markdown",
   "id": "bb67abfd",
   "metadata": {},
   "source": [
    "# Introduction\n",
    "\n",
    "For these exercises, we will investigate the predominance of coral presence in relation to temperature. We will analyze data coming from six sites within a coral reef in French Polynesia. Scientists collected data there from 2005 to 2022. The sampling design involves swimming away from the shore over the corals, and every 10 meters take a photo of the bottom surface, using a square of a defined size. This kind of data collection uses something called a \"quadrat sampling design along several linear transects increasing in depth\".\n",
    "\n",
    "Once in the lab, the biodiversity is estimated in terms of surface cover. How much area of the square is occupied by each species or abiotic component (E.g. corals, algae, sand). \n",
    "Since the linear transect runs from towards the inner ocean, as the scientists swimm off-shore, depth increases and temperature decreases.\n",
    "\n",
    "We will explore how the surface cover changes as these two conditions change.\n",
    "\n",
    "# Main Question\n",
    "\n",
    "_Questions: At which temperature do we find a greater percentage cover of corals? Do corals prefer warmer temperatures than the mean temperature across sites or colder temperatures?_\n"
   ]
  },
  {
   "cell_type": "markdown",
   "id": "42050b68",
   "metadata": {},
   "source": [
    "# Learning Objectives\n",
    "\n",
    "With these exercises you will:\n",
    "* Work with the Moorea Coral reef Long-term ecological research dataset to investigate changes in biodiversity as temperature changes.\n",
    "* Define a function that resamples from our original dataset and randomly shuffles treatment assignment \n",
    "* Create and modify for loops and functions to run sampling simulations\n",
    "* Visualize and analyze sampling distributions via histograms"
   ]
  },
  {
   "cell_type": "code",
   "execution_count": 1,
   "id": "3e973465",
   "metadata": {},
   "outputs": [],
   "source": [
    "import numpy as np\n",
    "import pandas as pd\n",
    "import matplotlib.pyplot as plt"
   ]
  },
  {
   "cell_type": "markdown",
   "id": "07a7b20f",
   "metadata": {},
   "source": [
    "### Exercise 1:\n",
    "\n",
    "Create the following pandas dataframes:\n",
    "\n",
    "+ `corals_data`: the `DataFrame` created by reading the `LTER_data` file.\n",
    "\n",
    "+ `corals_clean`: the `DataFrame` with cleaner column names of your choice.\n",
    "\n",
    "(NOTE: we have provided sample code below in order to standardize the data for the rest of the responses)"
   ]
  },
  {
   "cell_type": "code",
   "execution_count": 2,
   "id": "6648d24e",
   "metadata": {},
   "outputs": [
    {
     "data": {
      "text/html": [
       "<div>\n",
       "<style scoped>\n",
       "    .dataframe tbody tr th:only-of-type {\n",
       "        vertical-align: middle;\n",
       "    }\n",
       "\n",
       "    .dataframe tbody tr th {\n",
       "        vertical-align: top;\n",
       "    }\n",
       "\n",
       "    .dataframe thead th {\n",
       "        text-align: right;\n",
       "    }\n",
       "</style>\n",
       "<table border=\"1\" class=\"dataframe\">\n",
       "  <thead>\n",
       "    <tr style=\"text-align: right;\">\n",
       "      <th></th>\n",
       "      <th>site</th>\n",
       "      <th>quadrat</th>\n",
       "      <th>year</th>\n",
       "      <th>depth_m</th>\n",
       "      <th>temp_c</th>\n",
       "      <th>sand_percent</th>\n",
       "      <th>macroalgae_percent</th>\n",
       "      <th>microalgae_percent</th>\n",
       "      <th>corals_percent</th>\n",
       "    </tr>\n",
       "  </thead>\n",
       "  <tbody>\n",
       "    <tr>\n",
       "      <th>0</th>\n",
       "      <td>LTER01</td>\n",
       "      <td>Q1.1</td>\n",
       "      <td>2005</td>\n",
       "      <td>1</td>\n",
       "      <td>27.529318</td>\n",
       "      <td>22.5</td>\n",
       "      <td>0.0</td>\n",
       "      <td>0.0</td>\n",
       "      <td>77.5</td>\n",
       "    </tr>\n",
       "    <tr>\n",
       "      <th>1</th>\n",
       "      <td>LTER02</td>\n",
       "      <td>Q1.1</td>\n",
       "      <td>2005</td>\n",
       "      <td>1</td>\n",
       "      <td>27.594212</td>\n",
       "      <td>0.0</td>\n",
       "      <td>0.0</td>\n",
       "      <td>2.6</td>\n",
       "      <td>97.4</td>\n",
       "    </tr>\n",
       "    <tr>\n",
       "      <th>2</th>\n",
       "      <td>LTER03</td>\n",
       "      <td>Q1.1</td>\n",
       "      <td>2005</td>\n",
       "      <td>1</td>\n",
       "      <td>NaN</td>\n",
       "      <td>30.1</td>\n",
       "      <td>0.0</td>\n",
       "      <td>36.7</td>\n",
       "      <td>33.2</td>\n",
       "    </tr>\n",
       "    <tr>\n",
       "      <th>3</th>\n",
       "      <td>LTER04</td>\n",
       "      <td>Q1.1</td>\n",
       "      <td>2005</td>\n",
       "      <td>1</td>\n",
       "      <td>NaN</td>\n",
       "      <td>21.4</td>\n",
       "      <td>0.0</td>\n",
       "      <td>57.1</td>\n",
       "      <td>21.5</td>\n",
       "    </tr>\n",
       "    <tr>\n",
       "      <th>4</th>\n",
       "      <td>LTER05</td>\n",
       "      <td>Q1.1</td>\n",
       "      <td>2005</td>\n",
       "      <td>1</td>\n",
       "      <td>NaN</td>\n",
       "      <td>0.6</td>\n",
       "      <td>0.0</td>\n",
       "      <td>3.6</td>\n",
       "      <td>95.8</td>\n",
       "    </tr>\n",
       "    <tr>\n",
       "      <th>...</th>\n",
       "      <td>...</td>\n",
       "      <td>...</td>\n",
       "      <td>...</td>\n",
       "      <td>...</td>\n",
       "      <td>...</td>\n",
       "      <td>...</td>\n",
       "      <td>...</td>\n",
       "      <td>...</td>\n",
       "      <td>...</td>\n",
       "    </tr>\n",
       "    <tr>\n",
       "      <th>11785</th>\n",
       "      <td>LTER02</td>\n",
       "      <td>Q5.8</td>\n",
       "      <td>2021</td>\n",
       "      <td>20</td>\n",
       "      <td>28.243200</td>\n",
       "      <td>0.0</td>\n",
       "      <td>2.2</td>\n",
       "      <td>62.2</td>\n",
       "      <td>31.9</td>\n",
       "    </tr>\n",
       "    <tr>\n",
       "      <th>11786</th>\n",
       "      <td>LTER03</td>\n",
       "      <td>Q5.8</td>\n",
       "      <td>2021</td>\n",
       "      <td>20</td>\n",
       "      <td>NaN</td>\n",
       "      <td>0.0</td>\n",
       "      <td>21.7</td>\n",
       "      <td>45.6</td>\n",
       "      <td>22.8</td>\n",
       "    </tr>\n",
       "    <tr>\n",
       "      <th>11787</th>\n",
       "      <td>LTER04</td>\n",
       "      <td>Q5.8</td>\n",
       "      <td>2021</td>\n",
       "      <td>20</td>\n",
       "      <td>28.271281</td>\n",
       "      <td>0.0</td>\n",
       "      <td>12.3</td>\n",
       "      <td>62.6</td>\n",
       "      <td>21.9</td>\n",
       "    </tr>\n",
       "    <tr>\n",
       "      <th>11788</th>\n",
       "      <td>LTER05</td>\n",
       "      <td>Q5.8</td>\n",
       "      <td>2021</td>\n",
       "      <td>20</td>\n",
       "      <td>28.202561</td>\n",
       "      <td>2.8</td>\n",
       "      <td>4.5</td>\n",
       "      <td>84.7</td>\n",
       "      <td>7.3</td>\n",
       "    </tr>\n",
       "    <tr>\n",
       "      <th>11789</th>\n",
       "      <td>LTER06</td>\n",
       "      <td>Q5.8</td>\n",
       "      <td>2021</td>\n",
       "      <td>20</td>\n",
       "      <td>28.194049</td>\n",
       "      <td>0.0</td>\n",
       "      <td>36.0</td>\n",
       "      <td>46.0</td>\n",
       "      <td>17.5</td>\n",
       "    </tr>\n",
       "  </tbody>\n",
       "</table>\n",
       "<p>11790 rows × 9 columns</p>\n",
       "</div>"
      ],
      "text/plain": [
       "         site quadrat  year  depth_m     temp_c  sand_percent  \\\n",
       "0      LTER01    Q1.1  2005        1  27.529318          22.5   \n",
       "1      LTER02    Q1.1  2005        1  27.594212           0.0   \n",
       "2      LTER03    Q1.1  2005        1        NaN          30.1   \n",
       "3      LTER04    Q1.1  2005        1        NaN          21.4   \n",
       "4      LTER05    Q1.1  2005        1        NaN           0.6   \n",
       "...       ...     ...   ...      ...        ...           ...   \n",
       "11785  LTER02    Q5.8  2021       20  28.243200           0.0   \n",
       "11786  LTER03    Q5.8  2021       20        NaN           0.0   \n",
       "11787  LTER04    Q5.8  2021       20  28.271281           0.0   \n",
       "11788  LTER05    Q5.8  2021       20  28.202561           2.8   \n",
       "11789  LTER06    Q5.8  2021       20  28.194049           0.0   \n",
       "\n",
       "       macroalgae_percent  microalgae_percent  corals_percent  \n",
       "0                     0.0                 0.0            77.5  \n",
       "1                     0.0                 2.6            97.4  \n",
       "2                     0.0                36.7            33.2  \n",
       "3                     0.0                57.1            21.5  \n",
       "4                     0.0                 3.6            95.8  \n",
       "...                   ...                 ...             ...  \n",
       "11785                 2.2                62.2            31.9  \n",
       "11786                21.7                45.6            22.8  \n",
       "11787                12.3                62.6            21.9  \n",
       "11788                 4.5                84.7             7.3  \n",
       "11789                36.0                46.0            17.5  \n",
       "\n",
       "[11790 rows x 9 columns]"
      ]
     },
     "execution_count": 2,
     "metadata": {},
     "output_type": "execute_result"
    }
   ],
   "source": [
    "corals_data = pd.read_csv('LTER_data.csv')\n",
    "\n",
    "co_columns = corals_data.columns\n",
    "\n",
    "co_columns_clean = co_columns.str.lower().str.replace(\n",
    "    \" \", \"_\").str.replace(\n",
    "    \"%\", \"percent\").str.replace(\n",
    "    \"metres\", \"m\").str.replace(\n",
    "    \"celsius\", \"c\").str.replace(\n",
    "    \"temperature\", \"temp\").str.strip(\"_\")\n",
    "\n",
    "corals_data.columns = co_columns_clean\n",
    "\n",
    "corals_clean = corals_data\n",
    "corals_clean"
   ]
  },
  {
   "cell_type": "code",
   "execution_count": 3,
   "id": "bb06debb",
   "metadata": {},
   "outputs": [
    {
     "data": {
      "text/plain": [
       "['site',\n",
       " 'quadrat',\n",
       " 'year',\n",
       " 'depth_m',\n",
       " 'temp_c',\n",
       " 'sand_percent',\n",
       " 'macroalgae_percent',\n",
       " 'microalgae_percent',\n",
       " 'corals_percent']"
      ]
     },
     "execution_count": 3,
     "metadata": {},
     "output_type": "execute_result"
    }
   ],
   "source": [
    "# Check your column names:\n",
    "list(corals_clean.columns)"
   ]
  },
  {
   "cell_type": "markdown",
   "id": "5a505136",
   "metadata": {},
   "source": [
    "### Exercise 2\n",
    "\n",
    "Select the columns relevant to this analysis. Those are:\n",
    "\n",
    "+ `site`\n",
    "+ `year`\n",
    "+ `temp_c`\n",
    "+ `corals_percent`\n",
    "\n",
    "Name the final result `corals_select_data_raw`."
   ]
  },
  {
   "cell_type": "markdown",
   "id": "16c08ee3",
   "metadata": {},
   "source": [
    "### Exercise 3\n",
    "\n",
    "A quadrat is a square in the grid.\n",
    "\n",
    "Make a copy of `corals_select_data_raw` and name it `corals_select_data`.\n",
    "\n",
    "Create a column indicating whether a quadrat has a greater percentage surface area of coral surface area. \n",
    "\n",
    "Create a column in `corals_select_data` named `'is_percent_corals_over_50'` that has the value `1` if the quadrat has a percentage surface area of corals greater than or equal to 50%, or otherwise, has the value `0`."
   ]
  },
  {
   "cell_type": "markdown",
   "id": "19b9df10",
   "metadata": {
    "tags": []
   },
   "source": [
    "### Exercise 4\n",
    "\n",
    "Create a function to compute the difference in mean temperature between quadrats with lower coral surface area and greater coral surface area.\n",
    "\n",
    "Name the function `mean_diff_temperature_by_coral_sa`.\n",
    "\n",
    "The function has one parameter:\n",
    "+ `data`: the `DataFrame` containing information about the coral surface area by quadrat and by temperature.\n",
    "\n",
    "Using column `'temp_c'` in `data`, your function should compute the mean temperature of \n",
    " of all quadrats belonging to the two groups indicated in `is_percent_corals_over_50`.\n",
    "\n",
    "The function then returns that difference in mean temperature."
   ]
  },
  {
   "cell_type": "markdown",
   "id": "bebc40d9",
   "metadata": {},
   "source": [
    "### Exercise 5\n",
    "\n",
    "Call your function to calculate the observed difference in mean temperature between quadrats with low coral surface area and greater coral surface area, and name your result `observed_diff_in_mean_temperature`.\n",
    "\n",
    "(Later on, you're going to call that function inside a for loop to compute a sampling distribution.)"
   ]
  },
  {
   "cell_type": "markdown",
   "id": "26a2a946",
   "metadata": {},
   "source": [
    "### Exercise 6\n",
    "\n",
    "Now we're going to shuffle the two groups (the 1's and 0's marking whether a sample has high or low coral coverage) in order to determine if there is a meaningful difference if the group assignment is random. (This is equivalent to testing for a difference assuming the null hypothesis.)\n",
    "\n",
    "Write a helper function that shuffles our labels (values) found in the column `is_percent_corals_over_50`. Name the function `shuffle_labels`.\n",
    "\n",
    "The function will have one parameter:\n",
    "+ `data`: the `DataFrame` containing information about the coral surface area by quadrat AND temperature.\n",
    "\n",
    "Your function will return a series that has shuffled the labels in the column `is_percent_corals_over_50`.\n"
   ]
  },
  {
   "cell_type": "markdown",
   "id": "e01f3057",
   "metadata": {},
   "source": [
    "### Exercise 7 \n",
    "\n",
    "Simulate the sample means to generate a sampling distribution.\n",
    "\n",
    "Our null hypothesis is that there is no difference in sampling means between the two groups.\n",
    "\n",
    "Here, we will write code for the machinery of our hypothesis test. Specifically, we will simulate samples under assumption of the null hypothesis — that is, we will generate a sampling distribution of the difference in mean temperature between our two groups of quadrats.\n",
    "\n",
    "Brace yourselves.\n",
    "\n",
    "We're going to collect random sampling distribution of mean differences in a list named `resample_test_statistics`. We will use this list to plot a histogram.\n",
    "\n",
    "Here are the details:\n",
    "\n",
    "+ Initialize `resample_test_statistics` as the empty list. (In the for loop, you'll append to this list.)\n",
    "+ Write a for loop to collect 1000 outcomes.\n",
    "  - Each iteration, call your `shuffle_labels` function to shuffle the labels of column `'is_percent_corals_over_50'` from `corals_shuffled_data`. Assign these shuffled labels to the column `'is_percent_corals_over_50'` in the `corals_shuffled_data` dataframe.\n",
    "  - Now call your `mean_diff_temperature_by_coral_sa` function to calculate the difference in mean temperature between quadrats with low and high coral surface area in your random shuffled sample. Name this value `mean_diff`.\n",
    "  - Append `mean_diff` to `resample_test_statistics`.\n",
    "+ Outside of the for loop, call `pd.Series` to create a series based on list `resample_test_statistics`."
   ]
  },
  {
   "cell_type": "markdown",
   "id": "23bca3e3",
   "metadata": {},
   "source": [
    "### Exercise 8 \n",
    "\n",
    "How likely are we to observe a mean difference that is as extreme as the mean difference that we observed in Exercise 5?\n",
    "\n",
    "Calculate the p-value of the random sampling result. We can calculate a p-value by following these steps:\n",
    "+ Take the absolute value of this `Series`. We do this because we want to consider both tails of our sample distribution. (`resample_test_statistics.abs()` will calculate this.)\n",
    "+ Create a boolean series that is `True` if the absolute value of the test statistic is geater than or equal to the observed mean difference, `observed_diff_in_mean_temperature`.\n",
    "+ Finally, determine the probability by calculating the proportion of entries that are `True` in `resample_test_statistics_series`. Name your result `p_value`. "
   ]
  },
  {
   "cell_type": "markdown",
   "id": "9c2c789e",
   "metadata": {},
   "source": [
    "### Exercise 9 \n",
    "\n",
    "Visualize the p-value. Although, we don't need a visualization to calculate our p-value, it might help in illustrating whether our p-value makes sense. In one plot, plot the following three things: \n",
    "\n",
    "+ a histogram plotting the test statistics\n",
    "+ two vertical lines plotting the observed difference in mean temperature between quadrats of the two groups."
   ]
  },
  {
   "cell_type": "markdown",
   "id": "10d962a5",
   "metadata": {},
   "source": [
    "### Exercise 10: Interpretation Questions\n",
    "\n",
    "1. State the difference in mean temperature between quadrats with high coral surface area and those with low coral surface area. From your results, state the p-value, and give its interpretation. What conclusions can you make from the observed p-value. __(1 mark)__\n",
    "\n",
    "2. If you were to do further analysis to study how surface area covered by corals is different for various sampling units (Quadrats), which additional environmental variables might you consider? Why? Write 3-5 sentences identifying 1-2 variables of interest and what differences in percentage covered by corals you might expect to find. __(2 marks)__\n",
    "\n",
    "\n"
   ]
  },
  {
   "cell_type": "markdown",
   "id": "6df8ef53",
   "metadata": {},
   "source": [
    "# Regression"
   ]
  },
  {
   "cell_type": "markdown",
   "id": "35f635d0",
   "metadata": {},
   "source": [
    "To explore regression, we will move back to our old faithful pantheria dataset. We will perform some cleaning steps and then apply a log-transformation to the cleaned dataframe. We have performed these steps for you below. Read through the code to familiarize yourself with what we have done."
   ]
  },
  {
   "cell_type": "code",
   "execution_count": 17,
   "id": "d4df3e5e",
   "metadata": {},
   "outputs": [
    {
     "data": {
      "text/html": [
       "<div>\n",
       "<style scoped>\n",
       "    .dataframe tbody tr th:only-of-type {\n",
       "        vertical-align: middle;\n",
       "    }\n",
       "\n",
       "    .dataframe tbody tr th {\n",
       "        vertical-align: top;\n",
       "    }\n",
       "\n",
       "    .dataframe thead th {\n",
       "        text-align: right;\n",
       "    }\n",
       "</style>\n",
       "<table border=\"1\" class=\"dataframe\">\n",
       "  <thead>\n",
       "    <tr style=\"text-align: right;\">\n",
       "      <th></th>\n",
       "      <th>bodymass</th>\n",
       "      <th>maturity</th>\n",
       "      <th>longevity</th>\n",
       "      <th>weaning</th>\n",
       "      <th>gestation</th>\n",
       "    </tr>\n",
       "  </thead>\n",
       "  <tbody>\n",
       "    <tr>\n",
       "      <th>0</th>\n",
       "      <td>13.107685</td>\n",
       "      <td>7.574528</td>\n",
       "      <td>6.173786</td>\n",
       "      <td>5.964556</td>\n",
       "      <td>5.957158</td>\n",
       "    </tr>\n",
       "    <tr>\n",
       "      <th>1</th>\n",
       "      <td>9.248839</td>\n",
       "      <td>5.520981</td>\n",
       "      <td>4.919981</td>\n",
       "      <td>3.968214</td>\n",
       "      <td>4.174387</td>\n",
       "    </tr>\n",
       "    <tr>\n",
       "      <th>2</th>\n",
       "      <td>9.175614</td>\n",
       "      <td>5.916822</td>\n",
       "      <td>5.257495</td>\n",
       "      <td>4.115780</td>\n",
       "      <td>4.114801</td>\n",
       "    </tr>\n",
       "    <tr>\n",
       "      <th>3</th>\n",
       "      <td>9.391753</td>\n",
       "      <td>5.921310</td>\n",
       "      <td>5.568345</td>\n",
       "      <td>3.777577</td>\n",
       "      <td>4.122932</td>\n",
       "    </tr>\n",
       "    <tr>\n",
       "      <th>4</th>\n",
       "      <td>10.365853</td>\n",
       "      <td>6.521166</td>\n",
       "      <td>5.869297</td>\n",
       "      <td>3.802654</td>\n",
       "      <td>4.151040</td>\n",
       "    </tr>\n",
       "  </tbody>\n",
       "</table>\n",
       "</div>"
      ],
      "text/plain": [
       "    bodymass  maturity  longevity   weaning  gestation\n",
       "0  13.107685  7.574528   6.173786  5.964556   5.957158\n",
       "1   9.248839  5.520981   4.919981  3.968214   4.174387\n",
       "2   9.175614  5.916822   5.257495  4.115780   4.114801\n",
       "3   9.391753  5.921310   5.568345  3.777577   4.122932\n",
       "4  10.365853  6.521166   5.869297  3.802654   4.151040"
      ]
     },
     "execution_count": 17,
     "metadata": {},
     "output_type": "execute_result"
    }
   ],
   "source": [
    "\n",
    "import pandas as pd\n",
    "import matplotlib.pyplot as plt\n",
    "import numpy as np\n",
    "\n",
    "pantheria = pd.read_csv(\"pantheria.txt\", sep = \"\\t\")\n",
    "\n",
    "important_columns = ['5-1_AdultBodyMass_g', '23-1_SexualMaturityAge_d', \n",
    "                     '17-1_MaxLongevity_m','25-1_WeaningAge_d', \n",
    "                     '9-1_GestationLen_d']\n",
    "\n",
    "sub_pantheria = pantheria[important_columns]\n",
    "\n",
    "columnnames = {'5-1_AdultBodyMass_g': 'bodymass',\n",
    "               '23-1_SexualMaturityAge_d': 'maturity',\n",
    "               '17-1_MaxLongevity_m': 'longevity',\n",
    "               '25-1_WeaningAge_d': 'weaning',\n",
    "               '9-1_GestationLen_d': 'gestation'}\n",
    "\n",
    "rn_pantheria = sub_pantheria.rename(columns = columnnames)\n",
    "\n",
    "rn_pantheria = rn_pantheria.dropna()\n",
    "\n",
    "panthdat_trans = rn_pantheria.copy()\n",
    "\n",
    "panthdat_trans.head()\n",
    "\n",
    "trans_cols = ['bodymass', 'longevity', 'gestation', 'weaning', 'maturity']\n",
    "\n",
    "panthdat_trans[trans_cols] = (panthdat_trans[trans_cols].apply(np.log))\n",
    "\n",
    "panthdat_trans.head()\n"
   ]
  },
  {
   "cell_type": "markdown",
   "id": "981b582a",
   "metadata": {},
   "source": [
    "### Exercise 1\n",
    "\n",
    "We are interested in the shape of the distribution for maturation time. \n",
    "\n",
    "Make a suitable plot. \n",
    "\n",
    "Describe the shape of the distribution and explain the role of log-transformation in generating this shape."
   ]
  },
  {
   "cell_type": "markdown",
   "id": "38fbf68c",
   "metadata": {},
   "source": [
    "### Exercise 2\n",
    " Furthermore, it makes sense to visualize our data before we fit our regression model. Create scatter plot of temperature and the proportion of corals on the reef. \n",
    " What is the direction of the relationship. Describe the strength of the relationship."
   ]
  },
  {
   "cell_type": "markdown",
   "id": "e848c25b",
   "metadata": {},
   "source": [
    "### Exercise 3\n",
    "\n",
    "Fit the linear regression line with bodymass as the independent variable.\n",
    " Print the summary of the model.\n",
    " Report the coefficient that the model estimates, giving an interpretation\n",
    " for each."
   ]
  },
  {
   "cell_type": "markdown",
   "id": "653d86fd",
   "metadata": {},
   "source": [
    "### Exercise 4\n",
    "\n",
    "Determine and interpret the R-squared value of the model. What does this metric tell us about our regression model?"
   ]
  },
  {
   "cell_type": "markdown",
   "id": "44c1c18d",
   "metadata": {},
   "source": [
    "### Exercise 5 (BONUS)\n",
    " Calculate the residuals of the regression model. Use a scatter plot\n",
    " to plot the residuals (y-axis) against the fitted values (x-axis).\n",
    " Comment on any patterns (or lack of patterns you might see). Are the values fairly evenly distributed?\n",
    "\n"
   ]
  },
  {
   "cell_type": "markdown",
   "id": "a6880088",
   "metadata": {},
   "source": [
    "# PCA \n",
    "\n",
    "For the PCA part we will use the `Pantheria` dataset to analyze how body size correlates with life history characteristics, such as sexual maturity, longevity, weaning age, and gestation.\n",
    "\n",
    "### Exercise 1\n",
    "\n",
    "After importing and cleaning our dataset, in the code block below, we will standardize our columns using the `StandardScaler()` tool from sklearn using the code provided below. \n",
    "\n",
    "\n",
    "What does standardization do to our values? What will be the mean and the variance of each column after this transformation?"
   ]
  },
  {
   "cell_type": "code",
   "execution_count": 60,
   "id": "cabd4a87",
   "metadata": {},
   "outputs": [],
   "source": [
    "from sklearn.preprocessing import StandardScaler\n",
    "\n",
    "traits=panthdat_trans.loc[:,:].values \n",
    "\n",
    "traits_scaled=pd.DataFrame(StandardScaler().fit_transform(traits))\n",
    "\n",
    "\n"
   ]
  },
  {
   "cell_type": "markdown",
   "id": "b9985543",
   "metadata": {},
   "source": [
    "### Exercise 2\n",
    "\n",
    "Fit the PCA using the code below. Please explain each line of code. In addition, explain the meaning of each column, and each row in the new dataframe `scores`."
   ]
  },
  {
   "cell_type": "code",
   "execution_count": 62,
   "id": "acedc0bb",
   "metadata": {},
   "outputs": [
    {
     "data": {
      "text/html": [
       "<div>\n",
       "<style scoped>\n",
       "    .dataframe tbody tr th:only-of-type {\n",
       "        vertical-align: middle;\n",
       "    }\n",
       "\n",
       "    .dataframe tbody tr th {\n",
       "        vertical-align: top;\n",
       "    }\n",
       "\n",
       "    .dataframe thead th {\n",
       "        text-align: right;\n",
       "    }\n",
       "</style>\n",
       "<table border=\"1\" class=\"dataframe\">\n",
       "  <thead>\n",
       "    <tr style=\"text-align: right;\">\n",
       "      <th></th>\n",
       "      <th>pc1</th>\n",
       "      <th>pc2</th>\n",
       "      <th>pc3</th>\n",
       "      <th>pc4</th>\n",
       "      <th>pc5</th>\n",
       "    </tr>\n",
       "  </thead>\n",
       "  <tbody>\n",
       "    <tr>\n",
       "      <th>0</th>\n",
       "      <td>3.115642</td>\n",
       "      <td>-0.082034</td>\n",
       "      <td>-0.233662</td>\n",
       "      <td>-0.339423</td>\n",
       "      <td>-0.032222</td>\n",
       "    </tr>\n",
       "    <tr>\n",
       "      <th>1</th>\n",
       "      <td>-0.486677</td>\n",
       "      <td>0.424178</td>\n",
       "      <td>-0.607547</td>\n",
       "      <td>0.229200</td>\n",
       "      <td>-0.075350</td>\n",
       "    </tr>\n",
       "    <tr>\n",
       "      <th>2</th>\n",
       "      <td>-0.121518</td>\n",
       "      <td>0.272429</td>\n",
       "      <td>-0.339566</td>\n",
       "      <td>0.484410</td>\n",
       "      <td>-0.072227</td>\n",
       "    </tr>\n",
       "    <tr>\n",
       "      <th>3</th>\n",
       "      <td>-0.063377</td>\n",
       "      <td>0.609771</td>\n",
       "      <td>-0.232341</td>\n",
       "      <td>0.785821</td>\n",
       "      <td>-0.159263</td>\n",
       "    </tr>\n",
       "    <tr>\n",
       "      <th>4</th>\n",
       "      <td>0.498541</td>\n",
       "      <td>0.624860</td>\n",
       "      <td>-0.089705</td>\n",
       "      <td>1.088710</td>\n",
       "      <td>0.099222</td>\n",
       "    </tr>\n",
       "    <tr>\n",
       "      <th>...</th>\n",
       "      <td>...</td>\n",
       "      <td>...</td>\n",
       "      <td>...</td>\n",
       "      <td>...</td>\n",
       "      <td>...</td>\n",
       "    </tr>\n",
       "    <tr>\n",
       "      <th>598</th>\n",
       "      <td>0.571278</td>\n",
       "      <td>-1.579216</td>\n",
       "      <td>-0.739479</td>\n",
       "      <td>0.300642</td>\n",
       "      <td>-0.304058</td>\n",
       "    </tr>\n",
       "    <tr>\n",
       "      <th>599</th>\n",
       "      <td>-0.803169</td>\n",
       "      <td>0.066677</td>\n",
       "      <td>0.199074</td>\n",
       "      <td>0.397065</td>\n",
       "      <td>-0.108676</td>\n",
       "    </tr>\n",
       "    <tr>\n",
       "      <th>600</th>\n",
       "      <td>-0.898390</td>\n",
       "      <td>0.378259</td>\n",
       "      <td>-0.115940</td>\n",
       "      <td>0.091217</td>\n",
       "      <td>0.131743</td>\n",
       "    </tr>\n",
       "    <tr>\n",
       "      <th>601</th>\n",
       "      <td>2.697347</td>\n",
       "      <td>-0.115673</td>\n",
       "      <td>0.002450</td>\n",
       "      <td>-0.464925</td>\n",
       "      <td>0.151173</td>\n",
       "    </tr>\n",
       "    <tr>\n",
       "      <th>602</th>\n",
       "      <td>-3.191905</td>\n",
       "      <td>0.036055</td>\n",
       "      <td>-0.115892</td>\n",
       "      <td>0.248994</td>\n",
       "      <td>-0.552269</td>\n",
       "    </tr>\n",
       "  </tbody>\n",
       "</table>\n",
       "<p>603 rows × 5 columns</p>\n",
       "</div>"
      ],
      "text/plain": [
       "          pc1       pc2       pc3       pc4       pc5\n",
       "0    3.115642 -0.082034 -0.233662 -0.339423 -0.032222\n",
       "1   -0.486677  0.424178 -0.607547  0.229200 -0.075350\n",
       "2   -0.121518  0.272429 -0.339566  0.484410 -0.072227\n",
       "3   -0.063377  0.609771 -0.232341  0.785821 -0.159263\n",
       "4    0.498541  0.624860 -0.089705  1.088710  0.099222\n",
       "..        ...       ...       ...       ...       ...\n",
       "598  0.571278 -1.579216 -0.739479  0.300642 -0.304058\n",
       "599 -0.803169  0.066677  0.199074  0.397065 -0.108676\n",
       "600 -0.898390  0.378259 -0.115940  0.091217  0.131743\n",
       "601  2.697347 -0.115673  0.002450 -0.464925  0.151173\n",
       "602 -3.191905  0.036055 -0.115892  0.248994 -0.552269\n",
       "\n",
       "[603 rows x 5 columns]"
      ]
     },
     "execution_count": 62,
     "metadata": {},
     "output_type": "execute_result"
    }
   ],
   "source": [
    "from sklearn.decomposition import PCA\n",
    "\n",
    "pca=PCA() # set up our PCA \n",
    "fit=pca.fit_transform(traits_scaled) # fit the PCA to our scaled measurements\n",
    "scores = pd.DataFrame(data = fit, columns = ['pc1', 'pc2', 'pc3', 'pc4','pc5'])\n",
    "scores"
   ]
  },
  {
   "cell_type": "markdown",
   "id": "ff005736",
   "metadata": {},
   "source": [
    "### Exercise 3:\n",
    "\n",
    "Q: Determine the percentage of variance explained by each PC by examining the output of the `pca.explained_variance_ratio_` property of our PCA. Explain what it means for the first PC to explain a large proportion of the variance in the original dataset. Next, explain how much variation is described by the first and second PCs combined. If we make a 2-dimensional scatterplot of PC1 and PC2, what proportion of the variance in our original dataset will be represented?"
   ]
  },
  {
   "cell_type": "code",
   "execution_count": 25,
   "id": "accc95a6",
   "metadata": {},
   "outputs": [
    {
     "data": {
      "text/plain": [
       "array([75.73441727, 10.7845884 ,  5.44746907,  4.58346775,  3.4500575 ])"
      ]
     },
     "execution_count": 25,
     "metadata": {},
     "output_type": "execute_result"
    }
   ],
   "source": [
    "prop_var=pca.explained_variance_ratio_ * 100\n",
    "prop_var1"
   ]
  },
  {
   "cell_type": "markdown",
   "id": "6c330993",
   "metadata": {},
   "source": [
    "### Exercise 4: \n",
    "\n",
    "Examining the plot below, what can we conclude about the relationship between the variables bodymass, longevity, and weaning and PC1 and PC2?"
   ]
  },
  {
   "cell_type": "code",
   "execution_count": 26,
   "id": "34cde5d3",
   "metadata": {},
   "outputs": [
    {
     "data": {
      "text/plain": [
       "Text(0, 0.5, 'PC2 (11%)')"
      ]
     },
     "execution_count": 26,
     "metadata": {},
     "output_type": "execute_result"
    },
    {
     "data": {
      "image/png": "[encoded data removed]",
      "text/plain": [
       "<Figure size 432x288 with 1 Axes>"
      ]
     },
     "metadata": {
      "needs_background": "light"
     },
     "output_type": "display_data"
    }
   ],
   "source": [
    "ax=plt.plot(scores.pc1, scores.pc2, marker='o', linestyle='')\n",
    "coeff = np.transpose(pca.components_[0:3,:])\n",
    "n = coeff.shape[0]\n",
    "for i in range(n):\n",
    "    plt.arrow(0, 0, coeff[i,0]*10, coeff[i,1]*10,color = 'r',alpha = 0.9)\n",
    "    plt.text(coeff[i,0]* 10, coeff[i,1] * 10, list(panthdat_trans.columns)[i], color = 'g', ha = 'center', va = 'center')\n",
    "plt.xlabel(\"PC1 (\"+str(round(prop_var[0]))+\"%)\")\n",
    "plt.ylabel(\"PC2 (\"+str(round(prop_var[1]))+\"%)\")"
   ]
  }
 ],
 "metadata": {
  "kernelspec": {
   "display_name": "Python 3 (ipykernel)",
   "language": "python",
   "name": "python3"
  },
  "language_info": {
   "codemirror_mode": {
    "name": "ipython",
    "version": 3
   },
   "file_extension": ".py",
   "mimetype": "text/x-python",
   "name": "python",
   "nbconvert_exporter": "python",
   "pygments_lexer": "ipython3",
   "version": "3.9.5"
  }
 },
 "nbformat": 4,
 "nbformat_minor": 5
}
