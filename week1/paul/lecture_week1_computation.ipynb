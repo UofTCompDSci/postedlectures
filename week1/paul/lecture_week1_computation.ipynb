{
 "cells": [
  {
   "cell_type": "markdown",
   "id": "77887c11",
   "metadata": {
    "slideshow": {
     "slide_type": "slide"
    }
   },
   "source": [
    "# What is computation?\n",
    "\n",
    "From [https://www.dictionary.com](https://www.dictionary.com):\n",
    "\n",
    "* *Computation*: an act, process, or method of computing; calculation.\n",
    "* *Computing*: the use of a computer to process data or perform calculations; the act of calculating or reckoning.\n",
    "\n",
    "In this course, a computation is a series of calculations that manipulates, analyzes, and derives information from data."
   ]
  },
  {
   "cell_type": "markdown",
   "id": "c533b867",
   "metadata": {
    "slideshow": {
     "slide_type": "notes"
    }
   },
   "source": [
    "# What's a computer?\n",
    "\n",
    "Computation can be done by hand or it can be automated. In the 1940's, when computation became particularly important for war as technology advanced, the original modern \"computers\" were people."
   ]
  },
  {
   "cell_type": "markdown",
   "id": "0df29669",
   "metadata": {
    "slideshow": {
     "slide_type": "slide"
    }
   },
   "source": [
    "# Computational tools: Python and Pandas\n",
    "\n",
    "+ Python: a programming language\n",
    "+ Pandas: a set of data science tools written in Python"
   ]
  },
  {
   "cell_type": "markdown",
   "id": "b7838d43",
   "metadata": {},
   "source": [
    "# Python expressions"
   ]
  },
  {
   "cell_type": "markdown",
   "id": "16c9121e",
   "metadata": {},
   "source": [
    "Python as a calculator:"
   ]
  },
  {
   "cell_type": "code",
   "execution_count": null,
   "id": "98638f5a",
   "metadata": {
    "slideshow": {
     "slide_type": "slide"
    }
   },
   "outputs": [],
   "source": [
    "3 + 2"
   ]
  },
  {
   "cell_type": "markdown",
   "id": "5e63214a",
   "metadata": {},
   "source": [
    "The _type_ of these numbers is integer. In Python, we say `int`."
   ]
  },
  {
   "cell_type": "code",
   "execution_count": null,
   "id": "53486bbd",
   "metadata": {},
   "outputs": [],
   "source": [
    "2 + 3 / 2"
   ]
  },
  {
   "cell_type": "markdown",
   "id": "116d61d5",
   "metadata": {},
   "source": [
    "Those are called *expression*s. They can get pretty complex. Remember BEDMAS?"
   ]
  },
  {
   "cell_type": "code",
   "execution_count": null,
   "id": "7de21b0d",
   "metadata": {
    "scrolled": true
   },
   "outputs": [],
   "source": [
    "4 / 3 + (9 - 2 * (8 + 3))"
   ]
  },
  {
   "cell_type": "markdown",
   "id": "777fb678",
   "metadata": {},
   "source": [
    "| Precedence | Operator | Operation |\n",
    "| :- | :- | :- |\n",
    "| Highest | () | Grouping |\n",
    "|  | ** | Exponentiation |\n",
    "|  | - | Negation |\n",
    "|  | *, / //, % | Multiplication, division, integer division, remainder |\n",
    "| Lowest | +, - | Addition and substraction |"
   ]
  },
  {
   "cell_type": "markdown",
   "id": "77caa9dc",
   "metadata": {},
   "source": []
  },
  {
   "cell_type": "markdown",
   "id": "3b4a28dd",
   "metadata": {},
   "source": [
    "Technically called \"double-precision floating-point numbers\".\n",
    "\n",
    "Python just calls them `float`s.\n",
    "\n",
    "You can use them just like you use real numbers, but they are very slightly inaccurate."
   ]
  },
  {
   "cell_type": "markdown",
   "id": "240bafe1",
   "metadata": {},
   "source": [
    "# Naming things\n",
    "\n",
    "Just like in math, we often want to give names to values.\n",
    "\n",
    "Python: *assignment statement*\n",
    "\n",
    "Assignment statement assign a value to a *variable*."
   ]
  },
  {
   "cell_type": "code",
   "execution_count": null,
   "id": "e5fd6825",
   "metadata": {},
   "outputs": [],
   "source": [
    "x = 3 + 2"
   ]
  },
  {
   "cell_type": "markdown",
   "id": "2d3106f8",
   "metadata": {},
   "source": [
    "No \"Out\" box!\n",
    "\n",
    "Python only creates a box if there is a result from evaluating an expression. \n",
    "\n",
    "Assignment statements are not expressions, they are *statements*.\n",
    "\n",
    "All assignment statements use the `=` symbol.\n",
    "\n",
    "We can use `x` in later calculations.\n",
    "\n",
    "We're going to use assignment statements to name values a *lot* in the course."
   ]
  },
  {
   "cell_type": "code",
   "execution_count": null,
   "id": "a543bc73",
   "metadata": {},
   "outputs": [],
   "source": [
    "x"
   ]
  },
  {
   "cell_type": "code",
   "execution_count": null,
   "id": "e3907535",
   "metadata": {},
   "outputs": [],
   "source": [
    "x * x"
   ]
  },
  {
   "cell_type": "code",
   "execution_count": null,
   "id": "8575d745",
   "metadata": {},
   "outputs": [],
   "source": [
    "x / x + x"
   ]
  },
  {
   "cell_type": "code",
   "execution_count": null,
   "id": "5c499939",
   "metadata": {},
   "outputs": [],
   "source": [
    "import math\n",
    "math.sqrt(x)"
   ]
  },
  {
   "cell_type": "markdown",
   "id": "32f15110",
   "metadata": {},
   "source": [
    "Python rule: Whenever there is a division using `/`, the result is a `double`.\n",
    "\n",
    "Python rule: Whenever a double is involved in an expression, the result is a `double`."
   ]
  },
  {
   "cell_type": "markdown",
   "id": "67f7a680",
   "metadata": {},
   "source": [
    "## Algorithm definition\n",
    "\n",
    "_Algorithm_: a finite sequence of well-defined instructions ([Wikipedia](https://en.wikipedia.org/wiki/Algorithm))"
   ]
  },
  {
   "cell_type": "markdown",
   "id": "b9141da4",
   "metadata": {},
   "source": [
    "# Python's assignment statement algorithm\n",
    "\n",
    "`var = expr`\n",
    "\n",
    "1. Evaluate the expression to the right of the `=`. That produces a value.\n",
    "2. Label the produced value with the variable name.\n",
    "\n",
    "It works right to left. The variable is not created until *after* the expression is fully evaluated."
   ]
  },
  {
   "cell_type": "markdown",
   "id": "41af2eef",
   "metadata": {
    "slideshow": {
     "slide_type": "slide"
    }
   },
   "source": [
    "\n",
    "# Algorithm: compute the average\n",
    "\n",
    "An algorithm is a program written for humans to read and follow. The average of a list of numbers is the sum divided by the count.\n",
    "\n",
    "1. Sum the numbers.\n",
    "1. Count the numbers.\n",
    "1. Divide the sum by the count."
   ]
  },
  {
   "cell_type": "markdown",
   "id": "1f5c64c5",
   "metadata": {
    "slideshow": {
     "slide_type": "slide"
    }
   },
   "source": [
    "What is the average of the list `1, 2, 3, 4, 5`?\n",
    "\n",
    "1. Sum: the sum of `1, 2, 3, 4, 5` is `15`\n",
    "1. Count: there are `5` numbers in the list\n",
    "1. `15 / 5` is `3`"
   ]
  },
  {
   "cell_type": "markdown",
   "id": "c6849e3b",
   "metadata": {
    "slideshow": {
     "slide_type": "notes"
    }
   },
   "source": [
    "# Python version\n",
    "\n",
    "We can use built-in functions `sum` and `len` to implement the algorithm in Python:"
   ]
  },
  {
   "cell_type": "code",
   "execution_count": null,
   "id": "f5623e47",
   "metadata": {
    "slideshow": {
     "slide_type": "fragment"
    }
   },
   "outputs": [],
   "source": [
    "numbers = [1, 2, 3, 4, 5]\n",
    "\n",
    "total = sum(numbers)\n",
    "count = len(numbers)\n",
    "avg = total / count\n",
    "avg"
   ]
  },
  {
   "cell_type": "markdown",
   "id": "55058768",
   "metadata": {
    "slideshow": {
     "slide_type": "slide"
    }
   },
   "source": [
    "## Python syntax and grammar\n",
    "\n",
    "Python has a grammar and a syntax just like human languages do\n",
    "\n",
    "Example: lists need square brackets and commas in between items in the list.\n",
    "\n",
    "+ English essay with typos and grammatical errors? Still mostly readable.\n",
    "+ Python program with typos and other errors? It can't be run."
   ]
  },
  {
   "cell_type": "markdown",
   "id": "891692b7",
   "metadata": {
    "slideshow": {
     "slide_type": "slide"
    }
   },
   "source": [
    "# Common errors\n",
    "\n",
    "+ Missing comma\n",
    "+ Mismatched bracket such as `(` and `]`\n",
    "+ Typo in a function or variable name\n",
    "+ Incorrect calculation\n",
    "\n",
    "You'll find lots more.  :-)"
   ]
  },
  {
   "cell_type": "markdown",
   "id": "36cbc3ef",
   "metadata": {
    "slideshow": {
     "slide_type": "slide"
    }
   },
   "source": [
    "# A data story\n",
    "\n",
    "Over the next while, we'll explore the kinds of computation you'll learn how to do in this course in the context of a _data story_."
   ]
  },
  {
   "cell_type": "markdown",
   "id": "6946965a",
   "metadata": {
    "slideshow": {
     "slide_type": "slide"
    }
   },
   "source": [
    "## Old Faithful\n",
    "\n",
    "Old Faithful is a geyser in Yellowstone National Park in the state of Wyoming. It erupts pretty regularly, hence the name.\n",
    "\n",
    "![Alt Text](https://i.makeagif.com/media/3-30-2015/B6WEUM.gif)"
   ]
  },
  {
   "cell_type": "markdown",
   "id": "94b93b6b",
   "metadata": {
    "slideshow": {
     "slide_type": "slide"
    }
   },
   "source": [
    "## Old Faithful eruption information\n",
    "\n",
    "Comma-separated-value (CSV) files: plain-text files that have rows of data separated by commas.\n",
    "\n",
    "```\n",
    "\"Index\", \"Eruption length (mins)\",\"Eruption wait (mins)\"\n",
    "  1, 3.600, 79\n",
    "  2, 1.800, 54\n",
    "  3, 3.333, 74\n",
    "  4, 2.283, 62\n",
    "  5, 4.533, 85\n",
    "```\n",
    "[https://people.sc.fsu.edu/~jburkardt/data/csv/csv.html](https://people.sc.fsu.edu/~jburkardt/data/csv/csv.html)\n",
    "\n",
    "Research question: what's the average wait time?"
   ]
  },
  {
   "cell_type": "markdown",
   "id": "0e135e0b",
   "metadata": {},
   "source": [
    "## What programming tools do we have?\n",
    "\n",
    "+ The Python language comes with\n",
    "  - [built-in functions](https://docs.python.org/3/library/functions.html) like `sum` and `len`\n",
    "  - A large set of _modules_, which are collections of useful functions.\n",
    "+ JupyterHub adds\n",
    "  - The Pandas module to Python\n",
    "  - A file system\n",
    "  - The Jupyter notebook software that interacts with Python"
   ]
  },
  {
   "cell_type": "markdown",
   "id": "2c746c63",
   "metadata": {},
   "source": [
    "\n",
    "# `pandas`\n",
    "\n",
    "We can read a CSV using module `pandas`."
   ]
  },
  {
   "cell_type": "code",
   "execution_count": null,
   "id": "7992e900",
   "metadata": {},
   "outputs": [],
   "source": [
    "import pandas\n",
    "pandas.read_csv('faithful.csv')"
   ]
  },
  {
   "cell_type": "markdown",
   "id": "ec645885",
   "metadata": {},
   "source": [
    "## Naming data\n",
    "\n",
    "File operations are slow, and we don't want to repeat ourselves.\n",
    "\n",
    "Read once and assign to a variable."
   ]
  },
  {
   "cell_type": "code",
   "execution_count": null,
   "id": "0b340747",
   "metadata": {},
   "outputs": [],
   "source": [
    "faithful_eruptions = pandas.read_csv('faithful.csv')"
   ]
  },
  {
   "cell_type": "markdown",
   "id": "d32da612",
   "metadata": {},
   "source": [
    "## What's in a name?\n",
    "\n",
    "`faithful_eruptions` is now the name of the table of information we just read.\n",
    "\n",
    "What's its value?\n"
   ]
  },
  {
   "cell_type": "code",
   "execution_count": null,
   "id": "02cb4922",
   "metadata": {},
   "outputs": [],
   "source": [
    "faithful_eruptions"
   ]
  },
  {
   "cell_type": "markdown",
   "id": "8468348e",
   "metadata": {},
   "source": [
    "## `DataFrame`s: manipulating and examining data\n",
    "\n",
    "Remember how computations manipulate, analyze, and derive information from data? Here are a few things we can do with the information once we've read it.\n",
    "\n",
    "We call that table of information a `DataFrame`. The `pandas` module has a function, `read_csv`, that opens and reads a CSV file and produces a `DataFrame`.\n",
    "\n",
    "Much like `pandas` has data science code that we can use, like `read_csv`, `DataFrame`s have code that we can use that operate on the data inside the `DataFrame`."
   ]
  },
  {
   "cell_type": "markdown",
   "id": "6d15044a",
   "metadata": {},
   "source": [
    "### Examine the top few rows of a `DataFrame`\n",
    "\n",
    "`head` is a function that produces a `DataFrame` containing only the top five rows of data."
   ]
  },
  {
   "cell_type": "code",
   "execution_count": null,
   "id": "2488bf31",
   "metadata": {},
   "outputs": [],
   "source": [
    "faithful_eruptions.head()"
   ]
  },
  {
   "cell_type": "markdown",
   "id": "e027b1ef",
   "metadata": {},
   "source": [
    "## Accessing a column\n",
    "\n",
    "Sometimes we want to look at only a single column. For example, we might want to know the average wait time in minutes, and we'll want to isolate the last column. We can use the name of the column to get it:"
   ]
  },
  {
   "cell_type": "code",
   "execution_count": null,
   "id": "b6037637",
   "metadata": {},
   "outputs": [],
   "source": [
    "faithful_eruptions['Eruption wait (mins)']"
   ]
  },
  {
   "cell_type": "markdown",
   "id": "5277fb5b",
   "metadata": {},
   "source": [
    "Let's name the column data:"
   ]
  },
  {
   "cell_type": "code",
   "execution_count": null,
   "id": "36251c11",
   "metadata": {},
   "outputs": [],
   "source": [
    "wait_numbers = faithful_eruptions['Eruption wait (mins)']\n",
    "wait_numbers"
   ]
  },
  {
   "cell_type": "markdown",
   "id": "c197bf34",
   "metadata": {},
   "source": [
    "## Displaying multiple values in a computation\n",
    "\n",
    "The result of a computation is displayed below the code cell containing the computation. But what if we want to show more information?\n",
    "\n",
    "Here, we use built-in function `print`, along with built-in functions `min` and `max`, to print both the minimum and maximum values."
   ]
  },
  {
   "cell_type": "code",
   "execution_count": null,
   "id": "1137506a",
   "metadata": {},
   "outputs": [],
   "source": [
    "max_wait = max(wait_numbers)\n",
    "min_wait = min(wait_numbers)\n",
    "print(max_wait)\n",
    "print(min_wait)"
   ]
  },
  {
   "cell_type": "markdown",
   "id": "eba7ed6c",
   "metadata": {},
   "source": [
    "# Using the calculate-average algorithm\n",
    "\n",
    "Now that we have the column numbers saved in a variable, we can apply the algorithm:"
   ]
  },
  {
   "cell_type": "code",
   "execution_count": null,
   "id": "ac6f4322",
   "metadata": {},
   "outputs": [],
   "source": [
    "total = sum(wait_numbers)\n",
    "count = len(wait_numbers)\n",
    "avg = total / count\n",
    "\n",
    "print(\"The average wait time is:\")\n",
    "print(avg)"
   ]
  }
 ],
 "metadata": {
  "kernelspec": {
   "display_name": "Python 3 (ipykernel)",
   "language": "python",
   "name": "python3"
  },
  "language_info": {
   "codemirror_mode": {
    "name": "ipython",
    "version": 3
   },
   "file_extension": ".py",
   "mimetype": "text/x-python",
   "name": "python",
   "nbconvert_exporter": "python",
   "pygments_lexer": "ipython3",
   "version": "3.9.9"
  }
 },
 "nbformat": 4,
 "nbformat_minor": 5
}
