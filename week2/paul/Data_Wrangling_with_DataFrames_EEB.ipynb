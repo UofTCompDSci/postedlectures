{
 "cells": [
  {
   "cell_type": "markdown",
   "id": "857f3cdb",
   "metadata": {},
   "source": [
    "# Data Wrangling\n",
    "\n",
    "Here are some fun facts about your Python skills after 1.5 weeks:\n",
    "\n",
    "+ You can create and manipulate a Jupyter notebook.\n",
    "+ You can download a CSV file to your computer and upload it to JupyterHub.\n",
    "+ You can read a CSV file to create a `DataFrame`.\n",
    "+ You can call `head` to get a new shorter `DataFrame` with just the top few rows.\n",
    "+ You can extract a column from a `DataFrame`, and you're aware that the column type is `Series`.\n",
    "+ You can, given an example, figure out how use a Python dictionary to create a `DataFrame`.\n",
    "+ You can create a list of values in Python and name it using an assignment statement.\n",
    "+ You can calculate the average of a `Series` or a list, and can find the maximum and minimum values using built-in functions.\n",
    "+ You can name any data you want using variables.\n",
    "+ You can print any data you have."
   ]
  },
  {
   "cell_type": "markdown",
   "id": "2426fc1b",
   "metadata": {},
   "source": [
    "# What's next?\n",
    "\n",
    "__Subsetting__:\n",
    "\n",
    "+ Create a new `DataFrame` containing a subset of the columns.\n",
    "+ Create a new `DataFrame` containing a subset of the rows\n",
    "  - by index, using slicing\n",
    "  - by looking for rows that match our criteria\n",
    "+ Renaming columns"
   ]
  },
  {
   "cell_type": "markdown",
   "id": "50b83155",
   "metadata": {},
   "source": [
    "# PanTHERIA ecological dataset\n",
    "\n",
    "Dataset: PanTHERIA\n",
    "\n",
    "A global species-level data set of key life-history, ecological and geographical traits of all known extant and recently extinct mammals compiled from the literature. It also includes spatial databases of mammalian geographic ranges and global climatic and anthropogenic variables.\n",
    "\n",
    "We have saved a copy of the data locally in file [pantheria.txt](pantheria.txt). This uses tabs instead of commas to separate data. When we call `read_csv`, we need to warn it by passing in `'\\t'` as the separator. That's what `sep='\\t'` does.\n",
    "\n",
    "Let's start exploring!"
   ]
  },
  {
   "cell_type": "code",
   "execution_count": null,
   "id": "b58889d2",
   "metadata": {},
   "outputs": [],
   "source": [
    "import pandas as pd\n",
    "pantheria_df = pd.read_csv('pantheria.txt', sep='\\t')\n",
    "pantheria_df.head()"
   ]
  },
  {
   "cell_type": "markdown",
   "id": "9f037b59",
   "metadata": {},
   "source": [
    "Hmm, those columns are sometimes a bit cryptic, but mostly the seem pretty good.\n",
    "\n",
    "Let's look at all of the column names:"
   ]
  },
  {
   "cell_type": "code",
   "execution_count": null,
   "id": "c7b809cd",
   "metadata": {
    "scrolled": true
   },
   "outputs": [],
   "source": [
    "pantheria_df.columns"
   ]
  },
  {
   "cell_type": "markdown",
   "id": "8db5699d",
   "metadata": {},
   "source": [
    "Well, that's a lot. At least it's not like the dataset in the Social Sciences version of this course, GGR274, which has 350 columns.\n",
    "\n",
    "Let's make a smaller `DataFrame` with only the columns we care about for this lecture. Here they are:"
   ]
  },
  {
   "cell_type": "markdown",
   "id": "2c772e77",
   "metadata": {},
   "source": [
    "- `MSW05_Order` (higher taxonomic grouping), \n",
    "- `MSW05_Genus` (name of genus), \n",
    "- `MSW05_Species` (name of species), \n",
    "- `5-1_AdultBodyMass_g` (average body mass within species), \n",
    "- `24-1_TeatNumber` (number of teats), \n",
    "- `6-2_TrophicLevel` (herbivore vs carnivore, etc), \n",
    "- `25-1_WeaningAge_d` (average age when infants are weaned)\n",
    "- `15-1_LitterSize` (how many offspring are birthed in each litter)"
   ]
  },
  {
   "cell_type": "code",
   "execution_count": null,
   "id": "30e1a682",
   "metadata": {},
   "outputs": [],
   "source": [
    "pantheria_df['MSW05_Species'].head()"
   ]
  },
  {
   "cell_type": "markdown",
   "id": "a25a17d0",
   "metadata": {},
   "source": [
    "Let's put all these column names in a list that we'll name `important_columns`. (Ooh, what's up with that indentation?)"
   ]
  },
  {
   "cell_type": "code",
   "execution_count": null,
   "id": "3e02a572",
   "metadata": {
    "slideshow": {
     "slide_type": "-"
    }
   },
   "outputs": [],
   "source": [
    "important_columns = [\"MSW05_Order\", \"MSW05_Genus\", \"MSW05_Species\",\n",
    "                     \"5-1_AdultBodyMass_g\", \"24-1_TeatNumber\", \"6-2_TrophicLevel\",\n",
    "                     \"25-1_WeaningAge_d\",\"15-1_LitterSize\"]"
   ]
  },
  {
   "cell_type": "markdown",
   "id": "58df98dc",
   "metadata": {},
   "source": [
    "Just like we can extract a single column to get a `Series` , we can extract a subset of the columns to get a new `DataFrame`:"
   ]
  },
  {
   "cell_type": "code",
   "execution_count": null,
   "id": "72f119d2",
   "metadata": {},
   "outputs": [],
   "source": [
    "sub_pantheria_df = pantheria_df[important_columns]\n",
    "sub_pantheria_df.head()"
   ]
  },
  {
   "cell_type": "markdown",
   "id": "96a08e37",
   "metadata": {},
   "source": [
    "### Let's remove all that MSW and number stuff from the names\n",
    "\n",
    "Here's a Python dictionary mapping icky names to better names:"
   ]
  },
  {
   "cell_type": "code",
   "execution_count": null,
   "id": "9d0914d1",
   "metadata": {},
   "outputs": [],
   "source": [
    "column_names = {\n",
    "    'MSW05_Order': 'order',\n",
    "    'MSW05_Genus': 'genus',\n",
    "    'MSW05_Species': 'species',\n",
    "    '5-1_AdultBodyMass_g': 'body_mass_g',\n",
    "    '24-1_TeatNumber': 'teat_number',\n",
    "    '6-2_TrophicLevel': 'trophic_level',\n",
    "    '25-1_WeaningAge_d': 'weaning_age_d',\n",
    "    '15-1_LitterSize': 'litter_size'\n",
    "}"
   ]
  },
  {
   "cell_type": "code",
   "execution_count": null,
   "id": "ddabea6a",
   "metadata": {},
   "outputs": [],
   "source": [
    "column_names['6-2_TrophicLevel']"
   ]
  },
  {
   "cell_type": "markdown",
   "id": "dd66129a",
   "metadata": {},
   "source": [
    "### Renaming columns!\n",
    "\n",
    "This code makes a new `DataFrame` with the column names replaced (The `columns=` part is required magic):"
   ]
  },
  {
   "cell_type": "code",
   "execution_count": null,
   "id": "511a7192",
   "metadata": {
    "scrolled": true
   },
   "outputs": [],
   "source": [
    "clean_pantheria_df = sub_pantheria_df.rename(columns=column_names)\n",
    "clean_pantheria_df.head()"
   ]
  },
  {
   "cell_type": "markdown",
   "id": "cbb47c6f",
   "metadata": {},
   "source": [
    "# Subsetting rows\n",
    "\n",
    "Two ways to subset by row.\n",
    "+ By row index\n",
    "+ By describing the columns to look in and the values to select for"
   ]
  },
  {
   "cell_type": "markdown",
   "id": "acaed8fd",
   "metadata": {},
   "source": [
    "## By row index: slicing"
   ]
  },
  {
   "cell_type": "markdown",
   "id": "8cb8f401",
   "metadata": {},
   "source": [
    "`DataFrame`s contain a variable called `iloc` that takes the row range and column range:"
   ]
  },
  {
   "cell_type": "code",
   "execution_count": null,
   "id": "f40b8614",
   "metadata": {},
   "outputs": [],
   "source": [
    "clean_pantheria_df.iloc[0:3, 1:4] # Rows 0, 1, and 2; columns 1, 2, and 3"
   ]
  },
  {
   "cell_type": "markdown",
   "id": "67b4c86f",
   "metadata": {},
   "source": [
    "As with list slicing, the second index is not included in the result."
   ]
  },
  {
   "cell_type": "markdown",
   "id": "dea0c812",
   "metadata": {},
   "source": [
    "## By using the `DataFrame` row labels\n",
    "\n",
    "`DataFrame`s contain a variable called `loc` that uses the labels, not the indexes. Watch that second index!\n",
    "\n",
    "(The row labels are integers in `clean_pantheria_df`.)"
   ]
  },
  {
   "cell_type": "code",
   "execution_count": null,
   "id": "93964f5e",
   "metadata": {
    "scrolled": true
   },
   "outputs": [],
   "source": [
    "clean_pantheria_df.loc[0:3, 'order':'species']"
   ]
  },
  {
   "cell_type": "markdown",
   "id": "c5df1fc8",
   "metadata": {},
   "source": [
    "### `iloc` vs `loc`\n",
    "\n",
    "+ With `iloc`, the second part of a range is not included.\n",
    "+ With `loc`, the second part of a range __is__ included."
   ]
  },
  {
   "cell_type": "markdown",
   "id": "6501f3f0",
   "metadata": {},
   "source": [
    "# In which rows is the Marital Status 1?\n",
    "\n",
    "This gets a `Series` of Boolean values. Because `=` is used for assignment, Python uses `==` for equality."
   ]
  },
  {
   "cell_type": "code",
   "execution_count": null,
   "id": "4c38f875",
   "metadata": {},
   "outputs": [],
   "source": [
    "clean_pantheria_df['genus'] == 'Canis'"
   ]
  },
  {
   "cell_type": "markdown",
   "id": "0f8b47b2",
   "metadata": {},
   "source": [
    "Ooh! That's fun. We can give this to `loc` as the row specification."
   ]
  },
  {
   "cell_type": "markdown",
   "id": "55a7c2b2",
   "metadata": {},
   "source": [
    "# Practice\n",
    "\n",
    "A reminder of `clean_pantheria_df` info:"
   ]
  },
  {
   "cell_type": "code",
   "execution_count": null,
   "id": "32f2a6a9",
   "metadata": {},
   "outputs": [],
   "source": [
    "clean_pantheria_df.head()"
   ]
  },
  {
   "cell_type": "markdown",
   "id": "6a2186f3",
   "metadata": {},
   "source": [
    "How do you get a `DataFrame` for rows where `teat_number` is `8.0`?"
   ]
  },
  {
   "cell_type": "code",
   "execution_count": null,
   "id": "524243c9",
   "metadata": {},
   "outputs": [],
   "source": [
    "# Get the True/False Series from the column.\n",
    "teat_series = clean_pantheria_df['teat_number'] == 8.0\n",
    "teats_8_df = clean_pantheria_df.loc[teat_series, :]\n",
    "teats_8_df.head()"
   ]
  },
  {
   "cell_type": "markdown",
   "id": "2c4abb79",
   "metadata": {},
   "source": [
    "How do you get a `DataFrame` for rows where `teat_number` is `8.0` or greater, but with only the `body_mass_g`, `teat_number`, and `trophic_level` columns?"
   ]
  },
  {
   "cell_type": "code",
   "execution_count": null,
   "id": "c26fc96f",
   "metadata": {},
   "outputs": [],
   "source": [
    "teat_series = clean_pantheria_df['teat_number'] >= 8.0\n",
    "teats_8_df = clean_pantheria_df.loc[teat_series, 'body_mass_g':'trophic_level']\n",
    "teats_8_df.head()"
   ]
  },
  {
   "cell_type": "markdown",
   "id": "6966bfc0",
   "metadata": {},
   "source": [
    "How do you get a `DataFrame` with only `genus`, `species` and `body_mass_g` columns for everyone _except_ rows where the `genus` column is `Canis`. (Hint: `!=` means \"not equal to\", the opposite of `==`.)"
   ]
  },
  {
   "cell_type": "code",
   "execution_count": null,
   "id": "59fa5c66",
   "metadata": {},
   "outputs": [],
   "source": [
    "genus_series = clean_pantheria_df['genus'] != 'Canis'\n",
    "non_canis_df = clean_pantheria_df.loc[genus_series, 'genus':'body_mass_g']\n",
    "non_canis_df.head()"
   ]
  }
 ],
 "metadata": {
  "kernelspec": {
   "display_name": "Python 3 (ipykernel)",
   "language": "python",
   "name": "python3"
  },
  "language_info": {
   "codemirror_mode": {
    "name": "ipython",
    "version": 3
   },
   "file_extension": ".py",
   "mimetype": "text/x-python",
   "name": "python",
   "nbconvert_exporter": "python",
   "pygments_lexer": "ipython3",
   "version": "3.9.9"
  }
 },
 "nbformat": 4,
 "nbformat_minor": 5
}
