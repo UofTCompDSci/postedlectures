{
 "cells": [
  {
   "cell_type": "markdown",
   "id": "a70dbc27",
   "metadata": {},
   "source": [
    "# Stuff we want to do to `DataFrame`s\n",
    "\n",
    "+ Extract a column\n",
    "+ Extract a subset of the columns\n",
    "+ Extract particular rows by index\n",
    "+ Extract rows that match a criterion in a column\n",
    "  - \"I want all the rows where the `shoe_size` column has value > `7.5`.\"\n",
    "  \n",
    "This gets confusing if we're not careful. We'll explore a few concepts that will help us."
   ]
  },
  {
   "cell_type": "markdown",
   "id": "702a5a8c",
   "metadata": {},
   "source": [
    "# `print` oddities\n",
    "\n",
    "Two ways to display values in a notebook:\n",
    "+ Last expression in a Code cell, which is displayed by JupyterHub\n",
    "+ Using function `print`, which prints a string representation of the value"
   ]
  },
  {
   "cell_type": "markdown",
   "id": "a9805859",
   "metadata": {},
   "source": [
    "### Printing strings: there's a difference!"
   ]
  },
  {
   "cell_type": "code",
   "execution_count": 3,
   "id": "04f16033",
   "metadata": {},
   "outputs": [],
   "source": [
    "habitat = 'forest'"
   ]
  },
  {
   "cell_type": "code",
   "execution_count": 4,
   "id": "7ad1cc92",
   "metadata": {},
   "outputs": [
    {
     "data": {
      "text/plain": [
       "'forest'"
      ]
     },
     "execution_count": 4,
     "metadata": {},
     "output_type": "execute_result"
    }
   ],
   "source": [
    "habitat"
   ]
  },
  {
   "cell_type": "code",
   "execution_count": 5,
   "id": "ea2a0657",
   "metadata": {},
   "outputs": [
    {
     "name": "stdout",
     "output_type": "stream",
     "text": [
      "forest\n"
     ]
    }
   ],
   "source": [
    "print(habitat)"
   ]
  },
  {
   "cell_type": "markdown",
   "id": "469f121d",
   "metadata": {},
   "source": [
    "Built-in function `print` doesn't include the quotes."
   ]
  },
  {
   "cell_type": "markdown",
   "id": "5eb0935b",
   "metadata": {},
   "source": [
    "### Printing lists: no difference in how it looks"
   ]
  },
  {
   "cell_type": "code",
   "execution_count": 6,
   "id": "04c0755d",
   "metadata": {},
   "outputs": [],
   "source": [
    "habitats = ['forest', 'park', 'street']"
   ]
  },
  {
   "cell_type": "code",
   "execution_count": 7,
   "id": "78d0cf9f",
   "metadata": {},
   "outputs": [
    {
     "data": {
      "text/plain": [
       "['forest', 'park', 'street']"
      ]
     },
     "execution_count": 7,
     "metadata": {},
     "output_type": "execute_result"
    }
   ],
   "source": [
    "habitats"
   ]
  },
  {
   "cell_type": "code",
   "execution_count": 9,
   "id": "db85522e",
   "metadata": {},
   "outputs": [
    {
     "name": "stdout",
     "output_type": "stream",
     "text": [
      "['forest', 'park', 'street']\n"
     ]
    }
   ],
   "source": [
    "print(habitats)"
   ]
  },
  {
   "cell_type": "markdown",
   "id": "d03ed1c5",
   "metadata": {},
   "source": [
    "### Printing DataFrames: big difference!"
   ]
  },
  {
   "cell_type": "code",
   "execution_count": 11,
   "id": "d4039410",
   "metadata": {},
   "outputs": [],
   "source": [
    "import pandas as df\n",
    "faithful_df = df.read_csv('faithful.csv')\n",
    "faithful_head_df = faithful_df.head() # Just keep the top few lines to save vertical space"
   ]
  },
  {
   "cell_type": "code",
   "execution_count": 12,
   "id": "0575f507",
   "metadata": {},
   "outputs": [
    {
     "data": {
      "text/html": [
       "<div>\n",
       "<style scoped>\n",
       "    .dataframe tbody tr th:only-of-type {\n",
       "        vertical-align: middle;\n",
       "    }\n",
       "\n",
       "    .dataframe tbody tr th {\n",
       "        vertical-align: top;\n",
       "    }\n",
       "\n",
       "    .dataframe thead th {\n",
       "        text-align: right;\n",
       "    }\n",
       "</style>\n",
       "<table border=\"1\" class=\"dataframe\">\n",
       "  <thead>\n",
       "    <tr style=\"text-align: right;\">\n",
       "      <th></th>\n",
       "      <th>Index</th>\n",
       "      <th>\"Eruption length (mins)\"</th>\n",
       "      <th>Eruption wait (mins)</th>\n",
       "    </tr>\n",
       "  </thead>\n",
       "  <tbody>\n",
       "    <tr>\n",
       "      <th>0</th>\n",
       "      <td>1</td>\n",
       "      <td>3.600</td>\n",
       "      <td>79</td>\n",
       "    </tr>\n",
       "    <tr>\n",
       "      <th>1</th>\n",
       "      <td>2</td>\n",
       "      <td>1.800</td>\n",
       "      <td>54</td>\n",
       "    </tr>\n",
       "    <tr>\n",
       "      <th>2</th>\n",
       "      <td>3</td>\n",
       "      <td>3.333</td>\n",
       "      <td>74</td>\n",
       "    </tr>\n",
       "    <tr>\n",
       "      <th>3</th>\n",
       "      <td>4</td>\n",
       "      <td>2.283</td>\n",
       "      <td>62</td>\n",
       "    </tr>\n",
       "    <tr>\n",
       "      <th>4</th>\n",
       "      <td>5</td>\n",
       "      <td>4.533</td>\n",
       "      <td>85</td>\n",
       "    </tr>\n",
       "  </tbody>\n",
       "</table>\n",
       "</div>"
      ],
      "text/plain": [
       "   Index   \"Eruption length (mins)\"  Eruption wait (mins)\n",
       "0      1                      3.600                    79\n",
       "1      2                      1.800                    54\n",
       "2      3                      3.333                    74\n",
       "3      4                      2.283                    62\n",
       "4      5                      4.533                    85"
      ]
     },
     "execution_count": 12,
     "metadata": {},
     "output_type": "execute_result"
    }
   ],
   "source": [
    "faithful_head_df"
   ]
  },
  {
   "cell_type": "code",
   "execution_count": 13,
   "id": "a8d44b61",
   "metadata": {},
   "outputs": [
    {
     "name": "stdout",
     "output_type": "stream",
     "text": [
      "   Index   \"Eruption length (mins)\"  Eruption wait (mins)\n",
      "0      1                      3.600                    79\n",
      "1      2                      1.800                    54\n",
      "2      3                      3.333                    74\n",
      "3      4                      2.283                    62\n",
      "4      5                      4.533                    85\n"
     ]
    }
   ],
   "source": [
    "print(faithful_head_df)"
   ]
  },
  {
   "cell_type": "markdown",
   "id": "7b75cd03",
   "metadata": {},
   "source": [
    "So: to show the contents of a `DataFrame` or a `Series`, it's nicer to use an expression as the last thing in a cell rather than calling `print`."
   ]
  },
  {
   "cell_type": "markdown",
   "id": "1151c7be",
   "metadata": {},
   "source": [
    "# Python type `list`\n",
    "\n",
    "+ A list begins with `[` and ends with `]`.\n",
    "+ In between are a comma-separated list of values.\n",
    "+ Each value has an _index_, starting at `0`."
   ]
  },
  {
   "cell_type": "markdown",
   "id": "7673814b",
   "metadata": {},
   "source": [
    "### Indexing"
   ]
  },
  {
   "cell_type": "code",
   "execution_count": 14,
   "id": "dbd884be",
   "metadata": {},
   "outputs": [
    {
     "data": {
      "text/plain": [
       "'forest'"
      ]
     },
     "execution_count": 14,
     "metadata": {},
     "output_type": "execute_result"
    }
   ],
   "source": [
    "habitats = ['forest', 'park', 'street']\n",
    "habitats[0]"
   ]
  },
  {
   "cell_type": "code",
   "execution_count": 16,
   "id": "e715bc65",
   "metadata": {
    "scrolled": true
   },
   "outputs": [
    {
     "name": "stdout",
     "output_type": "stream",
     "text": [
      "There are 3 items in the habitats list.\n",
      "0: forest\n",
      "1: park\n",
      "2: street\n"
     ]
    },
    {
     "ename": "IndexError",
     "evalue": "list index out of range",
     "output_type": "error",
     "traceback": [
      "\u001b[0;31m---------------------------------------------------------------------------\u001b[0m",
      "\u001b[0;31mIndexError\u001b[0m                                Traceback (most recent call last)",
      "\u001b[0;32m/tmp/ipykernel_49/996325911.py\u001b[0m in \u001b[0;36m<module>\u001b[0;34m\u001b[0m\n\u001b[1;32m      4\u001b[0m \u001b[0mprint\u001b[0m\u001b[0;34m(\u001b[0m\u001b[0;34mf'1: {habitats[1]}'\u001b[0m\u001b[0;34m)\u001b[0m\u001b[0;34m\u001b[0m\u001b[0;34m\u001b[0m\u001b[0m\n\u001b[1;32m      5\u001b[0m \u001b[0mprint\u001b[0m\u001b[0;34m(\u001b[0m\u001b[0;34mf'2: {habitats[2]}'\u001b[0m\u001b[0;34m)\u001b[0m\u001b[0;34m\u001b[0m\u001b[0;34m\u001b[0m\u001b[0m\n\u001b[0;32m----> 6\u001b[0;31m \u001b[0mprint\u001b[0m\u001b[0;34m(\u001b[0m\u001b[0;34mf'3: {habitats[3]}'\u001b[0m\u001b[0;34m)\u001b[0m \u001b[0;31m# This will result in an error.\u001b[0m\u001b[0;34m\u001b[0m\u001b[0;34m\u001b[0m\u001b[0m\n\u001b[0m",
      "\u001b[0;31mIndexError\u001b[0m: list index out of range"
     ]
    }
   ],
   "source": [
    "# Here is nicer output.\n",
    "print(f'There are {len(habitats)} items in the habitats list.')\n",
    "print(f'0: {habitats[0]}')\n",
    "print(f'1: {habitats[1]}')\n",
    "print(f'2: {habitats[2]}')\n",
    "print(f'3: {habitats[3]}') # This will result in an error."
   ]
  },
  {
   "cell_type": "markdown",
   "id": "095f5dff",
   "metadata": {},
   "source": [
    "You can also count from the end, which starts at index `-1`."
   ]
  },
  {
   "cell_type": "code",
   "execution_count": 17,
   "id": "39f00dc7",
   "metadata": {},
   "outputs": [
    {
     "name": "stdout",
     "output_type": "stream",
     "text": [
      "street\n",
      "park\n",
      "forest\n"
     ]
    },
    {
     "ename": "IndexError",
     "evalue": "list index out of range",
     "output_type": "error",
     "traceback": [
      "\u001b[0;31m---------------------------------------------------------------------------\u001b[0m",
      "\u001b[0;31mIndexError\u001b[0m                                Traceback (most recent call last)",
      "\u001b[0;32m/tmp/ipykernel_49/2086821431.py\u001b[0m in \u001b[0;36m<module>\u001b[0;34m\u001b[0m\n\u001b[1;32m      2\u001b[0m \u001b[0mprint\u001b[0m\u001b[0;34m(\u001b[0m\u001b[0mhabitats\u001b[0m\u001b[0;34m[\u001b[0m\u001b[0;34m-\u001b[0m\u001b[0;36m2\u001b[0m\u001b[0;34m]\u001b[0m\u001b[0;34m)\u001b[0m\u001b[0;34m\u001b[0m\u001b[0;34m\u001b[0m\u001b[0m\n\u001b[1;32m      3\u001b[0m \u001b[0mprint\u001b[0m\u001b[0;34m(\u001b[0m\u001b[0mhabitats\u001b[0m\u001b[0;34m[\u001b[0m\u001b[0;34m-\u001b[0m\u001b[0;36m3\u001b[0m\u001b[0;34m]\u001b[0m\u001b[0;34m)\u001b[0m\u001b[0;34m\u001b[0m\u001b[0;34m\u001b[0m\u001b[0m\n\u001b[0;32m----> 4\u001b[0;31m \u001b[0mprint\u001b[0m\u001b[0;34m(\u001b[0m\u001b[0mhabitats\u001b[0m\u001b[0;34m[\u001b[0m\u001b[0;34m-\u001b[0m\u001b[0;36m4\u001b[0m\u001b[0;34m]\u001b[0m\u001b[0;34m)\u001b[0m \u001b[0;31m# Another error\u001b[0m\u001b[0;34m\u001b[0m\u001b[0;34m\u001b[0m\u001b[0m\n\u001b[0m",
      "\u001b[0;31mIndexError\u001b[0m: list index out of range"
     ]
    }
   ],
   "source": [
    "print(habitats[-1])\n",
    "print(habitats[-2])\n",
    "print(habitats[-3])\n",
    "print(habitats[-4]) # Another error"
   ]
  },
  {
   "cell_type": "markdown",
   "id": "3556fa17",
   "metadata": {},
   "source": [
    "### Adding lists\n",
    "\n",
    "You can add `list`s together. This makes a new `list`."
   ]
  },
  {
   "cell_type": "code",
   "execution_count": 19,
   "id": "c4185f96",
   "metadata": {},
   "outputs": [
    {
     "data": {
      "text/plain": [
       "['forest', 'park', 'street', 'forest', 'park', 'street']"
      ]
     },
     "execution_count": 19,
     "metadata": {},
     "output_type": "execute_result"
    }
   ],
   "source": [
    "habitats + habitats"
   ]
  },
  {
   "cell_type": "code",
   "execution_count": 20,
   "id": "7be34137",
   "metadata": {},
   "outputs": [
    {
     "data": {
      "text/plain": [
       "[1, 3, 5, 2, 4, 6]"
      ]
     },
     "execution_count": 20,
     "metadata": {},
     "output_type": "execute_result"
    }
   ],
   "source": [
    "[1, 3, 5] + [2, 4, 6]"
   ]
  },
  {
   "cell_type": "markdown",
   "id": "b8961d49",
   "metadata": {},
   "source": [
    "### I'll have a slice of that, please\n",
    "\n",
    "You can extract a sublist like this:"
   ]
  },
  {
   "cell_type": "code",
   "execution_count": 23,
   "id": "9f116a11",
   "metadata": {},
   "outputs": [
    {
     "data": {
      "text/plain": [
       "[59, 9, 10]"
      ]
     },
     "execution_count": 23,
     "metadata": {},
     "output_type": "execute_result"
    }
   ],
   "source": [
    "coyote_counts = [59, 9, 10, 89, 19, 23, 54, 12, 0, 29, 8, 23, 30, 30]\n",
    "coyote_counts[0:3]"
   ]
  },
  {
   "cell_type": "markdown",
   "id": "ce8ddc56",
   "metadata": {},
   "source": [
    "Slicing: start at the first index, and go up to but not including the second index."
   ]
  },
  {
   "cell_type": "markdown",
   "id": "e8d2453e",
   "metadata": {},
   "source": [
    "### Slicing tricks\n",
    "\n",
    "You can omit one or both of the indexes:"
   ]
  },
  {
   "cell_type": "code",
   "execution_count": 24,
   "id": "77eac7a3",
   "metadata": {},
   "outputs": [
    {
     "data": {
      "text/plain": [
       "[59, 9, 10]"
      ]
     },
     "execution_count": 24,
     "metadata": {},
     "output_type": "execute_result"
    }
   ],
   "source": [
    "coyote_counts[:3] # Up to but not including index 3"
   ]
  },
  {
   "cell_type": "code",
   "execution_count": 25,
   "id": "3c6d7566",
   "metadata": {},
   "outputs": [
    {
     "data": {
      "text/plain": [
       "[89, 19, 23, 54, 12, 0, 29, 8, 23, 30, 30]"
      ]
     },
     "execution_count": 25,
     "metadata": {},
     "output_type": "execute_result"
    }
   ],
   "source": [
    "coyote_counts[3:] # Everything from index three to the end"
   ]
  },
  {
   "cell_type": "code",
   "execution_count": 26,
   "id": "ca964a2a",
   "metadata": {},
   "outputs": [
    {
     "data": {
      "text/plain": [
       "[59, 9, 10, 89, 19, 23, 54, 12, 0, 29, 8, 23, 30, 30]"
      ]
     },
     "execution_count": 26,
     "metadata": {},
     "output_type": "execute_result"
    }
   ],
   "source": [
    "coyote_counts[:] # Creates a copy of the whole list"
   ]
  },
  {
   "cell_type": "markdown",
   "id": "6c76e87c",
   "metadata": {},
   "source": [
    "This `[:]` syntax and concept will be important when we get to `DataFrame`s in a bit."
   ]
  },
  {
   "cell_type": "code",
   "execution_count": 28,
   "id": "b14d4084",
   "metadata": {},
   "outputs": [
    {
     "data": {
      "text/plain": [
       "[59, 9, 10, 89, 19, 23, 54, 12, 0, 29, 8, 23, 30, 30]"
      ]
     },
     "execution_count": 28,
     "metadata": {},
     "output_type": "execute_result"
    }
   ],
   "source": [
    "# Challenge: how to extract [9, 10, 89, 19]?\n",
    "coyote_counts[1:5]\n",
    "coyote_counts"
   ]
  },
  {
   "cell_type": "code",
   "execution_count": 29,
   "id": "af648eb6",
   "metadata": {
    "scrolled": true
   },
   "outputs": [
    {
     "data": {
      "text/plain": [
       "[8, 23, 30, 30]"
      ]
     },
     "execution_count": 29,
     "metadata": {},
     "output_type": "execute_result"
    }
   ],
   "source": [
    "# How do we extract the last 4 numbers, [8, 23, 30, 30]?\n",
    "coyote_counts[-4:]"
   ]
  },
  {
   "cell_type": "markdown",
   "id": "a8900180",
   "metadata": {},
   "source": [
    "### Heterogeneous lists\n",
    "\n",
    "Lists can contain a mix of types."
   ]
  },
  {
   "cell_type": "code",
   "execution_count": 30,
   "id": "4c64bf57",
   "metadata": {
    "scrolled": true
   },
   "outputs": [
    {
     "data": {
      "text/plain": [
       "['A', 1, 'B', 2, 'C', 3.14159]"
      ]
     },
     "execution_count": 30,
     "metadata": {},
     "output_type": "execute_result"
    }
   ],
   "source": [
    "list1 = ['A', 1, 'B', 2]\n",
    "list2 = ['C', 3.14159]\n",
    "list1 + list2"
   ]
  },
  {
   "cell_type": "markdown",
   "id": "c7d6de53",
   "metadata": {},
   "source": [
    "### Some functions that use `list`s"
   ]
  },
  {
   "cell_type": "code",
   "execution_count": 46,
   "id": "e3718bd4",
   "metadata": {},
   "outputs": [
    {
     "name": "stdout",
     "output_type": "stream",
     "text": [
      "14\n",
      "395\n",
      "0\n",
      "89\n"
     ]
    }
   ],
   "source": [
    "print(len(coyote_counts))\n",
    "print(sum(coyote_counts))\n",
    "print(min(coyote_counts))\n",
    "print(max(coyote_counts))"
   ]
  },
  {
   "cell_type": "markdown",
   "id": "8e2cfc5b",
   "metadata": {},
   "source": [
    "### Getting every other item"
   ]
  },
  {
   "cell_type": "code",
   "execution_count": 32,
   "id": "859f2092",
   "metadata": {},
   "outputs": [
    {
     "data": {
      "text/plain": [
       "[59, 9, 10, 89, 19, 23, 54, 12, 0, 29, 8, 23, 30, 30]"
      ]
     },
     "execution_count": 32,
     "metadata": {},
     "output_type": "execute_result"
    }
   ],
   "source": [
    "coyote_counts"
   ]
  },
  {
   "cell_type": "code",
   "execution_count": 37,
   "id": "864c02b3",
   "metadata": {},
   "outputs": [
    {
     "data": {
      "text/plain": [
       "[59, 89, 54, 29, 30]"
      ]
     },
     "execution_count": 37,
     "metadata": {},
     "output_type": "execute_result"
    }
   ],
   "source": [
    "coyote_counts[::3]"
   ]
  },
  {
   "cell_type": "code",
   "execution_count": 38,
   "id": "779ce742",
   "metadata": {},
   "outputs": [
    {
     "data": {
      "text/plain": [
       "[30, 30, 23, 8, 29, 0, 12, 54, 23, 19, 89, 10, 9, 59]"
      ]
     },
     "execution_count": 38,
     "metadata": {},
     "output_type": "execute_result"
    }
   ],
   "source": [
    "coyote_counts[::-1]"
   ]
  },
  {
   "cell_type": "markdown",
   "id": "f8ff5d61",
   "metadata": {},
   "source": [
    "# Dictionaries: type `dict`"
   ]
  },
  {
   "cell_type": "markdown",
   "id": "e834bd04",
   "metadata": {},
   "source": [
    "Dictionaries map keys to values. In human dictionaries, the keys are words and the values are their definitions."
   ]
  },
  {
   "cell_type": "code",
   "execution_count": 40,
   "id": "c4ad86ee",
   "metadata": {},
   "outputs": [],
   "source": [
    "# Here's a dictionary!\n",
    "urbanwildlife = {\n",
    "  'habitat': ['forest', 'park', 'street', 'forest', 'street', 'park', 'forest', 'park', 'street', 'forest', 'street', 'park', 'street', 'park'],\n",
    "  'coyote': [59, 9, 10, 89, 19, 23, 54, 12, 0, 29, 8, 23, 30, 30],\n",
    "  'dog': [72, 197, 8811, 3, 555, 374, 1535, 101, 2216, 23, 1082, 35, 1635, 1469],\n",
    "  'fox': [3, 10, 63, 54, 251, 43, 69, 57, 4, 6, 0, 6, 10, 3],\n",
    "  'raccoon': [986, 64, 129, 213, 221, 73, 135, 24, 17, 528, 25, 106, 140, 114], \n",
    "  'site' : ['A', 'B', 'C', 'D', 'E', 'F', 'G', 'H', 'I', 'J', 'K', 'L', 'M', 'N'],\n",
    "}"
   ]
  },
  {
   "cell_type": "markdown",
   "id": "223ddbda",
   "metadata": {},
   "source": [
    "* Each line inside a dictionary contains a _key_ then a `:` then a _value_.\n",
    "* In the example dictionary above, each value is a list.\n",
    "* The lines end with commas `,` (and it's okay if the last line has a comma, Python ignores it).\n",
    "* Indentation!"
   ]
  },
  {
   "cell_type": "markdown",
   "id": "bfe0b816",
   "metadata": {},
   "source": [
    "### Looking up keys to get values"
   ]
  },
  {
   "cell_type": "markdown",
   "id": "393d0a85",
   "metadata": {},
   "source": [
    "Given a key, we can look up its value:"
   ]
  },
  {
   "cell_type": "code",
   "execution_count": 41,
   "id": "0c0b9709",
   "metadata": {},
   "outputs": [
    {
     "data": {
      "text/plain": [
       "[3, 10, 63, 54, 251, 43, 69, 57, 4, 6, 0, 6, 10, 3]"
      ]
     },
     "execution_count": 41,
     "metadata": {},
     "output_type": "execute_result"
    }
   ],
   "source": [
    " urbanwildlife['fox']"
   ]
  },
  {
   "cell_type": "markdown",
   "id": "cee3d3d0",
   "metadata": {},
   "source": [
    "What is `urbanwildlife['fox'][-1]`?"
   ]
  },
  {
   "cell_type": "code",
   "execution_count": 42,
   "id": "bc1269a9",
   "metadata": {},
   "outputs": [
    {
     "data": {
      "text/plain": [
       "3"
      ]
     },
     "execution_count": 42,
     "metadata": {},
     "output_type": "execute_result"
    }
   ],
   "source": [
    " urbanwildlife['fox'][-1]"
   ]
  },
  {
   "cell_type": "markdown",
   "id": "ebb14027",
   "metadata": {},
   "source": [
    "What is `urbanwildlife['habitat'][:3]`?"
   ]
  },
  {
   "cell_type": "code",
   "execution_count": 43,
   "id": "b4688c81",
   "metadata": {},
   "outputs": [
    {
     "data": {
      "text/plain": [
       "['forest', 'park', 'street']"
      ]
     },
     "execution_count": 43,
     "metadata": {},
     "output_type": "execute_result"
    }
   ],
   "source": [
    " urbanwildlife['habitat'][:3]"
   ]
  },
  {
   "cell_type": "markdown",
   "id": "4fbcaf3b",
   "metadata": {},
   "source": [
    "### Making your own `DataFrame`s\n",
    "\n",
    "You can use dictionaries to make `DataFrame`s!"
   ]
  },
  {
   "cell_type": "code",
   "execution_count": 45,
   "id": "cc864ea6",
   "metadata": {
    "scrolled": true
   },
   "outputs": [
    {
     "data": {
      "text/html": [
       "<div>\n",
       "<style scoped>\n",
       "    .dataframe tbody tr th:only-of-type {\n",
       "        vertical-align: middle;\n",
       "    }\n",
       "\n",
       "    .dataframe tbody tr th {\n",
       "        vertical-align: top;\n",
       "    }\n",
       "\n",
       "    .dataframe thead th {\n",
       "        text-align: right;\n",
       "    }\n",
       "</style>\n",
       "<table border=\"1\" class=\"dataframe\">\n",
       "  <thead>\n",
       "    <tr style=\"text-align: right;\">\n",
       "      <th></th>\n",
       "      <th>habitat</th>\n",
       "      <th>coyote</th>\n",
       "      <th>dog</th>\n",
       "      <th>fox</th>\n",
       "      <th>raccoon</th>\n",
       "      <th>site</th>\n",
       "    </tr>\n",
       "  </thead>\n",
       "  <tbody>\n",
       "    <tr>\n",
       "      <th>0</th>\n",
       "      <td>forest</td>\n",
       "      <td>59</td>\n",
       "      <td>72</td>\n",
       "      <td>3</td>\n",
       "      <td>986</td>\n",
       "      <td>A</td>\n",
       "    </tr>\n",
       "    <tr>\n",
       "      <th>1</th>\n",
       "      <td>park</td>\n",
       "      <td>9</td>\n",
       "      <td>197</td>\n",
       "      <td>10</td>\n",
       "      <td>64</td>\n",
       "      <td>B</td>\n",
       "    </tr>\n",
       "    <tr>\n",
       "      <th>2</th>\n",
       "      <td>street</td>\n",
       "      <td>10</td>\n",
       "      <td>8811</td>\n",
       "      <td>63</td>\n",
       "      <td>129</td>\n",
       "      <td>C</td>\n",
       "    </tr>\n",
       "    <tr>\n",
       "      <th>3</th>\n",
       "      <td>forest</td>\n",
       "      <td>89</td>\n",
       "      <td>3</td>\n",
       "      <td>54</td>\n",
       "      <td>213</td>\n",
       "      <td>D</td>\n",
       "    </tr>\n",
       "    <tr>\n",
       "      <th>4</th>\n",
       "      <td>street</td>\n",
       "      <td>19</td>\n",
       "      <td>555</td>\n",
       "      <td>251</td>\n",
       "      <td>221</td>\n",
       "      <td>E</td>\n",
       "    </tr>\n",
       "    <tr>\n",
       "      <th>5</th>\n",
       "      <td>park</td>\n",
       "      <td>23</td>\n",
       "      <td>374</td>\n",
       "      <td>43</td>\n",
       "      <td>73</td>\n",
       "      <td>F</td>\n",
       "    </tr>\n",
       "    <tr>\n",
       "      <th>6</th>\n",
       "      <td>forest</td>\n",
       "      <td>54</td>\n",
       "      <td>1535</td>\n",
       "      <td>69</td>\n",
       "      <td>135</td>\n",
       "      <td>G</td>\n",
       "    </tr>\n",
       "    <tr>\n",
       "      <th>7</th>\n",
       "      <td>park</td>\n",
       "      <td>12</td>\n",
       "      <td>101</td>\n",
       "      <td>57</td>\n",
       "      <td>24</td>\n",
       "      <td>H</td>\n",
       "    </tr>\n",
       "    <tr>\n",
       "      <th>8</th>\n",
       "      <td>street</td>\n",
       "      <td>0</td>\n",
       "      <td>2216</td>\n",
       "      <td>4</td>\n",
       "      <td>17</td>\n",
       "      <td>I</td>\n",
       "    </tr>\n",
       "    <tr>\n",
       "      <th>9</th>\n",
       "      <td>forest</td>\n",
       "      <td>29</td>\n",
       "      <td>23</td>\n",
       "      <td>6</td>\n",
       "      <td>528</td>\n",
       "      <td>J</td>\n",
       "    </tr>\n",
       "    <tr>\n",
       "      <th>10</th>\n",
       "      <td>street</td>\n",
       "      <td>8</td>\n",
       "      <td>1082</td>\n",
       "      <td>0</td>\n",
       "      <td>25</td>\n",
       "      <td>K</td>\n",
       "    </tr>\n",
       "    <tr>\n",
       "      <th>11</th>\n",
       "      <td>park</td>\n",
       "      <td>23</td>\n",
       "      <td>35</td>\n",
       "      <td>6</td>\n",
       "      <td>106</td>\n",
       "      <td>L</td>\n",
       "    </tr>\n",
       "    <tr>\n",
       "      <th>12</th>\n",
       "      <td>street</td>\n",
       "      <td>30</td>\n",
       "      <td>1635</td>\n",
       "      <td>10</td>\n",
       "      <td>140</td>\n",
       "      <td>M</td>\n",
       "    </tr>\n",
       "    <tr>\n",
       "      <th>13</th>\n",
       "      <td>park</td>\n",
       "      <td>30</td>\n",
       "      <td>1469</td>\n",
       "      <td>3</td>\n",
       "      <td>114</td>\n",
       "      <td>N</td>\n",
       "    </tr>\n",
       "  </tbody>\n",
       "</table>\n",
       "</div>"
      ],
      "text/plain": [
       "   habitat  coyote   dog  fox  raccoon site\n",
       "0   forest      59    72    3      986    A\n",
       "1     park       9   197   10       64    B\n",
       "2   street      10  8811   63      129    C\n",
       "3   forest      89     3   54      213    D\n",
       "4   street      19   555  251      221    E\n",
       "5     park      23   374   43       73    F\n",
       "6   forest      54  1535   69      135    G\n",
       "7     park      12   101   57       24    H\n",
       "8   street       0  2216    4       17    I\n",
       "9   forest      29    23    6      528    J\n",
       "10  street       8  1082    0       25    K\n",
       "11    park      23    35    6      106    L\n",
       "12  street      30  1635   10      140    M\n",
       "13    park      30  1469    3      114    N"
      ]
     },
     "execution_count": 45,
     "metadata": {},
     "output_type": "execute_result"
    }
   ],
   "source": [
    "import pandas as pd   # Hey, that's different!\n",
    "\n",
    "df = pd.DataFrame(urbanwildlife)\n",
    "df"
   ]
  }
 ],
 "metadata": {
  "kernelspec": {
   "display_name": "Python 3 (ipykernel)",
   "language": "python",
   "name": "python3"
  },
  "language_info": {
   "codemirror_mode": {
    "name": "ipython",
    "version": 3
   },
   "file_extension": ".py",
   "mimetype": "text/x-python",
   "name": "python",
   "nbconvert_exporter": "python",
   "pygments_lexer": "ipython3",
   "version": "3.8.12"
  }
 },
 "nbformat": 4,
 "nbformat_minor": 5
}
